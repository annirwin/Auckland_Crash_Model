{
 "cells": [
  {
   "cell_type": "code",
   "execution_count": 54,
   "metadata": {},
   "outputs": [],
   "source": [
    "import pandas as pd\n",
    "import numpy as np\n",
    "import plotly.express as px\n",
    "import plotly.graph_objects as go\n",
    "import plotly.figure_factory as ff\n",
    "from plotly.subplots import make_subplots\n",
    "from sklearn.model_selection import train_test_split, cross_val_score\n",
    "from sklearn.neighbors import KNeighborsClassifier\n",
    "from sklearn.metrics import classification_report, roc_auc_score\n",
    "import os\n",
    "import gc"
   ]
  },
  {
   "cell_type": "code",
   "execution_count": 2,
   "metadata": {},
   "outputs": [],
   "source": [
    "# Set parameters\n",
    "\n",
    "from pylab import rcParams\n",
    "\n",
    "rcParams['figure.figsize'] = 15, 10\n",
    "rcParams['font.size'] = 20\n",
    "rcParams['axes.facecolor'] = 'white'\n",
    "plots_rgb_blue = 'rgb(31,119,180)'\n",
    "\n",
    "%matplotlib inline"
   ]
  },
  {
   "cell_type": "code",
   "execution_count": 3,
   "metadata": {},
   "outputs": [],
   "source": [
    "meshblock_auckland_full_df = pd.read_csv('meshblock-higher-geographies-2024-auckland.csv')"
   ]
  },
  {
   "cell_type": "code",
   "execution_count": 4,
   "metadata": {},
   "outputs": [
    {
     "data": {
      "text/html": [
       "<div>\n",
       "<style scoped>\n",
       "    .dataframe tbody tr th:only-of-type {\n",
       "        vertical-align: middle;\n",
       "    }\n",
       "\n",
       "    .dataframe tbody tr th {\n",
       "        vertical-align: top;\n",
       "    }\n",
       "\n",
       "    .dataframe thead th {\n",
       "        text-align: right;\n",
       "    }\n",
       "</style>\n",
       "<table border=\"1\" class=\"dataframe\">\n",
       "  <thead>\n",
       "    <tr style=\"text-align: right;\">\n",
       "      <th></th>\n",
       "      <th>WKT</th>\n",
       "      <th>MB2024_V1_00</th>\n",
       "      <th>SA12023_V1_00</th>\n",
       "      <th>SA22023_V1_00</th>\n",
       "      <th>SA22023_V1_00_NAME</th>\n",
       "      <th>SA22023_V1_00_NAME_ASCII</th>\n",
       "      <th>SA32023_V1_00</th>\n",
       "      <th>SA32023_V1_00_NAME</th>\n",
       "      <th>SA32023_V1_00_NAME_ASCII</th>\n",
       "      <th>UR2023_V1_00</th>\n",
       "      <th>...</th>\n",
       "      <th>FUA2023_V1_00_NAME_ASCII</th>\n",
       "      <th>IFUA2023_V1_00</th>\n",
       "      <th>IFUA2023_V1_00_NAME</th>\n",
       "      <th>TFUA2023_V1_00</th>\n",
       "      <th>TFUA2023_V1_00_NAME</th>\n",
       "      <th>LANDWATER</th>\n",
       "      <th>LANDWATER_NAME</th>\n",
       "      <th>LAND_AREA_SQ_KM</th>\n",
       "      <th>AREA_SQ_KM</th>\n",
       "      <th>Shape_Length</th>\n",
       "    </tr>\n",
       "  </thead>\n",
       "  <tbody>\n",
       "    <tr>\n",
       "      <th>0</th>\n",
       "      <td>POLYGON ((1753128.8397 5915046.9774,1753132.89...</td>\n",
       "      <td>4019145</td>\n",
       "      <td>7037220</td>\n",
       "      <td>135500</td>\n",
       "      <td>Ōwairaka West</td>\n",
       "      <td>Owairaka West</td>\n",
       "      <td>51440</td>\n",
       "      <td>Mount Albert</td>\n",
       "      <td>Mount Albert</td>\n",
       "      <td>1108</td>\n",
       "      <td>...</td>\n",
       "      <td>Auckland</td>\n",
       "      <td>101</td>\n",
       "      <td>Urban core</td>\n",
       "      <td>1</td>\n",
       "      <td>Metropolitan area</td>\n",
       "      <td>12</td>\n",
       "      <td>Mainland</td>\n",
       "      <td>0.053445</td>\n",
       "      <td>0.053445</td>\n",
       "      <td>1183.791512</td>\n",
       "    </tr>\n",
       "    <tr>\n",
       "      <th>1</th>\n",
       "      <td>POLYGON ((1758471.9046 5920096.1957,1758519.93...</td>\n",
       "      <td>4001328</td>\n",
       "      <td>7037219</td>\n",
       "      <td>136400</td>\n",
       "      <td>Parnell West</td>\n",
       "      <td>Parnell West</td>\n",
       "      <td>51200</td>\n",
       "      <td>Parnell</td>\n",
       "      <td>Parnell</td>\n",
       "      <td>1108</td>\n",
       "      <td>...</td>\n",
       "      <td>Auckland</td>\n",
       "      <td>101</td>\n",
       "      <td>Urban core</td>\n",
       "      <td>1</td>\n",
       "      <td>Metropolitan area</td>\n",
       "      <td>12</td>\n",
       "      <td>Mainland</td>\n",
       "      <td>0.009572</td>\n",
       "      <td>0.009572</td>\n",
       "      <td>421.238251</td>\n",
       "    </tr>\n",
       "    <tr>\n",
       "      <th>2</th>\n",
       "      <td>POLYGON ((1772737.6177 5879642.14,1772741.0269...</td>\n",
       "      <td>827902</td>\n",
       "      <td>7032417</td>\n",
       "      <td>169901</td>\n",
       "      <td>Tuakau Rural</td>\n",
       "      <td>Tuakau Rural</td>\n",
       "      <td>52450</td>\n",
       "      <td>Tuakau</td>\n",
       "      <td>Tuakau</td>\n",
       "      <td>1164</td>\n",
       "      <td>...</td>\n",
       "      <td>Auckland</td>\n",
       "      <td>201</td>\n",
       "      <td>Hinterland</td>\n",
       "      <td>1</td>\n",
       "      <td>Metropolitan area</td>\n",
       "      <td>12</td>\n",
       "      <td>Mainland</td>\n",
       "      <td>1.450875</td>\n",
       "      <td>1.450875</td>\n",
       "      <td>5144.014389</td>\n",
       "    </tr>\n",
       "    <tr>\n",
       "      <th>3</th>\n",
       "      <td>POLYGON ((1772799.1844 5892796.4598,1772800.50...</td>\n",
       "      <td>4014920</td>\n",
       "      <td>7032175</td>\n",
       "      <td>164302</td>\n",
       "      <td>Drury East</td>\n",
       "      <td>Drury East</td>\n",
       "      <td>52250</td>\n",
       "      <td>Drury</td>\n",
       "      <td>Drury</td>\n",
       "      <td>1108</td>\n",
       "      <td>...</td>\n",
       "      <td>Auckland</td>\n",
       "      <td>101</td>\n",
       "      <td>Urban core</td>\n",
       "      <td>1</td>\n",
       "      <td>Metropolitan area</td>\n",
       "      <td>12</td>\n",
       "      <td>Mainland</td>\n",
       "      <td>0.261285</td>\n",
       "      <td>0.261285</td>\n",
       "      <td>3082.177087</td>\n",
       "    </tr>\n",
       "    <tr>\n",
       "      <th>4</th>\n",
       "      <td>POLYGON ((1773448.2967 5893337.3844,1773557.31...</td>\n",
       "      <td>4004236</td>\n",
       "      <td>7010152</td>\n",
       "      <td>164302</td>\n",
       "      <td>Drury East</td>\n",
       "      <td>Drury East</td>\n",
       "      <td>52250</td>\n",
       "      <td>Drury</td>\n",
       "      <td>Drury</td>\n",
       "      <td>1108</td>\n",
       "      <td>...</td>\n",
       "      <td>Auckland</td>\n",
       "      <td>101</td>\n",
       "      <td>Urban core</td>\n",
       "      <td>1</td>\n",
       "      <td>Metropolitan area</td>\n",
       "      <td>12</td>\n",
       "      <td>Mainland</td>\n",
       "      <td>0.272358</td>\n",
       "      <td>0.272358</td>\n",
       "      <td>2963.151998</td>\n",
       "    </tr>\n",
       "  </tbody>\n",
       "</table>\n",
       "<p>5 rows × 55 columns</p>\n",
       "</div>"
      ],
      "text/plain": [
       "                                                 WKT  MB2024_V1_00  \\\n",
       "0  POLYGON ((1753128.8397 5915046.9774,1753132.89...       4019145   \n",
       "1  POLYGON ((1758471.9046 5920096.1957,1758519.93...       4001328   \n",
       "2  POLYGON ((1772737.6177 5879642.14,1772741.0269...        827902   \n",
       "3  POLYGON ((1772799.1844 5892796.4598,1772800.50...       4014920   \n",
       "4  POLYGON ((1773448.2967 5893337.3844,1773557.31...       4004236   \n",
       "\n",
       "   SA12023_V1_00  SA22023_V1_00 SA22023_V1_00_NAME SA22023_V1_00_NAME_ASCII  \\\n",
       "0        7037220         135500      Ōwairaka West            Owairaka West   \n",
       "1        7037219         136400       Parnell West             Parnell West   \n",
       "2        7032417         169901       Tuakau Rural             Tuakau Rural   \n",
       "3        7032175         164302         Drury East               Drury East   \n",
       "4        7010152         164302         Drury East               Drury East   \n",
       "\n",
       "   SA32023_V1_00 SA32023_V1_00_NAME SA32023_V1_00_NAME_ASCII  UR2023_V1_00  \\\n",
       "0          51440       Mount Albert             Mount Albert          1108   \n",
       "1          51200            Parnell                  Parnell          1108   \n",
       "2          52450             Tuakau                   Tuakau          1164   \n",
       "3          52250              Drury                    Drury          1108   \n",
       "4          52250              Drury                    Drury          1108   \n",
       "\n",
       "   ... FUA2023_V1_00_NAME_ASCII IFUA2023_V1_00  IFUA2023_V1_00_NAME  \\\n",
       "0  ...                 Auckland            101           Urban core   \n",
       "1  ...                 Auckland            101           Urban core   \n",
       "2  ...                 Auckland            201           Hinterland   \n",
       "3  ...                 Auckland            101           Urban core   \n",
       "4  ...                 Auckland            101           Urban core   \n",
       "\n",
       "  TFUA2023_V1_00  TFUA2023_V1_00_NAME LANDWATER  LANDWATER_NAME  \\\n",
       "0              1    Metropolitan area        12        Mainland   \n",
       "1              1    Metropolitan area        12        Mainland   \n",
       "2              1    Metropolitan area        12        Mainland   \n",
       "3              1    Metropolitan area        12        Mainland   \n",
       "4              1    Metropolitan area        12        Mainland   \n",
       "\n",
       "  LAND_AREA_SQ_KM AREA_SQ_KM  Shape_Length  \n",
       "0        0.053445   0.053445   1183.791512  \n",
       "1        0.009572   0.009572    421.238251  \n",
       "2        1.450875   1.450875   5144.014389  \n",
       "3        0.261285   0.261285   3082.177087  \n",
       "4        0.272358   0.272358   2963.151998  \n",
       "\n",
       "[5 rows x 55 columns]"
      ]
     },
     "execution_count": 4,
     "metadata": {},
     "output_type": "execute_result"
    }
   ],
   "source": [
    "meshblock_auckland_full_df.head()"
   ]
  },
  {
   "cell_type": "code",
   "execution_count": 5,
   "metadata": {},
   "outputs": [],
   "source": [
    "meshblock_auckland_df =   meshblock_auckland_full_df[['MB2024_V1_00', 'SA22023_V1_00','SA22023_V1_00_NAME_ASCII']]"
   ]
  },
  {
   "cell_type": "code",
   "execution_count": 6,
   "metadata": {},
   "outputs": [],
   "source": [
    "cas_df = pd.read_csv('Crash_Analysis_System_(CAS)_data.csv')"
   ]
  },
  {
   "cell_type": "code",
   "execution_count": 7,
   "metadata": {},
   "outputs": [],
   "source": [
    "cas_mesh_df = pd.merge(cas_df,meshblock_auckland_df, left_on='meshblockId', right_on='MB2024_V1_00', how='left')"
   ]
  },
  {
   "cell_type": "code",
   "execution_count": 8,
   "metadata": {},
   "outputs": [
    {
     "data": {
      "text/plain": [
       "Index(['X', 'Y', 'OBJECTID', 'advisorySpeed', 'areaUnitID', 'bicycle',\n",
       "       'bridge', 'bus', 'carStationWagon', 'cliffBank',\n",
       "       'crashDirectionDescription', 'crashFinancialYear', 'crashLocation1',\n",
       "       'crashLocation2', 'crashRoadSideRoad', 'crashSeverity',\n",
       "       'crashSHDescription', 'crashYear', 'debris', 'directionRoleDescription',\n",
       "       'ditch', 'fatalCount', 'fence', 'flatHill', 'guardRail', 'holiday',\n",
       "       'houseOrBuilding', 'intersection', 'kerb', 'light', 'meshblockId',\n",
       "       'minorInjuryCount', 'moped', 'motorcycle', 'NumberOfLanes',\n",
       "       'objectThrownOrDropped', 'otherObject', 'otherVehicleType', 'overBank',\n",
       "       'parkedVehicle', 'pedestrian', 'phoneBoxEtc', 'postOrPole', 'region',\n",
       "       'roadCharacter', 'roadLane', 'roadSurface', 'roadworks', 'schoolBus',\n",
       "       'seriousInjuryCount', 'slipOrFlood', 'speedLimit', 'strayAnimal',\n",
       "       'streetLight', 'suv', 'taxi', 'temporarySpeedLimit', 'tlaId', 'tlaName',\n",
       "       'trafficControl', 'trafficIsland', 'trafficSign', 'train', 'tree',\n",
       "       'truck', 'unknownVehicleType', 'urban', 'vanOrUtility', 'vehicle',\n",
       "       'waterRiver', 'weatherA', 'weatherB', 'MB2024_V1_00', 'SA22023_V1_00',\n",
       "       'SA22023_V1_00_NAME_ASCII'],\n",
       "      dtype='object')"
      ]
     },
     "execution_count": 8,
     "metadata": {},
     "output_type": "execute_result"
    }
   ],
   "source": [
    "cas_mesh_df.columns"
   ]
  },
  {
   "cell_type": "code",
   "execution_count": 9,
   "metadata": {},
   "outputs": [
    {
     "data": {
      "application/vnd.plotly.v1+json": {
       "config": {
        "plotlyServerURL": "https://plot.ly"
       },
       "data": [
        {
         "hovertemplate": "Crash Financial Year=%{x}<br>Percentage of NaN Values=%{y}<extra></extra>",
         "legendgroup": "",
         "line": {
          "color": "#636efa",
          "dash": "solid"
         },
         "marker": {
          "symbol": "circle"
         },
         "mode": "lines",
         "name": "",
         "orientation": "v",
         "showlegend": false,
         "type": "scatter",
         "x": [
          "1999/2000",
          "2000/2001",
          "2001/2002",
          "2002/2003",
          "2003/2004",
          "2004/2005",
          "2005/2006",
          "2006/2007",
          "2007/2008",
          "2008/2009",
          "2009/2010",
          "2010/2011",
          "2011/2012",
          "2012/2013",
          "2013/2014",
          "2014/2015",
          "2015/2016",
          "2016/2017",
          "2017/2018",
          "2018/2019",
          "2019/2020",
          "2020/2021",
          "2021/2022",
          "2022/2023"
         ],
         "xaxis": "x",
         "y": [
          34.59078235197638,
          33.838855187431946,
          34.15125816766301,
          34.58850668295,
          34.19872030594984,
          34.212448860315604,
          34.74353353792197,
          34.23793457532639,
          34.56614509246088,
          34.04417364813405,
          34.24386381631037,
          34.84083072728731,
          35.007440476190474,
          34.53347340273135,
          35.450027609055766,
          34.37528730348441,
          35.64453125,
          35.973077473865104,
          35.6729055258467,
          35.52931252636019,
          35.24313914299471,
          34.690998853918714,
          34.609753350602546,
          34.8583460949464
         ],
         "yaxis": "y"
        }
       ],
       "layout": {
        "legend": {
         "tracegroupgap": 0
        },
        "template": {
         "data": {
          "bar": [
           {
            "error_x": {
             "color": "#2a3f5f"
            },
            "error_y": {
             "color": "#2a3f5f"
            },
            "marker": {
             "line": {
              "color": "#E5ECF6",
              "width": 0.5
             },
             "pattern": {
              "fillmode": "overlay",
              "size": 10,
              "solidity": 0.2
             }
            },
            "type": "bar"
           }
          ],
          "barpolar": [
           {
            "marker": {
             "line": {
              "color": "#E5ECF6",
              "width": 0.5
             },
             "pattern": {
              "fillmode": "overlay",
              "size": 10,
              "solidity": 0.2
             }
            },
            "type": "barpolar"
           }
          ],
          "carpet": [
           {
            "aaxis": {
             "endlinecolor": "#2a3f5f",
             "gridcolor": "white",
             "linecolor": "white",
             "minorgridcolor": "white",
             "startlinecolor": "#2a3f5f"
            },
            "baxis": {
             "endlinecolor": "#2a3f5f",
             "gridcolor": "white",
             "linecolor": "white",
             "minorgridcolor": "white",
             "startlinecolor": "#2a3f5f"
            },
            "type": "carpet"
           }
          ],
          "choropleth": [
           {
            "colorbar": {
             "outlinewidth": 0,
             "ticks": ""
            },
            "type": "choropleth"
           }
          ],
          "contour": [
           {
            "colorbar": {
             "outlinewidth": 0,
             "ticks": ""
            },
            "colorscale": [
             [
              0,
              "#0d0887"
             ],
             [
              0.1111111111111111,
              "#46039f"
             ],
             [
              0.2222222222222222,
              "#7201a8"
             ],
             [
              0.3333333333333333,
              "#9c179e"
             ],
             [
              0.4444444444444444,
              "#bd3786"
             ],
             [
              0.5555555555555556,
              "#d8576b"
             ],
             [
              0.6666666666666666,
              "#ed7953"
             ],
             [
              0.7777777777777778,
              "#fb9f3a"
             ],
             [
              0.8888888888888888,
              "#fdca26"
             ],
             [
              1,
              "#f0f921"
             ]
            ],
            "type": "contour"
           }
          ],
          "contourcarpet": [
           {
            "colorbar": {
             "outlinewidth": 0,
             "ticks": ""
            },
            "type": "contourcarpet"
           }
          ],
          "heatmap": [
           {
            "colorbar": {
             "outlinewidth": 0,
             "ticks": ""
            },
            "colorscale": [
             [
              0,
              "#0d0887"
             ],
             [
              0.1111111111111111,
              "#46039f"
             ],
             [
              0.2222222222222222,
              "#7201a8"
             ],
             [
              0.3333333333333333,
              "#9c179e"
             ],
             [
              0.4444444444444444,
              "#bd3786"
             ],
             [
              0.5555555555555556,
              "#d8576b"
             ],
             [
              0.6666666666666666,
              "#ed7953"
             ],
             [
              0.7777777777777778,
              "#fb9f3a"
             ],
             [
              0.8888888888888888,
              "#fdca26"
             ],
             [
              1,
              "#f0f921"
             ]
            ],
            "type": "heatmap"
           }
          ],
          "heatmapgl": [
           {
            "colorbar": {
             "outlinewidth": 0,
             "ticks": ""
            },
            "colorscale": [
             [
              0,
              "#0d0887"
             ],
             [
              0.1111111111111111,
              "#46039f"
             ],
             [
              0.2222222222222222,
              "#7201a8"
             ],
             [
              0.3333333333333333,
              "#9c179e"
             ],
             [
              0.4444444444444444,
              "#bd3786"
             ],
             [
              0.5555555555555556,
              "#d8576b"
             ],
             [
              0.6666666666666666,
              "#ed7953"
             ],
             [
              0.7777777777777778,
              "#fb9f3a"
             ],
             [
              0.8888888888888888,
              "#fdca26"
             ],
             [
              1,
              "#f0f921"
             ]
            ],
            "type": "heatmapgl"
           }
          ],
          "histogram": [
           {
            "marker": {
             "pattern": {
              "fillmode": "overlay",
              "size": 10,
              "solidity": 0.2
             }
            },
            "type": "histogram"
           }
          ],
          "histogram2d": [
           {
            "colorbar": {
             "outlinewidth": 0,
             "ticks": ""
            },
            "colorscale": [
             [
              0,
              "#0d0887"
             ],
             [
              0.1111111111111111,
              "#46039f"
             ],
             [
              0.2222222222222222,
              "#7201a8"
             ],
             [
              0.3333333333333333,
              "#9c179e"
             ],
             [
              0.4444444444444444,
              "#bd3786"
             ],
             [
              0.5555555555555556,
              "#d8576b"
             ],
             [
              0.6666666666666666,
              "#ed7953"
             ],
             [
              0.7777777777777778,
              "#fb9f3a"
             ],
             [
              0.8888888888888888,
              "#fdca26"
             ],
             [
              1,
              "#f0f921"
             ]
            ],
            "type": "histogram2d"
           }
          ],
          "histogram2dcontour": [
           {
            "colorbar": {
             "outlinewidth": 0,
             "ticks": ""
            },
            "colorscale": [
             [
              0,
              "#0d0887"
             ],
             [
              0.1111111111111111,
              "#46039f"
             ],
             [
              0.2222222222222222,
              "#7201a8"
             ],
             [
              0.3333333333333333,
              "#9c179e"
             ],
             [
              0.4444444444444444,
              "#bd3786"
             ],
             [
              0.5555555555555556,
              "#d8576b"
             ],
             [
              0.6666666666666666,
              "#ed7953"
             ],
             [
              0.7777777777777778,
              "#fb9f3a"
             ],
             [
              0.8888888888888888,
              "#fdca26"
             ],
             [
              1,
              "#f0f921"
             ]
            ],
            "type": "histogram2dcontour"
           }
          ],
          "mesh3d": [
           {
            "colorbar": {
             "outlinewidth": 0,
             "ticks": ""
            },
            "type": "mesh3d"
           }
          ],
          "parcoords": [
           {
            "line": {
             "colorbar": {
              "outlinewidth": 0,
              "ticks": ""
             }
            },
            "type": "parcoords"
           }
          ],
          "pie": [
           {
            "automargin": true,
            "type": "pie"
           }
          ],
          "scatter": [
           {
            "fillpattern": {
             "fillmode": "overlay",
             "size": 10,
             "solidity": 0.2
            },
            "type": "scatter"
           }
          ],
          "scatter3d": [
           {
            "line": {
             "colorbar": {
              "outlinewidth": 0,
              "ticks": ""
             }
            },
            "marker": {
             "colorbar": {
              "outlinewidth": 0,
              "ticks": ""
             }
            },
            "type": "scatter3d"
           }
          ],
          "scattercarpet": [
           {
            "marker": {
             "colorbar": {
              "outlinewidth": 0,
              "ticks": ""
             }
            },
            "type": "scattercarpet"
           }
          ],
          "scattergeo": [
           {
            "marker": {
             "colorbar": {
              "outlinewidth": 0,
              "ticks": ""
             }
            },
            "type": "scattergeo"
           }
          ],
          "scattergl": [
           {
            "marker": {
             "colorbar": {
              "outlinewidth": 0,
              "ticks": ""
             }
            },
            "type": "scattergl"
           }
          ],
          "scattermapbox": [
           {
            "marker": {
             "colorbar": {
              "outlinewidth": 0,
              "ticks": ""
             }
            },
            "type": "scattermapbox"
           }
          ],
          "scatterpolar": [
           {
            "marker": {
             "colorbar": {
              "outlinewidth": 0,
              "ticks": ""
             }
            },
            "type": "scatterpolar"
           }
          ],
          "scatterpolargl": [
           {
            "marker": {
             "colorbar": {
              "outlinewidth": 0,
              "ticks": ""
             }
            },
            "type": "scatterpolargl"
           }
          ],
          "scatterternary": [
           {
            "marker": {
             "colorbar": {
              "outlinewidth": 0,
              "ticks": ""
             }
            },
            "type": "scatterternary"
           }
          ],
          "surface": [
           {
            "colorbar": {
             "outlinewidth": 0,
             "ticks": ""
            },
            "colorscale": [
             [
              0,
              "#0d0887"
             ],
             [
              0.1111111111111111,
              "#46039f"
             ],
             [
              0.2222222222222222,
              "#7201a8"
             ],
             [
              0.3333333333333333,
              "#9c179e"
             ],
             [
              0.4444444444444444,
              "#bd3786"
             ],
             [
              0.5555555555555556,
              "#d8576b"
             ],
             [
              0.6666666666666666,
              "#ed7953"
             ],
             [
              0.7777777777777778,
              "#fb9f3a"
             ],
             [
              0.8888888888888888,
              "#fdca26"
             ],
             [
              1,
              "#f0f921"
             ]
            ],
            "type": "surface"
           }
          ],
          "table": [
           {
            "cells": {
             "fill": {
              "color": "#EBF0F8"
             },
             "line": {
              "color": "white"
             }
            },
            "header": {
             "fill": {
              "color": "#C8D4E3"
             },
             "line": {
              "color": "white"
             }
            },
            "type": "table"
           }
          ]
         },
         "layout": {
          "annotationdefaults": {
           "arrowcolor": "#2a3f5f",
           "arrowhead": 0,
           "arrowwidth": 1
          },
          "autotypenumbers": "strict",
          "coloraxis": {
           "colorbar": {
            "outlinewidth": 0,
            "ticks": ""
           }
          },
          "colorscale": {
           "diverging": [
            [
             0,
             "#8e0152"
            ],
            [
             0.1,
             "#c51b7d"
            ],
            [
             0.2,
             "#de77ae"
            ],
            [
             0.3,
             "#f1b6da"
            ],
            [
             0.4,
             "#fde0ef"
            ],
            [
             0.5,
             "#f7f7f7"
            ],
            [
             0.6,
             "#e6f5d0"
            ],
            [
             0.7,
             "#b8e186"
            ],
            [
             0.8,
             "#7fbc41"
            ],
            [
             0.9,
             "#4d9221"
            ],
            [
             1,
             "#276419"
            ]
           ],
           "sequential": [
            [
             0,
             "#0d0887"
            ],
            [
             0.1111111111111111,
             "#46039f"
            ],
            [
             0.2222222222222222,
             "#7201a8"
            ],
            [
             0.3333333333333333,
             "#9c179e"
            ],
            [
             0.4444444444444444,
             "#bd3786"
            ],
            [
             0.5555555555555556,
             "#d8576b"
            ],
            [
             0.6666666666666666,
             "#ed7953"
            ],
            [
             0.7777777777777778,
             "#fb9f3a"
            ],
            [
             0.8888888888888888,
             "#fdca26"
            ],
            [
             1,
             "#f0f921"
            ]
           ],
           "sequentialminus": [
            [
             0,
             "#0d0887"
            ],
            [
             0.1111111111111111,
             "#46039f"
            ],
            [
             0.2222222222222222,
             "#7201a8"
            ],
            [
             0.3333333333333333,
             "#9c179e"
            ],
            [
             0.4444444444444444,
             "#bd3786"
            ],
            [
             0.5555555555555556,
             "#d8576b"
            ],
            [
             0.6666666666666666,
             "#ed7953"
            ],
            [
             0.7777777777777778,
             "#fb9f3a"
            ],
            [
             0.8888888888888888,
             "#fdca26"
            ],
            [
             1,
             "#f0f921"
            ]
           ]
          },
          "colorway": [
           "#636efa",
           "#EF553B",
           "#00cc96",
           "#ab63fa",
           "#FFA15A",
           "#19d3f3",
           "#FF6692",
           "#B6E880",
           "#FF97FF",
           "#FECB52"
          ],
          "font": {
           "color": "#2a3f5f"
          },
          "geo": {
           "bgcolor": "white",
           "lakecolor": "white",
           "landcolor": "#E5ECF6",
           "showlakes": true,
           "showland": true,
           "subunitcolor": "white"
          },
          "hoverlabel": {
           "align": "left"
          },
          "hovermode": "closest",
          "mapbox": {
           "style": "light"
          },
          "paper_bgcolor": "white",
          "plot_bgcolor": "#E5ECF6",
          "polar": {
           "angularaxis": {
            "gridcolor": "white",
            "linecolor": "white",
            "ticks": ""
           },
           "bgcolor": "#E5ECF6",
           "radialaxis": {
            "gridcolor": "white",
            "linecolor": "white",
            "ticks": ""
           }
          },
          "scene": {
           "xaxis": {
            "backgroundcolor": "#E5ECF6",
            "gridcolor": "white",
            "gridwidth": 2,
            "linecolor": "white",
            "showbackground": true,
            "ticks": "",
            "zerolinecolor": "white"
           },
           "yaxis": {
            "backgroundcolor": "#E5ECF6",
            "gridcolor": "white",
            "gridwidth": 2,
            "linecolor": "white",
            "showbackground": true,
            "ticks": "",
            "zerolinecolor": "white"
           },
           "zaxis": {
            "backgroundcolor": "#E5ECF6",
            "gridcolor": "white",
            "gridwidth": 2,
            "linecolor": "white",
            "showbackground": true,
            "ticks": "",
            "zerolinecolor": "white"
           }
          },
          "shapedefaults": {
           "line": {
            "color": "#2a3f5f"
           }
          },
          "ternary": {
           "aaxis": {
            "gridcolor": "white",
            "linecolor": "white",
            "ticks": ""
           },
           "baxis": {
            "gridcolor": "white",
            "linecolor": "white",
            "ticks": ""
           },
           "bgcolor": "#E5ECF6",
           "caxis": {
            "gridcolor": "white",
            "linecolor": "white",
            "ticks": ""
           }
          },
          "title": {
           "x": 0.05
          },
          "xaxis": {
           "automargin": true,
           "gridcolor": "white",
           "linecolor": "white",
           "ticks": "",
           "title": {
            "standoff": 15
           },
           "zerolinecolor": "white",
           "zerolinewidth": 2
          },
          "yaxis": {
           "automargin": true,
           "gridcolor": "white",
           "linecolor": "white",
           "ticks": "",
           "title": {
            "standoff": 15
           },
           "zerolinecolor": "white",
           "zerolinewidth": 2
          }
         }
        },
        "title": {
         "text": "Percentage of NaN Values in SA22023_V1_00_NAME by Crash Financial Year"
        },
        "xaxis": {
         "anchor": "y",
         "domain": [
          0,
          1
         ],
         "title": {
          "text": "Crash Financial Year"
         }
        },
        "yaxis": {
         "anchor": "x",
         "domain": [
          0,
          1
         ],
         "range": [
          0,
          40.973077473865104
         ],
         "title": {
          "text": "Percentage of NaN Values"
         }
        }
       }
      }
     },
     "metadata": {},
     "output_type": "display_data"
    }
   ],
   "source": [
    "# Percentage of NaN values in SA22023_V1_00_NAME in each crash year\n",
    "\n",
    "filtered_df = cas_mesh_df[['OBJECTID','SA22023_V1_00','crashFinancialYear']]\n",
    "nan_percentage = filtered_df.groupby('crashFinancialYear')['SA22023_V1_00'].apply(lambda x: x.isna().mean() * 100).reset_index(name='NaN_Percentage_SA22023_V1_00')\n",
    "\n",
    "fig = px.line(nan_percentage, x='crashFinancialYear', y='NaN_Percentage_SA22023_V1_00', \n",
    "              title='Percentage of NaN Values in SA22023_V1_00_NAME by Crash Financial Year', \n",
    "              labels={'crashFinancialYear': 'Crash Financial Year', 'NaN_Percentage_SA22023_V1_00': 'Percentage of NaN Values'})\n",
    "fig.update_layout(yaxis=dict(range=[0, nan_percentage['NaN_Percentage_SA22023_V1_00'].max() + 5]))\n",
    "fig.show()"
   ]
  },
  {
   "cell_type": "code",
   "execution_count": 10,
   "metadata": {},
   "outputs": [],
   "source": [
    "filtered_block_df = cas_mesh_df[['OBJECTID','SA22023_V1_00_NAME_ASCII','meshblockId']]\n",
    "block_nan_percentage = filtered_block_df.groupby('meshblockId')['SA22023_V1_00_NAME_ASCII'].apply(lambda x: x.isna().mean() * 100).reset_index(name='NaN_Percentage_SA22023_V1_00_NAME_ASCII')"
   ]
  },
  {
   "cell_type": "code",
   "execution_count": 11,
   "metadata": {},
   "outputs": [
    {
     "data": {
      "text/html": [
       "<div>\n",
       "<style scoped>\n",
       "    .dataframe tbody tr th:only-of-type {\n",
       "        vertical-align: middle;\n",
       "    }\n",
       "\n",
       "    .dataframe tbody tr th {\n",
       "        vertical-align: top;\n",
       "    }\n",
       "\n",
       "    .dataframe thead th {\n",
       "        text-align: right;\n",
       "    }\n",
       "</style>\n",
       "<table border=\"1\" class=\"dataframe\">\n",
       "  <thead>\n",
       "    <tr style=\"text-align: right;\">\n",
       "      <th></th>\n",
       "      <th>meshblockId</th>\n",
       "      <th>NaN_Percentage_SA22023_V1_00_NAME_ASCII</th>\n",
       "    </tr>\n",
       "  </thead>\n",
       "  <tbody>\n",
       "    <tr>\n",
       "      <th>0</th>\n",
       "      <td>134100</td>\n",
       "      <td>100.0</td>\n",
       "    </tr>\n",
       "    <tr>\n",
       "      <th>1</th>\n",
       "      <td>135100</td>\n",
       "      <td>100.0</td>\n",
       "    </tr>\n",
       "    <tr>\n",
       "      <th>2</th>\n",
       "      <td>135201</td>\n",
       "      <td>100.0</td>\n",
       "    </tr>\n",
       "    <tr>\n",
       "      <th>3</th>\n",
       "      <td>135300</td>\n",
       "      <td>100.0</td>\n",
       "    </tr>\n",
       "    <tr>\n",
       "      <th>4</th>\n",
       "      <td>135400</td>\n",
       "      <td>100.0</td>\n",
       "    </tr>\n",
       "  </tbody>\n",
       "</table>\n",
       "</div>"
      ],
      "text/plain": [
       "   meshblockId  NaN_Percentage_SA22023_V1_00_NAME_ASCII\n",
       "0       134100                                    100.0\n",
       "1       135100                                    100.0\n",
       "2       135201                                    100.0\n",
       "3       135300                                    100.0\n",
       "4       135400                                    100.0"
      ]
     },
     "execution_count": 11,
     "metadata": {},
     "output_type": "execute_result"
    }
   ],
   "source": [
    "block_nan_percentage.head()"
   ]
  },
  {
   "cell_type": "code",
   "execution_count": 12,
   "metadata": {},
   "outputs": [],
   "source": [
    "filtered_xy_df = cas_mesh_df[['X','Y','SA22023_V1_00']]"
   ]
  },
  {
   "cell_type": "code",
   "execution_count": 13,
   "metadata": {},
   "outputs": [
    {
     "data": {
      "text/html": [
       "<div>\n",
       "<style scoped>\n",
       "    .dataframe tbody tr th:only-of-type {\n",
       "        vertical-align: middle;\n",
       "    }\n",
       "\n",
       "    .dataframe tbody tr th {\n",
       "        vertical-align: top;\n",
       "    }\n",
       "\n",
       "    .dataframe thead th {\n",
       "        text-align: right;\n",
       "    }\n",
       "</style>\n",
       "<table border=\"1\" class=\"dataframe\">\n",
       "  <thead>\n",
       "    <tr style=\"text-align: right;\">\n",
       "      <th></th>\n",
       "      <th>X</th>\n",
       "      <th>Y</th>\n",
       "      <th>SA22023_V1_00</th>\n",
       "    </tr>\n",
       "  </thead>\n",
       "  <tbody>\n",
       "    <tr>\n",
       "      <th>0</th>\n",
       "      <td>1.756461e+06</td>\n",
       "      <td>5.936053e+06</td>\n",
       "      <td>117900.0</td>\n",
       "    </tr>\n",
       "    <tr>\n",
       "      <th>1</th>\n",
       "      <td>1.772256e+06</td>\n",
       "      <td>5.896393e+06</td>\n",
       "      <td>163200.0</td>\n",
       "    </tr>\n",
       "    <tr>\n",
       "      <th>2</th>\n",
       "      <td>1.766897e+06</td>\n",
       "      <td>5.907471e+06</td>\n",
       "      <td>155701.0</td>\n",
       "    </tr>\n",
       "    <tr>\n",
       "      <th>3</th>\n",
       "      <td>1.754057e+06</td>\n",
       "      <td>5.936391e+06</td>\n",
       "      <td>NaN</td>\n",
       "    </tr>\n",
       "    <tr>\n",
       "      <th>4</th>\n",
       "      <td>1.772574e+06</td>\n",
       "      <td>5.901427e+06</td>\n",
       "      <td>162300.0</td>\n",
       "    </tr>\n",
       "    <tr>\n",
       "      <th>...</th>\n",
       "      <td>...</td>\n",
       "      <td>...</td>\n",
       "      <td>...</td>\n",
       "    </tr>\n",
       "    <tr>\n",
       "      <th>285341</th>\n",
       "      <td>1.743947e+06</td>\n",
       "      <td>5.924009e+06</td>\n",
       "      <td>NaN</td>\n",
       "    </tr>\n",
       "    <tr>\n",
       "      <th>285342</th>\n",
       "      <td>1.768891e+06</td>\n",
       "      <td>5.904246e+06</td>\n",
       "      <td>158502.0</td>\n",
       "    </tr>\n",
       "    <tr>\n",
       "      <th>285343</th>\n",
       "      <td>1.757918e+06</td>\n",
       "      <td>5.914599e+06</td>\n",
       "      <td>140800.0</td>\n",
       "    </tr>\n",
       "    <tr>\n",
       "      <th>285344</th>\n",
       "      <td>1.758255e+06</td>\n",
       "      <td>5.918060e+06</td>\n",
       "      <td>NaN</td>\n",
       "    </tr>\n",
       "    <tr>\n",
       "      <th>285345</th>\n",
       "      <td>1.754396e+06</td>\n",
       "      <td>5.875116e+06</td>\n",
       "      <td>164800.0</td>\n",
       "    </tr>\n",
       "  </tbody>\n",
       "</table>\n",
       "<p>285346 rows × 3 columns</p>\n",
       "</div>"
      ],
      "text/plain": [
       "                   X             Y  SA22023_V1_00\n",
       "0       1.756461e+06  5.936053e+06       117900.0\n",
       "1       1.772256e+06  5.896393e+06       163200.0\n",
       "2       1.766897e+06  5.907471e+06       155701.0\n",
       "3       1.754057e+06  5.936391e+06            NaN\n",
       "4       1.772574e+06  5.901427e+06       162300.0\n",
       "...              ...           ...            ...\n",
       "285341  1.743947e+06  5.924009e+06            NaN\n",
       "285342  1.768891e+06  5.904246e+06       158502.0\n",
       "285343  1.757918e+06  5.914599e+06       140800.0\n",
       "285344  1.758255e+06  5.918060e+06            NaN\n",
       "285345  1.754396e+06  5.875116e+06       164800.0\n",
       "\n",
       "[285346 rows x 3 columns]"
      ]
     },
     "execution_count": 13,
     "metadata": {},
     "output_type": "execute_result"
    }
   ],
   "source": [
    "filtered_xy_df"
   ]
  },
  {
   "cell_type": "code",
   "execution_count": 14,
   "metadata": {},
   "outputs": [
    {
     "data": {
      "text/plain": [
       "99106"
      ]
     },
     "execution_count": 14,
     "metadata": {},
     "output_type": "execute_result"
    }
   ],
   "source": [
    "filtered_xy_df['SA22023_V1_00'].isna().sum()"
   ]
  },
  {
   "cell_type": "code",
   "execution_count": 15,
   "metadata": {},
   "outputs": [
    {
     "data": {
      "text/plain": [
       "593"
      ]
     },
     "execution_count": 15,
     "metadata": {},
     "output_type": "execute_result"
    }
   ],
   "source": [
    "filtered_xy_df['SA22023_V1_00'].nunique()"
   ]
  },
  {
   "cell_type": "code",
   "execution_count": 16,
   "metadata": {},
   "outputs": [
    {
     "data": {
      "text/plain": [
       "80519"
      ]
     },
     "execution_count": 16,
     "metadata": {},
     "output_type": "execute_result"
    }
   ],
   "source": [
    "filtered_xy_df['X'].nunique()"
   ]
  },
  {
   "cell_type": "code",
   "execution_count": 17,
   "metadata": {},
   "outputs": [
    {
     "data": {
      "text/plain": [
       "88946"
      ]
     },
     "execution_count": 17,
     "metadata": {},
     "output_type": "execute_result"
    }
   ],
   "source": [
    "filtered_xy_df['Y'].nunique()"
   ]
  },
  {
   "cell_type": "code",
   "execution_count": 18,
   "metadata": {},
   "outputs": [],
   "source": [
    "# Split the data into training (non-missing) and prediction (missing) sets\n",
    "train_df = cas_mesh_df[cas_mesh_df['SA22023_V1_00'].notna()]\n",
    "predict_df = cas_mesh_df[cas_mesh_df['SA22023_V1_00'].isna()]"
   ]
  },
  {
   "cell_type": "code",
   "execution_count": 19,
   "metadata": {},
   "outputs": [],
   "source": [
    "# Features and target variable for training\n",
    "X = train_df[['X', 'Y']]\n",
    "y = train_df['SA22023_V1_00']"
   ]
  },
  {
   "cell_type": "code",
   "execution_count": 20,
   "metadata": {},
   "outputs": [],
   "source": [
    "# Split the training data into train and test sets\n",
    "X_train, X_test, y_train, y_test = train_test_split(X, y, test_size=0.2, random_state=42)"
   ]
  },
  {
   "cell_type": "markdown",
   "metadata": {},
   "source": [
    "kNN with uniform weightings and k neigbours between 1 and 15"
   ]
  },
  {
   "cell_type": "code",
   "execution_count": 21,
   "metadata": {},
   "outputs": [
    {
     "data": {
      "application/vnd.plotly.v1+json": {
       "config": {
        "plotlyServerURL": "https://plot.ly"
       },
       "data": [
        {
         "mode": "lines+markers",
         "name": "Training Error",
         "type": "scatter",
         "x": [
          1,
          2,
          3,
          4,
          5,
          6,
          7,
          8,
          9,
          10,
          11,
          12,
          13,
          14,
          15
         ],
         "y": [
          0.00004698238831613022,
          0.017517719072164928,
          0.021940775343642582,
          0.03029692869415812,
          0.034082366838487976,
          0.04031760094501713,
          0.043344609106529264,
          0.04853951890034369,
          0.051834997852233666,
          0.05592246563573888,
          0.058855509020618535,
          0.06268792955326463,
          0.06592300257731953,
          0.06924532860824739,
          0.0716615657216495
         ]
        },
        {
         "mode": "lines+markers",
         "name": "Test Error",
         "type": "scatter",
         "x": [
          1,
          2,
          3,
          4,
          5,
          6,
          7,
          8,
          9,
          10,
          11,
          12,
          13,
          14,
          15
         ],
         "y": [
          0.033907860824742286,
          0.0422573024054983,
          0.044136597938144284,
          0.04931808419243988,
          0.05366731099656352,
          0.058634020618556715,
          0.061399269759450203,
          0.06472830756013748,
          0.06794995704467355,
          0.07063466494845361,
          0.07331937285223367,
          0.07629939862542956,
          0.07992375429553267,
          0.08290378006872856,
          0.08548109965635742
         ]
        }
       ],
       "layout": {
        "template": {
         "data": {
          "bar": [
           {
            "error_x": {
             "color": "#2a3f5f"
            },
            "error_y": {
             "color": "#2a3f5f"
            },
            "marker": {
             "line": {
              "color": "#E5ECF6",
              "width": 0.5
             },
             "pattern": {
              "fillmode": "overlay",
              "size": 10,
              "solidity": 0.2
             }
            },
            "type": "bar"
           }
          ],
          "barpolar": [
           {
            "marker": {
             "line": {
              "color": "#E5ECF6",
              "width": 0.5
             },
             "pattern": {
              "fillmode": "overlay",
              "size": 10,
              "solidity": 0.2
             }
            },
            "type": "barpolar"
           }
          ],
          "carpet": [
           {
            "aaxis": {
             "endlinecolor": "#2a3f5f",
             "gridcolor": "white",
             "linecolor": "white",
             "minorgridcolor": "white",
             "startlinecolor": "#2a3f5f"
            },
            "baxis": {
             "endlinecolor": "#2a3f5f",
             "gridcolor": "white",
             "linecolor": "white",
             "minorgridcolor": "white",
             "startlinecolor": "#2a3f5f"
            },
            "type": "carpet"
           }
          ],
          "choropleth": [
           {
            "colorbar": {
             "outlinewidth": 0,
             "ticks": ""
            },
            "type": "choropleth"
           }
          ],
          "contour": [
           {
            "colorbar": {
             "outlinewidth": 0,
             "ticks": ""
            },
            "colorscale": [
             [
              0,
              "#0d0887"
             ],
             [
              0.1111111111111111,
              "#46039f"
             ],
             [
              0.2222222222222222,
              "#7201a8"
             ],
             [
              0.3333333333333333,
              "#9c179e"
             ],
             [
              0.4444444444444444,
              "#bd3786"
             ],
             [
              0.5555555555555556,
              "#d8576b"
             ],
             [
              0.6666666666666666,
              "#ed7953"
             ],
             [
              0.7777777777777778,
              "#fb9f3a"
             ],
             [
              0.8888888888888888,
              "#fdca26"
             ],
             [
              1,
              "#f0f921"
             ]
            ],
            "type": "contour"
           }
          ],
          "contourcarpet": [
           {
            "colorbar": {
             "outlinewidth": 0,
             "ticks": ""
            },
            "type": "contourcarpet"
           }
          ],
          "heatmap": [
           {
            "colorbar": {
             "outlinewidth": 0,
             "ticks": ""
            },
            "colorscale": [
             [
              0,
              "#0d0887"
             ],
             [
              0.1111111111111111,
              "#46039f"
             ],
             [
              0.2222222222222222,
              "#7201a8"
             ],
             [
              0.3333333333333333,
              "#9c179e"
             ],
             [
              0.4444444444444444,
              "#bd3786"
             ],
             [
              0.5555555555555556,
              "#d8576b"
             ],
             [
              0.6666666666666666,
              "#ed7953"
             ],
             [
              0.7777777777777778,
              "#fb9f3a"
             ],
             [
              0.8888888888888888,
              "#fdca26"
             ],
             [
              1,
              "#f0f921"
             ]
            ],
            "type": "heatmap"
           }
          ],
          "heatmapgl": [
           {
            "colorbar": {
             "outlinewidth": 0,
             "ticks": ""
            },
            "colorscale": [
             [
              0,
              "#0d0887"
             ],
             [
              0.1111111111111111,
              "#46039f"
             ],
             [
              0.2222222222222222,
              "#7201a8"
             ],
             [
              0.3333333333333333,
              "#9c179e"
             ],
             [
              0.4444444444444444,
              "#bd3786"
             ],
             [
              0.5555555555555556,
              "#d8576b"
             ],
             [
              0.6666666666666666,
              "#ed7953"
             ],
             [
              0.7777777777777778,
              "#fb9f3a"
             ],
             [
              0.8888888888888888,
              "#fdca26"
             ],
             [
              1,
              "#f0f921"
             ]
            ],
            "type": "heatmapgl"
           }
          ],
          "histogram": [
           {
            "marker": {
             "pattern": {
              "fillmode": "overlay",
              "size": 10,
              "solidity": 0.2
             }
            },
            "type": "histogram"
           }
          ],
          "histogram2d": [
           {
            "colorbar": {
             "outlinewidth": 0,
             "ticks": ""
            },
            "colorscale": [
             [
              0,
              "#0d0887"
             ],
             [
              0.1111111111111111,
              "#46039f"
             ],
             [
              0.2222222222222222,
              "#7201a8"
             ],
             [
              0.3333333333333333,
              "#9c179e"
             ],
             [
              0.4444444444444444,
              "#bd3786"
             ],
             [
              0.5555555555555556,
              "#d8576b"
             ],
             [
              0.6666666666666666,
              "#ed7953"
             ],
             [
              0.7777777777777778,
              "#fb9f3a"
             ],
             [
              0.8888888888888888,
              "#fdca26"
             ],
             [
              1,
              "#f0f921"
             ]
            ],
            "type": "histogram2d"
           }
          ],
          "histogram2dcontour": [
           {
            "colorbar": {
             "outlinewidth": 0,
             "ticks": ""
            },
            "colorscale": [
             [
              0,
              "#0d0887"
             ],
             [
              0.1111111111111111,
              "#46039f"
             ],
             [
              0.2222222222222222,
              "#7201a8"
             ],
             [
              0.3333333333333333,
              "#9c179e"
             ],
             [
              0.4444444444444444,
              "#bd3786"
             ],
             [
              0.5555555555555556,
              "#d8576b"
             ],
             [
              0.6666666666666666,
              "#ed7953"
             ],
             [
              0.7777777777777778,
              "#fb9f3a"
             ],
             [
              0.8888888888888888,
              "#fdca26"
             ],
             [
              1,
              "#f0f921"
             ]
            ],
            "type": "histogram2dcontour"
           }
          ],
          "mesh3d": [
           {
            "colorbar": {
             "outlinewidth": 0,
             "ticks": ""
            },
            "type": "mesh3d"
           }
          ],
          "parcoords": [
           {
            "line": {
             "colorbar": {
              "outlinewidth": 0,
              "ticks": ""
             }
            },
            "type": "parcoords"
           }
          ],
          "pie": [
           {
            "automargin": true,
            "type": "pie"
           }
          ],
          "scatter": [
           {
            "fillpattern": {
             "fillmode": "overlay",
             "size": 10,
             "solidity": 0.2
            },
            "type": "scatter"
           }
          ],
          "scatter3d": [
           {
            "line": {
             "colorbar": {
              "outlinewidth": 0,
              "ticks": ""
             }
            },
            "marker": {
             "colorbar": {
              "outlinewidth": 0,
              "ticks": ""
             }
            },
            "type": "scatter3d"
           }
          ],
          "scattercarpet": [
           {
            "marker": {
             "colorbar": {
              "outlinewidth": 0,
              "ticks": ""
             }
            },
            "type": "scattercarpet"
           }
          ],
          "scattergeo": [
           {
            "marker": {
             "colorbar": {
              "outlinewidth": 0,
              "ticks": ""
             }
            },
            "type": "scattergeo"
           }
          ],
          "scattergl": [
           {
            "marker": {
             "colorbar": {
              "outlinewidth": 0,
              "ticks": ""
             }
            },
            "type": "scattergl"
           }
          ],
          "scattermapbox": [
           {
            "marker": {
             "colorbar": {
              "outlinewidth": 0,
              "ticks": ""
             }
            },
            "type": "scattermapbox"
           }
          ],
          "scatterpolar": [
           {
            "marker": {
             "colorbar": {
              "outlinewidth": 0,
              "ticks": ""
             }
            },
            "type": "scatterpolar"
           }
          ],
          "scatterpolargl": [
           {
            "marker": {
             "colorbar": {
              "outlinewidth": 0,
              "ticks": ""
             }
            },
            "type": "scatterpolargl"
           }
          ],
          "scatterternary": [
           {
            "marker": {
             "colorbar": {
              "outlinewidth": 0,
              "ticks": ""
             }
            },
            "type": "scatterternary"
           }
          ],
          "surface": [
           {
            "colorbar": {
             "outlinewidth": 0,
             "ticks": ""
            },
            "colorscale": [
             [
              0,
              "#0d0887"
             ],
             [
              0.1111111111111111,
              "#46039f"
             ],
             [
              0.2222222222222222,
              "#7201a8"
             ],
             [
              0.3333333333333333,
              "#9c179e"
             ],
             [
              0.4444444444444444,
              "#bd3786"
             ],
             [
              0.5555555555555556,
              "#d8576b"
             ],
             [
              0.6666666666666666,
              "#ed7953"
             ],
             [
              0.7777777777777778,
              "#fb9f3a"
             ],
             [
              0.8888888888888888,
              "#fdca26"
             ],
             [
              1,
              "#f0f921"
             ]
            ],
            "type": "surface"
           }
          ],
          "table": [
           {
            "cells": {
             "fill": {
              "color": "#EBF0F8"
             },
             "line": {
              "color": "white"
             }
            },
            "header": {
             "fill": {
              "color": "#C8D4E3"
             },
             "line": {
              "color": "white"
             }
            },
            "type": "table"
           }
          ]
         },
         "layout": {
          "annotationdefaults": {
           "arrowcolor": "#2a3f5f",
           "arrowhead": 0,
           "arrowwidth": 1
          },
          "autotypenumbers": "strict",
          "coloraxis": {
           "colorbar": {
            "outlinewidth": 0,
            "ticks": ""
           }
          },
          "colorscale": {
           "diverging": [
            [
             0,
             "#8e0152"
            ],
            [
             0.1,
             "#c51b7d"
            ],
            [
             0.2,
             "#de77ae"
            ],
            [
             0.3,
             "#f1b6da"
            ],
            [
             0.4,
             "#fde0ef"
            ],
            [
             0.5,
             "#f7f7f7"
            ],
            [
             0.6,
             "#e6f5d0"
            ],
            [
             0.7,
             "#b8e186"
            ],
            [
             0.8,
             "#7fbc41"
            ],
            [
             0.9,
             "#4d9221"
            ],
            [
             1,
             "#276419"
            ]
           ],
           "sequential": [
            [
             0,
             "#0d0887"
            ],
            [
             0.1111111111111111,
             "#46039f"
            ],
            [
             0.2222222222222222,
             "#7201a8"
            ],
            [
             0.3333333333333333,
             "#9c179e"
            ],
            [
             0.4444444444444444,
             "#bd3786"
            ],
            [
             0.5555555555555556,
             "#d8576b"
            ],
            [
             0.6666666666666666,
             "#ed7953"
            ],
            [
             0.7777777777777778,
             "#fb9f3a"
            ],
            [
             0.8888888888888888,
             "#fdca26"
            ],
            [
             1,
             "#f0f921"
            ]
           ],
           "sequentialminus": [
            [
             0,
             "#0d0887"
            ],
            [
             0.1111111111111111,
             "#46039f"
            ],
            [
             0.2222222222222222,
             "#7201a8"
            ],
            [
             0.3333333333333333,
             "#9c179e"
            ],
            [
             0.4444444444444444,
             "#bd3786"
            ],
            [
             0.5555555555555556,
             "#d8576b"
            ],
            [
             0.6666666666666666,
             "#ed7953"
            ],
            [
             0.7777777777777778,
             "#fb9f3a"
            ],
            [
             0.8888888888888888,
             "#fdca26"
            ],
            [
             1,
             "#f0f921"
            ]
           ]
          },
          "colorway": [
           "#636efa",
           "#EF553B",
           "#00cc96",
           "#ab63fa",
           "#FFA15A",
           "#19d3f3",
           "#FF6692",
           "#B6E880",
           "#FF97FF",
           "#FECB52"
          ],
          "font": {
           "color": "#2a3f5f"
          },
          "geo": {
           "bgcolor": "white",
           "lakecolor": "white",
           "landcolor": "#E5ECF6",
           "showlakes": true,
           "showland": true,
           "subunitcolor": "white"
          },
          "hoverlabel": {
           "align": "left"
          },
          "hovermode": "closest",
          "mapbox": {
           "style": "light"
          },
          "paper_bgcolor": "white",
          "plot_bgcolor": "#E5ECF6",
          "polar": {
           "angularaxis": {
            "gridcolor": "white",
            "linecolor": "white",
            "ticks": ""
           },
           "bgcolor": "#E5ECF6",
           "radialaxis": {
            "gridcolor": "white",
            "linecolor": "white",
            "ticks": ""
           }
          },
          "scene": {
           "xaxis": {
            "backgroundcolor": "#E5ECF6",
            "gridcolor": "white",
            "gridwidth": 2,
            "linecolor": "white",
            "showbackground": true,
            "ticks": "",
            "zerolinecolor": "white"
           },
           "yaxis": {
            "backgroundcolor": "#E5ECF6",
            "gridcolor": "white",
            "gridwidth": 2,
            "linecolor": "white",
            "showbackground": true,
            "ticks": "",
            "zerolinecolor": "white"
           },
           "zaxis": {
            "backgroundcolor": "#E5ECF6",
            "gridcolor": "white",
            "gridwidth": 2,
            "linecolor": "white",
            "showbackground": true,
            "ticks": "",
            "zerolinecolor": "white"
           }
          },
          "shapedefaults": {
           "line": {
            "color": "#2a3f5f"
           }
          },
          "ternary": {
           "aaxis": {
            "gridcolor": "white",
            "linecolor": "white",
            "ticks": ""
           },
           "baxis": {
            "gridcolor": "white",
            "linecolor": "white",
            "ticks": ""
           },
           "bgcolor": "#E5ECF6",
           "caxis": {
            "gridcolor": "white",
            "linecolor": "white",
            "ticks": ""
           }
          },
          "title": {
           "x": 0.05
          },
          "xaxis": {
           "automargin": true,
           "gridcolor": "white",
           "linecolor": "white",
           "ticks": "",
           "title": {
            "standoff": 15
           },
           "zerolinecolor": "white",
           "zerolinewidth": 2
          },
          "yaxis": {
           "automargin": true,
           "gridcolor": "white",
           "linecolor": "white",
           "ticks": "",
           "title": {
            "standoff": 15
           },
           "zerolinecolor": "white",
           "zerolinewidth": 2
          }
         }
        },
        "title": {
         "text": "Generalisation, Convergence and Overfitting - uniform"
        },
        "xaxis": {
         "range": [
          1,
          15
         ],
         "tickmode": "linear",
         "title": {
          "text": "Classifier Complexity (k)"
         }
        },
        "yaxis": {
         "range": [
          0,
          1
         ],
         "title": {
          "text": "Error Rate / Misclassification Rate"
         }
        }
       }
      }
     },
     "metadata": {},
     "output_type": "display_data"
    }
   ],
   "source": [
    "k=15\n",
    "training_error = pd.Series(index=range(1, k+1), dtype=float)\n",
    "test_error = pd.Series(index=range(1, k+1), dtype=float)\n",
    "for i in range(1, k+1):\n",
    "    knn = KNeighborsClassifier(n_neighbors=i, weights='uniform')\n",
    "    knn.fit(X_train, y_train)\n",
    "    training_error[i] = 1.0 - knn.score(X_train, y_train)\n",
    "    test_error[i] = 1.0 - knn.score(X_test, y_test)\n",
    "\n",
    "# Plot the training and test error for each value of k\n",
    "trace1 = go.Scatter(x=training_error.index, y=training_error, mode='lines+markers', name='Training Error')\n",
    "trace2 = go.Scatter(x=test_error.index, y=test_error, mode='lines+markers', name='Test Error')\n",
    "fig = go.Figure(data=[trace1, trace2])\n",
    "fig.update_layout(\n",
    "    title='Generalisation, Convergence and Overfitting - uniform',\n",
    "    xaxis_title='Classifier Complexity (k)',\n",
    "    yaxis_title='Error Rate / Misclassification Rate',\n",
    "    xaxis=dict(range=[1, k], tickmode='linear'),\n",
    "    yaxis=dict(range=[0, 1])\n",
    ")\n",
    "fig.show()"
   ]
  },
  {
   "cell_type": "markdown",
   "metadata": {},
   "source": [
    "kNN with distance weightings and k neigbours between 1 and 15"
   ]
  },
  {
   "cell_type": "code",
   "execution_count": 22,
   "metadata": {},
   "outputs": [
    {
     "data": {
      "application/vnd.plotly.v1+json": {
       "config": {
        "plotlyServerURL": "https://plot.ly"
       },
       "data": [
        {
         "mode": "lines+markers",
         "name": "Training Error",
         "type": "scatter",
         "x": [
          1,
          2,
          3,
          4,
          5,
          6,
          7,
          8,
          9,
          10,
          11,
          12,
          13,
          14,
          15
         ],
         "y": [
          0.00004698238831613022,
          0.0000067117697594154535,
          0.0000067117697594154535,
          0.0000067117697594154535,
          0.0000067117697594154535,
          0.0000067117697594154535,
          0.0000067117697594154535,
          0.0000067117697594154535,
          0.0000067117697594154535,
          0.0000067117697594154535,
          0.0000067117697594154535,
          0.0000067117697594154535,
          0.0000067117697594154535,
          0.0000067117697594154535,
          0.0000067117697594154535
         ]
        },
        {
         "mode": "lines+markers",
         "name": "Test Error",
         "type": "scatter",
         "x": [
          1,
          2,
          3,
          4,
          5,
          6,
          7,
          8,
          9,
          10,
          11,
          12,
          13,
          14,
          15
         ],
         "y": [
          0.033907860824742286,
          0.03361254295532645,
          0.036592568728522346,
          0.036055627147766334,
          0.037532216494845394,
          0.038418170103092786,
          0.03981421821305842,
          0.04061963058419249,
          0.04158612542955331,
          0.041961984536082464,
          0.04306271477663226,
          0.043707044673539475,
          0.04359965635738827,
          0.044217139175257714,
          0.044754080756013725
         ]
        }
       ],
       "layout": {
        "template": {
         "data": {
          "bar": [
           {
            "error_x": {
             "color": "#2a3f5f"
            },
            "error_y": {
             "color": "#2a3f5f"
            },
            "marker": {
             "line": {
              "color": "#E5ECF6",
              "width": 0.5
             },
             "pattern": {
              "fillmode": "overlay",
              "size": 10,
              "solidity": 0.2
             }
            },
            "type": "bar"
           }
          ],
          "barpolar": [
           {
            "marker": {
             "line": {
              "color": "#E5ECF6",
              "width": 0.5
             },
             "pattern": {
              "fillmode": "overlay",
              "size": 10,
              "solidity": 0.2
             }
            },
            "type": "barpolar"
           }
          ],
          "carpet": [
           {
            "aaxis": {
             "endlinecolor": "#2a3f5f",
             "gridcolor": "white",
             "linecolor": "white",
             "minorgridcolor": "white",
             "startlinecolor": "#2a3f5f"
            },
            "baxis": {
             "endlinecolor": "#2a3f5f",
             "gridcolor": "white",
             "linecolor": "white",
             "minorgridcolor": "white",
             "startlinecolor": "#2a3f5f"
            },
            "type": "carpet"
           }
          ],
          "choropleth": [
           {
            "colorbar": {
             "outlinewidth": 0,
             "ticks": ""
            },
            "type": "choropleth"
           }
          ],
          "contour": [
           {
            "colorbar": {
             "outlinewidth": 0,
             "ticks": ""
            },
            "colorscale": [
             [
              0,
              "#0d0887"
             ],
             [
              0.1111111111111111,
              "#46039f"
             ],
             [
              0.2222222222222222,
              "#7201a8"
             ],
             [
              0.3333333333333333,
              "#9c179e"
             ],
             [
              0.4444444444444444,
              "#bd3786"
             ],
             [
              0.5555555555555556,
              "#d8576b"
             ],
             [
              0.6666666666666666,
              "#ed7953"
             ],
             [
              0.7777777777777778,
              "#fb9f3a"
             ],
             [
              0.8888888888888888,
              "#fdca26"
             ],
             [
              1,
              "#f0f921"
             ]
            ],
            "type": "contour"
           }
          ],
          "contourcarpet": [
           {
            "colorbar": {
             "outlinewidth": 0,
             "ticks": ""
            },
            "type": "contourcarpet"
           }
          ],
          "heatmap": [
           {
            "colorbar": {
             "outlinewidth": 0,
             "ticks": ""
            },
            "colorscale": [
             [
              0,
              "#0d0887"
             ],
             [
              0.1111111111111111,
              "#46039f"
             ],
             [
              0.2222222222222222,
              "#7201a8"
             ],
             [
              0.3333333333333333,
              "#9c179e"
             ],
             [
              0.4444444444444444,
              "#bd3786"
             ],
             [
              0.5555555555555556,
              "#d8576b"
             ],
             [
              0.6666666666666666,
              "#ed7953"
             ],
             [
              0.7777777777777778,
              "#fb9f3a"
             ],
             [
              0.8888888888888888,
              "#fdca26"
             ],
             [
              1,
              "#f0f921"
             ]
            ],
            "type": "heatmap"
           }
          ],
          "heatmapgl": [
           {
            "colorbar": {
             "outlinewidth": 0,
             "ticks": ""
            },
            "colorscale": [
             [
              0,
              "#0d0887"
             ],
             [
              0.1111111111111111,
              "#46039f"
             ],
             [
              0.2222222222222222,
              "#7201a8"
             ],
             [
              0.3333333333333333,
              "#9c179e"
             ],
             [
              0.4444444444444444,
              "#bd3786"
             ],
             [
              0.5555555555555556,
              "#d8576b"
             ],
             [
              0.6666666666666666,
              "#ed7953"
             ],
             [
              0.7777777777777778,
              "#fb9f3a"
             ],
             [
              0.8888888888888888,
              "#fdca26"
             ],
             [
              1,
              "#f0f921"
             ]
            ],
            "type": "heatmapgl"
           }
          ],
          "histogram": [
           {
            "marker": {
             "pattern": {
              "fillmode": "overlay",
              "size": 10,
              "solidity": 0.2
             }
            },
            "type": "histogram"
           }
          ],
          "histogram2d": [
           {
            "colorbar": {
             "outlinewidth": 0,
             "ticks": ""
            },
            "colorscale": [
             [
              0,
              "#0d0887"
             ],
             [
              0.1111111111111111,
              "#46039f"
             ],
             [
              0.2222222222222222,
              "#7201a8"
             ],
             [
              0.3333333333333333,
              "#9c179e"
             ],
             [
              0.4444444444444444,
              "#bd3786"
             ],
             [
              0.5555555555555556,
              "#d8576b"
             ],
             [
              0.6666666666666666,
              "#ed7953"
             ],
             [
              0.7777777777777778,
              "#fb9f3a"
             ],
             [
              0.8888888888888888,
              "#fdca26"
             ],
             [
              1,
              "#f0f921"
             ]
            ],
            "type": "histogram2d"
           }
          ],
          "histogram2dcontour": [
           {
            "colorbar": {
             "outlinewidth": 0,
             "ticks": ""
            },
            "colorscale": [
             [
              0,
              "#0d0887"
             ],
             [
              0.1111111111111111,
              "#46039f"
             ],
             [
              0.2222222222222222,
              "#7201a8"
             ],
             [
              0.3333333333333333,
              "#9c179e"
             ],
             [
              0.4444444444444444,
              "#bd3786"
             ],
             [
              0.5555555555555556,
              "#d8576b"
             ],
             [
              0.6666666666666666,
              "#ed7953"
             ],
             [
              0.7777777777777778,
              "#fb9f3a"
             ],
             [
              0.8888888888888888,
              "#fdca26"
             ],
             [
              1,
              "#f0f921"
             ]
            ],
            "type": "histogram2dcontour"
           }
          ],
          "mesh3d": [
           {
            "colorbar": {
             "outlinewidth": 0,
             "ticks": ""
            },
            "type": "mesh3d"
           }
          ],
          "parcoords": [
           {
            "line": {
             "colorbar": {
              "outlinewidth": 0,
              "ticks": ""
             }
            },
            "type": "parcoords"
           }
          ],
          "pie": [
           {
            "automargin": true,
            "type": "pie"
           }
          ],
          "scatter": [
           {
            "fillpattern": {
             "fillmode": "overlay",
             "size": 10,
             "solidity": 0.2
            },
            "type": "scatter"
           }
          ],
          "scatter3d": [
           {
            "line": {
             "colorbar": {
              "outlinewidth": 0,
              "ticks": ""
             }
            },
            "marker": {
             "colorbar": {
              "outlinewidth": 0,
              "ticks": ""
             }
            },
            "type": "scatter3d"
           }
          ],
          "scattercarpet": [
           {
            "marker": {
             "colorbar": {
              "outlinewidth": 0,
              "ticks": ""
             }
            },
            "type": "scattercarpet"
           }
          ],
          "scattergeo": [
           {
            "marker": {
             "colorbar": {
              "outlinewidth": 0,
              "ticks": ""
             }
            },
            "type": "scattergeo"
           }
          ],
          "scattergl": [
           {
            "marker": {
             "colorbar": {
              "outlinewidth": 0,
              "ticks": ""
             }
            },
            "type": "scattergl"
           }
          ],
          "scattermapbox": [
           {
            "marker": {
             "colorbar": {
              "outlinewidth": 0,
              "ticks": ""
             }
            },
            "type": "scattermapbox"
           }
          ],
          "scatterpolar": [
           {
            "marker": {
             "colorbar": {
              "outlinewidth": 0,
              "ticks": ""
             }
            },
            "type": "scatterpolar"
           }
          ],
          "scatterpolargl": [
           {
            "marker": {
             "colorbar": {
              "outlinewidth": 0,
              "ticks": ""
             }
            },
            "type": "scatterpolargl"
           }
          ],
          "scatterternary": [
           {
            "marker": {
             "colorbar": {
              "outlinewidth": 0,
              "ticks": ""
             }
            },
            "type": "scatterternary"
           }
          ],
          "surface": [
           {
            "colorbar": {
             "outlinewidth": 0,
             "ticks": ""
            },
            "colorscale": [
             [
              0,
              "#0d0887"
             ],
             [
              0.1111111111111111,
              "#46039f"
             ],
             [
              0.2222222222222222,
              "#7201a8"
             ],
             [
              0.3333333333333333,
              "#9c179e"
             ],
             [
              0.4444444444444444,
              "#bd3786"
             ],
             [
              0.5555555555555556,
              "#d8576b"
             ],
             [
              0.6666666666666666,
              "#ed7953"
             ],
             [
              0.7777777777777778,
              "#fb9f3a"
             ],
             [
              0.8888888888888888,
              "#fdca26"
             ],
             [
              1,
              "#f0f921"
             ]
            ],
            "type": "surface"
           }
          ],
          "table": [
           {
            "cells": {
             "fill": {
              "color": "#EBF0F8"
             },
             "line": {
              "color": "white"
             }
            },
            "header": {
             "fill": {
              "color": "#C8D4E3"
             },
             "line": {
              "color": "white"
             }
            },
            "type": "table"
           }
          ]
         },
         "layout": {
          "annotationdefaults": {
           "arrowcolor": "#2a3f5f",
           "arrowhead": 0,
           "arrowwidth": 1
          },
          "autotypenumbers": "strict",
          "coloraxis": {
           "colorbar": {
            "outlinewidth": 0,
            "ticks": ""
           }
          },
          "colorscale": {
           "diverging": [
            [
             0,
             "#8e0152"
            ],
            [
             0.1,
             "#c51b7d"
            ],
            [
             0.2,
             "#de77ae"
            ],
            [
             0.3,
             "#f1b6da"
            ],
            [
             0.4,
             "#fde0ef"
            ],
            [
             0.5,
             "#f7f7f7"
            ],
            [
             0.6,
             "#e6f5d0"
            ],
            [
             0.7,
             "#b8e186"
            ],
            [
             0.8,
             "#7fbc41"
            ],
            [
             0.9,
             "#4d9221"
            ],
            [
             1,
             "#276419"
            ]
           ],
           "sequential": [
            [
             0,
             "#0d0887"
            ],
            [
             0.1111111111111111,
             "#46039f"
            ],
            [
             0.2222222222222222,
             "#7201a8"
            ],
            [
             0.3333333333333333,
             "#9c179e"
            ],
            [
             0.4444444444444444,
             "#bd3786"
            ],
            [
             0.5555555555555556,
             "#d8576b"
            ],
            [
             0.6666666666666666,
             "#ed7953"
            ],
            [
             0.7777777777777778,
             "#fb9f3a"
            ],
            [
             0.8888888888888888,
             "#fdca26"
            ],
            [
             1,
             "#f0f921"
            ]
           ],
           "sequentialminus": [
            [
             0,
             "#0d0887"
            ],
            [
             0.1111111111111111,
             "#46039f"
            ],
            [
             0.2222222222222222,
             "#7201a8"
            ],
            [
             0.3333333333333333,
             "#9c179e"
            ],
            [
             0.4444444444444444,
             "#bd3786"
            ],
            [
             0.5555555555555556,
             "#d8576b"
            ],
            [
             0.6666666666666666,
             "#ed7953"
            ],
            [
             0.7777777777777778,
             "#fb9f3a"
            ],
            [
             0.8888888888888888,
             "#fdca26"
            ],
            [
             1,
             "#f0f921"
            ]
           ]
          },
          "colorway": [
           "#636efa",
           "#EF553B",
           "#00cc96",
           "#ab63fa",
           "#FFA15A",
           "#19d3f3",
           "#FF6692",
           "#B6E880",
           "#FF97FF",
           "#FECB52"
          ],
          "font": {
           "color": "#2a3f5f"
          },
          "geo": {
           "bgcolor": "white",
           "lakecolor": "white",
           "landcolor": "#E5ECF6",
           "showlakes": true,
           "showland": true,
           "subunitcolor": "white"
          },
          "hoverlabel": {
           "align": "left"
          },
          "hovermode": "closest",
          "mapbox": {
           "style": "light"
          },
          "paper_bgcolor": "white",
          "plot_bgcolor": "#E5ECF6",
          "polar": {
           "angularaxis": {
            "gridcolor": "white",
            "linecolor": "white",
            "ticks": ""
           },
           "bgcolor": "#E5ECF6",
           "radialaxis": {
            "gridcolor": "white",
            "linecolor": "white",
            "ticks": ""
           }
          },
          "scene": {
           "xaxis": {
            "backgroundcolor": "#E5ECF6",
            "gridcolor": "white",
            "gridwidth": 2,
            "linecolor": "white",
            "showbackground": true,
            "ticks": "",
            "zerolinecolor": "white"
           },
           "yaxis": {
            "backgroundcolor": "#E5ECF6",
            "gridcolor": "white",
            "gridwidth": 2,
            "linecolor": "white",
            "showbackground": true,
            "ticks": "",
            "zerolinecolor": "white"
           },
           "zaxis": {
            "backgroundcolor": "#E5ECF6",
            "gridcolor": "white",
            "gridwidth": 2,
            "linecolor": "white",
            "showbackground": true,
            "ticks": "",
            "zerolinecolor": "white"
           }
          },
          "shapedefaults": {
           "line": {
            "color": "#2a3f5f"
           }
          },
          "ternary": {
           "aaxis": {
            "gridcolor": "white",
            "linecolor": "white",
            "ticks": ""
           },
           "baxis": {
            "gridcolor": "white",
            "linecolor": "white",
            "ticks": ""
           },
           "bgcolor": "#E5ECF6",
           "caxis": {
            "gridcolor": "white",
            "linecolor": "white",
            "ticks": ""
           }
          },
          "title": {
           "x": 0.05
          },
          "xaxis": {
           "automargin": true,
           "gridcolor": "white",
           "linecolor": "white",
           "ticks": "",
           "title": {
            "standoff": 15
           },
           "zerolinecolor": "white",
           "zerolinewidth": 2
          },
          "yaxis": {
           "automargin": true,
           "gridcolor": "white",
           "linecolor": "white",
           "ticks": "",
           "title": {
            "standoff": 15
           },
           "zerolinecolor": "white",
           "zerolinewidth": 2
          }
         }
        },
        "title": {
         "text": "Generalisation, Convergence and Overfitting - distance"
        },
        "xaxis": {
         "range": [
          1,
          15
         ],
         "tickmode": "linear",
         "title": {
          "text": "Classifier Complexity (k)"
         }
        },
        "yaxis": {
         "range": [
          0,
          1
         ],
         "title": {
          "text": "Error Rate / Misclassification Rate"
         }
        }
       }
      }
     },
     "metadata": {},
     "output_type": "display_data"
    }
   ],
   "source": [
    "k=15\n",
    "training_error = pd.Series(index=range(1, k+1), dtype=float)\n",
    "test_error = pd.Series(index=range(1, k+1), dtype=float)\n",
    "for i in range(1, k+1):\n",
    "    knn = KNeighborsClassifier(n_neighbors=i, weights='distance')\n",
    "    knn.fit(X_train, y_train)\n",
    "    training_error[i] = 1.0 - knn.score(X_train, y_train)\n",
    "    test_error[i] = 1.0 - knn.score(X_test, y_test)\n",
    "# Plot the training and test error for each value of k\n",
    "trace1 = go.Scatter(x=training_error.index, y=training_error, mode='lines+markers', name='Training Error')\n",
    "trace2 = go.Scatter(x=test_error.index, y=test_error, mode='lines+markers', name='Test Error')\n",
    "fig = go.Figure(data=[trace1, trace2])\n",
    "fig.update_layout(\n",
    "    title='Generalisation, Convergence and Overfitting - distance',\n",
    "    xaxis_title='Classifier Complexity (k)',\n",
    "    yaxis_title='Error Rate / Misclassification Rate',\n",
    "    xaxis=dict(range=[1, k], tickmode='linear'),\n",
    "    yaxis=dict(range=[0, 1])\n",
    ")\n",
    "fig.show()"
   ]
  },
  {
   "cell_type": "markdown",
   "metadata": {},
   "source": [
    "Train a kNN classifier with distance weightings and k neighbours = 5"
   ]
  },
  {
   "cell_type": "code",
   "execution_count": 23,
   "metadata": {},
   "outputs": [
    {
     "name": "stdout",
     "output_type": "stream",
     "text": [
      "Test set score: 0.9580380154639175\n",
      "              precision    recall  f1-score   support\n",
      "\n",
      "    110700.0       1.00      1.00      1.00        45\n",
      "    110800.0       1.00      1.00      1.00        40\n",
      "    110900.0       0.94      0.95      0.95        66\n",
      "    111100.0       0.88      1.00      0.94        22\n",
      "    111200.0       0.99      0.97      0.98        99\n",
      "    111300.0       0.96      1.00      0.98        26\n",
      "    111400.0       1.00      0.85      0.92        33\n",
      "    111601.0       1.00      0.90      0.95        21\n",
      "    111602.0       0.95      1.00      0.98        20\n",
      "    111700.0       0.93      1.00      0.97        14\n",
      "    111901.0       1.00      1.00      1.00         1\n",
      "    112101.0       0.94      0.96      0.95        67\n",
      "    112200.0       1.00      1.00      1.00         2\n",
      "    112301.0       0.93      0.88      0.90        32\n",
      "    112401.0       1.00      1.00      1.00        47\n",
      "    112500.0       0.86      0.86      0.86        28\n",
      "    112600.0       0.89      0.98      0.94        52\n",
      "    112701.0       0.80      1.00      0.89         4\n",
      "    112800.0       1.00      1.00      1.00        17\n",
      "    112901.0       1.00      0.90      0.95        10\n",
      "    113000.0       1.00      1.00      1.00        41\n",
      "    113201.0       0.94      0.98      0.96        60\n",
      "    113402.0       0.94      0.95      0.94        95\n",
      "    113500.0       1.00      0.93      0.97        15\n",
      "    113600.0       1.00      1.00      1.00         7\n",
      "    113700.0       1.00      0.89      0.94        18\n",
      "    113800.0       1.00      1.00      1.00        36\n",
      "    113900.0       1.00      1.00      1.00         2\n",
      "    114000.0       1.00      1.00      1.00        17\n",
      "    114101.0       0.91      0.91      0.91        34\n",
      "    114102.0       1.00      1.00      1.00         4\n",
      "    114201.0       1.00      0.87      0.93        15\n",
      "    114400.0       1.00      1.00      1.00         9\n",
      "    114500.0       0.93      1.00      0.96        13\n",
      "    114600.0       0.89      0.74      0.81        34\n",
      "    114701.0       0.97      0.94      0.95        33\n",
      "    114801.0       0.91      0.87      0.89        71\n",
      "    114901.0       0.57      0.80      0.67        15\n",
      "    114902.0       0.86      1.00      0.92         6\n",
      "    115001.0       0.91      1.00      0.95        21\n",
      "    115002.0       0.00      0.00      0.00         1\n",
      "    115100.0       0.88      0.85      0.86        33\n",
      "    115200.0       0.82      0.82      0.82        22\n",
      "    115300.0       1.00      1.00      1.00         1\n",
      "    115400.0       1.00      0.90      0.95        10\n",
      "    115501.0       1.00      0.91      0.96        47\n",
      "    115601.0       0.86      0.95      0.90        57\n",
      "    115700.0       0.83      1.00      0.91        10\n",
      "    115800.0       1.00      1.00      1.00        37\n",
      "    115901.0       1.00      1.00      1.00        12\n",
      "    116101.0       1.00      0.99      1.00       159\n",
      "    116200.0       1.00      0.83      0.91         6\n",
      "    116300.0       0.91      0.83      0.87        12\n",
      "    116401.0       0.97      0.93      0.95        30\n",
      "    116500.0       0.93      1.00      0.96        13\n",
      "    116601.0       0.91      0.98      0.94        42\n",
      "    116701.0       1.00      1.00      1.00        16\n",
      "    116801.0       1.00      0.69      0.82        13\n",
      "    116900.0       0.97      0.94      0.95        32\n",
      "    117001.0       1.00      0.97      0.98        67\n",
      "    117002.0       1.00      1.00      1.00        65\n",
      "    117003.0       0.60      0.75      0.67         4\n",
      "    117100.0       0.96      0.96      0.96        27\n",
      "    117201.0       0.97      0.94      0.96        35\n",
      "    117202.0       0.95      0.86      0.90        21\n",
      "    117400.0       1.00      1.00      1.00         8\n",
      "    117500.0       0.70      1.00      0.83        19\n",
      "    117600.0       0.97      0.97      0.97        62\n",
      "    117700.0       0.98      0.98      0.98        42\n",
      "    117800.0       0.97      1.00      0.99        35\n",
      "    117900.0       1.00      0.94      0.97        48\n",
      "    118001.0       0.93      0.93      0.93        15\n",
      "    118100.0       1.00      1.00      1.00        34\n",
      "    118200.0       0.93      0.97      0.95        29\n",
      "    118300.0       0.99      0.99      0.99       134\n",
      "    118400.0       1.00      1.00      1.00         4\n",
      "    118501.0       0.88      0.83      0.86        18\n",
      "    118502.0       0.94      0.93      0.94        90\n",
      "    118600.0       0.95      0.95      0.95        19\n",
      "    118700.0       0.93      0.72      0.81        18\n",
      "    118900.0       0.94      0.83      0.88        18\n",
      "    119000.0       0.93      0.93      0.93        30\n",
      "    119100.0       1.00      1.00      1.00        32\n",
      "    119201.0       1.00      1.00      1.00        12\n",
      "    119400.0       0.95      0.96      0.96        56\n",
      "    119500.0       0.86      0.92      0.89        26\n",
      "    119600.0       1.00      1.00      1.00        28\n",
      "    119700.0       0.96      0.96      0.96        51\n",
      "    119800.0       0.95      1.00      0.97        78\n",
      "    119901.0       0.77      0.89      0.83        19\n",
      "    120000.0       0.94      1.00      0.97        16\n",
      "    120101.0       0.93      0.79      0.85        33\n",
      "    120202.0       0.80      1.00      0.89         8\n",
      "    120203.0       0.00      0.00      0.00         2\n",
      "    120301.0       0.83      1.00      0.91         5\n",
      "    120400.0       1.00      0.97      0.98        86\n",
      "    120500.0       0.85      1.00      0.92        29\n",
      "    120600.0       0.97      1.00      0.99        38\n",
      "    120701.0       1.00      0.92      0.96        12\n",
      "    120800.0       0.96      0.76      0.85        29\n",
      "    120900.0       0.96      0.88      0.92        25\n",
      "    121001.0       0.98      0.99      0.99       102\n",
      "    121100.0       0.95      0.99      0.97        76\n",
      "    121200.0       0.98      0.99      0.99       144\n",
      "    121300.0       0.97      1.00      0.98        64\n",
      "    121401.0       0.90      1.00      0.95        18\n",
      "    121500.0       0.98      0.98      0.98       120\n",
      "    121600.0       1.00      0.93      0.96        28\n",
      "    121701.0       0.33      0.50      0.40         2\n",
      "    121800.0       1.00      0.96      0.98        24\n",
      "    121901.0       0.91      0.88      0.90        34\n",
      "    122001.0       0.78      0.95      0.86        22\n",
      "    122101.0       0.94      0.81      0.87        21\n",
      "    122200.0       0.82      0.97      0.89        32\n",
      "    122300.0       0.94      1.00      0.97        32\n",
      "    122400.0       0.96      1.00      0.98        44\n",
      "    122501.0       0.98      0.93      0.95        88\n",
      "    122600.0       1.00      0.83      0.91        41\n",
      "    122700.0       0.96      0.98      0.97        55\n",
      "    122801.0       0.96      0.92      0.94        24\n",
      "    122802.0       0.93      1.00      0.96        27\n",
      "    122901.0       0.94      0.96      0.95        76\n",
      "    123000.0       1.00      0.96      0.98        74\n",
      "    123100.0       0.99      0.99      0.99        68\n",
      "    123200.0       0.94      0.91      0.92        32\n",
      "    123300.0       0.93      0.88      0.90        43\n",
      "    123400.0       0.94      0.97      0.96       212\n",
      "    123500.0       1.00      0.98      0.99       118\n",
      "    123600.0       0.90      0.90      0.90        63\n",
      "    123701.0       1.00      0.88      0.94        17\n",
      "    123702.0       0.88      1.00      0.93         7\n",
      "    123800.0       0.97      0.98      0.98        60\n",
      "    123900.0       1.00      0.92      0.96        12\n",
      "    124000.0       0.93      0.89      0.91        91\n",
      "    124100.0       1.00      1.00      1.00        24\n",
      "    124200.0       1.00      0.86      0.92        21\n",
      "    124301.0       0.97      0.98      0.98       130\n",
      "    124401.0       1.00      0.96      0.98        45\n",
      "    124500.0       0.97      0.95      0.96        63\n",
      "    124600.0       0.93      0.99      0.96        79\n",
      "    124700.0       1.00      0.90      0.95        21\n",
      "    124800.0       0.91      0.90      0.90        58\n",
      "    124900.0       0.93      0.97      0.95        40\n",
      "    125000.0       1.00      1.00      1.00        13\n",
      "    125100.0       1.00      0.99      1.00       191\n",
      "    125201.0       0.89      0.77      0.83        22\n",
      "    125202.0       0.84      0.93      0.88        41\n",
      "    125300.0       0.95      0.96      0.96        79\n",
      "    125400.0       1.00      1.00      1.00        19\n",
      "    125500.0       0.89      0.81      0.85        21\n",
      "    125600.0       0.93      0.82      0.87        66\n",
      "    125701.0       1.00      0.98      0.99        44\n",
      "    125800.0       0.94      0.91      0.92        64\n",
      "    125900.0       1.00      1.00      1.00        18\n",
      "    126000.0       1.00      0.80      0.89        10\n",
      "    126100.0       0.89      1.00      0.94        17\n",
      "    126200.0       0.76      0.94      0.84        33\n",
      "    126300.0       0.91      1.00      0.95        42\n",
      "    126401.0       0.93      0.94      0.93        80\n",
      "    126500.0       0.94      0.99      0.96        96\n",
      "    126601.0       0.99      1.00      1.00       352\n",
      "    126701.0       1.00      1.00      1.00       148\n",
      "    126702.0       0.94      0.91      0.92        32\n",
      "    126801.0       1.00      1.00      1.00        77\n",
      "    126901.0       0.93      1.00      0.96        27\n",
      "    127001.0       0.97      0.97      0.97       225\n",
      "    127002.0       0.95      0.95      0.95        62\n",
      "    127100.0       0.99      0.93      0.96        95\n",
      "    127200.0       0.98      0.99      0.98       196\n",
      "    127300.0       0.97      0.96      0.96       125\n",
      "    127400.0       1.00      0.83      0.91        29\n",
      "    127500.0       0.99      0.99      0.99       135\n",
      "    127601.0       0.95      0.96      0.95        77\n",
      "    127701.0       0.91      1.00      0.95        10\n",
      "    127801.0       0.97      0.97      0.97        58\n",
      "    127900.0       0.97      0.97      0.97        72\n",
      "    128000.0       1.00      1.00      1.00        16\n",
      "    128101.0       1.00      1.00      1.00       218\n",
      "    128200.0       0.99      1.00      0.99       323\n",
      "    128301.0       0.97      0.92      0.94        36\n",
      "    128401.0       0.92      0.97      0.95       101\n",
      "    128501.0       0.97      0.97      0.97        36\n",
      "    128601.0       0.99      0.99      0.99        67\n",
      "    128700.0       1.00      1.00      1.00       147\n",
      "    128800.0       0.93      0.96      0.94        26\n",
      "    128901.0       0.95      0.89      0.92        65\n",
      "    128902.0       1.00      0.94      0.97        17\n",
      "    129000.0       0.89      0.96      0.93        26\n",
      "    129101.0       1.00      0.86      0.93        22\n",
      "    129201.0       0.98      0.99      0.98       207\n",
      "    129300.0       1.00      0.90      0.95        63\n",
      "    129400.0       0.89      1.00      0.94        42\n",
      "    129501.0       0.93      0.82      0.88        17\n",
      "    129600.0       0.94      0.97      0.95        61\n",
      "    129700.0       1.00      0.71      0.83        21\n",
      "    129800.0       0.96      1.00      0.98        24\n",
      "    129901.0       1.00      0.82      0.90        17\n",
      "    129902.0       0.93      0.95      0.94       167\n",
      "    130000.0       0.94      0.97      0.95        32\n",
      "    130100.0       1.00      0.96      0.98        51\n",
      "    130200.0       0.99      1.00      0.99       377\n",
      "    130300.0       0.99      0.94      0.97       148\n",
      "    130400.0       0.88      0.97      0.92        60\n",
      "    130500.0       0.92      0.96      0.94        24\n",
      "    130601.0       0.97      0.97      0.97        37\n",
      "    130700.0       1.00      1.00      1.00        42\n",
      "    130801.0       0.97      0.98      0.97        59\n",
      "    130901.0       0.92      1.00      0.96        34\n",
      "    130902.0       0.80      0.87      0.83        23\n",
      "    131000.0       0.99      0.99      0.99       153\n",
      "    131100.0       0.98      1.00      0.99       124\n",
      "    131200.0       0.93      0.94      0.93        99\n",
      "    131300.0       0.88      0.97      0.92        29\n",
      "    131400.0       0.83      1.00      0.91         5\n",
      "    131500.0       0.98      0.97      0.97       134\n",
      "    131600.0       0.92      0.89      0.90        37\n",
      "    131700.0       0.98      0.95      0.96       101\n",
      "    131801.0       0.96      0.98      0.97       223\n",
      "    131802.0       0.85      0.74      0.79        23\n",
      "    131900.0       0.97      0.95      0.96        59\n",
      "    132001.0       0.94      0.98      0.96        92\n",
      "    132002.0       1.00      0.87      0.93        31\n",
      "    132100.0       0.95      0.97      0.96       109\n",
      "    132200.0       0.96      0.99      0.97       139\n",
      "    132300.0       0.92      0.88      0.90        51\n",
      "    132400.0       0.98      0.89      0.93        90\n",
      "    132501.0       0.78      0.50      0.61        14\n",
      "    132600.0       0.98      1.00      0.99       127\n",
      "    132700.0       0.97      1.00      0.98        60\n",
      "    132800.0       0.97      0.89      0.93        70\n",
      "    132900.0       0.93      0.97      0.95        69\n",
      "    133000.0       1.00      0.97      0.98        61\n",
      "    133100.0       0.97      0.97      0.97       154\n",
      "    133200.0       1.00      1.00      1.00         9\n",
      "    133301.0       1.00      0.98      0.99       119\n",
      "    133400.0       1.00      1.00      1.00         1\n",
      "    133500.0       0.96      0.99      0.97       268\n",
      "    133600.0       0.99      0.97      0.98       157\n",
      "    133700.0       1.00      1.00      1.00         3\n",
      "    133800.0       1.00      1.00      1.00        20\n",
      "    133900.0       0.98      0.97      0.97       208\n",
      "    134000.0       0.93      1.00      0.97        14\n",
      "    134100.0       1.00      0.98      0.99       105\n",
      "    134200.0       0.94      0.99      0.97       117\n",
      "    134301.0       0.95      0.92      0.94        88\n",
      "    134302.0       0.99      1.00      0.99        83\n",
      "    134400.0       0.97      0.98      0.98       190\n",
      "    134500.0       0.94      0.94      0.94        18\n",
      "    134600.0       0.95      0.92      0.93        61\n",
      "    134700.0       0.93      0.95      0.94        56\n",
      "    134800.0       0.99      0.98      0.98        84\n",
      "    134900.0       0.90      0.90      0.90        10\n",
      "    135000.0       0.97      0.96      0.96       139\n",
      "    135100.0       0.96      0.96      0.96        23\n",
      "    135200.0       0.99      0.97      0.98       151\n",
      "    135300.0       0.99      1.00      0.99        73\n",
      "    135401.0       0.95      0.92      0.93        38\n",
      "    135500.0       0.95      1.00      0.97        70\n",
      "    135600.0       1.00      0.98      0.99        53\n",
      "    135700.0       0.98      1.00      0.99       120\n",
      "    135800.0       0.98      0.98      0.98       107\n",
      "    135900.0       0.92      0.75      0.83        16\n",
      "    136001.0       0.99      0.98      0.99       245\n",
      "    136002.0       0.96      0.93      0.95        46\n",
      "    136100.0       0.97      0.97      0.97       218\n",
      "    136200.0       0.94      0.89      0.91        36\n",
      "    136300.0       0.98      0.93      0.96        69\n",
      "    136400.0       0.97      0.94      0.95        96\n",
      "    136501.0       0.96      0.88      0.92        26\n",
      "    136502.0       0.97      1.00      0.98        30\n",
      "    136601.0       0.90      0.91      0.90        57\n",
      "    136700.0       0.93      0.95      0.94        79\n",
      "    136801.0       1.00      0.96      0.98        55\n",
      "    136900.0       0.95      1.00      0.97       170\n",
      "    137000.0       0.91      0.79      0.85        38\n",
      "    137100.0       0.98      0.93      0.96        59\n",
      "    137201.0       1.00      0.93      0.96        14\n",
      "    137202.0       0.97      0.95      0.96        62\n",
      "    137300.0       0.91      0.59      0.71        17\n",
      "    137400.0       0.94      0.96      0.95        46\n",
      "    137500.0       1.00      0.94      0.97        17\n",
      "    137600.0       0.87      0.91      0.89        43\n",
      "    137701.0       0.98      0.99      0.98        82\n",
      "    137800.0       0.98      0.92      0.95        65\n",
      "    137901.0       0.98      1.00      0.99        86\n",
      "    138000.0       0.80      0.92      0.86        39\n",
      "    138100.0       0.88      0.91      0.89       110\n",
      "    138200.0       0.91      0.92      0.92       106\n",
      "    138301.0       0.87      0.98      0.92        54\n",
      "    138302.0       0.96      0.92      0.94        87\n",
      "    138400.0       0.96      0.97      0.96        89\n",
      "    138501.0       0.98      1.00      0.99       281\n",
      "    138502.0       0.93      0.93      0.93        15\n",
      "    138600.0       1.00      0.95      0.97        19\n",
      "    138700.0       0.99      0.97      0.98       247\n",
      "    138800.0       0.95      0.99      0.97        77\n",
      "    138901.0       0.95      1.00      0.97        72\n",
      "    139000.0       0.99      0.96      0.98        83\n",
      "    139100.0       0.94      0.94      0.94        80\n",
      "    139201.0       0.99      0.99      0.99       143\n",
      "    139300.0       0.99      0.93      0.96       125\n",
      "    139400.0       0.93      0.93      0.93        28\n",
      "    139501.0       0.85      0.94      0.89        18\n",
      "    139601.0       0.97      0.96      0.97       106\n",
      "    139700.0       0.95      0.99      0.97       118\n",
      "    139801.0       0.97      0.97      0.97        30\n",
      "    139802.0       0.87      0.90      0.89        30\n",
      "    139900.0       0.82      0.77      0.79        35\n",
      "    140000.0       0.92      0.91      0.92       117\n",
      "    140100.0       0.98      0.99      0.99       105\n",
      "    140200.0       0.95      0.92      0.94        65\n",
      "    140300.0       0.96      0.98      0.97       166\n",
      "    140400.0       0.99      0.97      0.98       214\n",
      "    140500.0       0.90      0.98      0.94        58\n",
      "    140601.0       0.94      0.94      0.94        48\n",
      "    140700.0       0.99      0.96      0.97        70\n",
      "    140800.0       0.86      0.99      0.92        67\n",
      "    140901.0       1.00      0.71      0.83         7\n",
      "    140902.0       1.00      1.00      1.00         6\n",
      "    141000.0       0.99      0.97      0.98       457\n",
      "    141101.0       0.99      0.98      0.98        90\n",
      "    141102.0       0.98      1.00      0.99        47\n",
      "    141201.0       0.94      0.85      0.89        52\n",
      "    141300.0       0.85      0.94      0.89        31\n",
      "    141500.0       0.97      0.96      0.96       136\n",
      "    141600.0       0.87      0.92      0.90        52\n",
      "    141700.0       0.94      0.86      0.90        35\n",
      "    141801.0       0.97      0.94      0.95        33\n",
      "    141802.0       1.00      0.96      0.98        24\n",
      "    141900.0       0.92      0.96      0.94        23\n",
      "    142001.0       0.93      0.92      0.93       140\n",
      "    142002.0       0.94      0.99      0.96        94\n",
      "    142101.0       0.90      0.96      0.92        45\n",
      "    142201.0       0.97      1.00      0.99        99\n",
      "    142202.0       0.88      0.88      0.88        24\n",
      "    142301.0       0.91      0.88      0.90        49\n",
      "    142400.0       0.86      0.67      0.75        27\n",
      "    142501.0       0.98      0.98      0.98        43\n",
      "    142600.0       0.96      0.95      0.96        57\n",
      "    142700.0       0.94      1.00      0.97        32\n",
      "    142801.0       0.96      0.90      0.93        30\n",
      "    142802.0       0.92      0.97      0.95        36\n",
      "    142901.0       0.99      0.95      0.97        85\n",
      "    143000.0       1.00      0.98      0.99        63\n",
      "    143100.0       0.93      1.00      0.97        43\n",
      "    143200.0       0.96      1.00      0.98        23\n",
      "    143301.0       0.98      0.99      0.99       317\n",
      "    143400.0       0.97      1.00      0.99       105\n",
      "    143500.0       0.94      0.92      0.93        48\n",
      "    143600.0       0.98      0.99      0.98        92\n",
      "    143700.0       0.97      0.98      0.98        64\n",
      "    143800.0       0.97      0.88      0.92        33\n",
      "    143900.0       0.81      0.76      0.79        17\n",
      "    144001.0       1.00      1.00      1.00        20\n",
      "    144101.0       0.91      0.94      0.92        32\n",
      "    144201.0       0.98      1.00      0.99        43\n",
      "    144300.0       0.90      0.88      0.89        41\n",
      "    144400.0       1.00      0.90      0.95        20\n",
      "    144500.0       1.00      0.90      0.95        10\n",
      "    144700.0       0.93      0.96      0.94       106\n",
      "    144800.0       0.99      1.00      1.00       151\n",
      "    144900.0       1.00      1.00      1.00        11\n",
      "    145000.0       0.95      0.96      0.96       151\n",
      "    145101.0       0.93      0.93      0.93        29\n",
      "    145102.0       1.00      1.00      1.00         5\n",
      "    145200.0       0.92      0.89      0.91        27\n",
      "    145300.0       0.90      0.97      0.94        37\n",
      "    145400.0       1.00      0.93      0.96        70\n",
      "    145500.0       0.99      0.99      0.99       161\n",
      "    145600.0       0.97      0.96      0.97        79\n",
      "    145800.0       0.98      1.00      0.99        51\n",
      "    145900.0       0.99      0.99      0.99       488\n",
      "    146000.0       1.00      0.93      0.96        29\n",
      "    146100.0       0.92      0.73      0.81        15\n",
      "    146201.0       0.94      0.88      0.91        33\n",
      "    146301.0       0.98      0.92      0.95        51\n",
      "    146302.0       0.93      1.00      0.96        51\n",
      "    146400.0       1.00      0.80      0.89        10\n",
      "    146501.0       1.00      1.00      1.00        18\n",
      "    146600.0       0.99      0.98      0.99       142\n",
      "    146700.0       0.98      0.99      0.99       191\n",
      "    146800.0       0.98      0.99      0.98       123\n",
      "    147001.0       0.86      0.90      0.88        20\n",
      "    147002.0       0.94      0.91      0.92        33\n",
      "    147100.0       0.98      0.97      0.97        89\n",
      "    147201.0       0.92      0.89      0.90        61\n",
      "    147202.0       0.91      0.93      0.92        54\n",
      "    147400.0       0.96      0.98      0.97       189\n",
      "    147500.0       0.95      0.97      0.96        86\n",
      "    147700.0       0.99      0.99      0.99       376\n",
      "    147800.0       1.00      1.00      1.00        15\n",
      "    147900.0       0.98      0.97      0.98       113\n",
      "    148000.0       0.88      0.96      0.92        23\n",
      "    148101.0       0.93      0.81      0.87        16\n",
      "    148102.0       0.98      0.95      0.97       126\n",
      "    148200.0       0.97      1.00      0.99        39\n",
      "    148300.0       0.93      0.93      0.93        14\n",
      "    148401.0       0.86      1.00      0.93        25\n",
      "    148501.0       0.98      0.93      0.95        56\n",
      "    148600.0       0.92      0.95      0.94        64\n",
      "    148800.0       1.00      0.93      0.96        28\n",
      "    148901.0       0.91      0.87      0.89        46\n",
      "    149001.0       0.97      0.99      0.98        68\n",
      "    149100.0       0.97      1.00      0.99       104\n",
      "    149200.0       0.92      0.96      0.94        83\n",
      "    149300.0       0.93      0.93      0.93        92\n",
      "    149400.0       0.94      0.85      0.89        34\n",
      "    149500.0       1.00      0.96      0.98        79\n",
      "    149600.0       1.00      1.00      1.00        63\n",
      "    149701.0       0.77      0.56      0.65        18\n",
      "    149702.0       0.83      0.81      0.82        37\n",
      "    149800.0       0.92      0.90      0.91        52\n",
      "    150000.0       0.98      1.00      0.99        93\n",
      "    150101.0       0.99      0.97      0.98       316\n",
      "    150200.0       0.93      0.94      0.94        86\n",
      "    150301.0       0.94      0.89      0.92        19\n",
      "    150302.0       0.96      1.00      0.98       114\n",
      "    150400.0       0.83      0.92      0.87        63\n",
      "    150500.0       1.00      0.97      0.98        31\n",
      "    150600.0       0.88      0.96      0.92        24\n",
      "    150700.0       0.94      0.92      0.93        72\n",
      "    150800.0       0.97      1.00      0.99        34\n",
      "    150900.0       1.00      0.92      0.96        73\n",
      "    151000.0       0.94      0.94      0.94        51\n",
      "    151200.0       0.98      0.98      0.98        63\n",
      "    151301.0       0.99      0.99      0.99        76\n",
      "    151400.0       0.95      0.99      0.97       187\n",
      "    151500.0       0.94      1.00      0.97        60\n",
      "    151600.0       0.98      0.97      0.98       108\n",
      "    151800.0       0.95      0.97      0.96       107\n",
      "    151900.0       0.99      0.96      0.97       148\n",
      "    152000.0       0.90      0.90      0.90        49\n",
      "    152101.0       0.99      0.94      0.96       101\n",
      "    152201.0       0.96      0.88      0.92        51\n",
      "    152300.0       0.96      0.97      0.97       100\n",
      "    152400.0       0.92      0.95      0.93        37\n",
      "    152500.0       1.00      1.00      1.00         3\n",
      "    152600.0       0.94      0.83      0.88        18\n",
      "    152700.0       1.00      1.00      1.00         8\n",
      "    152800.0       0.88      0.96      0.92       140\n",
      "    152900.0       0.89      0.89      0.89         9\n",
      "    153000.0       0.95      0.99      0.97       135\n",
      "    153100.0       0.98      0.97      0.97        58\n",
      "    153200.0       0.83      0.62      0.71        16\n",
      "    153301.0       0.89      1.00      0.94        47\n",
      "    153400.0       0.92      0.96      0.94        25\n",
      "    153500.0       0.97      0.97      0.97       216\n",
      "    153600.0       0.88      0.80      0.83        44\n",
      "    153700.0       0.93      0.91      0.92        55\n",
      "    153800.0       0.86      0.85      0.85        52\n",
      "    153900.0       0.91      0.98      0.94        43\n",
      "    154001.0       1.00      0.97      0.99        38\n",
      "    154101.0       0.97      0.89      0.93        37\n",
      "    154201.0       0.91      0.83      0.87        36\n",
      "    154202.0       0.94      0.89      0.91        18\n",
      "    154300.0       0.78      0.78      0.78        18\n",
      "    154400.0       0.99      0.91      0.95       103\n",
      "    154500.0       0.92      1.00      0.96        11\n",
      "    154600.0       0.98      0.98      0.98       113\n",
      "    154701.0       0.94      0.92      0.93        36\n",
      "    154801.0       0.98      0.94      0.96        53\n",
      "    154802.0       1.00      0.97      0.98        95\n",
      "    154901.0       0.98      0.96      0.97       125\n",
      "    154902.0       0.96      0.98      0.97       122\n",
      "    155000.0       0.86      1.00      0.92         6\n",
      "    155100.0       0.93      0.90      0.92        92\n",
      "    155200.0       0.95      0.97      0.96        40\n",
      "    155301.0       0.97      1.00      0.98        28\n",
      "    155401.0       0.98      0.96      0.97        54\n",
      "    155500.0       0.98      0.98      0.98       367\n",
      "    155601.0       0.94      0.94      0.94        52\n",
      "    155602.0       0.91      0.98      0.94        86\n",
      "    155701.0       0.90      0.97      0.93       116\n",
      "    155702.0       1.00      0.86      0.92        84\n",
      "    155801.0       0.93      0.88      0.91       110\n",
      "    155901.0       0.99      0.99      0.99        69\n",
      "    156000.0       0.92      0.95      0.93       102\n",
      "    156101.0       0.83      0.81      0.82        31\n",
      "    156201.0       0.99      0.96      0.97        74\n",
      "    156301.0       1.00      0.38      0.55         8\n",
      "    156400.0       1.00      0.50      0.67         2\n",
      "    156500.0       0.93      0.99      0.96        71\n",
      "    156601.0       0.89      0.91      0.90        44\n",
      "    156700.0       0.94      0.97      0.95        63\n",
      "    156800.0       0.86      1.00      0.92        67\n",
      "    156901.0       1.00      0.89      0.94         9\n",
      "    157000.0       0.98      0.99      0.99       123\n",
      "    157101.0       0.97      0.98      0.97       216\n",
      "    157200.0       0.90      0.84      0.87        56\n",
      "    157301.0       0.97      1.00      0.99        37\n",
      "    157400.0       1.00      1.00      1.00        15\n",
      "    157500.0       0.84      0.90      0.87        42\n",
      "    157600.0       0.96      0.94      0.95       158\n",
      "    157701.0       0.99      0.96      0.98       125\n",
      "    157702.0       0.88      0.96      0.92        77\n",
      "    157800.0       1.00      1.00      1.00        11\n",
      "    157901.0       0.96      0.99      0.97       108\n",
      "    158001.0       1.00      0.70      0.82        10\n",
      "    158300.0       0.94      0.92      0.93        50\n",
      "    158401.0       0.95      0.97      0.96        39\n",
      "    158402.0       0.94      1.00      0.97        46\n",
      "    158501.0       0.96      1.00      0.98        25\n",
      "    158502.0       0.97      0.89      0.93        37\n",
      "    158700.0       1.00      0.96      0.98        74\n",
      "    158800.0       0.96      0.94      0.95        71\n",
      "    158900.0       1.00      1.00      1.00         3\n",
      "    159000.0       1.00      0.93      0.96        54\n",
      "    159101.0       0.88      1.00      0.94        22\n",
      "    159201.0       0.72      0.67      0.69        27\n",
      "    159202.0       0.87      0.93      0.90        56\n",
      "    159301.0       0.96      0.94      0.95        79\n",
      "    159401.0       1.00      1.00      1.00         5\n",
      "    159500.0       0.90      0.90      0.90        31\n",
      "    159600.0       0.93      0.97      0.95        88\n",
      "    159700.0       0.62      0.73      0.67        11\n",
      "    159801.0       0.96      0.96      0.96        27\n",
      "    159900.0       0.98      0.99      0.98        89\n",
      "    160000.0       0.95      0.86      0.90        63\n",
      "    160100.0       0.98      0.96      0.97       171\n",
      "    160201.0       0.82      0.82      0.82        11\n",
      "    160202.0       0.88      0.97      0.92        30\n",
      "    160300.0       0.95      0.97      0.96        87\n",
      "    160401.0       1.00      0.94      0.97        48\n",
      "    160501.0       0.95      0.83      0.88        23\n",
      "    160601.0       0.86      0.97      0.91        70\n",
      "    160700.0       1.00      0.90      0.95        21\n",
      "    160800.0       0.94      0.96      0.95        49\n",
      "    160901.0       0.86      0.86      0.86        42\n",
      "    160902.0       0.94      0.97      0.96       102\n",
      "    161000.0       0.89      0.95      0.92        42\n",
      "    161100.0       1.00      1.00      1.00         8\n",
      "    161201.0       0.94      0.93      0.94        73\n",
      "    161300.0       0.96      0.93      0.95        76\n",
      "    161400.0       0.97      0.98      0.97        59\n",
      "    161500.0       1.00      1.00      1.00        13\n",
      "    161600.0       0.99      0.95      0.97       114\n",
      "    161700.0       1.00      1.00      1.00       115\n",
      "    161800.0       0.95      0.95      0.95        60\n",
      "    161900.0       0.95      0.95      0.95        55\n",
      "    162000.0       1.00      1.00      1.00        14\n",
      "    162101.0       0.86      1.00      0.92         6\n",
      "    162102.0       1.00      0.75      0.86         4\n",
      "    162200.0       0.99      1.00      0.99        78\n",
      "    162300.0       0.93      0.98      0.95       128\n",
      "    162400.0       0.98      1.00      0.99        60\n",
      "    162500.0       1.00      1.00      1.00         2\n",
      "    162602.0       1.00      1.00      1.00        13\n",
      "    162701.0       0.99      1.00      0.99        72\n",
      "    162800.0       1.00      0.93      0.97        15\n",
      "    162901.0       0.97      0.91      0.94        76\n",
      "    163001.0       0.97      0.92      0.94        61\n",
      "    163100.0       0.96      0.90      0.93       101\n",
      "    163200.0       0.96      0.96      0.96       154\n",
      "    163301.0       1.00      0.87      0.93        38\n",
      "    163501.0       0.88      0.98      0.92        50\n",
      "    163502.0       0.86      0.89      0.88        47\n",
      "    163600.0       0.95      0.95      0.95        75\n",
      "    163700.0       0.95      0.98      0.96       125\n",
      "    163803.0       1.00      0.93      0.96        40\n",
      "    163901.0       0.91      0.77      0.83        13\n",
      "    163902.0       1.00      0.40      0.57         5\n",
      "    164001.0       0.88      1.00      0.94        37\n",
      "    164100.0       0.78      0.82      0.80        17\n",
      "    164201.0       0.81      0.89      0.85        19\n",
      "    164302.0       1.00      1.00      1.00        57\n",
      "    164401.0       1.00      0.83      0.91        12\n",
      "    164500.0       1.00      1.00      1.00        15\n",
      "    164601.0       0.95      0.92      0.94        89\n",
      "    164602.0       0.78      0.82      0.80        22\n",
      "    164603.0       1.00      1.00      1.00        37\n",
      "    164700.0       0.89      1.00      0.94        17\n",
      "    164800.0       0.89      1.00      0.94         8\n",
      "    164900.0       1.00      0.67      0.80         3\n",
      "    165001.0       0.98      0.98      0.98        97\n",
      "    165101.0       0.92      0.93      0.93       128\n",
      "    165200.0       0.94      1.00      0.97        15\n",
      "    165301.0       0.94      0.93      0.93        54\n",
      "    165302.0       0.86      0.90      0.88        20\n",
      "    165400.0       0.80      0.88      0.84        32\n",
      "    165501.0       0.97      0.97      0.97        30\n",
      "    165502.0       1.00      1.00      1.00         3\n",
      "    165600.0       1.00      0.94      0.97        18\n",
      "    165700.0       0.92      0.98      0.95        45\n",
      "    165800.0       0.93      1.00      0.96        13\n",
      "    165901.0       0.91      1.00      0.95        10\n",
      "    166000.0       0.98      0.94      0.96        62\n",
      "    166100.0       0.75      0.75      0.75         4\n",
      "    166200.0       0.93      0.92      0.92        73\n",
      "    166301.0       0.89      0.90      0.90        81\n",
      "    166400.0       1.00      0.95      0.97        20\n",
      "    169700.0       0.00      0.00      0.00         1\n",
      "\n",
      "    accuracy                           0.96     37248\n",
      "   macro avg       0.94      0.93      0.93     37248\n",
      "weighted avg       0.96      0.96      0.96     37248\n",
      "\n"
     ]
    }
   ],
   "source": [
    "# Initialize the kNN classifier\n",
    "knn = KNeighborsClassifier(n_neighbors=10 ,weights='distance')\n",
    "# Train the classifier on the full training set\n",
    "knn.fit(X_train, y_train)\n",
    "\n",
    "# Evaluate the classifier on the test set\n",
    "test_score = knn.score(X_test, y_test)\n",
    "print(f\"Test set score: {test_score}\")\n",
    "\n",
    "# Predict on the test set\n",
    "y_pred = knn.predict(X_test)\n",
    "\n",
    "# Print the classification report\n",
    "print(classification_report(y_test, y_pred, zero_division=0))"
   ]
  },
  {
   "cell_type": "code",
   "execution_count": 24,
   "metadata": {},
   "outputs": [],
   "source": [
    "# Predict the missing values  using the kNN model\n",
    "# Features for prediction\n",
    "X_predict = predict_df[['X', 'Y']]\n",
    "\n",
    "# Predict the missing values\n",
    "predictions = knn.predict(X_predict)"
   ]
  },
  {
   "cell_type": "code",
   "execution_count": 25,
   "metadata": {},
   "outputs": [],
   "source": [
    "# Create a new column and fill the missing values with the predicted ones\n",
    "cas_mesh_df['SA22023_V1_00_Filled'] = cas_mesh_df['SA22023_V1_00']\n",
    "\n",
    "# Fill the missing values in the original DataFrame\n",
    "cas_mesh_df.loc[cas_mesh_df['SA22023_V1_00_Filled'].isna(), 'SA22023_V1_00_Filled'] = predictions"
   ]
  },
  {
   "cell_type": "code",
   "execution_count": 26,
   "metadata": {},
   "outputs": [],
   "source": [
    "cas_mesh_df['SA22023_V1_00_Filled'] =  cas_mesh_df['SA22023_V1_00_Filled'].astype('int64')"
   ]
  },
  {
   "cell_type": "code",
   "execution_count": 50,
   "metadata": {},
   "outputs": [],
   "source": [
    "meshblock_auckland_SA2_level_df = meshblock_auckland_full_df.iloc[:,3:9]"
   ]
  },
  {
   "cell_type": "code",
   "execution_count": 51,
   "metadata": {},
   "outputs": [
    {
     "data": {
      "text/html": [
       "<div>\n",
       "<style scoped>\n",
       "    .dataframe tbody tr th:only-of-type {\n",
       "        vertical-align: middle;\n",
       "    }\n",
       "\n",
       "    .dataframe tbody tr th {\n",
       "        vertical-align: top;\n",
       "    }\n",
       "\n",
       "    .dataframe thead th {\n",
       "        text-align: right;\n",
       "    }\n",
       "</style>\n",
       "<table border=\"1\" class=\"dataframe\">\n",
       "  <thead>\n",
       "    <tr style=\"text-align: right;\">\n",
       "      <th></th>\n",
       "      <th>SA22023_V1_00</th>\n",
       "      <th>SA22023_V1_00_NAME</th>\n",
       "      <th>SA22023_V1_00_NAME_ASCII</th>\n",
       "      <th>SA32023_V1_00</th>\n",
       "      <th>SA32023_V1_00_NAME</th>\n",
       "      <th>SA32023_V1_00_NAME_ASCII</th>\n",
       "    </tr>\n",
       "  </thead>\n",
       "  <tbody>\n",
       "    <tr>\n",
       "      <th>0</th>\n",
       "      <td>135500</td>\n",
       "      <td>Ōwairaka West</td>\n",
       "      <td>Owairaka West</td>\n",
       "      <td>51440</td>\n",
       "      <td>Mount Albert</td>\n",
       "      <td>Mount Albert</td>\n",
       "    </tr>\n",
       "    <tr>\n",
       "      <th>1</th>\n",
       "      <td>136400</td>\n",
       "      <td>Parnell West</td>\n",
       "      <td>Parnell West</td>\n",
       "      <td>51200</td>\n",
       "      <td>Parnell</td>\n",
       "      <td>Parnell</td>\n",
       "    </tr>\n",
       "    <tr>\n",
       "      <th>2</th>\n",
       "      <td>169901</td>\n",
       "      <td>Tuakau Rural</td>\n",
       "      <td>Tuakau Rural</td>\n",
       "      <td>52450</td>\n",
       "      <td>Tuakau</td>\n",
       "      <td>Tuakau</td>\n",
       "    </tr>\n",
       "    <tr>\n",
       "      <th>3</th>\n",
       "      <td>164302</td>\n",
       "      <td>Drury East</td>\n",
       "      <td>Drury East</td>\n",
       "      <td>52250</td>\n",
       "      <td>Drury</td>\n",
       "      <td>Drury</td>\n",
       "    </tr>\n",
       "    <tr>\n",
       "      <th>4</th>\n",
       "      <td>164302</td>\n",
       "      <td>Drury East</td>\n",
       "      <td>Drury East</td>\n",
       "      <td>52250</td>\n",
       "      <td>Drury</td>\n",
       "      <td>Drury</td>\n",
       "    </tr>\n",
       "    <tr>\n",
       "      <th>...</th>\n",
       "      <td>...</td>\n",
       "      <td>...</td>\n",
       "      <td>...</td>\n",
       "      <td>...</td>\n",
       "      <td>...</td>\n",
       "      <td>...</td>\n",
       "    </tr>\n",
       "    <tr>\n",
       "      <th>14611</th>\n",
       "      <td>110800</td>\n",
       "      <td>Kaipara Hills</td>\n",
       "      <td>Kaipara Hills</td>\n",
       "      <td>50410</td>\n",
       "      <td>Rodney East</td>\n",
       "      <td>Rodney East</td>\n",
       "    </tr>\n",
       "    <tr>\n",
       "      <th>14612</th>\n",
       "      <td>110800</td>\n",
       "      <td>Kaipara Hills</td>\n",
       "      <td>Kaipara Hills</td>\n",
       "      <td>50410</td>\n",
       "      <td>Rodney East</td>\n",
       "      <td>Rodney East</td>\n",
       "    </tr>\n",
       "    <tr>\n",
       "      <th>14613</th>\n",
       "      <td>110800</td>\n",
       "      <td>Kaipara Hills</td>\n",
       "      <td>Kaipara Hills</td>\n",
       "      <td>50410</td>\n",
       "      <td>Rodney East</td>\n",
       "      <td>Rodney East</td>\n",
       "    </tr>\n",
       "    <tr>\n",
       "      <th>14614</th>\n",
       "      <td>110800</td>\n",
       "      <td>Kaipara Hills</td>\n",
       "      <td>Kaipara Hills</td>\n",
       "      <td>50410</td>\n",
       "      <td>Rodney East</td>\n",
       "      <td>Rodney East</td>\n",
       "    </tr>\n",
       "    <tr>\n",
       "      <th>14615</th>\n",
       "      <td>110800</td>\n",
       "      <td>Kaipara Hills</td>\n",
       "      <td>Kaipara Hills</td>\n",
       "      <td>50410</td>\n",
       "      <td>Rodney East</td>\n",
       "      <td>Rodney East</td>\n",
       "    </tr>\n",
       "  </tbody>\n",
       "</table>\n",
       "<p>14616 rows × 6 columns</p>\n",
       "</div>"
      ],
      "text/plain": [
       "       SA22023_V1_00 SA22023_V1_00_NAME SA22023_V1_00_NAME_ASCII  \\\n",
       "0             135500      Ōwairaka West            Owairaka West   \n",
       "1             136400       Parnell West             Parnell West   \n",
       "2             169901       Tuakau Rural             Tuakau Rural   \n",
       "3             164302         Drury East               Drury East   \n",
       "4             164302         Drury East               Drury East   \n",
       "...              ...                ...                      ...   \n",
       "14611         110800      Kaipara Hills            Kaipara Hills   \n",
       "14612         110800      Kaipara Hills            Kaipara Hills   \n",
       "14613         110800      Kaipara Hills            Kaipara Hills   \n",
       "14614         110800      Kaipara Hills            Kaipara Hills   \n",
       "14615         110800      Kaipara Hills            Kaipara Hills   \n",
       "\n",
       "       SA32023_V1_00 SA32023_V1_00_NAME SA32023_V1_00_NAME_ASCII  \n",
       "0              51440       Mount Albert             Mount Albert  \n",
       "1              51200            Parnell                  Parnell  \n",
       "2              52450             Tuakau                   Tuakau  \n",
       "3              52250              Drury                    Drury  \n",
       "4              52250              Drury                    Drury  \n",
       "...              ...                ...                      ...  \n",
       "14611          50410        Rodney East              Rodney East  \n",
       "14612          50410        Rodney East              Rodney East  \n",
       "14613          50410        Rodney East              Rodney East  \n",
       "14614          50410        Rodney East              Rodney East  \n",
       "14615          50410        Rodney East              Rodney East  \n",
       "\n",
       "[14616 rows x 6 columns]"
      ]
     },
     "execution_count": 51,
     "metadata": {},
     "output_type": "execute_result"
    }
   ],
   "source": [
    "meshblock_auckland_SA2_level_df"
   ]
  },
  {
   "cell_type": "code",
   "execution_count": 52,
   "metadata": {},
   "outputs": [],
   "source": [
    "meshblock_auckland_SA2_level_df = meshblock_auckland_SA2_level_df.drop_duplicates()"
   ]
  },
  {
   "cell_type": "code",
   "execution_count": 56,
   "metadata": {},
   "outputs": [],
   "source": [
    "# Add the filled in SA2 column to the meshblock data set\n",
    "cas_mesh_merged_df = pd.merge(cas_mesh_df,meshblock_auckland_SA2_level_df, left_on='SA22023_V1_00_Filled', right_on='SA22023_V1_00', how='left')\n"
   ]
  },
  {
   "cell_type": "code",
   "execution_count": 62,
   "metadata": {},
   "outputs": [
    {
     "data": {
      "text/plain": [
       "0"
      ]
     },
     "execution_count": 62,
     "metadata": {},
     "output_type": "execute_result"
    }
   ],
   "source": [
    "cas_mesh_merged_df['SA22023_V1_00_NAME_ASCII_y'].isna().sum()"
   ]
  },
  {
   "cell_type": "code",
   "execution_count": 63,
   "metadata": {},
   "outputs": [],
   "source": [
    "cas_mesh_merged_df = cas_mesh_merged_df.drop(columns=['SA22023_V1_00_NAME_ASCII_x','SA22023_V1_00_y'])"
   ]
  },
  {
   "cell_type": "code",
   "execution_count": 65,
   "metadata": {},
   "outputs": [],
   "source": [
    "cas_mesh_merged_df = cas_mesh_merged_df.rename(columns={'SA22023_V1_00_x' : 'SA22023_V1_00_original', 'SA22023_V1_00_NAME_ASCII_y':'SA22023_V1_00_NAME_ASCII'})"
   ]
  },
  {
   "cell_type": "code",
   "execution_count": 67,
   "metadata": {},
   "outputs": [],
   "source": [
    "cas_mesh_merged_df.to_csv('cas_merged_with_SA2_data.csv', index=False)"
   ]
  },
  {
   "cell_type": "code",
   "execution_count": 68,
   "metadata": {},
   "outputs": [
    {
     "data": {
      "text/plain": [
       "593"
      ]
     },
     "execution_count": 68,
     "metadata": {},
     "output_type": "execute_result"
    }
   ],
   "source": [
    "cas_mesh_merged_df['SA22023_V1_00_NAME_ASCII'].nunique()"
   ]
  },
  {
   "cell_type": "code",
   "execution_count": 69,
   "metadata": {},
   "outputs": [
    {
     "data": {
      "text/plain": [
       "192"
      ]
     },
     "execution_count": 69,
     "metadata": {},
     "output_type": "execute_result"
    }
   ],
   "source": [
    "cas_mesh_merged_df['SA32023_V1_00_NAME_ASCII'].nunique()"
   ]
  },
  {
   "cell_type": "code",
   "execution_count": null,
   "metadata": {},
   "outputs": [],
   "source": []
  }
 ],
 "metadata": {
  "kernelspec": {
   "display_name": "base",
   "language": "python",
   "name": "python3"
  },
  "language_info": {
   "codemirror_mode": {
    "name": "ipython",
    "version": 3
   },
   "file_extension": ".py",
   "mimetype": "text/x-python",
   "name": "python",
   "nbconvert_exporter": "python",
   "pygments_lexer": "ipython3",
   "version": "3.11.5"
  }
 },
 "nbformat": 4,
 "nbformat_minor": 2
}
