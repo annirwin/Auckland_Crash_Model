{
 "cells": [
  {
   "cell_type": "code",
   "execution_count": 1,
   "id": "9ec583ab",
   "metadata": {},
   "outputs": [],
   "source": [
    "import openmeteo_requests\n",
    "\n",
    "import requests_cache\n",
    "import pandas as pd\n",
    "from retry_requests import retry\n",
    "import openmeteo_requests\n",
    "\n",
    "import requests_cache\n",
    "from retry_requests import retry\n",
    "\n",
    "from shapely import wkt\n",
    "from shapely.geometry import Point\n",
    "import geopandas as gpd\n",
    "\n",
    "import warnings\n",
    "\n",
    "warnings.filterwarnings('ignore')\n",
    "\n",
    "from pyproj import Proj, transform\n",
    "import datetime as dt\n",
    "\n",
    "import requests_cache\n",
    "from requests.adapters import HTTPAdapter\n",
    "from requests.packages.urllib3.util.retry import Retry\n",
    "from openmeteo_requests import Client\n",
    "import numpy as np"
   ]
  },
  {
   "cell_type": "markdown",
   "id": "7660cf1a",
   "metadata": {},
   "source": [
    "## Calculate centroids for each meshblock to get coordinates"
   ]
  },
  {
   "cell_type": "markdown",
   "id": "088e46fd",
   "metadata": {},
   "source": [
    "Calculate the centroid of each aggregate the centroids of the meshblocks.\n",
    "\n",
    "By calculating the centroid, we are essentially representing the entire meshblock by a single point, which is the geometric center of the meshblock.\n",
    "\n",
    "If we need to retrieve weather data for the entire area of the meshblock, using the centroid as a representative point is a common and practical approach I feel. \n",
    "\n",
    "If the area is small or the weather conditions are expected to be relatively uniform across the meshblock, this approach can be quite effective. "
   ]
  },
  {
   "cell_type": "code",
   "execution_count": 2,
   "id": "c7c83266",
   "metadata": {},
   "outputs": [
    {
     "data": {
      "text/html": [
       "<div>\n",
       "<style scoped>\n",
       "    .dataframe tbody tr th:only-of-type {\n",
       "        vertical-align: middle;\n",
       "    }\n",
       "\n",
       "    .dataframe tbody tr th {\n",
       "        vertical-align: top;\n",
       "    }\n",
       "\n",
       "    .dataframe thead th {\n",
       "        text-align: right;\n",
       "    }\n",
       "</style>\n",
       "<table border=\"1\" class=\"dataframe\">\n",
       "  <thead>\n",
       "    <tr style=\"text-align: right;\">\n",
       "      <th></th>\n",
       "      <th>MB2024_V1_00</th>\n",
       "      <th>latitude</th>\n",
       "      <th>longitude</th>\n",
       "      <th>SA12023_V1_00</th>\n",
       "      <th>SA22023_V1_00</th>\n",
       "      <th>SA32023_V1_00</th>\n",
       "    </tr>\n",
       "  </thead>\n",
       "  <tbody>\n",
       "    <tr>\n",
       "      <th>0</th>\n",
       "      <td>4019145</td>\n",
       "      <td>-36.899286</td>\n",
       "      <td>174.716277</td>\n",
       "      <td>7037220</td>\n",
       "      <td>135500</td>\n",
       "      <td>51440</td>\n",
       "    </tr>\n",
       "    <tr>\n",
       "      <th>1</th>\n",
       "      <td>4001328</td>\n",
       "      <td>-36.852361</td>\n",
       "      <td>174.777485</td>\n",
       "      <td>7037219</td>\n",
       "      <td>136400</td>\n",
       "      <td>51200</td>\n",
       "    </tr>\n",
       "    <tr>\n",
       "      <th>2</th>\n",
       "      <td>827902</td>\n",
       "      <td>-37.218339</td>\n",
       "      <td>174.943047</td>\n",
       "      <td>7032417</td>\n",
       "      <td>169901</td>\n",
       "      <td>52450</td>\n",
       "    </tr>\n",
       "    <tr>\n",
       "      <th>3</th>\n",
       "      <td>4014920</td>\n",
       "      <td>-37.100411</td>\n",
       "      <td>174.946908</td>\n",
       "      <td>7032175</td>\n",
       "      <td>164302</td>\n",
       "      <td>52250</td>\n",
       "    </tr>\n",
       "    <tr>\n",
       "      <th>4</th>\n",
       "      <td>4004236</td>\n",
       "      <td>-37.093404</td>\n",
       "      <td>174.951154</td>\n",
       "      <td>7010152</td>\n",
       "      <td>164302</td>\n",
       "      <td>52250</td>\n",
       "    </tr>\n",
       "  </tbody>\n",
       "</table>\n",
       "</div>"
      ],
      "text/plain": [
       "   MB2024_V1_00   latitude   longitude  SA12023_V1_00  SA22023_V1_00  \\\n",
       "0       4019145 -36.899286  174.716277        7037220         135500   \n",
       "1       4001328 -36.852361  174.777485        7037219         136400   \n",
       "2        827902 -37.218339  174.943047        7032417         169901   \n",
       "3       4014920 -37.100411  174.946908        7032175         164302   \n",
       "4       4004236 -37.093404  174.951154        7010152         164302   \n",
       "\n",
       "   SA32023_V1_00  \n",
       "0          51440  \n",
       "1          51200  \n",
       "2          52450  \n",
       "3          52250  \n",
       "4          52250  "
      ]
     },
     "execution_count": 2,
     "metadata": {},
     "output_type": "execute_result"
    }
   ],
   "source": [
    "file_path = 'meshblocks-auckland-higher.csv'\n",
    "meshblock_data = pd.read_csv(file_path)\n",
    "\n",
    "# Parse the WKT column to extract geometries\n",
    "meshblock_data['geometry'] = meshblock_data['WKT'].apply(wkt.loads)\n",
    "\n",
    "# Convert to a GeoDataFrame\n",
    "gdf = gpd.GeoDataFrame(meshblock_data, geometry='geometry')\n",
    "\n",
    "# Set the initial CRS to EPSG:2193 (modify this if different)\n",
    "gdf.set_crs(epsg=2193, inplace=True)\n",
    "\n",
    "# Convert to WGS 84 (latitude and longitude)\n",
    "gdf = gdf.to_crs(epsg=4326)\n",
    "\n",
    "# Calculate centroids for each geometry\n",
    "gdf['centroid'] = gdf['geometry'].centroid\n",
    "\n",
    "# Extract latitude and longitude from centroids\n",
    "gdf['latitude'] = gdf['centroid'].apply(lambda x: x.y)\n",
    "gdf['longitude'] = gdf['centroid'].apply(lambda x: x.x)\n",
    "\n",
    "# Display the data with centroids\n",
    "meshblock_centroids = gdf[['MB2024_V1_00', 'latitude', 'longitude', 'SA12023_V1_00', 'SA22023_V1_00', 'SA32023_V1_00']]\n",
    "meshblock_centroids.head()\n"
   ]
  },
  {
   "cell_type": "markdown",
   "id": "179d9d33",
   "metadata": {},
   "source": [
    "Remove duplicate SA2 values "
   ]
  },
  {
   "cell_type": "code",
   "execution_count": 3,
   "id": "03506867",
   "metadata": {},
   "outputs": [],
   "source": [
    "# Remove duplicate rows based on 'SA22023_V1_00'\n",
    "SA2_SA3_unique = meshblock_centroids.drop_duplicates(subset=['SA22023_V1_00'])"
   ]
  },
  {
   "cell_type": "markdown",
   "id": "783cf28e",
   "metadata": {},
   "source": [
    "Run weather API for all SA2, SA3 values "
   ]
  },
  {
   "cell_type": "code",
   "execution_count": 32,
   "id": "f21f6870",
   "metadata": {},
   "outputs": [],
   "source": [
    "# Set up the Open-Meteo API client with cache and retry on error\n",
    "cache_session = requests_cache.CachedSession('.cache', expire_after=3600)\n",
    "retry_strategy = Retry(total=5, backoff_factor=0.2, status_forcelist=[429, 500, 502, 503, 504])\n",
    "adapter = HTTPAdapter(max_retries=retry_strategy)\n",
    "cache_session.mount(\"https://\", adapter)\n",
    "cache_session.mount(\"http://\", adapter)\n",
    "openmeteo = Client(session=cache_session)\n",
    "\n",
    "# Define a function to get weather data for a given latitude and longitude\n",
    "def get_weather_data(latitude, longitude):\n",
    "    url = \"https://api.open-meteo.com/v1/forecast\"\n",
    "    params = {\n",
    "        \"latitude\": latitude,\n",
    "        \"longitude\": longitude,\n",
    "        \"daily\": [\"weather_code\", \"temperature_2m_min\", \"wind_speed_10m_max\"],\n",
    "        \"timezone\": \"Pacific/Auckland\",\n",
    "        \"forecast_days\": 14\n",
    "    }\n",
    "    response = openmeteo.weather_api(url, params=params)[0]\n",
    "    \n",
    "    daily = response.Daily()\n",
    "    daily_data = {\n",
    "        \"date\": pd.date_range(\n",
    "            start=pd.to_datetime(daily.Time(), unit=\"s\", utc=True),\n",
    "            end=pd.to_datetime(daily.TimeEnd(), unit=\"s\", utc=True),\n",
    "            freq=pd.Timedelta(seconds=daily.Interval()),\n",
    "            inclusive=\"left\"\n",
    "        ),\n",
    "        \"weather_code\": daily.Variables(0).ValuesAsNumpy(),\n",
    "        \"temperature_2m_min\": daily.Variables(1).ValuesAsNumpy(),\n",
    "        \"wind_speed_10m_max\": daily.Variables(2).ValuesAsNumpy()\n",
    "    }\n",
    "    return pd.DataFrame(data=daily_data)\n",
    "\n",
    "# Initialize an empty list to store the weather data for all locations\n",
    "all_weather_data = []\n",
    "\n",
    "# Loop through each unique SA22023_V1_00 value and get the weather data\n",
    "for index, row in SA2_SA3_unique.iterrows():\n",
    "    latitude = row['latitude']\n",
    "    longitude = row['longitude']\n",
    "    sa22023_v1_00 = row['SA22023_V1_00']\n",
    "    sa32023_v1_00 = row['SA32023_V1_00']\n",
    "    \n",
    "    # Fetch weather data\n",
    "    weather_data = get_weather_data(latitude, longitude)\n",
    "    \n",
    "    # Add the SA22023_V1_00 value to the weather data\n",
    "    weather_data['SA22023_V1_00'] = sa22023_v1_00\n",
    "    weather_data['SA32023_V1_00'] = sa32023_v1_00\n",
    "    \n",
    "    # Append to the list\n",
    "    all_weather_data.append(weather_data)\n",
    "\n",
    "# Combine all the weather data into a single DataFrame\n",
    "combined_weather_data = pd.concat(all_weather_data, ignore_index=True)\n",
    "\n",
    "# Display the combined weather data\n",
    "#import ace_tools as tools; tools.display_dataframe_to_user(name=\"Combined Weather Data\", dataframe=combined_weather_data)\n",
    "\n",
    "\n"
   ]
  },
  {
   "cell_type": "code",
   "execution_count": 38,
   "id": "ac48a8f2",
   "metadata": {},
   "outputs": [],
   "source": [
    "combined_weather_data['SA22023_V1_00'] = combined_weather_data['SA22023_V1_00'].astype(int)\n",
    "combined_weather_data['SA32023_V1_00'] = combined_weather_data['SA32023_V1_00'].astype(int)"
   ]
  },
  {
   "cell_type": "markdown",
   "id": "dea672cb",
   "metadata": {},
   "source": [
    "Mapping weather codes to CAS weatherA and weatehrB"
   ]
  },
  {
   "cell_type": "code",
   "execution_count": 41,
   "id": "61ec3f8c",
   "metadata": {
    "scrolled": true
   },
   "outputs": [],
   "source": [
    "# Define mapping functions for weatherA, based on weather_code from open-meteo and filtered date\n",
    "def map_to_weatherA(row):\n",
    "    if row['weather_code'] in [71, 73, 75, 77, 85, 86]:\n",
    "        return 'Snow'\n",
    "    elif row['weather_code'] in [63, 65, 81, 82, 95]:\n",
    "        return 'Heavy rain'\n",
    "    elif row['weather_code'] in [51, 53, 55, 56, 57, 61, 80]:\n",
    "        return 'Light rain'\n",
    "    elif row['weather_code'] in [66, 67, 96, 99]:\n",
    "        return 'Hail or Sleet'\n",
    "    elif row['weather_code'] in [45, 48]:\n",
    "        return 'Mist or Fog'\n",
    "    else:\n",
    "        return 'Fine'\n",
    "\n",
    "#for weatherB, based on wind speed and temperature. \n",
    "def map_to_weatherB(row):\n",
    "    if row['wind_speed_10m_max'] > 30:\n",
    "        return 'Strong wind'\n",
    "    elif row['temperature_2m_min'] <= 0:\n",
    "        return 'Frost'\n",
    "    else:\n",
    "        return 'None'\n",
    "    \n",
    "for index, row in combined_weather_data.iterrows():\n",
    "\n",
    "# Apply the mapping functions\n",
    "    combined_weather_data['weatherA'] = combined_weather_data.apply(map_to_weatherA, axis=1)\n",
    "    combined_weather_data['weatherB'] = combined_weather_data.apply(map_to_weatherB, axis=1)\n",
    "    combined_weather_data['light'] = 'day'\n",
    "# extract date only\n",
    "    combined_weather_data['date'] = pd.to_datetime(combined_weather_data['date'])\n",
    "    combined_weather_data['date'] = combined_weather_data['date'].dt.date\n"
   ]
  },
  {
   "cell_type": "markdown",
   "id": "1dfd3603",
   "metadata": {},
   "source": [
    "Generate light condition for 'night' and combine two datasets"
   ]
  },
  {
   "cell_type": "code",
   "execution_count": 51,
   "id": "0796fb48",
   "metadata": {},
   "outputs": [
    {
     "name": "stdout",
     "output_type": "stream",
     "text": [
      "            date  SA22023_V1_00  SA32023_V1_00    weatherA     weatherB  light\n",
      "0     2024-05-28         135500          51440  Heavy rain  Strong wind  night\n",
      "1     2024-05-29         135500          51440        Fine  Strong wind  night\n",
      "2     2024-05-30         135500          51440        Fine         None  night\n",
      "3     2024-05-31         135500          51440        Fine         None  night\n",
      "4     2024-06-01         135500          51440        Fine         None  night\n",
      "...          ...            ...            ...         ...          ...    ...\n",
      "8717  2024-06-06         112901          50480  Light rain         None  night\n",
      "8718  2024-06-07         112901          50480        Fine         None  night\n",
      "8719  2024-06-08         112901          50480        Fine         None  night\n",
      "8720  2024-06-09         112901          50480        Fine         None  night\n",
      "8721  2024-06-10         112901          50480        Fine         None  night\n",
      "\n",
      "[8722 rows x 6 columns]\n"
     ]
    }
   ],
   "source": [
    "result_day = combined_weather_data[['date', 'SA22023_V1_00','SA32023_V1_00','weatherA','weatherB', 'light']]\n",
    "result_night = combined_weather_data.copy()\n",
    "\n",
    "for index, row in result_night.iterrows():\n",
    "\n",
    "    result_night['light'] = 'night'\n",
    "    result_night = result_night[['date', 'SA22023_V1_00','SA32023_V1_00','weatherA', 'weatherB', 'light']]\n",
    "#print(result_day)\n",
    "#print(result_night)\n",
    "combined_result = pd.concat([result_day, result_night], ignore_index=True)\n",
    "\n",
    "# Sort the DataFrame by 'date' and then by 'light' to ensure 'Day' comes before 'Night'\n",
    "combined_result.sort_values(by=['date'], ascending=[True], inplace=True)\n",
    "\n",
    "# Reset index after sorting\n",
    "combined_result.reset_index(drop=True, inplace=True)\n",
    "\n",
    "#combined_result.to_csv('weather_forecaset_sa3.csv', index=False)\n",
    "combined_result\n"
   ]
  },
  {
   "cell_type": "code",
   "execution_count": 65,
   "id": "bf87a331",
   "metadata": {},
   "outputs": [],
   "source": [
    "combined_result.to_csv('weather_forecaset_all.csv', index=False)\n"
   ]
  },
  {
   "cell_type": "code",
   "execution_count": null,
   "id": "a14a5a25",
   "metadata": {},
   "outputs": [],
   "source": []
  },
  {
   "cell_type": "code",
   "execution_count": null,
   "id": "c428ea2a",
   "metadata": {},
   "outputs": [],
   "source": []
  }
 ],
 "metadata": {
  "kernelspec": {
   "display_name": "Python 3 (ipykernel)",
   "language": "python",
   "name": "python3"
  },
  "language_info": {
   "codemirror_mode": {
    "name": "ipython",
    "version": 3
   },
   "file_extension": ".py",
   "mimetype": "text/x-python",
   "name": "python",
   "nbconvert_exporter": "python",
   "pygments_lexer": "ipython3",
   "version": "3.10.13"
  }
 },
 "nbformat": 4,
 "nbformat_minor": 5
}
