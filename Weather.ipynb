{
 "cells": [
  {
   "cell_type": "code",
   "execution_count": 37,
   "id": "9463e876",
   "metadata": {},
   "outputs": [],
   "source": [
    "import openmeteo_requests\n",
    "\n",
    "import requests_cache\n",
    "import pandas as pd\n",
    "from retry_requests import retry\n",
    "import openmeteo_requests\n",
    "\n",
    "import requests_cache\n",
    "from retry_requests import retry\n",
    "\n",
    "from shapely import wkt\n",
    "from shapely.geometry import Point\n",
    "import geopandas as gpd\n",
    "\n",
    "import warnings\n",
    "\n",
    "warnings.filterwarnings('ignore')"
   ]
  },
  {
   "cell_type": "markdown",
   "id": "682c6a84",
   "metadata": {},
   "source": [
    "## Calculate centroids for each meshblock to get coordinates"
   ]
  },
  {
   "cell_type": "markdown",
   "id": "02383d4a",
   "metadata": {},
   "source": [
    "Calculate the centroid of each aggregate the centroids of the meshblocks.\n",
    "\n",
    "By calculating the centroid, we are essentially representing the entire meshblock by a single point, which is the geometric center of the meshblock.\n",
    "\n",
    "If we need to retrieve weather data for the entire area of the meshblock, using the centroid as a representative point is a common and practical approach I feel. \n",
    "\n",
    "If the area is small or the weather conditions are expected to be relatively uniform across the meshblock, this approach can be quite effective. \n",
    "\n",
    "I think this should be good enough to get weather information on each Meshblock. \n"
   ]
  },
  {
   "cell_type": "code",
   "execution_count": 39,
   "id": "957ab8b4",
   "metadata": {},
   "outputs": [
    {
     "data": {
      "text/html": [
       "<div>\n",
       "<style scoped>\n",
       "    .dataframe tbody tr th:only-of-type {\n",
       "        vertical-align: middle;\n",
       "    }\n",
       "\n",
       "    .dataframe tbody tr th {\n",
       "        vertical-align: top;\n",
       "    }\n",
       "\n",
       "    .dataframe thead th {\n",
       "        text-align: right;\n",
       "    }\n",
       "</style>\n",
       "<table border=\"1\" class=\"dataframe\">\n",
       "  <thead>\n",
       "    <tr style=\"text-align: right;\">\n",
       "      <th></th>\n",
       "      <th>MB2022_V1_00</th>\n",
       "      <th>latitude</th>\n",
       "      <th>longitude</th>\n",
       "      <th>SA12022_V1_00</th>\n",
       "      <th>SA22022_V1_00</th>\n",
       "    </tr>\n",
       "  </thead>\n",
       "  <tbody>\n",
       "    <tr>\n",
       "      <th>0</th>\n",
       "      <td>834501</td>\n",
       "      <td>-37.177258</td>\n",
       "      <td>174.756727</td>\n",
       "      <td>7010308</td>\n",
       "      <td>162400</td>\n",
       "    </tr>\n",
       "    <tr>\n",
       "      <th>1</th>\n",
       "      <td>4006106</td>\n",
       "      <td>-36.571222</td>\n",
       "      <td>174.446321</td>\n",
       "      <td>7001366</td>\n",
       "      <td>111600</td>\n",
       "    </tr>\n",
       "    <tr>\n",
       "      <th>2</th>\n",
       "      <td>150104</td>\n",
       "      <td>-36.744939</td>\n",
       "      <td>174.749479</td>\n",
       "      <td>7003017</td>\n",
       "      <td>120800</td>\n",
       "    </tr>\n",
       "    <tr>\n",
       "      <th>3</th>\n",
       "      <td>165300</td>\n",
       "      <td>-36.701332</td>\n",
       "      <td>174.742409</td>\n",
       "      <td>7002042</td>\n",
       "      <td>117500</td>\n",
       "    </tr>\n",
       "    <tr>\n",
       "      <th>4</th>\n",
       "      <td>146300</td>\n",
       "      <td>-36.528864</td>\n",
       "      <td>174.451400</td>\n",
       "      <td>7001186</td>\n",
       "      <td>110800</td>\n",
       "    </tr>\n",
       "  </tbody>\n",
       "</table>\n",
       "</div>"
      ],
      "text/plain": [
       "   MB2022_V1_00   latitude   longitude  SA12022_V1_00  SA22022_V1_00\n",
       "0        834501 -37.177258  174.756727        7010308         162400\n",
       "1       4006106 -36.571222  174.446321        7001366         111600\n",
       "2        150104 -36.744939  174.749479        7003017         120800\n",
       "3        165300 -36.701332  174.742409        7002042         117500\n",
       "4        146300 -36.528864  174.451400        7001186         110800"
      ]
     },
     "execution_count": 39,
     "metadata": {},
     "output_type": "execute_result"
    }
   ],
   "source": [
    "file_path = 'meshblocks-auckland.csv'\n",
    "meshblock_data = pd.read_csv(file_path)\n",
    "\n",
    "# Parse the WKT column to extract geometries\n",
    "meshblock_data['geometry'] = meshblock_data['WKT'].apply(wkt.loads)\n",
    "\n",
    "# Convert to a GeoDataFrame\n",
    "gdf = gpd.GeoDataFrame(meshblock_data, geometry='geometry')\n",
    "\n",
    "# Set the initial CRS to EPSG:2193 (modify this if different)\n",
    "gdf.set_crs(epsg=2193, inplace=True)\n",
    "\n",
    "# Convert to WGS 84 (latitude and longitude)\n",
    "gdf = gdf.to_crs(epsg=4326)\n",
    "\n",
    "# Calculate centroids for each geometry\n",
    "gdf['centroid'] = gdf['geometry'].centroid\n",
    "\n",
    "# Extract latitude and longitude from centroids\n",
    "gdf['latitude'] = gdf['centroid'].apply(lambda x: x.y)\n",
    "gdf['longitude'] = gdf['centroid'].apply(lambda x: x.x)\n",
    "\n",
    "# Display the data with centroids\n",
    "meshblock_centroids = gdf[['MB2022_V1_00', 'latitude', 'longitude', 'SA12022_V1_00', 'SA22022_V1_00']]\n",
    "meshblock_centroids.head()\n"
   ]
  },
  {
   "cell_type": "markdown",
   "id": "c3369444",
   "metadata": {},
   "source": [
    "## Aggregate centroids by MB2022_V1_00, SA12022 and SA22022\n"
   ]
  },
  {
   "cell_type": "code",
   "execution_count": 40,
   "id": "37e4fc22",
   "metadata": {},
   "outputs": [
    {
     "data": {
      "text/plain": [
       "(   MB2022_V1_00   latitude   longitude\n",
       " 0        146005 -36.447005  174.637796\n",
       " 1        146104 -36.448109  174.671632\n",
       " 2        146300 -36.528864  174.451400\n",
       " 3        146400 -36.519188  174.492346\n",
       " 4        146500 -36.502879  174.534495,\n",
       "    SA12022_V1_00   latitude   longitude\n",
       " 0        7001184 -36.464253  174.440685\n",
       " 1        7001186 -36.528864  174.451400\n",
       " 2        7001188 -36.483557  174.475554\n",
       " 3        7001189 -36.556407  174.488362\n",
       " 4        7001190 -36.519188  174.492346,\n",
       "    SA22022_V1_00   latitude   longitude\n",
       " 0         110700 -36.685651  174.414821\n",
       " 1         110800 -36.515263  174.510876\n",
       " 2         111200 -36.508434  174.652716\n",
       " 3         111600 -36.610850  174.493627\n",
       " 4         112100 -36.567242  174.648233)"
      ]
     },
     "execution_count": 40,
     "metadata": {},
     "output_type": "execute_result"
    }
   ],
   "source": [
    "# Aggregate centroids by Mesh MB2022_V1_00\n",
    "mesh_centroid = meshblock_centroids.groupby('MB2022_V1_00').agg({\n",
    "    'latitude': 'mean',\n",
    "    'longitude': 'mean'\n",
    "}).reset_index()\n",
    "mesh_centroid.head()\n",
    "\n",
    "# Aggregate centroids by SA12022\n",
    "sa1_centroids = meshblock_centroids.groupby('SA12022_V1_00').agg({\n",
    "    'latitude': 'mean',\n",
    "    'longitude': 'mean'\n",
    "}).reset_index()\n",
    "\n",
    "# Aggregate centroids by SA22022\n",
    "sa2_centroids = meshblock_centroids.groupby('SA22022_V1_00').agg({\n",
    "    'latitude': 'mean',\n",
    "    'longitude': 'mean'\n",
    "}).reset_index()\n",
    "\n",
    "# Display aggregated centroids\n",
    "mesh_centroid.head(),sa1_centroids.head(), sa2_centroids.head()\n"
   ]
  },
  {
   "cell_type": "markdown",
   "id": "7afc43e0",
   "metadata": {},
   "source": [
    "## Get centroid co-ordinates from Meshblock, SA1, SA2 number\n"
   ]
  },
  {
   "cell_type": "markdown",
   "id": "c2b7b6f2",
   "metadata": {},
   "source": [
    "It depends on which level we want to use Mesh Block, SA1 or SA2"
   ]
  },
  {
   "cell_type": "markdown",
   "id": "50951d80",
   "metadata": {},
   "source": [
    "Example: find by Mesh, let say we want to find mesh 834501"
   ]
  },
  {
   "cell_type": "code",
   "execution_count": 41,
   "id": "aef00aa1",
   "metadata": {},
   "outputs": [
    {
     "data": {
      "text/html": [
       "<div>\n",
       "<style scoped>\n",
       "    .dataframe tbody tr th:only-of-type {\n",
       "        vertical-align: middle;\n",
       "    }\n",
       "\n",
       "    .dataframe tbody tr th {\n",
       "        vertical-align: top;\n",
       "    }\n",
       "\n",
       "    .dataframe thead th {\n",
       "        text-align: right;\n",
       "    }\n",
       "</style>\n",
       "<table border=\"1\" class=\"dataframe\">\n",
       "  <thead>\n",
       "    <tr style=\"text-align: right;\">\n",
       "      <th></th>\n",
       "      <th>latitude</th>\n",
       "      <th>longitude</th>\n",
       "    </tr>\n",
       "  </thead>\n",
       "  <tbody>\n",
       "    <tr>\n",
       "      <th>9494</th>\n",
       "      <td>-37.177258</td>\n",
       "      <td>174.756727</td>\n",
       "    </tr>\n",
       "  </tbody>\n",
       "</table>\n",
       "</div>"
      ],
      "text/plain": [
       "       latitude   longitude\n",
       "9494 -37.177258  174.756727"
      ]
     },
     "execution_count": 41,
     "metadata": {},
     "output_type": "execute_result"
    }
   ],
   "source": [
    "mesh_code = 834501\n",
    "mesh_coordinates = mesh_centroids[mesh_centroids['MB2022_V1_00'] == mesh_code][['latitude', 'longitude']]\n",
    "mesh_coordinates "
   ]
  },
  {
   "cell_type": "markdown",
   "id": "1e9ec3a4",
   "metadata": {},
   "source": [
    "Find by SA1, Let's assume we want SA1 = 7001186"
   ]
  },
  {
   "cell_type": "code",
   "execution_count": 42,
   "id": "70b0d0b6",
   "metadata": {},
   "outputs": [
    {
     "data": {
      "text/html": [
       "<div>\n",
       "<style scoped>\n",
       "    .dataframe tbody tr th:only-of-type {\n",
       "        vertical-align: middle;\n",
       "    }\n",
       "\n",
       "    .dataframe tbody tr th {\n",
       "        vertical-align: top;\n",
       "    }\n",
       "\n",
       "    .dataframe thead th {\n",
       "        text-align: right;\n",
       "    }\n",
       "</style>\n",
       "<table border=\"1\" class=\"dataframe\">\n",
       "  <thead>\n",
       "    <tr style=\"text-align: right;\">\n",
       "      <th></th>\n",
       "      <th>latitude</th>\n",
       "      <th>longitude</th>\n",
       "    </tr>\n",
       "  </thead>\n",
       "  <tbody>\n",
       "    <tr>\n",
       "      <th>1</th>\n",
       "      <td>-36.528864</td>\n",
       "      <td>174.4514</td>\n",
       "    </tr>\n",
       "  </tbody>\n",
       "</table>\n",
       "</div>"
      ],
      "text/plain": [
       "    latitude  longitude\n",
       "1 -36.528864   174.4514"
      ]
     },
     "execution_count": 42,
     "metadata": {},
     "output_type": "execute_result"
    }
   ],
   "source": [
    "sa1_code = 7001186\n",
    "SA1_coordinates = sa1_centroids[sa1_centroids['SA12022_V1_00'] == sa1_code][['latitude', 'longitude']]\n",
    "\n",
    "SA1_coordinates"
   ]
  },
  {
   "cell_type": "markdown",
   "id": "e015fcd8",
   "metadata": {},
   "source": [
    "## Pass coordinates to weather code"
   ]
  },
  {
   "cell_type": "markdown",
   "id": "08d578a7",
   "metadata": {},
   "source": [
    "7 days prediction"
   ]
  },
  {
   "cell_type": "code",
   "execution_count": 44,
   "id": "ab5ced94",
   "metadata": {},
   "outputs": [
    {
     "name": "stdout",
     "output_type": "stream",
     "text": [
      "Coordinates -36.5°N 174.5°E\n",
      "Elevation 30.0 m asl\n",
      "Timezone b'Pacific/Auckland' b'NZST'\n",
      "Timezone difference to GMT+0 43200 s\n",
      "Current time 1716272100\n",
      "Current temperature_2m 14.850000381469727\n",
      "Current relative_humidity_2m 91.0\n",
      "Current is_day 0.0\n",
      "Current rain 0.0\n",
      "Current showers 0.0\n",
      "Current snowfall 0.0\n",
      "Current wind_speed_10m 13.10419750213623\n",
      "                         date  temperature_2m  precipitation  rain  showers  \\\n",
      "0   2024-05-20 12:00:00+00:00       16.005499            0.4   0.0      0.4   \n",
      "1   2024-05-20 13:00:00+00:00       15.755500            0.0   0.0      0.0   \n",
      "2   2024-05-20 14:00:00+00:00       15.955500            0.0   0.0      0.0   \n",
      "3   2024-05-20 15:00:00+00:00       15.855500            0.0   0.0      0.0   \n",
      "4   2024-05-20 16:00:00+00:00       15.705500            0.0   0.0      0.0   \n",
      "..                        ...             ...            ...   ...      ...   \n",
      "163 2024-05-27 07:00:00+00:00       12.655500            0.0   0.0      0.0   \n",
      "164 2024-05-27 08:00:00+00:00       12.405500            0.0   0.0      0.0   \n",
      "165 2024-05-27 09:00:00+00:00       12.105500            0.0   0.0      0.0   \n",
      "166 2024-05-27 10:00:00+00:00       11.755500            0.0   0.0      0.0   \n",
      "167 2024-05-27 11:00:00+00:00       11.455500            0.0   0.0      0.0   \n",
      "\n",
      "     snowfall  snow_depth  \n",
      "0         0.0         0.0  \n",
      "1         0.0         0.0  \n",
      "2         0.0         0.0  \n",
      "3         0.0         0.0  \n",
      "4         0.0         0.0  \n",
      "..        ...         ...  \n",
      "163       0.0         0.0  \n",
      "164       0.0         0.0  \n",
      "165       0.0         0.0  \n",
      "166       0.0         0.0  \n",
      "167       0.0         0.0  \n",
      "\n",
      "[168 rows x 7 columns]\n",
      "                       date  rain_sum  showers_sum\n",
      "0 2024-05-20 12:00:00+00:00       0.0          4.3\n",
      "1 2024-05-21 12:00:00+00:00       0.0          0.0\n",
      "2 2024-05-22 12:00:00+00:00       0.0          0.0\n",
      "3 2024-05-23 12:00:00+00:00       0.0          0.6\n",
      "4 2024-05-24 12:00:00+00:00       0.0          2.1\n",
      "5 2024-05-25 12:00:00+00:00       0.0          0.9\n",
      "6 2024-05-26 12:00:00+00:00       0.0          0.0\n"
     ]
    }
   ],
   "source": [
    "# Setup the Open-Meteo API client with cache and retry on error\n",
    "cache_session = requests_cache.CachedSession('.cache', expire_after = 3600)\n",
    "retry_session = retry(cache_session, retries = 5, backoff_factor = 0.2)\n",
    "openmeteo = openmeteo_requests.Client(session = retry_session)\n",
    "\n",
    "# Make sure all required weather variables are listed here\n",
    "# The order of variables in hourly or daily is important to assign them correctly below\n",
    "url = \"https://api.open-meteo.com/v1/forecast\"\n",
    "params = {\n",
    "\t\"latitude\": SA1_coordinates['latitude'], #pass SA1 latitude value here\n",
    "\t\"longitude\": SA1_coordinates['longitude'],#pass SA1 longitude value here\n",
    "\t\"current\": [\"temperature_2m\", \"relative_humidity_2m\", \"is_day\", \"rain\", \"showers\", \"snowfall\", \"wind_speed_10m\"],\n",
    "\t\"hourly\": [\"temperature_2m\", \"precipitation\", \"rain\", \"showers\", \"snowfall\", \"snow_depth\"],\n",
    "\t\"daily\": [\"rain_sum\", \"showers_sum\"],\n",
    "\t\"timezone\": \"Pacific/Auckland\"\n",
    "}\n",
    "responses = openmeteo.weather_api(url, params=params)\n",
    "\n",
    "# Process first location. Add a for-loop for multiple locations or weather models\n",
    "response = responses[0]\n",
    "print(f\"Coordinates {response.Latitude()}°N {response.Longitude()}°E\")\n",
    "print(f\"Elevation {response.Elevation()} m asl\")\n",
    "print(f\"Timezone {response.Timezone()} {response.TimezoneAbbreviation()}\")\n",
    "print(f\"Timezone difference to GMT+0 {response.UtcOffsetSeconds()} s\")\n",
    "\n",
    "# Current values. The order of variables needs to be the same as requested.\n",
    "current = response.Current()\n",
    "current_temperature_2m = current.Variables(0).Value()\n",
    "current_relative_humidity_2m = current.Variables(1).Value()\n",
    "current_is_day = current.Variables(2).Value()\n",
    "current_rain = current.Variables(3).Value()\n",
    "current_showers = current.Variables(4).Value()\n",
    "current_snowfall = current.Variables(5).Value()\n",
    "current_wind_speed_10m = current.Variables(6).Value()\n",
    "\n",
    "print(f\"Current time {current.Time()}\")\n",
    "print(f\"Current temperature_2m {current_temperature_2m}\")\n",
    "print(f\"Current relative_humidity_2m {current_relative_humidity_2m}\")\n",
    "print(f\"Current is_day {current_is_day}\")\n",
    "print(f\"Current rain {current_rain}\")\n",
    "print(f\"Current showers {current_showers}\")\n",
    "print(f\"Current snowfall {current_snowfall}\")\n",
    "print(f\"Current wind_speed_10m {current_wind_speed_10m}\")\n",
    "\n",
    "# Process hourly data. The order of variables needs to be the same as requested.\n",
    "hourly = response.Hourly()\n",
    "hourly_temperature_2m = hourly.Variables(0).ValuesAsNumpy()\n",
    "hourly_precipitation = hourly.Variables(1).ValuesAsNumpy()\n",
    "hourly_rain = hourly.Variables(2).ValuesAsNumpy()\n",
    "hourly_showers = hourly.Variables(3).ValuesAsNumpy()\n",
    "hourly_snowfall = hourly.Variables(4).ValuesAsNumpy()\n",
    "hourly_snow_depth = hourly.Variables(5).ValuesAsNumpy()\n",
    "\n",
    "hourly_data = {\"date\": pd.date_range(\n",
    "\tstart = pd.to_datetime(hourly.Time(), unit = \"s\", utc = True),\n",
    "\tend = pd.to_datetime(hourly.TimeEnd(), unit = \"s\", utc = True),\n",
    "\tfreq = pd.Timedelta(seconds = hourly.Interval()),\n",
    "\tinclusive = \"left\"\n",
    ")}\n",
    "hourly_data[\"temperature_2m\"] = hourly_temperature_2m\n",
    "hourly_data[\"precipitation\"] = hourly_precipitation\n",
    "hourly_data[\"rain\"] = hourly_rain\n",
    "hourly_data[\"showers\"] = hourly_showers\n",
    "hourly_data[\"snowfall\"] = hourly_snowfall\n",
    "hourly_data[\"snow_depth\"] = hourly_snow_depth\n",
    "\n",
    "hourly_dataframe = pd.DataFrame(data = hourly_data)\n",
    "print(hourly_dataframe)\n",
    "\n",
    "# Process daily data. The order of variables needs to be the same as requested.\n",
    "daily = response.Daily()\n",
    "daily_rain_sum = daily.Variables(0).ValuesAsNumpy()\n",
    "daily_showers_sum = daily.Variables(1).ValuesAsNumpy()\n",
    "\n",
    "daily_data = {\"date\": pd.date_range(\n",
    "\tstart = pd.to_datetime(daily.Time(), unit = \"s\", utc = True),\n",
    "\tend = pd.to_datetime(daily.TimeEnd(), unit = \"s\", utc = True),\n",
    "\tfreq = pd.Timedelta(seconds = daily.Interval()),\n",
    "\tinclusive = \"left\"\n",
    ")}\n",
    "daily_data[\"rain_sum\"] = daily_rain_sum\n",
    "daily_data[\"showers_sum\"] = daily_showers_sum\n",
    "\n",
    "daily_dataframe = pd.DataFrame(data = daily_data)\n",
    "print(daily_dataframe)"
   ]
  },
  {
   "cell_type": "code",
   "execution_count": null,
   "id": "c428ea2a",
   "metadata": {},
   "outputs": [],
   "source": []
  }
 ],
 "metadata": {
  "kernelspec": {
   "display_name": "Python 3 (ipykernel)",
   "language": "python",
   "name": "python3"
  },
  "language_info": {
   "codemirror_mode": {
    "name": "ipython",
    "version": 3
   },
   "file_extension": ".py",
   "mimetype": "text/x-python",
   "name": "python",
   "nbconvert_exporter": "python",
   "pygments_lexer": "ipython3",
   "version": "3.10.9"
  }
 },
 "nbformat": 4,
 "nbformat_minor": 5
}
