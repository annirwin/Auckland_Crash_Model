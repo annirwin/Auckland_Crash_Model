{
 "cells": [
  {
   "cell_type": "code",
   "execution_count": 2,
   "metadata": {},
   "outputs": [],
   "source": [
    "import pandas as pd\n",
    "import numpy as np\n",
    "import plotly.express as px\n",
    "import plotly.graph_objects as go\n",
    "import plotly.figure_factory as ff\n",
    "from plotly.subplots import make_subplots\n",
    "from sklearn.model_selection import train_test_split, cross_val_score\n",
    "from sklearn.neighbors import KNeighborsClassifier\n",
    "from sklearn.metrics import classification_report, roc_auc_score\n",
    "import os\n",
    "import gc"
   ]
  },
  {
   "cell_type": "code",
   "execution_count": 3,
   "metadata": {},
   "outputs": [],
   "source": [
    "# Set parameters\n",
    "\n",
    "from pylab import rcParams\n",
    "rcParams['figure.figsize'] = 15, 10\n",
    "rcParams['font.size'] = 20\n",
    "rcParams['axes.facecolor'] = 'white'\n",
    "plots_rgb_blue = 'rgb(31,119,180)'\n",
    "%matplotlib inline"
   ]
  },
  {
   "cell_type": "markdown",
   "metadata": {},
   "source": [
    "## Process geographical data"
   ]
  },
  {
   "cell_type": "markdown",
   "metadata": {},
   "source": [
    "Crashes in the Crash Analysis System (CAS) are geolocated using the NZ system coordinates (columns X and Y in the dataset) and by a mesh block. Meshblocks are small geographical units that vary in size and cover 30-60 dwellings. These geographical units are too small for our application, and we opted to use the larger geographical units, Statistical Area 2 (SA2) or Statistical Area (SA3) units. We map the meshblocks from the CAS to the relevant SA2 and SA3 units using the Meshblock Higher Geographies 2024 dataset from data.govt.nz (https://catalogue.data.govt.nz/dataset/meshblock-higher-geographies-2024). We find cases without mapping between the meshblock and the statistical areas dataset. We train a k-Neighbours model to predict the correct mapping of un-mapped meshblocks using their distance to mapped meshblocks using the coordinates of crashes within the meshblocks."
   ]
  },
  {
   "cell_type": "code",
   "execution_count": 3,
   "metadata": {},
   "outputs": [
    {
     "data": {
      "text/html": [
       "<div>\n",
       "<style scoped>\n",
       "    .dataframe tbody tr th:only-of-type {\n",
       "        vertical-align: middle;\n",
       "    }\n",
       "\n",
       "    .dataframe tbody tr th {\n",
       "        vertical-align: top;\n",
       "    }\n",
       "\n",
       "    .dataframe thead th {\n",
       "        text-align: right;\n",
       "    }\n",
       "</style>\n",
       "<table border=\"1\" class=\"dataframe\">\n",
       "  <thead>\n",
       "    <tr style=\"text-align: right;\">\n",
       "      <th></th>\n",
       "      <th>WKT</th>\n",
       "      <th>MB2024_V1_00</th>\n",
       "      <th>SA12023_V1_00</th>\n",
       "      <th>SA22023_V1_00</th>\n",
       "      <th>SA22023_V1_00_NAME</th>\n",
       "      <th>SA22023_V1_00_NAME_ASCII</th>\n",
       "      <th>SA32023_V1_00</th>\n",
       "      <th>SA32023_V1_00_NAME</th>\n",
       "      <th>SA32023_V1_00_NAME_ASCII</th>\n",
       "      <th>UR2023_V1_00</th>\n",
       "      <th>...</th>\n",
       "      <th>FUA2023_V1_00_NAME_ASCII</th>\n",
       "      <th>IFUA2023_V1_00</th>\n",
       "      <th>IFUA2023_V1_00_NAME</th>\n",
       "      <th>TFUA2023_V1_00</th>\n",
       "      <th>TFUA2023_V1_00_NAME</th>\n",
       "      <th>LANDWATER</th>\n",
       "      <th>LANDWATER_NAME</th>\n",
       "      <th>LAND_AREA_SQ_KM</th>\n",
       "      <th>AREA_SQ_KM</th>\n",
       "      <th>Shape_Length</th>\n",
       "    </tr>\n",
       "  </thead>\n",
       "  <tbody>\n",
       "    <tr>\n",
       "      <th>0</th>\n",
       "      <td>POLYGON ((1753128.8397 5915046.9774,1753132.89...</td>\n",
       "      <td>4019145</td>\n",
       "      <td>7037220</td>\n",
       "      <td>135500</td>\n",
       "      <td>Ōwairaka West</td>\n",
       "      <td>Owairaka West</td>\n",
       "      <td>51440</td>\n",
       "      <td>Mount Albert</td>\n",
       "      <td>Mount Albert</td>\n",
       "      <td>1108</td>\n",
       "      <td>...</td>\n",
       "      <td>Auckland</td>\n",
       "      <td>101</td>\n",
       "      <td>Urban core</td>\n",
       "      <td>1</td>\n",
       "      <td>Metropolitan area</td>\n",
       "      <td>12</td>\n",
       "      <td>Mainland</td>\n",
       "      <td>0.053445</td>\n",
       "      <td>0.053445</td>\n",
       "      <td>1183.791512</td>\n",
       "    </tr>\n",
       "    <tr>\n",
       "      <th>1</th>\n",
       "      <td>POLYGON ((1758471.9046 5920096.1957,1758519.93...</td>\n",
       "      <td>4001328</td>\n",
       "      <td>7037219</td>\n",
       "      <td>136400</td>\n",
       "      <td>Parnell West</td>\n",
       "      <td>Parnell West</td>\n",
       "      <td>51200</td>\n",
       "      <td>Parnell</td>\n",
       "      <td>Parnell</td>\n",
       "      <td>1108</td>\n",
       "      <td>...</td>\n",
       "      <td>Auckland</td>\n",
       "      <td>101</td>\n",
       "      <td>Urban core</td>\n",
       "      <td>1</td>\n",
       "      <td>Metropolitan area</td>\n",
       "      <td>12</td>\n",
       "      <td>Mainland</td>\n",
       "      <td>0.009572</td>\n",
       "      <td>0.009572</td>\n",
       "      <td>421.238251</td>\n",
       "    </tr>\n",
       "    <tr>\n",
       "      <th>2</th>\n",
       "      <td>POLYGON ((1772737.6177 5879642.14,1772741.0269...</td>\n",
       "      <td>827902</td>\n",
       "      <td>7032417</td>\n",
       "      <td>169901</td>\n",
       "      <td>Tuakau Rural</td>\n",
       "      <td>Tuakau Rural</td>\n",
       "      <td>52450</td>\n",
       "      <td>Tuakau</td>\n",
       "      <td>Tuakau</td>\n",
       "      <td>1164</td>\n",
       "      <td>...</td>\n",
       "      <td>Auckland</td>\n",
       "      <td>201</td>\n",
       "      <td>Hinterland</td>\n",
       "      <td>1</td>\n",
       "      <td>Metropolitan area</td>\n",
       "      <td>12</td>\n",
       "      <td>Mainland</td>\n",
       "      <td>1.450875</td>\n",
       "      <td>1.450875</td>\n",
       "      <td>5144.014389</td>\n",
       "    </tr>\n",
       "    <tr>\n",
       "      <th>3</th>\n",
       "      <td>POLYGON ((1772799.1844 5892796.4598,1772800.50...</td>\n",
       "      <td>4014920</td>\n",
       "      <td>7032175</td>\n",
       "      <td>164302</td>\n",
       "      <td>Drury East</td>\n",
       "      <td>Drury East</td>\n",
       "      <td>52250</td>\n",
       "      <td>Drury</td>\n",
       "      <td>Drury</td>\n",
       "      <td>1108</td>\n",
       "      <td>...</td>\n",
       "      <td>Auckland</td>\n",
       "      <td>101</td>\n",
       "      <td>Urban core</td>\n",
       "      <td>1</td>\n",
       "      <td>Metropolitan area</td>\n",
       "      <td>12</td>\n",
       "      <td>Mainland</td>\n",
       "      <td>0.261285</td>\n",
       "      <td>0.261285</td>\n",
       "      <td>3082.177087</td>\n",
       "    </tr>\n",
       "    <tr>\n",
       "      <th>4</th>\n",
       "      <td>POLYGON ((1773448.2967 5893337.3844,1773557.31...</td>\n",
       "      <td>4004236</td>\n",
       "      <td>7010152</td>\n",
       "      <td>164302</td>\n",
       "      <td>Drury East</td>\n",
       "      <td>Drury East</td>\n",
       "      <td>52250</td>\n",
       "      <td>Drury</td>\n",
       "      <td>Drury</td>\n",
       "      <td>1108</td>\n",
       "      <td>...</td>\n",
       "      <td>Auckland</td>\n",
       "      <td>101</td>\n",
       "      <td>Urban core</td>\n",
       "      <td>1</td>\n",
       "      <td>Metropolitan area</td>\n",
       "      <td>12</td>\n",
       "      <td>Mainland</td>\n",
       "      <td>0.272358</td>\n",
       "      <td>0.272358</td>\n",
       "      <td>2963.151998</td>\n",
       "    </tr>\n",
       "  </tbody>\n",
       "</table>\n",
       "<p>5 rows × 55 columns</p>\n",
       "</div>"
      ],
      "text/plain": [
       "                                                 WKT  MB2024_V1_00  \\\n",
       "0  POLYGON ((1753128.8397 5915046.9774,1753132.89...       4019145   \n",
       "1  POLYGON ((1758471.9046 5920096.1957,1758519.93...       4001328   \n",
       "2  POLYGON ((1772737.6177 5879642.14,1772741.0269...        827902   \n",
       "3  POLYGON ((1772799.1844 5892796.4598,1772800.50...       4014920   \n",
       "4  POLYGON ((1773448.2967 5893337.3844,1773557.31...       4004236   \n",
       "\n",
       "   SA12023_V1_00  SA22023_V1_00 SA22023_V1_00_NAME SA22023_V1_00_NAME_ASCII  \\\n",
       "0        7037220         135500      Ōwairaka West            Owairaka West   \n",
       "1        7037219         136400       Parnell West             Parnell West   \n",
       "2        7032417         169901       Tuakau Rural             Tuakau Rural   \n",
       "3        7032175         164302         Drury East               Drury East   \n",
       "4        7010152         164302         Drury East               Drury East   \n",
       "\n",
       "   SA32023_V1_00 SA32023_V1_00_NAME SA32023_V1_00_NAME_ASCII  UR2023_V1_00  \\\n",
       "0          51440       Mount Albert             Mount Albert          1108   \n",
       "1          51200            Parnell                  Parnell          1108   \n",
       "2          52450             Tuakau                   Tuakau          1164   \n",
       "3          52250              Drury                    Drury          1108   \n",
       "4          52250              Drury                    Drury          1108   \n",
       "\n",
       "   ... FUA2023_V1_00_NAME_ASCII IFUA2023_V1_00  IFUA2023_V1_00_NAME  \\\n",
       "0  ...                 Auckland            101           Urban core   \n",
       "1  ...                 Auckland            101           Urban core   \n",
       "2  ...                 Auckland            201           Hinterland   \n",
       "3  ...                 Auckland            101           Urban core   \n",
       "4  ...                 Auckland            101           Urban core   \n",
       "\n",
       "  TFUA2023_V1_00  TFUA2023_V1_00_NAME LANDWATER  LANDWATER_NAME  \\\n",
       "0              1    Metropolitan area        12        Mainland   \n",
       "1              1    Metropolitan area        12        Mainland   \n",
       "2              1    Metropolitan area        12        Mainland   \n",
       "3              1    Metropolitan area        12        Mainland   \n",
       "4              1    Metropolitan area        12        Mainland   \n",
       "\n",
       "  LAND_AREA_SQ_KM AREA_SQ_KM  Shape_Length  \n",
       "0        0.053445   0.053445   1183.791512  \n",
       "1        0.009572   0.009572    421.238251  \n",
       "2        1.450875   1.450875   5144.014389  \n",
       "3        0.261285   0.261285   3082.177087  \n",
       "4        0.272358   0.272358   2963.151998  \n",
       "\n",
       "[5 rows x 55 columns]"
      ]
     },
     "execution_count": 3,
     "metadata": {},
     "output_type": "execute_result"
    }
   ],
   "source": [
    "# Load the Auckland area meshblocks mapping data\n",
    "meshblock_auckland_full_df = pd.read_csv('meshblock-higher-geographies-2024-auckland.csv')\n",
    "meshblock_auckland_full_df.head()"
   ]
  },
  {
   "cell_type": "code",
   "execution_count": 4,
   "metadata": {},
   "outputs": [],
   "source": [
    "meshblock_auckland_df = meshblock_auckland_full_df[['MB2024_V1_00', 'SA22023_V1_00','SA22023_V1_00_NAME_ASCII']]"
   ]
  },
  {
   "cell_type": "code",
   "execution_count": 13,
   "metadata": {},
   "outputs": [
    {
     "name": "stdout",
     "output_type": "stream",
     "text": [
      "Out of 285346 rows in the crashes dataset there are 99106 rows were meshblock are not mapped to SA2\n"
     ]
    }
   ],
   "source": [
    "# Load the Crash Analysis System (CAS) data set and add the additional data on the mesh blocks\n",
    "cas_df = pd.read_csv('Crash_Analysis_System_(CAS)_data.csv')\n",
    "cas_mesh_df = pd.merge(cas_df,meshblock_auckland_df, left_on='meshblockId', right_on='MB2024_V1_00', how='left')\n",
    "number_of_crashes_rows = cas_mesh_df.shape[0]\n",
    "number_missing_SA2 = cas_mesh_df['SA22023_V1_00'].isna().sum()\n",
    "print(f'Out of {number_of_crashes_rows} rows in the crashes dataset there are {number_missing_SA2} rows were meshblock are not mapped to SA2')"
   ]
  },
  {
   "cell_type": "code",
   "execution_count": 14,
   "metadata": {},
   "outputs": [
    {
     "data": {
      "application/vnd.plotly.v1+json": {
       "config": {
        "plotlyServerURL": "https://plot.ly"
       },
       "data": [
        {
         "hovertemplate": "Crash Financial Year=%{x}<br>Percentage of NaN Values=%{y}<extra></extra>",
         "legendgroup": "",
         "line": {
          "color": "#636efa",
          "dash": "solid"
         },
         "marker": {
          "symbol": "circle"
         },
         "mode": "lines",
         "name": "",
         "orientation": "v",
         "showlegend": false,
         "type": "scatter",
         "x": [
          "1999/2000",
          "2000/2001",
          "2001/2002",
          "2002/2003",
          "2003/2004",
          "2004/2005",
          "2005/2006",
          "2006/2007",
          "2007/2008",
          "2008/2009",
          "2009/2010",
          "2010/2011",
          "2011/2012",
          "2012/2013",
          "2013/2014",
          "2014/2015",
          "2015/2016",
          "2016/2017",
          "2017/2018",
          "2018/2019",
          "2019/2020",
          "2020/2021",
          "2021/2022",
          "2022/2023"
         ],
         "xaxis": "x",
         "y": [
          34.59078235197638,
          33.838855187431946,
          34.15125816766301,
          34.58850668295,
          34.19872030594984,
          34.212448860315604,
          34.74353353792197,
          34.23793457532639,
          34.56614509246088,
          34.04417364813405,
          34.24386381631037,
          34.84083072728731,
          35.007440476190474,
          34.53347340273135,
          35.450027609055766,
          34.37528730348441,
          35.64453125,
          35.973077473865104,
          35.6729055258467,
          35.52931252636019,
          35.24313914299471,
          34.690998853918714,
          34.609753350602546,
          34.8583460949464
         ],
         "yaxis": "y"
        }
       ],
       "layout": {
        "legend": {
         "tracegroupgap": 0
        },
        "template": {
         "data": {
          "bar": [
           {
            "error_x": {
             "color": "#2a3f5f"
            },
            "error_y": {
             "color": "#2a3f5f"
            },
            "marker": {
             "line": {
              "color": "#E5ECF6",
              "width": 0.5
             },
             "pattern": {
              "fillmode": "overlay",
              "size": 10,
              "solidity": 0.2
             }
            },
            "type": "bar"
           }
          ],
          "barpolar": [
           {
            "marker": {
             "line": {
              "color": "#E5ECF6",
              "width": 0.5
             },
             "pattern": {
              "fillmode": "overlay",
              "size": 10,
              "solidity": 0.2
             }
            },
            "type": "barpolar"
           }
          ],
          "carpet": [
           {
            "aaxis": {
             "endlinecolor": "#2a3f5f",
             "gridcolor": "white",
             "linecolor": "white",
             "minorgridcolor": "white",
             "startlinecolor": "#2a3f5f"
            },
            "baxis": {
             "endlinecolor": "#2a3f5f",
             "gridcolor": "white",
             "linecolor": "white",
             "minorgridcolor": "white",
             "startlinecolor": "#2a3f5f"
            },
            "type": "carpet"
           }
          ],
          "choropleth": [
           {
            "colorbar": {
             "outlinewidth": 0,
             "ticks": ""
            },
            "type": "choropleth"
           }
          ],
          "contour": [
           {
            "colorbar": {
             "outlinewidth": 0,
             "ticks": ""
            },
            "colorscale": [
             [
              0,
              "#0d0887"
             ],
             [
              0.1111111111111111,
              "#46039f"
             ],
             [
              0.2222222222222222,
              "#7201a8"
             ],
             [
              0.3333333333333333,
              "#9c179e"
             ],
             [
              0.4444444444444444,
              "#bd3786"
             ],
             [
              0.5555555555555556,
              "#d8576b"
             ],
             [
              0.6666666666666666,
              "#ed7953"
             ],
             [
              0.7777777777777778,
              "#fb9f3a"
             ],
             [
              0.8888888888888888,
              "#fdca26"
             ],
             [
              1,
              "#f0f921"
             ]
            ],
            "type": "contour"
           }
          ],
          "contourcarpet": [
           {
            "colorbar": {
             "outlinewidth": 0,
             "ticks": ""
            },
            "type": "contourcarpet"
           }
          ],
          "heatmap": [
           {
            "colorbar": {
             "outlinewidth": 0,
             "ticks": ""
            },
            "colorscale": [
             [
              0,
              "#0d0887"
             ],
             [
              0.1111111111111111,
              "#46039f"
             ],
             [
              0.2222222222222222,
              "#7201a8"
             ],
             [
              0.3333333333333333,
              "#9c179e"
             ],
             [
              0.4444444444444444,
              "#bd3786"
             ],
             [
              0.5555555555555556,
              "#d8576b"
             ],
             [
              0.6666666666666666,
              "#ed7953"
             ],
             [
              0.7777777777777778,
              "#fb9f3a"
             ],
             [
              0.8888888888888888,
              "#fdca26"
             ],
             [
              1,
              "#f0f921"
             ]
            ],
            "type": "heatmap"
           }
          ],
          "heatmapgl": [
           {
            "colorbar": {
             "outlinewidth": 0,
             "ticks": ""
            },
            "colorscale": [
             [
              0,
              "#0d0887"
             ],
             [
              0.1111111111111111,
              "#46039f"
             ],
             [
              0.2222222222222222,
              "#7201a8"
             ],
             [
              0.3333333333333333,
              "#9c179e"
             ],
             [
              0.4444444444444444,
              "#bd3786"
             ],
             [
              0.5555555555555556,
              "#d8576b"
             ],
             [
              0.6666666666666666,
              "#ed7953"
             ],
             [
              0.7777777777777778,
              "#fb9f3a"
             ],
             [
              0.8888888888888888,
              "#fdca26"
             ],
             [
              1,
              "#f0f921"
             ]
            ],
            "type": "heatmapgl"
           }
          ],
          "histogram": [
           {
            "marker": {
             "pattern": {
              "fillmode": "overlay",
              "size": 10,
              "solidity": 0.2
             }
            },
            "type": "histogram"
           }
          ],
          "histogram2d": [
           {
            "colorbar": {
             "outlinewidth": 0,
             "ticks": ""
            },
            "colorscale": [
             [
              0,
              "#0d0887"
             ],
             [
              0.1111111111111111,
              "#46039f"
             ],
             [
              0.2222222222222222,
              "#7201a8"
             ],
             [
              0.3333333333333333,
              "#9c179e"
             ],
             [
              0.4444444444444444,
              "#bd3786"
             ],
             [
              0.5555555555555556,
              "#d8576b"
             ],
             [
              0.6666666666666666,
              "#ed7953"
             ],
             [
              0.7777777777777778,
              "#fb9f3a"
             ],
             [
              0.8888888888888888,
              "#fdca26"
             ],
             [
              1,
              "#f0f921"
             ]
            ],
            "type": "histogram2d"
           }
          ],
          "histogram2dcontour": [
           {
            "colorbar": {
             "outlinewidth": 0,
             "ticks": ""
            },
            "colorscale": [
             [
              0,
              "#0d0887"
             ],
             [
              0.1111111111111111,
              "#46039f"
             ],
             [
              0.2222222222222222,
              "#7201a8"
             ],
             [
              0.3333333333333333,
              "#9c179e"
             ],
             [
              0.4444444444444444,
              "#bd3786"
             ],
             [
              0.5555555555555556,
              "#d8576b"
             ],
             [
              0.6666666666666666,
              "#ed7953"
             ],
             [
              0.7777777777777778,
              "#fb9f3a"
             ],
             [
              0.8888888888888888,
              "#fdca26"
             ],
             [
              1,
              "#f0f921"
             ]
            ],
            "type": "histogram2dcontour"
           }
          ],
          "mesh3d": [
           {
            "colorbar": {
             "outlinewidth": 0,
             "ticks": ""
            },
            "type": "mesh3d"
           }
          ],
          "parcoords": [
           {
            "line": {
             "colorbar": {
              "outlinewidth": 0,
              "ticks": ""
             }
            },
            "type": "parcoords"
           }
          ],
          "pie": [
           {
            "automargin": true,
            "type": "pie"
           }
          ],
          "scatter": [
           {
            "fillpattern": {
             "fillmode": "overlay",
             "size": 10,
             "solidity": 0.2
            },
            "type": "scatter"
           }
          ],
          "scatter3d": [
           {
            "line": {
             "colorbar": {
              "outlinewidth": 0,
              "ticks": ""
             }
            },
            "marker": {
             "colorbar": {
              "outlinewidth": 0,
              "ticks": ""
             }
            },
            "type": "scatter3d"
           }
          ],
          "scattercarpet": [
           {
            "marker": {
             "colorbar": {
              "outlinewidth": 0,
              "ticks": ""
             }
            },
            "type": "scattercarpet"
           }
          ],
          "scattergeo": [
           {
            "marker": {
             "colorbar": {
              "outlinewidth": 0,
              "ticks": ""
             }
            },
            "type": "scattergeo"
           }
          ],
          "scattergl": [
           {
            "marker": {
             "colorbar": {
              "outlinewidth": 0,
              "ticks": ""
             }
            },
            "type": "scattergl"
           }
          ],
          "scattermapbox": [
           {
            "marker": {
             "colorbar": {
              "outlinewidth": 0,
              "ticks": ""
             }
            },
            "type": "scattermapbox"
           }
          ],
          "scatterpolar": [
           {
            "marker": {
             "colorbar": {
              "outlinewidth": 0,
              "ticks": ""
             }
            },
            "type": "scatterpolar"
           }
          ],
          "scatterpolargl": [
           {
            "marker": {
             "colorbar": {
              "outlinewidth": 0,
              "ticks": ""
             }
            },
            "type": "scatterpolargl"
           }
          ],
          "scatterternary": [
           {
            "marker": {
             "colorbar": {
              "outlinewidth": 0,
              "ticks": ""
             }
            },
            "type": "scatterternary"
           }
          ],
          "surface": [
           {
            "colorbar": {
             "outlinewidth": 0,
             "ticks": ""
            },
            "colorscale": [
             [
              0,
              "#0d0887"
             ],
             [
              0.1111111111111111,
              "#46039f"
             ],
             [
              0.2222222222222222,
              "#7201a8"
             ],
             [
              0.3333333333333333,
              "#9c179e"
             ],
             [
              0.4444444444444444,
              "#bd3786"
             ],
             [
              0.5555555555555556,
              "#d8576b"
             ],
             [
              0.6666666666666666,
              "#ed7953"
             ],
             [
              0.7777777777777778,
              "#fb9f3a"
             ],
             [
              0.8888888888888888,
              "#fdca26"
             ],
             [
              1,
              "#f0f921"
             ]
            ],
            "type": "surface"
           }
          ],
          "table": [
           {
            "cells": {
             "fill": {
              "color": "#EBF0F8"
             },
             "line": {
              "color": "white"
             }
            },
            "header": {
             "fill": {
              "color": "#C8D4E3"
             },
             "line": {
              "color": "white"
             }
            },
            "type": "table"
           }
          ]
         },
         "layout": {
          "annotationdefaults": {
           "arrowcolor": "#2a3f5f",
           "arrowhead": 0,
           "arrowwidth": 1
          },
          "autotypenumbers": "strict",
          "coloraxis": {
           "colorbar": {
            "outlinewidth": 0,
            "ticks": ""
           }
          },
          "colorscale": {
           "diverging": [
            [
             0,
             "#8e0152"
            ],
            [
             0.1,
             "#c51b7d"
            ],
            [
             0.2,
             "#de77ae"
            ],
            [
             0.3,
             "#f1b6da"
            ],
            [
             0.4,
             "#fde0ef"
            ],
            [
             0.5,
             "#f7f7f7"
            ],
            [
             0.6,
             "#e6f5d0"
            ],
            [
             0.7,
             "#b8e186"
            ],
            [
             0.8,
             "#7fbc41"
            ],
            [
             0.9,
             "#4d9221"
            ],
            [
             1,
             "#276419"
            ]
           ],
           "sequential": [
            [
             0,
             "#0d0887"
            ],
            [
             0.1111111111111111,
             "#46039f"
            ],
            [
             0.2222222222222222,
             "#7201a8"
            ],
            [
             0.3333333333333333,
             "#9c179e"
            ],
            [
             0.4444444444444444,
             "#bd3786"
            ],
            [
             0.5555555555555556,
             "#d8576b"
            ],
            [
             0.6666666666666666,
             "#ed7953"
            ],
            [
             0.7777777777777778,
             "#fb9f3a"
            ],
            [
             0.8888888888888888,
             "#fdca26"
            ],
            [
             1,
             "#f0f921"
            ]
           ],
           "sequentialminus": [
            [
             0,
             "#0d0887"
            ],
            [
             0.1111111111111111,
             "#46039f"
            ],
            [
             0.2222222222222222,
             "#7201a8"
            ],
            [
             0.3333333333333333,
             "#9c179e"
            ],
            [
             0.4444444444444444,
             "#bd3786"
            ],
            [
             0.5555555555555556,
             "#d8576b"
            ],
            [
             0.6666666666666666,
             "#ed7953"
            ],
            [
             0.7777777777777778,
             "#fb9f3a"
            ],
            [
             0.8888888888888888,
             "#fdca26"
            ],
            [
             1,
             "#f0f921"
            ]
           ]
          },
          "colorway": [
           "#636efa",
           "#EF553B",
           "#00cc96",
           "#ab63fa",
           "#FFA15A",
           "#19d3f3",
           "#FF6692",
           "#B6E880",
           "#FF97FF",
           "#FECB52"
          ],
          "font": {
           "color": "#2a3f5f"
          },
          "geo": {
           "bgcolor": "white",
           "lakecolor": "white",
           "landcolor": "#E5ECF6",
           "showlakes": true,
           "showland": true,
           "subunitcolor": "white"
          },
          "hoverlabel": {
           "align": "left"
          },
          "hovermode": "closest",
          "mapbox": {
           "style": "light"
          },
          "paper_bgcolor": "white",
          "plot_bgcolor": "#E5ECF6",
          "polar": {
           "angularaxis": {
            "gridcolor": "white",
            "linecolor": "white",
            "ticks": ""
           },
           "bgcolor": "#E5ECF6",
           "radialaxis": {
            "gridcolor": "white",
            "linecolor": "white",
            "ticks": ""
           }
          },
          "scene": {
           "xaxis": {
            "backgroundcolor": "#E5ECF6",
            "gridcolor": "white",
            "gridwidth": 2,
            "linecolor": "white",
            "showbackground": true,
            "ticks": "",
            "zerolinecolor": "white"
           },
           "yaxis": {
            "backgroundcolor": "#E5ECF6",
            "gridcolor": "white",
            "gridwidth": 2,
            "linecolor": "white",
            "showbackground": true,
            "ticks": "",
            "zerolinecolor": "white"
           },
           "zaxis": {
            "backgroundcolor": "#E5ECF6",
            "gridcolor": "white",
            "gridwidth": 2,
            "linecolor": "white",
            "showbackground": true,
            "ticks": "",
            "zerolinecolor": "white"
           }
          },
          "shapedefaults": {
           "line": {
            "color": "#2a3f5f"
           }
          },
          "ternary": {
           "aaxis": {
            "gridcolor": "white",
            "linecolor": "white",
            "ticks": ""
           },
           "baxis": {
            "gridcolor": "white",
            "linecolor": "white",
            "ticks": ""
           },
           "bgcolor": "#E5ECF6",
           "caxis": {
            "gridcolor": "white",
            "linecolor": "white",
            "ticks": ""
           }
          },
          "title": {
           "x": 0.05
          },
          "xaxis": {
           "automargin": true,
           "gridcolor": "white",
           "linecolor": "white",
           "ticks": "",
           "title": {
            "standoff": 15
           },
           "zerolinecolor": "white",
           "zerolinewidth": 2
          },
          "yaxis": {
           "automargin": true,
           "gridcolor": "white",
           "linecolor": "white",
           "ticks": "",
           "title": {
            "standoff": 15
           },
           "zerolinecolor": "white",
           "zerolinewidth": 2
          }
         }
        },
        "title": {
         "text": "Percentage of NaN Values in SA22023_V1_00 by Crash Financial Year"
        },
        "xaxis": {
         "anchor": "y",
         "domain": [
          0,
          1
         ],
         "title": {
          "text": "Crash Financial Year"
         }
        },
        "yaxis": {
         "anchor": "x",
         "domain": [
          0,
          1
         ],
         "range": [
          0,
          40.973077473865104
         ],
         "title": {
          "text": "Percentage of NaN Values"
         }
        }
       }
      }
     },
     "metadata": {},
     "output_type": "display_data"
    }
   ],
   "source": [
    "# We want to check the percentage of NaN values in SA22023_V1_00 in each crash year\n",
    "\n",
    "filtered_df = cas_mesh_df[['OBJECTID','SA22023_V1_00','crashFinancialYear']]\n",
    "nan_percentage = filtered_df.groupby('crashFinancialYear')['SA22023_V1_00'].apply(lambda x: x.isna().mean() * 100).reset_index(name='NaN_Percentage_SA22023_V1_00')\n",
    "\n",
    "fig = px.line(nan_percentage, x='crashFinancialYear', y='NaN_Percentage_SA22023_V1_00', \n",
    "              title='Percentage of NaN Values in SA22023_V1_00 by Crash Financial Year', \n",
    "              labels={'crashFinancialYear': 'Crash Financial Year', 'NaN_Percentage_SA22023_V1_00': 'Percentage of NaN Values'})\n",
    "fig.update_layout(yaxis=dict(range=[0, nan_percentage['NaN_Percentage_SA22023_V1_00'].max() + 5]))\n",
    "fig.show()"
   ]
  },
  {
   "cell_type": "markdown",
   "metadata": {},
   "source": [
    "The percentage of missing values is stable across the years."
   ]
  },
  {
   "cell_type": "code",
   "execution_count": 19,
   "metadata": {},
   "outputs": [
    {
     "data": {
      "text/plain": [
       "NaN_Percentage_SA22023_V1_00\n",
       "0.0      8344\n",
       "100.0    1885\n",
       "Name: count, dtype: int64"
      ]
     },
     "execution_count": 19,
     "metadata": {},
     "output_type": "execute_result"
    }
   ],
   "source": [
    "# Check how many meshbleocks do not have mapping to SA2\n",
    "filtered_block_df = cas_mesh_df[['OBJECTID','SA22023_V1_00','meshblockId']]\n",
    "block_nan_percentage = filtered_block_df.groupby('meshblockId')['SA22023_V1_00'].apply(lambda x: x.isna().mean() * 100).reset_index(name='NaN_Percentage_SA22023_V1_00')\n",
    "block_nan_percentage['NaN_Percentage_SA22023_V1_00'].value_counts()"
   ]
  },
  {
   "cell_type": "markdown",
   "metadata": {},
   "source": [
    "There are 8,344 meshblocks mapped to SA2 and 1,885 which are not mapped."
   ]
  },
  {
   "cell_type": "markdown",
   "metadata": {},
   "source": [
    "### Find missing mapping using a k-Neighbours model"
   ]
  },
  {
   "cell_type": "markdown",
   "metadata": {},
   "source": [
    "We use the NZ coordinates (X and Y columns) crashes in mapped meshblocks to predict the mapping for unmapped meshblocks."
   ]
  },
  {
   "cell_type": "code",
   "execution_count": 18,
   "metadata": {},
   "outputs": [],
   "source": [
    "# Split the data into training (non-missing) and prediction (missing) sets\n",
    "train_df = cas_mesh_df[cas_mesh_df['SA22023_V1_00'].notna()]\n",
    "predict_df = cas_mesh_df[cas_mesh_df['SA22023_V1_00'].isna()]\n",
    "\n",
    "# Create features and target variables for training\n",
    "X = train_df[['X', 'Y']]\n",
    "y = train_df['SA22023_V1_00']\n",
    "\n",
    "# Split the training data into train and test sets\n",
    "X_train, X_test, y_train, y_test = train_test_split(X, y, test_size=0.2, random_state=42)"
   ]
  },
  {
   "cell_type": "markdown",
   "metadata": {},
   "source": [
    "kNN with uniform weightings and k neigbours between 1 and 15"
   ]
  },
  {
   "cell_type": "code",
   "execution_count": 21,
   "metadata": {},
   "outputs": [
    {
     "data": {
      "application/vnd.plotly.v1+json": {
       "config": {
        "plotlyServerURL": "https://plot.ly"
       },
       "data": [
        {
         "mode": "lines+markers",
         "name": "Training Error",
         "type": "scatter",
         "x": [
          1,
          2,
          3,
          4,
          5,
          6,
          7,
          8,
          9,
          10,
          11,
          12,
          13,
          14,
          15
         ],
         "y": [
          0.00004698238831613022,
          0.017517719072164928,
          0.021940775343642582,
          0.03029692869415812,
          0.034082366838487976,
          0.04031760094501713,
          0.043344609106529264,
          0.04853951890034369,
          0.051834997852233666,
          0.05592246563573888,
          0.058855509020618535,
          0.06268792955326463,
          0.06592300257731953,
          0.06924532860824739,
          0.0716615657216495
         ]
        },
        {
         "mode": "lines+markers",
         "name": "Test Error",
         "type": "scatter",
         "x": [
          1,
          2,
          3,
          4,
          5,
          6,
          7,
          8,
          9,
          10,
          11,
          12,
          13,
          14,
          15
         ],
         "y": [
          0.033907860824742286,
          0.0422573024054983,
          0.044136597938144284,
          0.04931808419243988,
          0.05366731099656352,
          0.058634020618556715,
          0.061399269759450203,
          0.06472830756013748,
          0.06794995704467355,
          0.07063466494845361,
          0.07331937285223367,
          0.07629939862542956,
          0.07992375429553267,
          0.08290378006872856,
          0.08548109965635742
         ]
        }
       ],
       "layout": {
        "template": {
         "data": {
          "bar": [
           {
            "error_x": {
             "color": "#2a3f5f"
            },
            "error_y": {
             "color": "#2a3f5f"
            },
            "marker": {
             "line": {
              "color": "#E5ECF6",
              "width": 0.5
             },
             "pattern": {
              "fillmode": "overlay",
              "size": 10,
              "solidity": 0.2
             }
            },
            "type": "bar"
           }
          ],
          "barpolar": [
           {
            "marker": {
             "line": {
              "color": "#E5ECF6",
              "width": 0.5
             },
             "pattern": {
              "fillmode": "overlay",
              "size": 10,
              "solidity": 0.2
             }
            },
            "type": "barpolar"
           }
          ],
          "carpet": [
           {
            "aaxis": {
             "endlinecolor": "#2a3f5f",
             "gridcolor": "white",
             "linecolor": "white",
             "minorgridcolor": "white",
             "startlinecolor": "#2a3f5f"
            },
            "baxis": {
             "endlinecolor": "#2a3f5f",
             "gridcolor": "white",
             "linecolor": "white",
             "minorgridcolor": "white",
             "startlinecolor": "#2a3f5f"
            },
            "type": "carpet"
           }
          ],
          "choropleth": [
           {
            "colorbar": {
             "outlinewidth": 0,
             "ticks": ""
            },
            "type": "choropleth"
           }
          ],
          "contour": [
           {
            "colorbar": {
             "outlinewidth": 0,
             "ticks": ""
            },
            "colorscale": [
             [
              0,
              "#0d0887"
             ],
             [
              0.1111111111111111,
              "#46039f"
             ],
             [
              0.2222222222222222,
              "#7201a8"
             ],
             [
              0.3333333333333333,
              "#9c179e"
             ],
             [
              0.4444444444444444,
              "#bd3786"
             ],
             [
              0.5555555555555556,
              "#d8576b"
             ],
             [
              0.6666666666666666,
              "#ed7953"
             ],
             [
              0.7777777777777778,
              "#fb9f3a"
             ],
             [
              0.8888888888888888,
              "#fdca26"
             ],
             [
              1,
              "#f0f921"
             ]
            ],
            "type": "contour"
           }
          ],
          "contourcarpet": [
           {
            "colorbar": {
             "outlinewidth": 0,
             "ticks": ""
            },
            "type": "contourcarpet"
           }
          ],
          "heatmap": [
           {
            "colorbar": {
             "outlinewidth": 0,
             "ticks": ""
            },
            "colorscale": [
             [
              0,
              "#0d0887"
             ],
             [
              0.1111111111111111,
              "#46039f"
             ],
             [
              0.2222222222222222,
              "#7201a8"
             ],
             [
              0.3333333333333333,
              "#9c179e"
             ],
             [
              0.4444444444444444,
              "#bd3786"
             ],
             [
              0.5555555555555556,
              "#d8576b"
             ],
             [
              0.6666666666666666,
              "#ed7953"
             ],
             [
              0.7777777777777778,
              "#fb9f3a"
             ],
             [
              0.8888888888888888,
              "#fdca26"
             ],
             [
              1,
              "#f0f921"
             ]
            ],
            "type": "heatmap"
           }
          ],
          "heatmapgl": [
           {
            "colorbar": {
             "outlinewidth": 0,
             "ticks": ""
            },
            "colorscale": [
             [
              0,
              "#0d0887"
             ],
             [
              0.1111111111111111,
              "#46039f"
             ],
             [
              0.2222222222222222,
              "#7201a8"
             ],
             [
              0.3333333333333333,
              "#9c179e"
             ],
             [
              0.4444444444444444,
              "#bd3786"
             ],
             [
              0.5555555555555556,
              "#d8576b"
             ],
             [
              0.6666666666666666,
              "#ed7953"
             ],
             [
              0.7777777777777778,
              "#fb9f3a"
             ],
             [
              0.8888888888888888,
              "#fdca26"
             ],
             [
              1,
              "#f0f921"
             ]
            ],
            "type": "heatmapgl"
           }
          ],
          "histogram": [
           {
            "marker": {
             "pattern": {
              "fillmode": "overlay",
              "size": 10,
              "solidity": 0.2
             }
            },
            "type": "histogram"
           }
          ],
          "histogram2d": [
           {
            "colorbar": {
             "outlinewidth": 0,
             "ticks": ""
            },
            "colorscale": [
             [
              0,
              "#0d0887"
             ],
             [
              0.1111111111111111,
              "#46039f"
             ],
             [
              0.2222222222222222,
              "#7201a8"
             ],
             [
              0.3333333333333333,
              "#9c179e"
             ],
             [
              0.4444444444444444,
              "#bd3786"
             ],
             [
              0.5555555555555556,
              "#d8576b"
             ],
             [
              0.6666666666666666,
              "#ed7953"
             ],
             [
              0.7777777777777778,
              "#fb9f3a"
             ],
             [
              0.8888888888888888,
              "#fdca26"
             ],
             [
              1,
              "#f0f921"
             ]
            ],
            "type": "histogram2d"
           }
          ],
          "histogram2dcontour": [
           {
            "colorbar": {
             "outlinewidth": 0,
             "ticks": ""
            },
            "colorscale": [
             [
              0,
              "#0d0887"
             ],
             [
              0.1111111111111111,
              "#46039f"
             ],
             [
              0.2222222222222222,
              "#7201a8"
             ],
             [
              0.3333333333333333,
              "#9c179e"
             ],
             [
              0.4444444444444444,
              "#bd3786"
             ],
             [
              0.5555555555555556,
              "#d8576b"
             ],
             [
              0.6666666666666666,
              "#ed7953"
             ],
             [
              0.7777777777777778,
              "#fb9f3a"
             ],
             [
              0.8888888888888888,
              "#fdca26"
             ],
             [
              1,
              "#f0f921"
             ]
            ],
            "type": "histogram2dcontour"
           }
          ],
          "mesh3d": [
           {
            "colorbar": {
             "outlinewidth": 0,
             "ticks": ""
            },
            "type": "mesh3d"
           }
          ],
          "parcoords": [
           {
            "line": {
             "colorbar": {
              "outlinewidth": 0,
              "ticks": ""
             }
            },
            "type": "parcoords"
           }
          ],
          "pie": [
           {
            "automargin": true,
            "type": "pie"
           }
          ],
          "scatter": [
           {
            "fillpattern": {
             "fillmode": "overlay",
             "size": 10,
             "solidity": 0.2
            },
            "type": "scatter"
           }
          ],
          "scatter3d": [
           {
            "line": {
             "colorbar": {
              "outlinewidth": 0,
              "ticks": ""
             }
            },
            "marker": {
             "colorbar": {
              "outlinewidth": 0,
              "ticks": ""
             }
            },
            "type": "scatter3d"
           }
          ],
          "scattercarpet": [
           {
            "marker": {
             "colorbar": {
              "outlinewidth": 0,
              "ticks": ""
             }
            },
            "type": "scattercarpet"
           }
          ],
          "scattergeo": [
           {
            "marker": {
             "colorbar": {
              "outlinewidth": 0,
              "ticks": ""
             }
            },
            "type": "scattergeo"
           }
          ],
          "scattergl": [
           {
            "marker": {
             "colorbar": {
              "outlinewidth": 0,
              "ticks": ""
             }
            },
            "type": "scattergl"
           }
          ],
          "scattermapbox": [
           {
            "marker": {
             "colorbar": {
              "outlinewidth": 0,
              "ticks": ""
             }
            },
            "type": "scattermapbox"
           }
          ],
          "scatterpolar": [
           {
            "marker": {
             "colorbar": {
              "outlinewidth": 0,
              "ticks": ""
             }
            },
            "type": "scatterpolar"
           }
          ],
          "scatterpolargl": [
           {
            "marker": {
             "colorbar": {
              "outlinewidth": 0,
              "ticks": ""
             }
            },
            "type": "scatterpolargl"
           }
          ],
          "scatterternary": [
           {
            "marker": {
             "colorbar": {
              "outlinewidth": 0,
              "ticks": ""
             }
            },
            "type": "scatterternary"
           }
          ],
          "surface": [
           {
            "colorbar": {
             "outlinewidth": 0,
             "ticks": ""
            },
            "colorscale": [
             [
              0,
              "#0d0887"
             ],
             [
              0.1111111111111111,
              "#46039f"
             ],
             [
              0.2222222222222222,
              "#7201a8"
             ],
             [
              0.3333333333333333,
              "#9c179e"
             ],
             [
              0.4444444444444444,
              "#bd3786"
             ],
             [
              0.5555555555555556,
              "#d8576b"
             ],
             [
              0.6666666666666666,
              "#ed7953"
             ],
             [
              0.7777777777777778,
              "#fb9f3a"
             ],
             [
              0.8888888888888888,
              "#fdca26"
             ],
             [
              1,
              "#f0f921"
             ]
            ],
            "type": "surface"
           }
          ],
          "table": [
           {
            "cells": {
             "fill": {
              "color": "#EBF0F8"
             },
             "line": {
              "color": "white"
             }
            },
            "header": {
             "fill": {
              "color": "#C8D4E3"
             },
             "line": {
              "color": "white"
             }
            },
            "type": "table"
           }
          ]
         },
         "layout": {
          "annotationdefaults": {
           "arrowcolor": "#2a3f5f",
           "arrowhead": 0,
           "arrowwidth": 1
          },
          "autotypenumbers": "strict",
          "coloraxis": {
           "colorbar": {
            "outlinewidth": 0,
            "ticks": ""
           }
          },
          "colorscale": {
           "diverging": [
            [
             0,
             "#8e0152"
            ],
            [
             0.1,
             "#c51b7d"
            ],
            [
             0.2,
             "#de77ae"
            ],
            [
             0.3,
             "#f1b6da"
            ],
            [
             0.4,
             "#fde0ef"
            ],
            [
             0.5,
             "#f7f7f7"
            ],
            [
             0.6,
             "#e6f5d0"
            ],
            [
             0.7,
             "#b8e186"
            ],
            [
             0.8,
             "#7fbc41"
            ],
            [
             0.9,
             "#4d9221"
            ],
            [
             1,
             "#276419"
            ]
           ],
           "sequential": [
            [
             0,
             "#0d0887"
            ],
            [
             0.1111111111111111,
             "#46039f"
            ],
            [
             0.2222222222222222,
             "#7201a8"
            ],
            [
             0.3333333333333333,
             "#9c179e"
            ],
            [
             0.4444444444444444,
             "#bd3786"
            ],
            [
             0.5555555555555556,
             "#d8576b"
            ],
            [
             0.6666666666666666,
             "#ed7953"
            ],
            [
             0.7777777777777778,
             "#fb9f3a"
            ],
            [
             0.8888888888888888,
             "#fdca26"
            ],
            [
             1,
             "#f0f921"
            ]
           ],
           "sequentialminus": [
            [
             0,
             "#0d0887"
            ],
            [
             0.1111111111111111,
             "#46039f"
            ],
            [
             0.2222222222222222,
             "#7201a8"
            ],
            [
             0.3333333333333333,
             "#9c179e"
            ],
            [
             0.4444444444444444,
             "#bd3786"
            ],
            [
             0.5555555555555556,
             "#d8576b"
            ],
            [
             0.6666666666666666,
             "#ed7953"
            ],
            [
             0.7777777777777778,
             "#fb9f3a"
            ],
            [
             0.8888888888888888,
             "#fdca26"
            ],
            [
             1,
             "#f0f921"
            ]
           ]
          },
          "colorway": [
           "#636efa",
           "#EF553B",
           "#00cc96",
           "#ab63fa",
           "#FFA15A",
           "#19d3f3",
           "#FF6692",
           "#B6E880",
           "#FF97FF",
           "#FECB52"
          ],
          "font": {
           "color": "#2a3f5f"
          },
          "geo": {
           "bgcolor": "white",
           "lakecolor": "white",
           "landcolor": "#E5ECF6",
           "showlakes": true,
           "showland": true,
           "subunitcolor": "white"
          },
          "hoverlabel": {
           "align": "left"
          },
          "hovermode": "closest",
          "mapbox": {
           "style": "light"
          },
          "paper_bgcolor": "white",
          "plot_bgcolor": "#E5ECF6",
          "polar": {
           "angularaxis": {
            "gridcolor": "white",
            "linecolor": "white",
            "ticks": ""
           },
           "bgcolor": "#E5ECF6",
           "radialaxis": {
            "gridcolor": "white",
            "linecolor": "white",
            "ticks": ""
           }
          },
          "scene": {
           "xaxis": {
            "backgroundcolor": "#E5ECF6",
            "gridcolor": "white",
            "gridwidth": 2,
            "linecolor": "white",
            "showbackground": true,
            "ticks": "",
            "zerolinecolor": "white"
           },
           "yaxis": {
            "backgroundcolor": "#E5ECF6",
            "gridcolor": "white",
            "gridwidth": 2,
            "linecolor": "white",
            "showbackground": true,
            "ticks": "",
            "zerolinecolor": "white"
           },
           "zaxis": {
            "backgroundcolor": "#E5ECF6",
            "gridcolor": "white",
            "gridwidth": 2,
            "linecolor": "white",
            "showbackground": true,
            "ticks": "",
            "zerolinecolor": "white"
           }
          },
          "shapedefaults": {
           "line": {
            "color": "#2a3f5f"
           }
          },
          "ternary": {
           "aaxis": {
            "gridcolor": "white",
            "linecolor": "white",
            "ticks": ""
           },
           "baxis": {
            "gridcolor": "white",
            "linecolor": "white",
            "ticks": ""
           },
           "bgcolor": "#E5ECF6",
           "caxis": {
            "gridcolor": "white",
            "linecolor": "white",
            "ticks": ""
           }
          },
          "title": {
           "x": 0.05
          },
          "xaxis": {
           "automargin": true,
           "gridcolor": "white",
           "linecolor": "white",
           "ticks": "",
           "title": {
            "standoff": 15
           },
           "zerolinecolor": "white",
           "zerolinewidth": 2
          },
          "yaxis": {
           "automargin": true,
           "gridcolor": "white",
           "linecolor": "white",
           "ticks": "",
           "title": {
            "standoff": 15
           },
           "zerolinecolor": "white",
           "zerolinewidth": 2
          }
         }
        },
        "title": {
         "text": "Generalisation, Convergence and Overfitting - uniform"
        },
        "xaxis": {
         "range": [
          1,
          15
         ],
         "tickmode": "linear",
         "title": {
          "text": "Classifier Complexity (k)"
         }
        },
        "yaxis": {
         "range": [
          0,
          1
         ],
         "title": {
          "text": "Error Rate / Misclassification Rate"
         }
        }
       }
      }
     },
     "metadata": {},
     "output_type": "display_data"
    }
   ],
   "source": [
    "k=15\n",
    "training_error = pd.Series(index=range(1, k+1), dtype=float)\n",
    "test_error = pd.Series(index=range(1, k+1), dtype=float)\n",
    "for i in range(1, k+1):\n",
    "    knn = KNeighborsClassifier(n_neighbors=i, weights='uniform')\n",
    "    knn.fit(X_train, y_train)\n",
    "    training_error[i] = 1.0 - knn.score(X_train, y_train)\n",
    "    test_error[i] = 1.0 - knn.score(X_test, y_test)\n",
    "\n",
    "# Plot the training and test error for each value of k\n",
    "trace1 = go.Scatter(x=training_error.index, y=training_error, mode='lines+markers', name='Training Error')\n",
    "trace2 = go.Scatter(x=test_error.index, y=test_error, mode='lines+markers', name='Test Error')\n",
    "fig = go.Figure(data=[trace1, trace2])\n",
    "fig.update_layout(\n",
    "    title='Generalisation, Convergence and Overfitting - uniform',\n",
    "    xaxis_title='Classifier Complexity (k)',\n",
    "    yaxis_title='Error Rate / Misclassification Rate',\n",
    "    xaxis=dict(range=[1, k], tickmode='linear'),\n",
    "    yaxis=dict(range=[0, 1])\n",
    ")\n",
    "fig.show()"
   ]
  },
  {
   "cell_type": "markdown",
   "metadata": {},
   "source": [
    "kNN with distance weightings and k neigbours between 1 and 15"
   ]
  },
  {
   "cell_type": "code",
   "execution_count": 22,
   "metadata": {},
   "outputs": [
    {
     "data": {
      "application/vnd.plotly.v1+json": {
       "config": {
        "plotlyServerURL": "https://plot.ly"
       },
       "data": [
        {
         "mode": "lines+markers",
         "name": "Training Error",
         "type": "scatter",
         "x": [
          1,
          2,
          3,
          4,
          5,
          6,
          7,
          8,
          9,
          10,
          11,
          12,
          13,
          14,
          15
         ],
         "y": [
          0.00004698238831613022,
          0.0000067117697594154535,
          0.0000067117697594154535,
          0.0000067117697594154535,
          0.0000067117697594154535,
          0.0000067117697594154535,
          0.0000067117697594154535,
          0.0000067117697594154535,
          0.0000067117697594154535,
          0.0000067117697594154535,
          0.0000067117697594154535,
          0.0000067117697594154535,
          0.0000067117697594154535,
          0.0000067117697594154535,
          0.0000067117697594154535
         ]
        },
        {
         "mode": "lines+markers",
         "name": "Test Error",
         "type": "scatter",
         "x": [
          1,
          2,
          3,
          4,
          5,
          6,
          7,
          8,
          9,
          10,
          11,
          12,
          13,
          14,
          15
         ],
         "y": [
          0.033907860824742286,
          0.03361254295532645,
          0.036592568728522346,
          0.036055627147766334,
          0.037532216494845394,
          0.038418170103092786,
          0.03981421821305842,
          0.04061963058419249,
          0.04158612542955331,
          0.041961984536082464,
          0.04306271477663226,
          0.043707044673539475,
          0.04359965635738827,
          0.044217139175257714,
          0.044754080756013725
         ]
        }
       ],
       "layout": {
        "template": {
         "data": {
          "bar": [
           {
            "error_x": {
             "color": "#2a3f5f"
            },
            "error_y": {
             "color": "#2a3f5f"
            },
            "marker": {
             "line": {
              "color": "#E5ECF6",
              "width": 0.5
             },
             "pattern": {
              "fillmode": "overlay",
              "size": 10,
              "solidity": 0.2
             }
            },
            "type": "bar"
           }
          ],
          "barpolar": [
           {
            "marker": {
             "line": {
              "color": "#E5ECF6",
              "width": 0.5
             },
             "pattern": {
              "fillmode": "overlay",
              "size": 10,
              "solidity": 0.2
             }
            },
            "type": "barpolar"
           }
          ],
          "carpet": [
           {
            "aaxis": {
             "endlinecolor": "#2a3f5f",
             "gridcolor": "white",
             "linecolor": "white",
             "minorgridcolor": "white",
             "startlinecolor": "#2a3f5f"
            },
            "baxis": {
             "endlinecolor": "#2a3f5f",
             "gridcolor": "white",
             "linecolor": "white",
             "minorgridcolor": "white",
             "startlinecolor": "#2a3f5f"
            },
            "type": "carpet"
           }
          ],
          "choropleth": [
           {
            "colorbar": {
             "outlinewidth": 0,
             "ticks": ""
            },
            "type": "choropleth"
           }
          ],
          "contour": [
           {
            "colorbar": {
             "outlinewidth": 0,
             "ticks": ""
            },
            "colorscale": [
             [
              0,
              "#0d0887"
             ],
             [
              0.1111111111111111,
              "#46039f"
             ],
             [
              0.2222222222222222,
              "#7201a8"
             ],
             [
              0.3333333333333333,
              "#9c179e"
             ],
             [
              0.4444444444444444,
              "#bd3786"
             ],
             [
              0.5555555555555556,
              "#d8576b"
             ],
             [
              0.6666666666666666,
              "#ed7953"
             ],
             [
              0.7777777777777778,
              "#fb9f3a"
             ],
             [
              0.8888888888888888,
              "#fdca26"
             ],
             [
              1,
              "#f0f921"
             ]
            ],
            "type": "contour"
           }
          ],
          "contourcarpet": [
           {
            "colorbar": {
             "outlinewidth": 0,
             "ticks": ""
            },
            "type": "contourcarpet"
           }
          ],
          "heatmap": [
           {
            "colorbar": {
             "outlinewidth": 0,
             "ticks": ""
            },
            "colorscale": [
             [
              0,
              "#0d0887"
             ],
             [
              0.1111111111111111,
              "#46039f"
             ],
             [
              0.2222222222222222,
              "#7201a8"
             ],
             [
              0.3333333333333333,
              "#9c179e"
             ],
             [
              0.4444444444444444,
              "#bd3786"
             ],
             [
              0.5555555555555556,
              "#d8576b"
             ],
             [
              0.6666666666666666,
              "#ed7953"
             ],
             [
              0.7777777777777778,
              "#fb9f3a"
             ],
             [
              0.8888888888888888,
              "#fdca26"
             ],
             [
              1,
              "#f0f921"
             ]
            ],
            "type": "heatmap"
           }
          ],
          "heatmapgl": [
           {
            "colorbar": {
             "outlinewidth": 0,
             "ticks": ""
            },
            "colorscale": [
             [
              0,
              "#0d0887"
             ],
             [
              0.1111111111111111,
              "#46039f"
             ],
             [
              0.2222222222222222,
              "#7201a8"
             ],
             [
              0.3333333333333333,
              "#9c179e"
             ],
             [
              0.4444444444444444,
              "#bd3786"
             ],
             [
              0.5555555555555556,
              "#d8576b"
             ],
             [
              0.6666666666666666,
              "#ed7953"
             ],
             [
              0.7777777777777778,
              "#fb9f3a"
             ],
             [
              0.8888888888888888,
              "#fdca26"
             ],
             [
              1,
              "#f0f921"
             ]
            ],
            "type": "heatmapgl"
           }
          ],
          "histogram": [
           {
            "marker": {
             "pattern": {
              "fillmode": "overlay",
              "size": 10,
              "solidity": 0.2
             }
            },
            "type": "histogram"
           }
          ],
          "histogram2d": [
           {
            "colorbar": {
             "outlinewidth": 0,
             "ticks": ""
            },
            "colorscale": [
             [
              0,
              "#0d0887"
             ],
             [
              0.1111111111111111,
              "#46039f"
             ],
             [
              0.2222222222222222,
              "#7201a8"
             ],
             [
              0.3333333333333333,
              "#9c179e"
             ],
             [
              0.4444444444444444,
              "#bd3786"
             ],
             [
              0.5555555555555556,
              "#d8576b"
             ],
             [
              0.6666666666666666,
              "#ed7953"
             ],
             [
              0.7777777777777778,
              "#fb9f3a"
             ],
             [
              0.8888888888888888,
              "#fdca26"
             ],
             [
              1,
              "#f0f921"
             ]
            ],
            "type": "histogram2d"
           }
          ],
          "histogram2dcontour": [
           {
            "colorbar": {
             "outlinewidth": 0,
             "ticks": ""
            },
            "colorscale": [
             [
              0,
              "#0d0887"
             ],
             [
              0.1111111111111111,
              "#46039f"
             ],
             [
              0.2222222222222222,
              "#7201a8"
             ],
             [
              0.3333333333333333,
              "#9c179e"
             ],
             [
              0.4444444444444444,
              "#bd3786"
             ],
             [
              0.5555555555555556,
              "#d8576b"
             ],
             [
              0.6666666666666666,
              "#ed7953"
             ],
             [
              0.7777777777777778,
              "#fb9f3a"
             ],
             [
              0.8888888888888888,
              "#fdca26"
             ],
             [
              1,
              "#f0f921"
             ]
            ],
            "type": "histogram2dcontour"
           }
          ],
          "mesh3d": [
           {
            "colorbar": {
             "outlinewidth": 0,
             "ticks": ""
            },
            "type": "mesh3d"
           }
          ],
          "parcoords": [
           {
            "line": {
             "colorbar": {
              "outlinewidth": 0,
              "ticks": ""
             }
            },
            "type": "parcoords"
           }
          ],
          "pie": [
           {
            "automargin": true,
            "type": "pie"
           }
          ],
          "scatter": [
           {
            "fillpattern": {
             "fillmode": "overlay",
             "size": 10,
             "solidity": 0.2
            },
            "type": "scatter"
           }
          ],
          "scatter3d": [
           {
            "line": {
             "colorbar": {
              "outlinewidth": 0,
              "ticks": ""
             }
            },
            "marker": {
             "colorbar": {
              "outlinewidth": 0,
              "ticks": ""
             }
            },
            "type": "scatter3d"
           }
          ],
          "scattercarpet": [
           {
            "marker": {
             "colorbar": {
              "outlinewidth": 0,
              "ticks": ""
             }
            },
            "type": "scattercarpet"
           }
          ],
          "scattergeo": [
           {
            "marker": {
             "colorbar": {
              "outlinewidth": 0,
              "ticks": ""
             }
            },
            "type": "scattergeo"
           }
          ],
          "scattergl": [
           {
            "marker": {
             "colorbar": {
              "outlinewidth": 0,
              "ticks": ""
             }
            },
            "type": "scattergl"
           }
          ],
          "scattermapbox": [
           {
            "marker": {
             "colorbar": {
              "outlinewidth": 0,
              "ticks": ""
             }
            },
            "type": "scattermapbox"
           }
          ],
          "scatterpolar": [
           {
            "marker": {
             "colorbar": {
              "outlinewidth": 0,
              "ticks": ""
             }
            },
            "type": "scatterpolar"
           }
          ],
          "scatterpolargl": [
           {
            "marker": {
             "colorbar": {
              "outlinewidth": 0,
              "ticks": ""
             }
            },
            "type": "scatterpolargl"
           }
          ],
          "scatterternary": [
           {
            "marker": {
             "colorbar": {
              "outlinewidth": 0,
              "ticks": ""
             }
            },
            "type": "scatterternary"
           }
          ],
          "surface": [
           {
            "colorbar": {
             "outlinewidth": 0,
             "ticks": ""
            },
            "colorscale": [
             [
              0,
              "#0d0887"
             ],
             [
              0.1111111111111111,
              "#46039f"
             ],
             [
              0.2222222222222222,
              "#7201a8"
             ],
             [
              0.3333333333333333,
              "#9c179e"
             ],
             [
              0.4444444444444444,
              "#bd3786"
             ],
             [
              0.5555555555555556,
              "#d8576b"
             ],
             [
              0.6666666666666666,
              "#ed7953"
             ],
             [
              0.7777777777777778,
              "#fb9f3a"
             ],
             [
              0.8888888888888888,
              "#fdca26"
             ],
             [
              1,
              "#f0f921"
             ]
            ],
            "type": "surface"
           }
          ],
          "table": [
           {
            "cells": {
             "fill": {
              "color": "#EBF0F8"
             },
             "line": {
              "color": "white"
             }
            },
            "header": {
             "fill": {
              "color": "#C8D4E3"
             },
             "line": {
              "color": "white"
             }
            },
            "type": "table"
           }
          ]
         },
         "layout": {
          "annotationdefaults": {
           "arrowcolor": "#2a3f5f",
           "arrowhead": 0,
           "arrowwidth": 1
          },
          "autotypenumbers": "strict",
          "coloraxis": {
           "colorbar": {
            "outlinewidth": 0,
            "ticks": ""
           }
          },
          "colorscale": {
           "diverging": [
            [
             0,
             "#8e0152"
            ],
            [
             0.1,
             "#c51b7d"
            ],
            [
             0.2,
             "#de77ae"
            ],
            [
             0.3,
             "#f1b6da"
            ],
            [
             0.4,
             "#fde0ef"
            ],
            [
             0.5,
             "#f7f7f7"
            ],
            [
             0.6,
             "#e6f5d0"
            ],
            [
             0.7,
             "#b8e186"
            ],
            [
             0.8,
             "#7fbc41"
            ],
            [
             0.9,
             "#4d9221"
            ],
            [
             1,
             "#276419"
            ]
           ],
           "sequential": [
            [
             0,
             "#0d0887"
            ],
            [
             0.1111111111111111,
             "#46039f"
            ],
            [
             0.2222222222222222,
             "#7201a8"
            ],
            [
             0.3333333333333333,
             "#9c179e"
            ],
            [
             0.4444444444444444,
             "#bd3786"
            ],
            [
             0.5555555555555556,
             "#d8576b"
            ],
            [
             0.6666666666666666,
             "#ed7953"
            ],
            [
             0.7777777777777778,
             "#fb9f3a"
            ],
            [
             0.8888888888888888,
             "#fdca26"
            ],
            [
             1,
             "#f0f921"
            ]
           ],
           "sequentialminus": [
            [
             0,
             "#0d0887"
            ],
            [
             0.1111111111111111,
             "#46039f"
            ],
            [
             0.2222222222222222,
             "#7201a8"
            ],
            [
             0.3333333333333333,
             "#9c179e"
            ],
            [
             0.4444444444444444,
             "#bd3786"
            ],
            [
             0.5555555555555556,
             "#d8576b"
            ],
            [
             0.6666666666666666,
             "#ed7953"
            ],
            [
             0.7777777777777778,
             "#fb9f3a"
            ],
            [
             0.8888888888888888,
             "#fdca26"
            ],
            [
             1,
             "#f0f921"
            ]
           ]
          },
          "colorway": [
           "#636efa",
           "#EF553B",
           "#00cc96",
           "#ab63fa",
           "#FFA15A",
           "#19d3f3",
           "#FF6692",
           "#B6E880",
           "#FF97FF",
           "#FECB52"
          ],
          "font": {
           "color": "#2a3f5f"
          },
          "geo": {
           "bgcolor": "white",
           "lakecolor": "white",
           "landcolor": "#E5ECF6",
           "showlakes": true,
           "showland": true,
           "subunitcolor": "white"
          },
          "hoverlabel": {
           "align": "left"
          },
          "hovermode": "closest",
          "mapbox": {
           "style": "light"
          },
          "paper_bgcolor": "white",
          "plot_bgcolor": "#E5ECF6",
          "polar": {
           "angularaxis": {
            "gridcolor": "white",
            "linecolor": "white",
            "ticks": ""
           },
           "bgcolor": "#E5ECF6",
           "radialaxis": {
            "gridcolor": "white",
            "linecolor": "white",
            "ticks": ""
           }
          },
          "scene": {
           "xaxis": {
            "backgroundcolor": "#E5ECF6",
            "gridcolor": "white",
            "gridwidth": 2,
            "linecolor": "white",
            "showbackground": true,
            "ticks": "",
            "zerolinecolor": "white"
           },
           "yaxis": {
            "backgroundcolor": "#E5ECF6",
            "gridcolor": "white",
            "gridwidth": 2,
            "linecolor": "white",
            "showbackground": true,
            "ticks": "",
            "zerolinecolor": "white"
           },
           "zaxis": {
            "backgroundcolor": "#E5ECF6",
            "gridcolor": "white",
            "gridwidth": 2,
            "linecolor": "white",
            "showbackground": true,
            "ticks": "",
            "zerolinecolor": "white"
           }
          },
          "shapedefaults": {
           "line": {
            "color": "#2a3f5f"
           }
          },
          "ternary": {
           "aaxis": {
            "gridcolor": "white",
            "linecolor": "white",
            "ticks": ""
           },
           "baxis": {
            "gridcolor": "white",
            "linecolor": "white",
            "ticks": ""
           },
           "bgcolor": "#E5ECF6",
           "caxis": {
            "gridcolor": "white",
            "linecolor": "white",
            "ticks": ""
           }
          },
          "title": {
           "x": 0.05
          },
          "xaxis": {
           "automargin": true,
           "gridcolor": "white",
           "linecolor": "white",
           "ticks": "",
           "title": {
            "standoff": 15
           },
           "zerolinecolor": "white",
           "zerolinewidth": 2
          },
          "yaxis": {
           "automargin": true,
           "gridcolor": "white",
           "linecolor": "white",
           "ticks": "",
           "title": {
            "standoff": 15
           },
           "zerolinecolor": "white",
           "zerolinewidth": 2
          }
         }
        },
        "title": {
         "text": "Generalisation, Convergence and Overfitting - distance"
        },
        "xaxis": {
         "range": [
          1,
          15
         ],
         "tickmode": "linear",
         "title": {
          "text": "Classifier Complexity (k)"
         }
        },
        "yaxis": {
         "range": [
          0,
          1
         ],
         "title": {
          "text": "Error Rate / Misclassification Rate"
         }
        }
       }
      }
     },
     "metadata": {},
     "output_type": "display_data"
    }
   ],
   "source": [
    "k=15\n",
    "training_error = pd.Series(index=range(1, k+1), dtype=float)\n",
    "test_error = pd.Series(index=range(1, k+1), dtype=float)\n",
    "for i in range(1, k+1):\n",
    "    knn = KNeighborsClassifier(n_neighbors=i, weights='distance')\n",
    "    knn.fit(X_train, y_train)\n",
    "    training_error[i] = 1.0 - knn.score(X_train, y_train)\n",
    "    test_error[i] = 1.0 - knn.score(X_test, y_test)\n",
    "    \n",
    "# Plot the training and test error for each value of k\n",
    "trace1 = go.Scatter(x=training_error.index, y=training_error, mode='lines+markers', name='Training Error')\n",
    "trace2 = go.Scatter(x=test_error.index, y=test_error, mode='lines+markers', name='Test Error')\n",
    "fig = go.Figure(data=[trace1, trace2])\n",
    "fig.update_layout(\n",
    "    title='Generalisation, Convergence and Overfitting - distance',\n",
    "    xaxis_title='Classifier Complexity (k)',\n",
    "    yaxis_title='Error Rate / Misclassification Rate',\n",
    "    xaxis=dict(range=[1, k], tickmode='linear'),\n",
    "    yaxis=dict(range=[0, 1])\n",
    ")\n",
    "fig.show()"
   ]
  },
  {
   "cell_type": "markdown",
   "metadata": {},
   "source": [
    "Train a kNN classifier with distance weightings and k neighbours = 5"
   ]
  },
  {
   "cell_type": "code",
   "execution_count": 23,
   "metadata": {},
   "outputs": [
    {
     "name": "stdout",
     "output_type": "stream",
     "text": [
      "Test set score: 0.9580380154639175\n",
      "              precision    recall  f1-score   support\n",
      "\n",
      "    110700.0       1.00      1.00      1.00        45\n",
      "    110800.0       1.00      1.00      1.00        40\n",
      "    110900.0       0.94      0.95      0.95        66\n",
      "    111100.0       0.88      1.00      0.94        22\n",
      "    111200.0       0.99      0.97      0.98        99\n",
      "    111300.0       0.96      1.00      0.98        26\n",
      "    111400.0       1.00      0.85      0.92        33\n",
      "    111601.0       1.00      0.90      0.95        21\n",
      "    111602.0       0.95      1.00      0.98        20\n",
      "    111700.0       0.93      1.00      0.97        14\n",
      "    111901.0       1.00      1.00      1.00         1\n",
      "    112101.0       0.94      0.96      0.95        67\n",
      "    112200.0       1.00      1.00      1.00         2\n",
      "    112301.0       0.93      0.88      0.90        32\n",
      "    112401.0       1.00      1.00      1.00        47\n",
      "    112500.0       0.86      0.86      0.86        28\n",
      "    112600.0       0.89      0.98      0.94        52\n",
      "    112701.0       0.80      1.00      0.89         4\n",
      "    112800.0       1.00      1.00      1.00        17\n",
      "    112901.0       1.00      0.90      0.95        10\n",
      "    113000.0       1.00      1.00      1.00        41\n",
      "    113201.0       0.94      0.98      0.96        60\n",
      "    113402.0       0.94      0.95      0.94        95\n",
      "    113500.0       1.00      0.93      0.97        15\n",
      "    113600.0       1.00      1.00      1.00         7\n",
      "    113700.0       1.00      0.89      0.94        18\n",
      "    113800.0       1.00      1.00      1.00        36\n",
      "    113900.0       1.00      1.00      1.00         2\n",
      "    114000.0       1.00      1.00      1.00        17\n",
      "    114101.0       0.91      0.91      0.91        34\n",
      "    114102.0       1.00      1.00      1.00         4\n",
      "    114201.0       1.00      0.87      0.93        15\n",
      "    114400.0       1.00      1.00      1.00         9\n",
      "    114500.0       0.93      1.00      0.96        13\n",
      "    114600.0       0.89      0.74      0.81        34\n",
      "    114701.0       0.97      0.94      0.95        33\n",
      "    114801.0       0.91      0.87      0.89        71\n",
      "    114901.0       0.57      0.80      0.67        15\n",
      "    114902.0       0.86      1.00      0.92         6\n",
      "    115001.0       0.91      1.00      0.95        21\n",
      "    115002.0       0.00      0.00      0.00         1\n",
      "    115100.0       0.88      0.85      0.86        33\n",
      "    115200.0       0.82      0.82      0.82        22\n",
      "    115300.0       1.00      1.00      1.00         1\n",
      "    115400.0       1.00      0.90      0.95        10\n",
      "    115501.0       1.00      0.91      0.96        47\n",
      "    115601.0       0.86      0.95      0.90        57\n",
      "    115700.0       0.83      1.00      0.91        10\n",
      "    115800.0       1.00      1.00      1.00        37\n",
      "    115901.0       1.00      1.00      1.00        12\n",
      "    116101.0       1.00      0.99      1.00       159\n",
      "    116200.0       1.00      0.83      0.91         6\n",
      "    116300.0       0.91      0.83      0.87        12\n",
      "    116401.0       0.97      0.93      0.95        30\n",
      "    116500.0       0.93      1.00      0.96        13\n",
      "    116601.0       0.91      0.98      0.94        42\n",
      "    116701.0       1.00      1.00      1.00        16\n",
      "    116801.0       1.00      0.69      0.82        13\n",
      "    116900.0       0.97      0.94      0.95        32\n",
      "    117001.0       1.00      0.97      0.98        67\n",
      "    117002.0       1.00      1.00      1.00        65\n",
      "    117003.0       0.60      0.75      0.67         4\n",
      "    117100.0       0.96      0.96      0.96        27\n",
      "    117201.0       0.97      0.94      0.96        35\n",
      "    117202.0       0.95      0.86      0.90        21\n",
      "    117400.0       1.00      1.00      1.00         8\n",
      "    117500.0       0.70      1.00      0.83        19\n",
      "    117600.0       0.97      0.97      0.97        62\n",
      "    117700.0       0.98      0.98      0.98        42\n",
      "    117800.0       0.97      1.00      0.99        35\n",
      "    117900.0       1.00      0.94      0.97        48\n",
      "    118001.0       0.93      0.93      0.93        15\n",
      "    118100.0       1.00      1.00      1.00        34\n",
      "    118200.0       0.93      0.97      0.95        29\n",
      "    118300.0       0.99      0.99      0.99       134\n",
      "    118400.0       1.00      1.00      1.00         4\n",
      "    118501.0       0.88      0.83      0.86        18\n",
      "    118502.0       0.94      0.93      0.94        90\n",
      "    118600.0       0.95      0.95      0.95        19\n",
      "    118700.0       0.93      0.72      0.81        18\n",
      "    118900.0       0.94      0.83      0.88        18\n",
      "    119000.0       0.93      0.93      0.93        30\n",
      "    119100.0       1.00      1.00      1.00        32\n",
      "    119201.0       1.00      1.00      1.00        12\n",
      "    119400.0       0.95      0.96      0.96        56\n",
      "    119500.0       0.86      0.92      0.89        26\n",
      "    119600.0       1.00      1.00      1.00        28\n",
      "    119700.0       0.96      0.96      0.96        51\n",
      "    119800.0       0.95      1.00      0.97        78\n",
      "    119901.0       0.77      0.89      0.83        19\n",
      "    120000.0       0.94      1.00      0.97        16\n",
      "    120101.0       0.93      0.79      0.85        33\n",
      "    120202.0       0.80      1.00      0.89         8\n",
      "    120203.0       0.00      0.00      0.00         2\n",
      "    120301.0       0.83      1.00      0.91         5\n",
      "    120400.0       1.00      0.97      0.98        86\n",
      "    120500.0       0.85      1.00      0.92        29\n",
      "    120600.0       0.97      1.00      0.99        38\n",
      "    120701.0       1.00      0.92      0.96        12\n",
      "    120800.0       0.96      0.76      0.85        29\n",
      "    120900.0       0.96      0.88      0.92        25\n",
      "    121001.0       0.98      0.99      0.99       102\n",
      "    121100.0       0.95      0.99      0.97        76\n",
      "    121200.0       0.98      0.99      0.99       144\n",
      "    121300.0       0.97      1.00      0.98        64\n",
      "    121401.0       0.90      1.00      0.95        18\n",
      "    121500.0       0.98      0.98      0.98       120\n",
      "    121600.0       1.00      0.93      0.96        28\n",
      "    121701.0       0.33      0.50      0.40         2\n",
      "    121800.0       1.00      0.96      0.98        24\n",
      "    121901.0       0.91      0.88      0.90        34\n",
      "    122001.0       0.78      0.95      0.86        22\n",
      "    122101.0       0.94      0.81      0.87        21\n",
      "    122200.0       0.82      0.97      0.89        32\n",
      "    122300.0       0.94      1.00      0.97        32\n",
      "    122400.0       0.96      1.00      0.98        44\n",
      "    122501.0       0.98      0.93      0.95        88\n",
      "    122600.0       1.00      0.83      0.91        41\n",
      "    122700.0       0.96      0.98      0.97        55\n",
      "    122801.0       0.96      0.92      0.94        24\n",
      "    122802.0       0.93      1.00      0.96        27\n",
      "    122901.0       0.94      0.96      0.95        76\n",
      "    123000.0       1.00      0.96      0.98        74\n",
      "    123100.0       0.99      0.99      0.99        68\n",
      "    123200.0       0.94      0.91      0.92        32\n",
      "    123300.0       0.93      0.88      0.90        43\n",
      "    123400.0       0.94      0.97      0.96       212\n",
      "    123500.0       1.00      0.98      0.99       118\n",
      "    123600.0       0.90      0.90      0.90        63\n",
      "    123701.0       1.00      0.88      0.94        17\n",
      "    123702.0       0.88      1.00      0.93         7\n",
      "    123800.0       0.97      0.98      0.98        60\n",
      "    123900.0       1.00      0.92      0.96        12\n",
      "    124000.0       0.93      0.89      0.91        91\n",
      "    124100.0       1.00      1.00      1.00        24\n",
      "    124200.0       1.00      0.86      0.92        21\n",
      "    124301.0       0.97      0.98      0.98       130\n",
      "    124401.0       1.00      0.96      0.98        45\n",
      "    124500.0       0.97      0.95      0.96        63\n",
      "    124600.0       0.93      0.99      0.96        79\n",
      "    124700.0       1.00      0.90      0.95        21\n",
      "    124800.0       0.91      0.90      0.90        58\n",
      "    124900.0       0.93      0.97      0.95        40\n",
      "    125000.0       1.00      1.00      1.00        13\n",
      "    125100.0       1.00      0.99      1.00       191\n",
      "    125201.0       0.89      0.77      0.83        22\n",
      "    125202.0       0.84      0.93      0.88        41\n",
      "    125300.0       0.95      0.96      0.96        79\n",
      "    125400.0       1.00      1.00      1.00        19\n",
      "    125500.0       0.89      0.81      0.85        21\n",
      "    125600.0       0.93      0.82      0.87        66\n",
      "    125701.0       1.00      0.98      0.99        44\n",
      "    125800.0       0.94      0.91      0.92        64\n",
      "    125900.0       1.00      1.00      1.00        18\n",
      "    126000.0       1.00      0.80      0.89        10\n",
      "    126100.0       0.89      1.00      0.94        17\n",
      "    126200.0       0.76      0.94      0.84        33\n",
      "    126300.0       0.91      1.00      0.95        42\n",
      "    126401.0       0.93      0.94      0.93        80\n",
      "    126500.0       0.94      0.99      0.96        96\n",
      "    126601.0       0.99      1.00      1.00       352\n",
      "    126701.0       1.00      1.00      1.00       148\n",
      "    126702.0       0.94      0.91      0.92        32\n",
      "    126801.0       1.00      1.00      1.00        77\n",
      "    126901.0       0.93      1.00      0.96        27\n",
      "    127001.0       0.97      0.97      0.97       225\n",
      "    127002.0       0.95      0.95      0.95        62\n",
      "    127100.0       0.99      0.93      0.96        95\n",
      "    127200.0       0.98      0.99      0.98       196\n",
      "    127300.0       0.97      0.96      0.96       125\n",
      "    127400.0       1.00      0.83      0.91        29\n",
      "    127500.0       0.99      0.99      0.99       135\n",
      "    127601.0       0.95      0.96      0.95        77\n",
      "    127701.0       0.91      1.00      0.95        10\n",
      "    127801.0       0.97      0.97      0.97        58\n",
      "    127900.0       0.97      0.97      0.97        72\n",
      "    128000.0       1.00      1.00      1.00        16\n",
      "    128101.0       1.00      1.00      1.00       218\n",
      "    128200.0       0.99      1.00      0.99       323\n",
      "    128301.0       0.97      0.92      0.94        36\n",
      "    128401.0       0.92      0.97      0.95       101\n",
      "    128501.0       0.97      0.97      0.97        36\n",
      "    128601.0       0.99      0.99      0.99        67\n",
      "    128700.0       1.00      1.00      1.00       147\n",
      "    128800.0       0.93      0.96      0.94        26\n",
      "    128901.0       0.95      0.89      0.92        65\n",
      "    128902.0       1.00      0.94      0.97        17\n",
      "    129000.0       0.89      0.96      0.93        26\n",
      "    129101.0       1.00      0.86      0.93        22\n",
      "    129201.0       0.98      0.99      0.98       207\n",
      "    129300.0       1.00      0.90      0.95        63\n",
      "    129400.0       0.89      1.00      0.94        42\n",
      "    129501.0       0.93      0.82      0.88        17\n",
      "    129600.0       0.94      0.97      0.95        61\n",
      "    129700.0       1.00      0.71      0.83        21\n",
      "    129800.0       0.96      1.00      0.98        24\n",
      "    129901.0       1.00      0.82      0.90        17\n",
      "    129902.0       0.93      0.95      0.94       167\n",
      "    130000.0       0.94      0.97      0.95        32\n",
      "    130100.0       1.00      0.96      0.98        51\n",
      "    130200.0       0.99      1.00      0.99       377\n",
      "    130300.0       0.99      0.94      0.97       148\n",
      "    130400.0       0.88      0.97      0.92        60\n",
      "    130500.0       0.92      0.96      0.94        24\n",
      "    130601.0       0.97      0.97      0.97        37\n",
      "    130700.0       1.00      1.00      1.00        42\n",
      "    130801.0       0.97      0.98      0.97        59\n",
      "    130901.0       0.92      1.00      0.96        34\n",
      "    130902.0       0.80      0.87      0.83        23\n",
      "    131000.0       0.99      0.99      0.99       153\n",
      "    131100.0       0.98      1.00      0.99       124\n",
      "    131200.0       0.93      0.94      0.93        99\n",
      "    131300.0       0.88      0.97      0.92        29\n",
      "    131400.0       0.83      1.00      0.91         5\n",
      "    131500.0       0.98      0.97      0.97       134\n",
      "    131600.0       0.92      0.89      0.90        37\n",
      "    131700.0       0.98      0.95      0.96       101\n",
      "    131801.0       0.96      0.98      0.97       223\n",
      "    131802.0       0.85      0.74      0.79        23\n",
      "    131900.0       0.97      0.95      0.96        59\n",
      "    132001.0       0.94      0.98      0.96        92\n",
      "    132002.0       1.00      0.87      0.93        31\n",
      "    132100.0       0.95      0.97      0.96       109\n",
      "    132200.0       0.96      0.99      0.97       139\n",
      "    132300.0       0.92      0.88      0.90        51\n",
      "    132400.0       0.98      0.89      0.93        90\n",
      "    132501.0       0.78      0.50      0.61        14\n",
      "    132600.0       0.98      1.00      0.99       127\n",
      "    132700.0       0.97      1.00      0.98        60\n",
      "    132800.0       0.97      0.89      0.93        70\n",
      "    132900.0       0.93      0.97      0.95        69\n",
      "    133000.0       1.00      0.97      0.98        61\n",
      "    133100.0       0.97      0.97      0.97       154\n",
      "    133200.0       1.00      1.00      1.00         9\n",
      "    133301.0       1.00      0.98      0.99       119\n",
      "    133400.0       1.00      1.00      1.00         1\n",
      "    133500.0       0.96      0.99      0.97       268\n",
      "    133600.0       0.99      0.97      0.98       157\n",
      "    133700.0       1.00      1.00      1.00         3\n",
      "    133800.0       1.00      1.00      1.00        20\n",
      "    133900.0       0.98      0.97      0.97       208\n",
      "    134000.0       0.93      1.00      0.97        14\n",
      "    134100.0       1.00      0.98      0.99       105\n",
      "    134200.0       0.94      0.99      0.97       117\n",
      "    134301.0       0.95      0.92      0.94        88\n",
      "    134302.0       0.99      1.00      0.99        83\n",
      "    134400.0       0.97      0.98      0.98       190\n",
      "    134500.0       0.94      0.94      0.94        18\n",
      "    134600.0       0.95      0.92      0.93        61\n",
      "    134700.0       0.93      0.95      0.94        56\n",
      "    134800.0       0.99      0.98      0.98        84\n",
      "    134900.0       0.90      0.90      0.90        10\n",
      "    135000.0       0.97      0.96      0.96       139\n",
      "    135100.0       0.96      0.96      0.96        23\n",
      "    135200.0       0.99      0.97      0.98       151\n",
      "    135300.0       0.99      1.00      0.99        73\n",
      "    135401.0       0.95      0.92      0.93        38\n",
      "    135500.0       0.95      1.00      0.97        70\n",
      "    135600.0       1.00      0.98      0.99        53\n",
      "    135700.0       0.98      1.00      0.99       120\n",
      "    135800.0       0.98      0.98      0.98       107\n",
      "    135900.0       0.92      0.75      0.83        16\n",
      "    136001.0       0.99      0.98      0.99       245\n",
      "    136002.0       0.96      0.93      0.95        46\n",
      "    136100.0       0.97      0.97      0.97       218\n",
      "    136200.0       0.94      0.89      0.91        36\n",
      "    136300.0       0.98      0.93      0.96        69\n",
      "    136400.0       0.97      0.94      0.95        96\n",
      "    136501.0       0.96      0.88      0.92        26\n",
      "    136502.0       0.97      1.00      0.98        30\n",
      "    136601.0       0.90      0.91      0.90        57\n",
      "    136700.0       0.93      0.95      0.94        79\n",
      "    136801.0       1.00      0.96      0.98        55\n",
      "    136900.0       0.95      1.00      0.97       170\n",
      "    137000.0       0.91      0.79      0.85        38\n",
      "    137100.0       0.98      0.93      0.96        59\n",
      "    137201.0       1.00      0.93      0.96        14\n",
      "    137202.0       0.97      0.95      0.96        62\n",
      "    137300.0       0.91      0.59      0.71        17\n",
      "    137400.0       0.94      0.96      0.95        46\n",
      "    137500.0       1.00      0.94      0.97        17\n",
      "    137600.0       0.87      0.91      0.89        43\n",
      "    137701.0       0.98      0.99      0.98        82\n",
      "    137800.0       0.98      0.92      0.95        65\n",
      "    137901.0       0.98      1.00      0.99        86\n",
      "    138000.0       0.80      0.92      0.86        39\n",
      "    138100.0       0.88      0.91      0.89       110\n",
      "    138200.0       0.91      0.92      0.92       106\n",
      "    138301.0       0.87      0.98      0.92        54\n",
      "    138302.0       0.96      0.92      0.94        87\n",
      "    138400.0       0.96      0.97      0.96        89\n",
      "    138501.0       0.98      1.00      0.99       281\n",
      "    138502.0       0.93      0.93      0.93        15\n",
      "    138600.0       1.00      0.95      0.97        19\n",
      "    138700.0       0.99      0.97      0.98       247\n",
      "    138800.0       0.95      0.99      0.97        77\n",
      "    138901.0       0.95      1.00      0.97        72\n",
      "    139000.0       0.99      0.96      0.98        83\n",
      "    139100.0       0.94      0.94      0.94        80\n",
      "    139201.0       0.99      0.99      0.99       143\n",
      "    139300.0       0.99      0.93      0.96       125\n",
      "    139400.0       0.93      0.93      0.93        28\n",
      "    139501.0       0.85      0.94      0.89        18\n",
      "    139601.0       0.97      0.96      0.97       106\n",
      "    139700.0       0.95      0.99      0.97       118\n",
      "    139801.0       0.97      0.97      0.97        30\n",
      "    139802.0       0.87      0.90      0.89        30\n",
      "    139900.0       0.82      0.77      0.79        35\n",
      "    140000.0       0.92      0.91      0.92       117\n",
      "    140100.0       0.98      0.99      0.99       105\n",
      "    140200.0       0.95      0.92      0.94        65\n",
      "    140300.0       0.96      0.98      0.97       166\n",
      "    140400.0       0.99      0.97      0.98       214\n",
      "    140500.0       0.90      0.98      0.94        58\n",
      "    140601.0       0.94      0.94      0.94        48\n",
      "    140700.0       0.99      0.96      0.97        70\n",
      "    140800.0       0.86      0.99      0.92        67\n",
      "    140901.0       1.00      0.71      0.83         7\n",
      "    140902.0       1.00      1.00      1.00         6\n",
      "    141000.0       0.99      0.97      0.98       457\n",
      "    141101.0       0.99      0.98      0.98        90\n",
      "    141102.0       0.98      1.00      0.99        47\n",
      "    141201.0       0.94      0.85      0.89        52\n",
      "    141300.0       0.85      0.94      0.89        31\n",
      "    141500.0       0.97      0.96      0.96       136\n",
      "    141600.0       0.87      0.92      0.90        52\n",
      "    141700.0       0.94      0.86      0.90        35\n",
      "    141801.0       0.97      0.94      0.95        33\n",
      "    141802.0       1.00      0.96      0.98        24\n",
      "    141900.0       0.92      0.96      0.94        23\n",
      "    142001.0       0.93      0.92      0.93       140\n",
      "    142002.0       0.94      0.99      0.96        94\n",
      "    142101.0       0.90      0.96      0.92        45\n",
      "    142201.0       0.97      1.00      0.99        99\n",
      "    142202.0       0.88      0.88      0.88        24\n",
      "    142301.0       0.91      0.88      0.90        49\n",
      "    142400.0       0.86      0.67      0.75        27\n",
      "    142501.0       0.98      0.98      0.98        43\n",
      "    142600.0       0.96      0.95      0.96        57\n",
      "    142700.0       0.94      1.00      0.97        32\n",
      "    142801.0       0.96      0.90      0.93        30\n",
      "    142802.0       0.92      0.97      0.95        36\n",
      "    142901.0       0.99      0.95      0.97        85\n",
      "    143000.0       1.00      0.98      0.99        63\n",
      "    143100.0       0.93      1.00      0.97        43\n",
      "    143200.0       0.96      1.00      0.98        23\n",
      "    143301.0       0.98      0.99      0.99       317\n",
      "    143400.0       0.97      1.00      0.99       105\n",
      "    143500.0       0.94      0.92      0.93        48\n",
      "    143600.0       0.98      0.99      0.98        92\n",
      "    143700.0       0.97      0.98      0.98        64\n",
      "    143800.0       0.97      0.88      0.92        33\n",
      "    143900.0       0.81      0.76      0.79        17\n",
      "    144001.0       1.00      1.00      1.00        20\n",
      "    144101.0       0.91      0.94      0.92        32\n",
      "    144201.0       0.98      1.00      0.99        43\n",
      "    144300.0       0.90      0.88      0.89        41\n",
      "    144400.0       1.00      0.90      0.95        20\n",
      "    144500.0       1.00      0.90      0.95        10\n",
      "    144700.0       0.93      0.96      0.94       106\n",
      "    144800.0       0.99      1.00      1.00       151\n",
      "    144900.0       1.00      1.00      1.00        11\n",
      "    145000.0       0.95      0.96      0.96       151\n",
      "    145101.0       0.93      0.93      0.93        29\n",
      "    145102.0       1.00      1.00      1.00         5\n",
      "    145200.0       0.92      0.89      0.91        27\n",
      "    145300.0       0.90      0.97      0.94        37\n",
      "    145400.0       1.00      0.93      0.96        70\n",
      "    145500.0       0.99      0.99      0.99       161\n",
      "    145600.0       0.97      0.96      0.97        79\n",
      "    145800.0       0.98      1.00      0.99        51\n",
      "    145900.0       0.99      0.99      0.99       488\n",
      "    146000.0       1.00      0.93      0.96        29\n",
      "    146100.0       0.92      0.73      0.81        15\n",
      "    146201.0       0.94      0.88      0.91        33\n",
      "    146301.0       0.98      0.92      0.95        51\n",
      "    146302.0       0.93      1.00      0.96        51\n",
      "    146400.0       1.00      0.80      0.89        10\n",
      "    146501.0       1.00      1.00      1.00        18\n",
      "    146600.0       0.99      0.98      0.99       142\n",
      "    146700.0       0.98      0.99      0.99       191\n",
      "    146800.0       0.98      0.99      0.98       123\n",
      "    147001.0       0.86      0.90      0.88        20\n",
      "    147002.0       0.94      0.91      0.92        33\n",
      "    147100.0       0.98      0.97      0.97        89\n",
      "    147201.0       0.92      0.89      0.90        61\n",
      "    147202.0       0.91      0.93      0.92        54\n",
      "    147400.0       0.96      0.98      0.97       189\n",
      "    147500.0       0.95      0.97      0.96        86\n",
      "    147700.0       0.99      0.99      0.99       376\n",
      "    147800.0       1.00      1.00      1.00        15\n",
      "    147900.0       0.98      0.97      0.98       113\n",
      "    148000.0       0.88      0.96      0.92        23\n",
      "    148101.0       0.93      0.81      0.87        16\n",
      "    148102.0       0.98      0.95      0.97       126\n",
      "    148200.0       0.97      1.00      0.99        39\n",
      "    148300.0       0.93      0.93      0.93        14\n",
      "    148401.0       0.86      1.00      0.93        25\n",
      "    148501.0       0.98      0.93      0.95        56\n",
      "    148600.0       0.92      0.95      0.94        64\n",
      "    148800.0       1.00      0.93      0.96        28\n",
      "    148901.0       0.91      0.87      0.89        46\n",
      "    149001.0       0.97      0.99      0.98        68\n",
      "    149100.0       0.97      1.00      0.99       104\n",
      "    149200.0       0.92      0.96      0.94        83\n",
      "    149300.0       0.93      0.93      0.93        92\n",
      "    149400.0       0.94      0.85      0.89        34\n",
      "    149500.0       1.00      0.96      0.98        79\n",
      "    149600.0       1.00      1.00      1.00        63\n",
      "    149701.0       0.77      0.56      0.65        18\n",
      "    149702.0       0.83      0.81      0.82        37\n",
      "    149800.0       0.92      0.90      0.91        52\n",
      "    150000.0       0.98      1.00      0.99        93\n",
      "    150101.0       0.99      0.97      0.98       316\n",
      "    150200.0       0.93      0.94      0.94        86\n",
      "    150301.0       0.94      0.89      0.92        19\n",
      "    150302.0       0.96      1.00      0.98       114\n",
      "    150400.0       0.83      0.92      0.87        63\n",
      "    150500.0       1.00      0.97      0.98        31\n",
      "    150600.0       0.88      0.96      0.92        24\n",
      "    150700.0       0.94      0.92      0.93        72\n",
      "    150800.0       0.97      1.00      0.99        34\n",
      "    150900.0       1.00      0.92      0.96        73\n",
      "    151000.0       0.94      0.94      0.94        51\n",
      "    151200.0       0.98      0.98      0.98        63\n",
      "    151301.0       0.99      0.99      0.99        76\n",
      "    151400.0       0.95      0.99      0.97       187\n",
      "    151500.0       0.94      1.00      0.97        60\n",
      "    151600.0       0.98      0.97      0.98       108\n",
      "    151800.0       0.95      0.97      0.96       107\n",
      "    151900.0       0.99      0.96      0.97       148\n",
      "    152000.0       0.90      0.90      0.90        49\n",
      "    152101.0       0.99      0.94      0.96       101\n",
      "    152201.0       0.96      0.88      0.92        51\n",
      "    152300.0       0.96      0.97      0.97       100\n",
      "    152400.0       0.92      0.95      0.93        37\n",
      "    152500.0       1.00      1.00      1.00         3\n",
      "    152600.0       0.94      0.83      0.88        18\n",
      "    152700.0       1.00      1.00      1.00         8\n",
      "    152800.0       0.88      0.96      0.92       140\n",
      "    152900.0       0.89      0.89      0.89         9\n",
      "    153000.0       0.95      0.99      0.97       135\n",
      "    153100.0       0.98      0.97      0.97        58\n",
      "    153200.0       0.83      0.62      0.71        16\n",
      "    153301.0       0.89      1.00      0.94        47\n",
      "    153400.0       0.92      0.96      0.94        25\n",
      "    153500.0       0.97      0.97      0.97       216\n",
      "    153600.0       0.88      0.80      0.83        44\n",
      "    153700.0       0.93      0.91      0.92        55\n",
      "    153800.0       0.86      0.85      0.85        52\n",
      "    153900.0       0.91      0.98      0.94        43\n",
      "    154001.0       1.00      0.97      0.99        38\n",
      "    154101.0       0.97      0.89      0.93        37\n",
      "    154201.0       0.91      0.83      0.87        36\n",
      "    154202.0       0.94      0.89      0.91        18\n",
      "    154300.0       0.78      0.78      0.78        18\n",
      "    154400.0       0.99      0.91      0.95       103\n",
      "    154500.0       0.92      1.00      0.96        11\n",
      "    154600.0       0.98      0.98      0.98       113\n",
      "    154701.0       0.94      0.92      0.93        36\n",
      "    154801.0       0.98      0.94      0.96        53\n",
      "    154802.0       1.00      0.97      0.98        95\n",
      "    154901.0       0.98      0.96      0.97       125\n",
      "    154902.0       0.96      0.98      0.97       122\n",
      "    155000.0       0.86      1.00      0.92         6\n",
      "    155100.0       0.93      0.90      0.92        92\n",
      "    155200.0       0.95      0.97      0.96        40\n",
      "    155301.0       0.97      1.00      0.98        28\n",
      "    155401.0       0.98      0.96      0.97        54\n",
      "    155500.0       0.98      0.98      0.98       367\n",
      "    155601.0       0.94      0.94      0.94        52\n",
      "    155602.0       0.91      0.98      0.94        86\n",
      "    155701.0       0.90      0.97      0.93       116\n",
      "    155702.0       1.00      0.86      0.92        84\n",
      "    155801.0       0.93      0.88      0.91       110\n",
      "    155901.0       0.99      0.99      0.99        69\n",
      "    156000.0       0.92      0.95      0.93       102\n",
      "    156101.0       0.83      0.81      0.82        31\n",
      "    156201.0       0.99      0.96      0.97        74\n",
      "    156301.0       1.00      0.38      0.55         8\n",
      "    156400.0       1.00      0.50      0.67         2\n",
      "    156500.0       0.93      0.99      0.96        71\n",
      "    156601.0       0.89      0.91      0.90        44\n",
      "    156700.0       0.94      0.97      0.95        63\n",
      "    156800.0       0.86      1.00      0.92        67\n",
      "    156901.0       1.00      0.89      0.94         9\n",
      "    157000.0       0.98      0.99      0.99       123\n",
      "    157101.0       0.97      0.98      0.97       216\n",
      "    157200.0       0.90      0.84      0.87        56\n",
      "    157301.0       0.97      1.00      0.99        37\n",
      "    157400.0       1.00      1.00      1.00        15\n",
      "    157500.0       0.84      0.90      0.87        42\n",
      "    157600.0       0.96      0.94      0.95       158\n",
      "    157701.0       0.99      0.96      0.98       125\n",
      "    157702.0       0.88      0.96      0.92        77\n",
      "    157800.0       1.00      1.00      1.00        11\n",
      "    157901.0       0.96      0.99      0.97       108\n",
      "    158001.0       1.00      0.70      0.82        10\n",
      "    158300.0       0.94      0.92      0.93        50\n",
      "    158401.0       0.95      0.97      0.96        39\n",
      "    158402.0       0.94      1.00      0.97        46\n",
      "    158501.0       0.96      1.00      0.98        25\n",
      "    158502.0       0.97      0.89      0.93        37\n",
      "    158700.0       1.00      0.96      0.98        74\n",
      "    158800.0       0.96      0.94      0.95        71\n",
      "    158900.0       1.00      1.00      1.00         3\n",
      "    159000.0       1.00      0.93      0.96        54\n",
      "    159101.0       0.88      1.00      0.94        22\n",
      "    159201.0       0.72      0.67      0.69        27\n",
      "    159202.0       0.87      0.93      0.90        56\n",
      "    159301.0       0.96      0.94      0.95        79\n",
      "    159401.0       1.00      1.00      1.00         5\n",
      "    159500.0       0.90      0.90      0.90        31\n",
      "    159600.0       0.93      0.97      0.95        88\n",
      "    159700.0       0.62      0.73      0.67        11\n",
      "    159801.0       0.96      0.96      0.96        27\n",
      "    159900.0       0.98      0.99      0.98        89\n",
      "    160000.0       0.95      0.86      0.90        63\n",
      "    160100.0       0.98      0.96      0.97       171\n",
      "    160201.0       0.82      0.82      0.82        11\n",
      "    160202.0       0.88      0.97      0.92        30\n",
      "    160300.0       0.95      0.97      0.96        87\n",
      "    160401.0       1.00      0.94      0.97        48\n",
      "    160501.0       0.95      0.83      0.88        23\n",
      "    160601.0       0.86      0.97      0.91        70\n",
      "    160700.0       1.00      0.90      0.95        21\n",
      "    160800.0       0.94      0.96      0.95        49\n",
      "    160901.0       0.86      0.86      0.86        42\n",
      "    160902.0       0.94      0.97      0.96       102\n",
      "    161000.0       0.89      0.95      0.92        42\n",
      "    161100.0       1.00      1.00      1.00         8\n",
      "    161201.0       0.94      0.93      0.94        73\n",
      "    161300.0       0.96      0.93      0.95        76\n",
      "    161400.0       0.97      0.98      0.97        59\n",
      "    161500.0       1.00      1.00      1.00        13\n",
      "    161600.0       0.99      0.95      0.97       114\n",
      "    161700.0       1.00      1.00      1.00       115\n",
      "    161800.0       0.95      0.95      0.95        60\n",
      "    161900.0       0.95      0.95      0.95        55\n",
      "    162000.0       1.00      1.00      1.00        14\n",
      "    162101.0       0.86      1.00      0.92         6\n",
      "    162102.0       1.00      0.75      0.86         4\n",
      "    162200.0       0.99      1.00      0.99        78\n",
      "    162300.0       0.93      0.98      0.95       128\n",
      "    162400.0       0.98      1.00      0.99        60\n",
      "    162500.0       1.00      1.00      1.00         2\n",
      "    162602.0       1.00      1.00      1.00        13\n",
      "    162701.0       0.99      1.00      0.99        72\n",
      "    162800.0       1.00      0.93      0.97        15\n",
      "    162901.0       0.97      0.91      0.94        76\n",
      "    163001.0       0.97      0.92      0.94        61\n",
      "    163100.0       0.96      0.90      0.93       101\n",
      "    163200.0       0.96      0.96      0.96       154\n",
      "    163301.0       1.00      0.87      0.93        38\n",
      "    163501.0       0.88      0.98      0.92        50\n",
      "    163502.0       0.86      0.89      0.88        47\n",
      "    163600.0       0.95      0.95      0.95        75\n",
      "    163700.0       0.95      0.98      0.96       125\n",
      "    163803.0       1.00      0.93      0.96        40\n",
      "    163901.0       0.91      0.77      0.83        13\n",
      "    163902.0       1.00      0.40      0.57         5\n",
      "    164001.0       0.88      1.00      0.94        37\n",
      "    164100.0       0.78      0.82      0.80        17\n",
      "    164201.0       0.81      0.89      0.85        19\n",
      "    164302.0       1.00      1.00      1.00        57\n",
      "    164401.0       1.00      0.83      0.91        12\n",
      "    164500.0       1.00      1.00      1.00        15\n",
      "    164601.0       0.95      0.92      0.94        89\n",
      "    164602.0       0.78      0.82      0.80        22\n",
      "    164603.0       1.00      1.00      1.00        37\n",
      "    164700.0       0.89      1.00      0.94        17\n",
      "    164800.0       0.89      1.00      0.94         8\n",
      "    164900.0       1.00      0.67      0.80         3\n",
      "    165001.0       0.98      0.98      0.98        97\n",
      "    165101.0       0.92      0.93      0.93       128\n",
      "    165200.0       0.94      1.00      0.97        15\n",
      "    165301.0       0.94      0.93      0.93        54\n",
      "    165302.0       0.86      0.90      0.88        20\n",
      "    165400.0       0.80      0.88      0.84        32\n",
      "    165501.0       0.97      0.97      0.97        30\n",
      "    165502.0       1.00      1.00      1.00         3\n",
      "    165600.0       1.00      0.94      0.97        18\n",
      "    165700.0       0.92      0.98      0.95        45\n",
      "    165800.0       0.93      1.00      0.96        13\n",
      "    165901.0       0.91      1.00      0.95        10\n",
      "    166000.0       0.98      0.94      0.96        62\n",
      "    166100.0       0.75      0.75      0.75         4\n",
      "    166200.0       0.93      0.92      0.92        73\n",
      "    166301.0       0.89      0.90      0.90        81\n",
      "    166400.0       1.00      0.95      0.97        20\n",
      "    169700.0       0.00      0.00      0.00         1\n",
      "\n",
      "    accuracy                           0.96     37248\n",
      "   macro avg       0.94      0.93      0.93     37248\n",
      "weighted avg       0.96      0.96      0.96     37248\n",
      "\n"
     ]
    }
   ],
   "source": [
    "# Initialize the kNN classifier\n",
    "knn = KNeighborsClassifier(n_neighbors=10 ,weights='distance')\n",
    "# Train the classifier on the full training set\n",
    "knn.fit(X_train, y_train)\n",
    "\n",
    "# Evaluate the classifier on the test set\n",
    "test_score = knn.score(X_test, y_test)\n",
    "print(f\"Test set score: {test_score}\")\n",
    "\n",
    "# Predict on the test set\n",
    "y_pred = knn.predict(X_test)\n",
    "\n",
    "# Print the classification report\n",
    "print(classification_report(y_test, y_pred, zero_division=0))"
   ]
  },
  {
   "cell_type": "code",
   "execution_count": 24,
   "metadata": {},
   "outputs": [],
   "source": [
    "# Predict the missing values using the kNN model\n",
    "# Features for prediction\n",
    "X_predict = predict_df[['X', 'Y']]\n",
    "\n",
    "# Predict the missing values\n",
    "predictions = knn.predict(X_predict)\n",
    "\n",
    "# Create a new column and fill the missing values with the predicted ones\n",
    "cas_mesh_df['SA22023_V1_00_Filled'] = cas_mesh_df['SA22023_V1_00']\n",
    "\n",
    "# Fill the missing values in the original DataFrame\n",
    "cas_mesh_df.loc[cas_mesh_df['SA22023_V1_00_Filled'].isna(), 'SA22023_V1_00_Filled'] = predictions\n",
    "cas_mesh_df['SA22023_V1_00_Filled'] =  cas_mesh_df['SA22023_V1_00_Filled'].astype('int64')"
   ]
  },
  {
   "cell_type": "markdown",
   "metadata": {},
   "source": [
    "### Prepare the dataset"
   ]
  },
  {
   "cell_type": "code",
   "execution_count": 23,
   "metadata": {},
   "outputs": [
    {
     "data": {
      "text/html": [
       "<div>\n",
       "<style scoped>\n",
       "    .dataframe tbody tr th:only-of-type {\n",
       "        vertical-align: middle;\n",
       "    }\n",
       "\n",
       "    .dataframe tbody tr th {\n",
       "        vertical-align: top;\n",
       "    }\n",
       "\n",
       "    .dataframe thead th {\n",
       "        text-align: right;\n",
       "    }\n",
       "</style>\n",
       "<table border=\"1\" class=\"dataframe\">\n",
       "  <thead>\n",
       "    <tr style=\"text-align: right;\">\n",
       "      <th></th>\n",
       "      <th>SA22023_V1_00</th>\n",
       "      <th>SA22023_V1_00_NAME</th>\n",
       "      <th>SA22023_V1_00_NAME_ASCII</th>\n",
       "      <th>SA32023_V1_00</th>\n",
       "      <th>SA32023_V1_00_NAME</th>\n",
       "      <th>SA32023_V1_00_NAME_ASCII</th>\n",
       "    </tr>\n",
       "  </thead>\n",
       "  <tbody>\n",
       "    <tr>\n",
       "      <th>0</th>\n",
       "      <td>135500</td>\n",
       "      <td>Ōwairaka West</td>\n",
       "      <td>Owairaka West</td>\n",
       "      <td>51440</td>\n",
       "      <td>Mount Albert</td>\n",
       "      <td>Mount Albert</td>\n",
       "    </tr>\n",
       "    <tr>\n",
       "      <th>1</th>\n",
       "      <td>136400</td>\n",
       "      <td>Parnell West</td>\n",
       "      <td>Parnell West</td>\n",
       "      <td>51200</td>\n",
       "      <td>Parnell</td>\n",
       "      <td>Parnell</td>\n",
       "    </tr>\n",
       "    <tr>\n",
       "      <th>2</th>\n",
       "      <td>169901</td>\n",
       "      <td>Tuakau Rural</td>\n",
       "      <td>Tuakau Rural</td>\n",
       "      <td>52450</td>\n",
       "      <td>Tuakau</td>\n",
       "      <td>Tuakau</td>\n",
       "    </tr>\n",
       "    <tr>\n",
       "      <th>3</th>\n",
       "      <td>164302</td>\n",
       "      <td>Drury East</td>\n",
       "      <td>Drury East</td>\n",
       "      <td>52250</td>\n",
       "      <td>Drury</td>\n",
       "      <td>Drury</td>\n",
       "    </tr>\n",
       "    <tr>\n",
       "      <th>5</th>\n",
       "      <td>152300</td>\n",
       "      <td>East Tamaki</td>\n",
       "      <td>East Tamaki</td>\n",
       "      <td>51820</td>\n",
       "      <td>East Tamaki</td>\n",
       "      <td>East Tamaki</td>\n",
       "    </tr>\n",
       "  </tbody>\n",
       "</table>\n",
       "</div>"
      ],
      "text/plain": [
       "   SA22023_V1_00 SA22023_V1_00_NAME SA22023_V1_00_NAME_ASCII  SA32023_V1_00  \\\n",
       "0         135500      Ōwairaka West            Owairaka West          51440   \n",
       "1         136400       Parnell West             Parnell West          51200   \n",
       "2         169901       Tuakau Rural             Tuakau Rural          52450   \n",
       "3         164302         Drury East               Drury East          52250   \n",
       "5         152300        East Tamaki              East Tamaki          51820   \n",
       "\n",
       "  SA32023_V1_00_NAME SA32023_V1_00_NAME_ASCII  \n",
       "0       Mount Albert             Mount Albert  \n",
       "1            Parnell                  Parnell  \n",
       "2             Tuakau                   Tuakau  \n",
       "3              Drury                    Drury  \n",
       "5        East Tamaki              East Tamaki  "
      ]
     },
     "execution_count": 23,
     "metadata": {},
     "output_type": "execute_result"
    }
   ],
   "source": [
    "# Preapre additional information at the SA2 level\n",
    "meshblock_auckland_SA2_level_df = meshblock_auckland_full_df.iloc[:,3:9]\n",
    "meshblock_auckland_SA2_level_df = meshblock_auckland_SA2_level_df.drop_duplicates()\n",
    "meshblock_auckland_SA2_level_df.head()"
   ]
  },
  {
   "cell_type": "code",
   "execution_count": 56,
   "metadata": {},
   "outputs": [],
   "source": [
    "# Add the additional information to the meshblock data set and save to a CSV file\n",
    "cas_mesh_merged_df = pd.merge(cas_mesh_df,meshblock_auckland_SA2_level_df, left_on='SA22023_V1_00_Filled', right_on='SA22023_V1_00', how='left')\n",
    "cas_mesh_merged_df = cas_mesh_merged_df.drop(columns=['SA22023_V1_00_NAME_ASCII_x','SA22023_V1_00_y'])\n",
    "cas_mesh_merged_df = cas_mesh_merged_df.rename(columns={'SA22023_V1_00_x' : 'SA22023_V1_00_original', 'SA22023_V1_00_NAME_ASCII_y':'SA22023_V1_00_NAME_ASCII'})\n",
    "cas_mesh_merged_df.to_csv('cas_merged_with_SA2_data.csv', index=False)"
   ]
  },
  {
   "cell_type": "markdown",
   "metadata": {},
   "source": [
    "## Process auxilary data"
   ]
  },
  {
   "cell_type": "markdown",
   "metadata": {},
   "source": [
    "### Daily highway traffic counts data"
   ]
  },
  {
   "cell_type": "markdown",
   "metadata": {},
   "source": [
    "We use highway traffic count to represent the traffic volumes in Auckland - https://opendata-nzta.opendata.arcgis.com/datasets/NZTA::tms-daily-traffic-counts-api/explore"
   ]
  },
  {
   "cell_type": "code",
   "execution_count": 4,
   "metadata": {},
   "outputs": [],
   "source": [
    "daily_traffic_volume = pd.read_csv('Auckland_TMS_Telemetry_Sites.csv')\n",
    "\n",
    "# Split the Start Date and check if the time provided was in the am or pm. If it was pm then add one day to the reported data\n",
    "daily_traffic_volume['Split Start Date'] = daily_traffic_volume['Start Date'].str.split()\n",
    "daily_traffic_volume['Date'] = daily_traffic_volume['Split Start Date'].str[0]\n",
    "daily_traffic_volume['AM PM'] = daily_traffic_volume['Split Start Date'].str[2]\n",
    "daily_traffic_volume['Date'] = pd.to_datetime(daily_traffic_volume['Date'])\n",
    "daily_traffic_volume['Adjusted Date'] = np.where(daily_traffic_volume['AM PM'] == 'PM', daily_traffic_volume['Date'] + pd.Timedelta(days=1), daily_traffic_volume['Date'])\n"
   ]
  },
  {
   "cell_type": "code",
   "execution_count": 5,
   "metadata": {},
   "outputs": [],
   "source": [
    "# Create additional columns from the \"Start Date\" column\n",
    "daily_traffic_volume['Period'] = daily_traffic_volume['Date'].apply(lambda x: x.replace(day=1))\n",
    "daily_traffic_volume['Year'] = daily_traffic_volume['Date'].dt.year\n",
    "daily_traffic_volume['Month'] = daily_traffic_volume['Date'].dt.month\n",
    "daily_traffic_volume['HalfYear'] = daily_traffic_volume.apply(lambda row: f\"{row['Year']}H1\" if row['Month'] <= 6 else f\"{row['Year']}H2\", axis=1)\n",
    "filtered_daily_traffic_volume =  daily_traffic_volume[(daily_traffic_volume['Date'] >= '2018-01-01')&(daily_traffic_volume['Date'] <= '2024-04-30')]"
   ]
  },
  {
   "cell_type": "markdown",
   "metadata": {},
   "source": [
    "#### Daily traffic volumes"
   ]
  },
  {
   "cell_type": "code",
   "execution_count": 6,
   "metadata": {},
   "outputs": [
    {
     "data": {
      "application/vnd.plotly.v1+json": {
       "config": {
        "plotlyServerURL": "https://plot.ly"
       },
       "data": [
        {
         "hovertemplate": "Date=%{x}<br>Traffic Count=%{y}<extra></extra>",
         "legendgroup": "",
         "line": {
          "color": "#636efa",
          "dash": "solid"
         },
         "marker": {
          "symbol": "circle"
         },
         "mode": "lines",
         "name": "",
         "showlegend": false,
         "type": "scattergl",
         "x": [
          "2018-01-01T00:00:00",
          "2018-01-02T00:00:00",
          "2018-01-03T00:00:00",
          "2018-01-04T00:00:00",
          "2018-01-05T00:00:00",
          "2018-01-06T00:00:00",
          "2018-01-07T00:00:00",
          "2018-01-08T00:00:00",
          "2018-01-09T00:00:00",
          "2018-01-10T00:00:00",
          "2018-01-11T00:00:00",
          "2018-01-12T00:00:00",
          "2018-01-13T00:00:00",
          "2018-01-14T00:00:00",
          "2018-01-15T00:00:00",
          "2018-01-16T00:00:00",
          "2018-01-17T00:00:00",
          "2018-01-18T00:00:00",
          "2018-01-19T00:00:00",
          "2018-01-20T00:00:00",
          "2018-01-21T00:00:00",
          "2018-01-22T00:00:00",
          "2018-01-23T00:00:00",
          "2018-01-24T00:00:00",
          "2018-01-25T00:00:00",
          "2018-01-26T00:00:00",
          "2018-01-27T00:00:00",
          "2018-01-28T00:00:00",
          "2018-01-29T00:00:00",
          "2018-01-30T00:00:00",
          "2018-01-31T00:00:00",
          "2018-02-01T00:00:00",
          "2018-02-02T00:00:00",
          "2018-02-03T00:00:00",
          "2018-02-04T00:00:00",
          "2018-02-05T00:00:00",
          "2018-02-06T00:00:00",
          "2018-02-07T00:00:00",
          "2018-02-08T00:00:00",
          "2018-02-09T00:00:00",
          "2018-02-10T00:00:00",
          "2018-02-11T00:00:00",
          "2018-02-12T00:00:00",
          "2018-02-13T00:00:00",
          "2018-02-14T00:00:00",
          "2018-02-15T00:00:00",
          "2018-02-16T00:00:00",
          "2018-02-17T00:00:00",
          "2018-02-18T00:00:00",
          "2018-02-19T00:00:00",
          "2018-02-20T00:00:00",
          "2018-02-21T00:00:00",
          "2018-02-22T00:00:00",
          "2018-02-23T00:00:00",
          "2018-02-24T00:00:00",
          "2018-02-25T00:00:00",
          "2018-02-26T00:00:00",
          "2018-02-27T00:00:00",
          "2018-02-28T00:00:00",
          "2018-03-01T00:00:00",
          "2018-03-02T00:00:00",
          "2018-03-03T00:00:00",
          "2018-03-04T00:00:00",
          "2018-03-05T00:00:00",
          "2018-03-06T00:00:00",
          "2018-03-07T00:00:00",
          "2018-03-08T00:00:00",
          "2018-03-09T00:00:00",
          "2018-03-10T00:00:00",
          "2018-03-11T00:00:00",
          "2018-03-12T00:00:00",
          "2018-03-13T00:00:00",
          "2018-03-14T00:00:00",
          "2018-03-15T00:00:00",
          "2018-03-16T00:00:00",
          "2018-03-17T00:00:00",
          "2018-03-18T00:00:00",
          "2018-03-19T00:00:00",
          "2018-03-20T00:00:00",
          "2018-03-21T00:00:00",
          "2018-03-22T00:00:00",
          "2018-03-23T00:00:00",
          "2018-03-24T00:00:00",
          "2018-03-25T00:00:00",
          "2018-03-26T00:00:00",
          "2018-03-27T00:00:00",
          "2018-03-28T00:00:00",
          "2018-03-29T00:00:00",
          "2018-03-30T00:00:00",
          "2018-03-31T00:00:00",
          "2018-04-01T00:00:00",
          "2018-04-02T00:00:00",
          "2018-04-03T00:00:00",
          "2018-04-04T00:00:00",
          "2018-04-05T00:00:00",
          "2018-04-06T00:00:00",
          "2018-04-07T00:00:00",
          "2018-04-08T00:00:00",
          "2018-04-09T00:00:00",
          "2018-04-10T00:00:00",
          "2018-04-11T00:00:00",
          "2018-04-12T00:00:00",
          "2018-04-13T00:00:00",
          "2018-04-14T00:00:00",
          "2018-04-15T00:00:00",
          "2018-04-16T00:00:00",
          "2018-04-17T00:00:00",
          "2018-04-18T00:00:00",
          "2018-04-19T00:00:00",
          "2018-04-20T00:00:00",
          "2018-04-21T00:00:00",
          "2018-04-22T00:00:00",
          "2018-04-23T00:00:00",
          "2018-04-24T00:00:00",
          "2018-04-25T00:00:00",
          "2018-04-26T00:00:00",
          "2018-04-27T00:00:00",
          "2018-04-28T00:00:00",
          "2018-04-29T00:00:00",
          "2018-04-30T00:00:00",
          "2018-05-01T00:00:00",
          "2018-05-02T00:00:00",
          "2018-05-03T00:00:00",
          "2018-05-04T00:00:00",
          "2018-05-05T00:00:00",
          "2018-05-06T00:00:00",
          "2018-05-07T00:00:00",
          "2018-05-08T00:00:00",
          "2018-05-09T00:00:00",
          "2018-05-10T00:00:00",
          "2018-05-11T00:00:00",
          "2018-05-12T00:00:00",
          "2018-05-13T00:00:00",
          "2018-05-14T00:00:00",
          "2018-05-15T00:00:00",
          "2018-05-16T00:00:00",
          "2018-05-17T00:00:00",
          "2018-05-18T00:00:00",
          "2018-05-19T00:00:00",
          "2018-05-20T00:00:00",
          "2018-05-21T00:00:00",
          "2018-05-22T00:00:00",
          "2018-05-23T00:00:00",
          "2018-05-24T00:00:00",
          "2018-05-25T00:00:00",
          "2018-05-26T00:00:00",
          "2018-05-27T00:00:00",
          "2018-05-28T00:00:00",
          "2018-05-29T00:00:00",
          "2018-05-30T00:00:00",
          "2018-05-31T00:00:00",
          "2018-06-01T00:00:00",
          "2018-06-02T00:00:00",
          "2018-06-03T00:00:00",
          "2018-06-04T00:00:00",
          "2018-06-05T00:00:00",
          "2018-06-06T00:00:00",
          "2018-06-07T00:00:00",
          "2018-06-08T00:00:00",
          "2018-06-09T00:00:00",
          "2018-06-10T00:00:00",
          "2018-06-11T00:00:00",
          "2018-06-12T00:00:00",
          "2018-06-13T00:00:00",
          "2018-06-14T00:00:00",
          "2018-06-15T00:00:00",
          "2018-06-16T00:00:00",
          "2018-06-17T00:00:00",
          "2018-06-18T00:00:00",
          "2018-06-19T00:00:00",
          "2018-06-20T00:00:00",
          "2018-06-21T00:00:00",
          "2018-06-22T00:00:00",
          "2018-06-23T00:00:00",
          "2018-06-24T00:00:00",
          "2018-06-25T00:00:00",
          "2018-06-26T00:00:00",
          "2018-06-27T00:00:00",
          "2018-06-28T00:00:00",
          "2018-06-29T00:00:00",
          "2018-06-30T00:00:00",
          "2018-07-01T00:00:00",
          "2018-07-02T00:00:00",
          "2018-07-03T00:00:00",
          "2018-07-04T00:00:00",
          "2018-07-05T00:00:00",
          "2018-07-06T00:00:00",
          "2018-07-07T00:00:00",
          "2018-07-08T00:00:00",
          "2018-07-09T00:00:00",
          "2018-07-10T00:00:00",
          "2018-07-11T00:00:00",
          "2018-07-12T00:00:00",
          "2018-07-13T00:00:00",
          "2018-07-14T00:00:00",
          "2018-07-15T00:00:00",
          "2018-07-16T00:00:00",
          "2018-07-17T00:00:00",
          "2018-07-18T00:00:00",
          "2018-07-19T00:00:00",
          "2018-07-20T00:00:00",
          "2018-07-21T00:00:00",
          "2018-07-22T00:00:00",
          "2018-07-23T00:00:00",
          "2018-07-24T00:00:00",
          "2018-07-25T00:00:00",
          "2018-07-26T00:00:00",
          "2018-07-27T00:00:00",
          "2018-07-28T00:00:00",
          "2018-07-29T00:00:00",
          "2018-07-30T00:00:00",
          "2018-07-31T00:00:00",
          "2018-08-01T00:00:00",
          "2018-08-02T00:00:00",
          "2018-08-03T00:00:00",
          "2018-08-04T00:00:00",
          "2018-08-05T00:00:00",
          "2018-08-06T00:00:00",
          "2018-08-07T00:00:00",
          "2018-08-08T00:00:00",
          "2018-08-09T00:00:00",
          "2018-08-10T00:00:00",
          "2018-08-11T00:00:00",
          "2018-08-12T00:00:00",
          "2018-08-13T00:00:00",
          "2018-08-14T00:00:00",
          "2018-08-15T00:00:00",
          "2018-08-16T00:00:00",
          "2018-08-17T00:00:00",
          "2018-08-18T00:00:00",
          "2018-08-19T00:00:00",
          "2018-08-20T00:00:00",
          "2018-08-21T00:00:00",
          "2018-08-22T00:00:00",
          "2018-08-23T00:00:00",
          "2018-08-24T00:00:00",
          "2018-08-25T00:00:00",
          "2018-08-26T00:00:00",
          "2018-08-27T00:00:00",
          "2018-08-28T00:00:00",
          "2018-08-29T00:00:00",
          "2018-08-30T00:00:00",
          "2018-08-31T00:00:00",
          "2018-09-01T00:00:00",
          "2018-09-02T00:00:00",
          "2018-09-03T00:00:00",
          "2018-09-04T00:00:00",
          "2018-09-05T00:00:00",
          "2018-09-06T00:00:00",
          "2018-09-07T00:00:00",
          "2018-09-08T00:00:00",
          "2018-09-09T00:00:00",
          "2018-09-10T00:00:00",
          "2018-09-11T00:00:00",
          "2018-09-12T00:00:00",
          "2018-09-13T00:00:00",
          "2018-09-14T00:00:00",
          "2018-09-15T00:00:00",
          "2018-09-16T00:00:00",
          "2018-09-17T00:00:00",
          "2018-09-18T00:00:00",
          "2018-09-19T00:00:00",
          "2018-09-20T00:00:00",
          "2018-09-21T00:00:00",
          "2018-09-22T00:00:00",
          "2018-09-23T00:00:00",
          "2018-09-24T00:00:00",
          "2018-09-25T00:00:00",
          "2018-09-26T00:00:00",
          "2018-09-27T00:00:00",
          "2018-09-28T00:00:00",
          "2018-09-29T00:00:00",
          "2018-09-30T00:00:00",
          "2018-10-01T00:00:00",
          "2018-10-02T00:00:00",
          "2018-10-03T00:00:00",
          "2018-10-04T00:00:00",
          "2018-10-05T00:00:00",
          "2018-10-06T00:00:00",
          "2018-10-07T00:00:00",
          "2018-10-08T00:00:00",
          "2018-10-09T00:00:00",
          "2018-10-10T00:00:00",
          "2018-10-11T00:00:00",
          "2018-10-12T00:00:00",
          "2018-10-13T00:00:00",
          "2018-10-14T00:00:00",
          "2018-10-15T00:00:00",
          "2018-10-16T00:00:00",
          "2018-10-17T00:00:00",
          "2018-10-18T00:00:00",
          "2018-10-19T00:00:00",
          "2018-10-20T00:00:00",
          "2018-10-21T00:00:00",
          "2018-10-22T00:00:00",
          "2018-10-23T00:00:00",
          "2018-10-24T00:00:00",
          "2018-10-25T00:00:00",
          "2018-10-26T00:00:00",
          "2018-10-27T00:00:00",
          "2018-10-28T00:00:00",
          "2018-10-29T00:00:00",
          "2018-10-30T00:00:00",
          "2018-10-31T00:00:00",
          "2018-11-01T00:00:00",
          "2018-11-02T00:00:00",
          "2018-11-03T00:00:00",
          "2018-11-04T00:00:00",
          "2018-11-05T00:00:00",
          "2018-11-06T00:00:00",
          "2018-11-07T00:00:00",
          "2018-11-08T00:00:00",
          "2018-11-09T00:00:00",
          "2018-11-10T00:00:00",
          "2018-11-11T00:00:00",
          "2018-11-12T00:00:00",
          "2018-11-13T00:00:00",
          "2018-11-14T00:00:00",
          "2018-11-15T00:00:00",
          "2018-11-16T00:00:00",
          "2018-11-17T00:00:00",
          "2018-11-18T00:00:00",
          "2018-11-19T00:00:00",
          "2018-11-20T00:00:00",
          "2018-11-21T00:00:00",
          "2018-11-22T00:00:00",
          "2018-11-23T00:00:00",
          "2018-11-24T00:00:00",
          "2018-11-25T00:00:00",
          "2018-11-26T00:00:00",
          "2018-11-27T00:00:00",
          "2018-11-28T00:00:00",
          "2018-11-29T00:00:00",
          "2018-11-30T00:00:00",
          "2018-12-01T00:00:00",
          "2018-12-02T00:00:00",
          "2018-12-03T00:00:00",
          "2018-12-04T00:00:00",
          "2018-12-05T00:00:00",
          "2018-12-06T00:00:00",
          "2018-12-07T00:00:00",
          "2018-12-08T00:00:00",
          "2018-12-09T00:00:00",
          "2018-12-10T00:00:00",
          "2018-12-11T00:00:00",
          "2018-12-12T00:00:00",
          "2018-12-13T00:00:00",
          "2018-12-14T00:00:00",
          "2018-12-15T00:00:00",
          "2018-12-16T00:00:00",
          "2018-12-17T00:00:00",
          "2018-12-18T00:00:00",
          "2018-12-19T00:00:00",
          "2018-12-20T00:00:00",
          "2018-12-21T00:00:00",
          "2018-12-22T00:00:00",
          "2018-12-23T00:00:00",
          "2018-12-24T00:00:00",
          "2018-12-25T00:00:00",
          "2018-12-26T00:00:00",
          "2018-12-27T00:00:00",
          "2018-12-28T00:00:00",
          "2018-12-29T00:00:00",
          "2018-12-30T00:00:00",
          "2018-12-31T00:00:00",
          "2019-01-01T00:00:00",
          "2019-01-02T00:00:00",
          "2019-01-03T00:00:00",
          "2019-01-04T00:00:00",
          "2019-01-05T00:00:00",
          "2019-01-06T00:00:00",
          "2019-01-07T00:00:00",
          "2019-01-08T00:00:00",
          "2019-01-09T00:00:00",
          "2019-01-10T00:00:00",
          "2019-01-11T00:00:00",
          "2019-01-12T00:00:00",
          "2019-01-13T00:00:00",
          "2019-01-14T00:00:00",
          "2019-01-15T00:00:00",
          "2019-01-16T00:00:00",
          "2019-01-17T00:00:00",
          "2019-01-18T00:00:00",
          "2019-01-19T00:00:00",
          "2019-01-20T00:00:00",
          "2019-01-21T00:00:00",
          "2019-01-22T00:00:00",
          "2019-01-23T00:00:00",
          "2019-01-24T00:00:00",
          "2019-01-25T00:00:00",
          "2019-01-26T00:00:00",
          "2019-01-27T00:00:00",
          "2019-01-28T00:00:00",
          "2019-01-29T00:00:00",
          "2019-01-30T00:00:00",
          "2019-01-31T00:00:00",
          "2019-02-01T00:00:00",
          "2019-02-02T00:00:00",
          "2019-02-03T00:00:00",
          "2019-02-04T00:00:00",
          "2019-02-05T00:00:00",
          "2019-02-06T00:00:00",
          "2019-02-07T00:00:00",
          "2019-02-08T00:00:00",
          "2019-02-09T00:00:00",
          "2019-02-10T00:00:00",
          "2019-02-11T00:00:00",
          "2019-02-12T00:00:00",
          "2019-02-13T00:00:00",
          "2019-02-14T00:00:00",
          "2019-02-15T00:00:00",
          "2019-02-16T00:00:00",
          "2019-02-17T00:00:00",
          "2019-02-18T00:00:00",
          "2019-02-19T00:00:00",
          "2019-02-20T00:00:00",
          "2019-02-21T00:00:00",
          "2019-02-22T00:00:00",
          "2019-02-23T00:00:00",
          "2019-02-24T00:00:00",
          "2019-02-25T00:00:00",
          "2019-02-26T00:00:00",
          "2019-02-27T00:00:00",
          "2019-02-28T00:00:00",
          "2019-03-01T00:00:00",
          "2019-03-02T00:00:00",
          "2019-03-03T00:00:00",
          "2019-03-04T00:00:00",
          "2019-03-05T00:00:00",
          "2019-03-06T00:00:00",
          "2019-03-07T00:00:00",
          "2019-03-08T00:00:00",
          "2019-03-09T00:00:00",
          "2019-03-10T00:00:00",
          "2019-03-11T00:00:00",
          "2019-03-12T00:00:00",
          "2019-03-13T00:00:00",
          "2019-03-14T00:00:00",
          "2019-03-15T00:00:00",
          "2019-03-16T00:00:00",
          "2019-03-17T00:00:00",
          "2019-03-18T00:00:00",
          "2019-03-19T00:00:00",
          "2019-03-20T00:00:00",
          "2019-03-21T00:00:00",
          "2019-03-22T00:00:00",
          "2019-03-23T00:00:00",
          "2019-03-24T00:00:00",
          "2019-03-25T00:00:00",
          "2019-03-26T00:00:00",
          "2019-03-27T00:00:00",
          "2019-03-28T00:00:00",
          "2019-03-29T00:00:00",
          "2019-03-30T00:00:00",
          "2019-03-31T00:00:00",
          "2019-04-01T00:00:00",
          "2019-04-02T00:00:00",
          "2019-04-03T00:00:00",
          "2019-04-04T00:00:00",
          "2019-04-05T00:00:00",
          "2019-04-06T00:00:00",
          "2019-04-07T00:00:00",
          "2019-04-08T00:00:00",
          "2019-04-09T00:00:00",
          "2019-04-10T00:00:00",
          "2019-04-11T00:00:00",
          "2019-04-12T00:00:00",
          "2019-04-13T00:00:00",
          "2019-04-14T00:00:00",
          "2019-04-15T00:00:00",
          "2019-04-16T00:00:00",
          "2019-04-17T00:00:00",
          "2019-04-18T00:00:00",
          "2019-04-19T00:00:00",
          "2019-04-20T00:00:00",
          "2019-04-21T00:00:00",
          "2019-04-22T00:00:00",
          "2019-04-23T00:00:00",
          "2019-04-24T00:00:00",
          "2019-04-25T00:00:00",
          "2019-04-26T00:00:00",
          "2019-04-27T00:00:00",
          "2019-04-28T00:00:00",
          "2019-04-29T00:00:00",
          "2019-04-30T00:00:00",
          "2019-05-01T00:00:00",
          "2019-05-02T00:00:00",
          "2019-05-03T00:00:00",
          "2019-05-04T00:00:00",
          "2019-05-05T00:00:00",
          "2019-05-06T00:00:00",
          "2019-05-07T00:00:00",
          "2019-05-08T00:00:00",
          "2019-05-09T00:00:00",
          "2019-05-10T00:00:00",
          "2019-05-11T00:00:00",
          "2019-05-12T00:00:00",
          "2019-05-13T00:00:00",
          "2019-05-14T00:00:00",
          "2019-05-15T00:00:00",
          "2019-05-16T00:00:00",
          "2019-05-17T00:00:00",
          "2019-05-18T00:00:00",
          "2019-05-19T00:00:00",
          "2019-05-20T00:00:00",
          "2019-05-21T00:00:00",
          "2019-05-22T00:00:00",
          "2019-05-23T00:00:00",
          "2019-05-24T00:00:00",
          "2019-05-25T00:00:00",
          "2019-05-26T00:00:00",
          "2019-05-27T00:00:00",
          "2019-05-28T00:00:00",
          "2019-05-29T00:00:00",
          "2019-05-30T00:00:00",
          "2019-05-31T00:00:00",
          "2019-06-01T00:00:00",
          "2019-06-02T00:00:00",
          "2019-06-03T00:00:00",
          "2019-06-04T00:00:00",
          "2019-06-05T00:00:00",
          "2019-06-06T00:00:00",
          "2019-06-07T00:00:00",
          "2019-06-08T00:00:00",
          "2019-06-09T00:00:00",
          "2019-06-10T00:00:00",
          "2019-06-11T00:00:00",
          "2019-06-12T00:00:00",
          "2019-06-13T00:00:00",
          "2019-06-14T00:00:00",
          "2019-06-15T00:00:00",
          "2019-06-16T00:00:00",
          "2019-06-17T00:00:00",
          "2019-06-18T00:00:00",
          "2019-06-19T00:00:00",
          "2019-06-20T00:00:00",
          "2019-06-21T00:00:00",
          "2019-06-22T00:00:00",
          "2019-06-23T00:00:00",
          "2019-06-24T00:00:00",
          "2019-06-25T00:00:00",
          "2019-06-26T00:00:00",
          "2019-06-27T00:00:00",
          "2019-06-28T00:00:00",
          "2019-06-29T00:00:00",
          "2019-06-30T00:00:00",
          "2019-07-01T00:00:00",
          "2019-07-02T00:00:00",
          "2019-07-03T00:00:00",
          "2019-07-04T00:00:00",
          "2019-07-05T00:00:00",
          "2019-07-06T00:00:00",
          "2019-07-07T00:00:00",
          "2019-07-08T00:00:00",
          "2019-07-09T00:00:00",
          "2019-07-10T00:00:00",
          "2019-07-11T00:00:00",
          "2019-07-12T00:00:00",
          "2019-07-13T00:00:00",
          "2019-07-14T00:00:00",
          "2019-07-15T00:00:00",
          "2019-07-16T00:00:00",
          "2019-07-17T00:00:00",
          "2019-07-18T00:00:00",
          "2019-07-19T00:00:00",
          "2019-07-20T00:00:00",
          "2019-07-21T00:00:00",
          "2019-07-22T00:00:00",
          "2019-07-23T00:00:00",
          "2019-07-24T00:00:00",
          "2019-07-25T00:00:00",
          "2019-07-26T00:00:00",
          "2019-07-27T00:00:00",
          "2019-07-28T00:00:00",
          "2019-07-29T00:00:00",
          "2019-07-30T00:00:00",
          "2019-07-31T00:00:00",
          "2019-08-01T00:00:00",
          "2019-08-02T00:00:00",
          "2019-08-03T00:00:00",
          "2019-08-04T00:00:00",
          "2019-08-05T00:00:00",
          "2019-08-06T00:00:00",
          "2019-08-07T00:00:00",
          "2019-08-08T00:00:00",
          "2019-08-09T00:00:00",
          "2019-08-10T00:00:00",
          "2019-08-11T00:00:00",
          "2019-08-12T00:00:00",
          "2019-08-13T00:00:00",
          "2019-08-14T00:00:00",
          "2019-08-15T00:00:00",
          "2019-08-16T00:00:00",
          "2019-08-17T00:00:00",
          "2019-08-18T00:00:00",
          "2019-08-19T00:00:00",
          "2019-08-20T00:00:00",
          "2019-08-21T00:00:00",
          "2019-08-22T00:00:00",
          "2019-08-23T00:00:00",
          "2019-08-24T00:00:00",
          "2019-08-25T00:00:00",
          "2019-08-26T00:00:00",
          "2019-08-27T00:00:00",
          "2019-08-28T00:00:00",
          "2019-08-29T00:00:00",
          "2019-08-30T00:00:00",
          "2019-08-31T00:00:00",
          "2019-09-01T00:00:00",
          "2019-09-02T00:00:00",
          "2019-09-03T00:00:00",
          "2019-09-04T00:00:00",
          "2019-09-05T00:00:00",
          "2019-09-06T00:00:00",
          "2019-09-07T00:00:00",
          "2019-09-08T00:00:00",
          "2019-09-09T00:00:00",
          "2019-09-10T00:00:00",
          "2019-09-11T00:00:00",
          "2019-09-12T00:00:00",
          "2019-09-13T00:00:00",
          "2019-09-14T00:00:00",
          "2019-09-15T00:00:00",
          "2019-09-16T00:00:00",
          "2019-09-17T00:00:00",
          "2019-09-18T00:00:00",
          "2019-09-19T00:00:00",
          "2019-09-20T00:00:00",
          "2019-09-21T00:00:00",
          "2019-09-22T00:00:00",
          "2019-09-23T00:00:00",
          "2019-09-24T00:00:00",
          "2019-09-25T00:00:00",
          "2019-09-26T00:00:00",
          "2019-09-27T00:00:00",
          "2019-09-28T00:00:00",
          "2019-09-29T00:00:00",
          "2019-09-30T00:00:00",
          "2019-10-01T00:00:00",
          "2019-10-02T00:00:00",
          "2019-10-03T00:00:00",
          "2019-10-04T00:00:00",
          "2019-10-05T00:00:00",
          "2019-10-06T00:00:00",
          "2019-10-07T00:00:00",
          "2019-10-08T00:00:00",
          "2019-10-09T00:00:00",
          "2019-10-10T00:00:00",
          "2019-10-11T00:00:00",
          "2019-10-12T00:00:00",
          "2019-10-13T00:00:00",
          "2019-10-14T00:00:00",
          "2019-10-15T00:00:00",
          "2019-10-16T00:00:00",
          "2019-10-17T00:00:00",
          "2019-10-18T00:00:00",
          "2019-10-19T00:00:00",
          "2019-10-20T00:00:00",
          "2019-10-21T00:00:00",
          "2019-10-22T00:00:00",
          "2019-10-23T00:00:00",
          "2019-10-24T00:00:00",
          "2019-10-25T00:00:00",
          "2019-10-26T00:00:00",
          "2019-10-27T00:00:00",
          "2019-10-28T00:00:00",
          "2019-10-29T00:00:00",
          "2019-10-30T00:00:00",
          "2019-10-31T00:00:00",
          "2019-11-01T00:00:00",
          "2019-11-02T00:00:00",
          "2019-11-03T00:00:00",
          "2019-11-04T00:00:00",
          "2019-11-05T00:00:00",
          "2019-11-06T00:00:00",
          "2019-11-07T00:00:00",
          "2019-11-08T00:00:00",
          "2019-11-09T00:00:00",
          "2019-11-10T00:00:00",
          "2019-11-11T00:00:00",
          "2019-11-12T00:00:00",
          "2019-11-13T00:00:00",
          "2019-11-14T00:00:00",
          "2019-11-15T00:00:00",
          "2019-11-16T00:00:00",
          "2019-11-17T00:00:00",
          "2019-11-18T00:00:00",
          "2019-11-19T00:00:00",
          "2019-11-20T00:00:00",
          "2019-11-21T00:00:00",
          "2019-11-22T00:00:00",
          "2019-11-23T00:00:00",
          "2019-11-24T00:00:00",
          "2019-11-25T00:00:00",
          "2019-11-26T00:00:00",
          "2019-11-27T00:00:00",
          "2019-11-28T00:00:00",
          "2019-11-29T00:00:00",
          "2019-11-30T00:00:00",
          "2019-12-01T00:00:00",
          "2019-12-02T00:00:00",
          "2019-12-03T00:00:00",
          "2019-12-04T00:00:00",
          "2019-12-05T00:00:00",
          "2019-12-06T00:00:00",
          "2019-12-07T00:00:00",
          "2019-12-08T00:00:00",
          "2019-12-09T00:00:00",
          "2019-12-10T00:00:00",
          "2019-12-11T00:00:00",
          "2019-12-12T00:00:00",
          "2019-12-13T00:00:00",
          "2019-12-14T00:00:00",
          "2019-12-15T00:00:00",
          "2019-12-16T00:00:00",
          "2019-12-17T00:00:00",
          "2019-12-18T00:00:00",
          "2019-12-19T00:00:00",
          "2019-12-20T00:00:00",
          "2019-12-21T00:00:00",
          "2019-12-22T00:00:00",
          "2019-12-23T00:00:00",
          "2019-12-24T00:00:00",
          "2019-12-25T00:00:00",
          "2019-12-26T00:00:00",
          "2019-12-27T00:00:00",
          "2019-12-28T00:00:00",
          "2019-12-29T00:00:00",
          "2019-12-30T00:00:00",
          "2019-12-31T00:00:00",
          "2020-01-01T00:00:00",
          "2020-01-02T00:00:00",
          "2020-01-03T00:00:00",
          "2020-01-04T00:00:00",
          "2020-01-05T00:00:00",
          "2020-01-06T00:00:00",
          "2020-01-07T00:00:00",
          "2020-01-08T00:00:00",
          "2020-01-09T00:00:00",
          "2020-01-10T00:00:00",
          "2020-01-11T00:00:00",
          "2020-01-12T00:00:00",
          "2020-01-13T00:00:00",
          "2020-01-14T00:00:00",
          "2020-01-15T00:00:00",
          "2020-01-16T00:00:00",
          "2020-01-17T00:00:00",
          "2020-01-18T00:00:00",
          "2020-01-19T00:00:00",
          "2020-01-20T00:00:00",
          "2020-01-21T00:00:00",
          "2020-01-22T00:00:00",
          "2020-01-23T00:00:00",
          "2020-01-24T00:00:00",
          "2020-01-25T00:00:00",
          "2020-01-26T00:00:00",
          "2020-01-27T00:00:00",
          "2020-01-28T00:00:00",
          "2020-01-29T00:00:00",
          "2020-01-30T00:00:00",
          "2020-01-31T00:00:00",
          "2020-02-01T00:00:00",
          "2020-02-02T00:00:00",
          "2020-02-03T00:00:00",
          "2020-02-04T00:00:00",
          "2020-02-05T00:00:00",
          "2020-02-06T00:00:00",
          "2020-02-07T00:00:00",
          "2020-02-08T00:00:00",
          "2020-02-09T00:00:00",
          "2020-02-10T00:00:00",
          "2020-02-11T00:00:00",
          "2020-02-12T00:00:00",
          "2020-02-13T00:00:00",
          "2020-02-14T00:00:00",
          "2020-02-15T00:00:00",
          "2020-02-16T00:00:00",
          "2020-02-17T00:00:00",
          "2020-02-18T00:00:00",
          "2020-02-19T00:00:00",
          "2020-02-20T00:00:00",
          "2020-02-21T00:00:00",
          "2020-02-22T00:00:00",
          "2020-02-23T00:00:00",
          "2020-02-24T00:00:00",
          "2020-02-25T00:00:00",
          "2020-02-26T00:00:00",
          "2020-02-27T00:00:00",
          "2020-02-28T00:00:00",
          "2020-02-29T00:00:00",
          "2020-03-01T00:00:00",
          "2020-03-02T00:00:00",
          "2020-03-03T00:00:00",
          "2020-03-04T00:00:00",
          "2020-03-05T00:00:00",
          "2020-03-06T00:00:00",
          "2020-03-07T00:00:00",
          "2020-03-08T00:00:00",
          "2020-03-09T00:00:00",
          "2020-03-10T00:00:00",
          "2020-03-11T00:00:00",
          "2020-03-12T00:00:00",
          "2020-03-13T00:00:00",
          "2020-03-14T00:00:00",
          "2020-03-15T00:00:00",
          "2020-03-16T00:00:00",
          "2020-03-17T00:00:00",
          "2020-03-18T00:00:00",
          "2020-03-19T00:00:00",
          "2020-03-20T00:00:00",
          "2020-03-21T00:00:00",
          "2020-03-22T00:00:00",
          "2020-03-23T00:00:00",
          "2020-03-24T00:00:00",
          "2020-03-25T00:00:00",
          "2020-03-26T00:00:00",
          "2020-03-27T00:00:00",
          "2020-03-28T00:00:00",
          "2020-03-29T00:00:00",
          "2020-03-30T00:00:00",
          "2020-03-31T00:00:00",
          "2020-04-01T00:00:00",
          "2020-04-02T00:00:00",
          "2020-04-03T00:00:00",
          "2020-04-04T00:00:00",
          "2020-04-05T00:00:00",
          "2020-04-06T00:00:00",
          "2020-04-07T00:00:00",
          "2020-04-08T00:00:00",
          "2020-04-09T00:00:00",
          "2020-04-10T00:00:00",
          "2020-04-11T00:00:00",
          "2020-04-12T00:00:00",
          "2020-04-13T00:00:00",
          "2020-04-14T00:00:00",
          "2020-04-15T00:00:00",
          "2020-04-16T00:00:00",
          "2020-04-17T00:00:00",
          "2020-04-18T00:00:00",
          "2020-04-19T00:00:00",
          "2020-04-20T00:00:00",
          "2020-04-21T00:00:00",
          "2020-04-22T00:00:00",
          "2020-04-23T00:00:00",
          "2020-04-24T00:00:00",
          "2020-04-25T00:00:00",
          "2020-04-26T00:00:00",
          "2020-04-27T00:00:00",
          "2020-04-28T00:00:00",
          "2020-04-29T00:00:00",
          "2020-04-30T00:00:00",
          "2020-05-01T00:00:00",
          "2020-05-02T00:00:00",
          "2020-05-03T00:00:00",
          "2020-05-04T00:00:00",
          "2020-05-05T00:00:00",
          "2020-05-06T00:00:00",
          "2020-05-07T00:00:00",
          "2020-05-08T00:00:00",
          "2020-05-09T00:00:00",
          "2020-05-10T00:00:00",
          "2020-05-11T00:00:00",
          "2020-05-12T00:00:00",
          "2020-05-13T00:00:00",
          "2020-05-14T00:00:00",
          "2020-05-15T00:00:00",
          "2020-05-16T00:00:00",
          "2020-05-17T00:00:00",
          "2020-05-18T00:00:00",
          "2020-05-19T00:00:00",
          "2020-05-20T00:00:00",
          "2020-05-21T00:00:00",
          "2020-05-22T00:00:00",
          "2020-05-23T00:00:00",
          "2020-05-24T00:00:00",
          "2020-05-25T00:00:00",
          "2020-05-26T00:00:00",
          "2020-05-27T00:00:00",
          "2020-05-28T00:00:00",
          "2020-05-29T00:00:00",
          "2020-05-30T00:00:00",
          "2020-05-31T00:00:00",
          "2020-06-01T00:00:00",
          "2020-06-02T00:00:00",
          "2020-06-03T00:00:00",
          "2020-06-04T00:00:00",
          "2020-06-05T00:00:00",
          "2020-06-06T00:00:00",
          "2020-06-07T00:00:00",
          "2020-06-08T00:00:00",
          "2020-06-09T00:00:00",
          "2020-06-10T00:00:00",
          "2020-06-11T00:00:00",
          "2020-06-12T00:00:00",
          "2020-06-13T00:00:00",
          "2020-06-14T00:00:00",
          "2020-06-15T00:00:00",
          "2020-06-16T00:00:00",
          "2020-06-17T00:00:00",
          "2020-06-18T00:00:00",
          "2020-06-19T00:00:00",
          "2020-06-20T00:00:00",
          "2020-06-21T00:00:00",
          "2020-06-22T00:00:00",
          "2020-06-23T00:00:00",
          "2020-06-24T00:00:00",
          "2020-06-25T00:00:00",
          "2020-06-26T00:00:00",
          "2020-06-27T00:00:00",
          "2020-06-28T00:00:00",
          "2020-06-29T00:00:00",
          "2020-06-30T00:00:00",
          "2020-07-01T00:00:00",
          "2020-07-02T00:00:00",
          "2020-07-03T00:00:00",
          "2020-07-04T00:00:00",
          "2020-07-05T00:00:00",
          "2020-07-06T00:00:00",
          "2020-07-07T00:00:00",
          "2020-07-08T00:00:00",
          "2020-07-09T00:00:00",
          "2020-07-10T00:00:00",
          "2020-07-11T00:00:00",
          "2020-07-12T00:00:00",
          "2020-07-13T00:00:00",
          "2020-07-14T00:00:00",
          "2020-07-15T00:00:00",
          "2020-07-16T00:00:00",
          "2020-07-17T00:00:00",
          "2020-07-18T00:00:00",
          "2020-07-19T00:00:00",
          "2020-07-20T00:00:00",
          "2020-07-21T00:00:00",
          "2020-07-22T00:00:00",
          "2020-07-23T00:00:00",
          "2020-07-24T00:00:00",
          "2020-07-25T00:00:00",
          "2020-07-26T00:00:00",
          "2020-07-27T00:00:00",
          "2020-07-28T00:00:00",
          "2020-07-29T00:00:00",
          "2020-07-30T00:00:00",
          "2020-07-31T00:00:00",
          "2020-08-01T00:00:00",
          "2020-08-02T00:00:00",
          "2020-08-03T00:00:00",
          "2020-08-04T00:00:00",
          "2020-08-05T00:00:00",
          "2020-08-06T00:00:00",
          "2020-08-07T00:00:00",
          "2020-08-08T00:00:00",
          "2020-08-09T00:00:00",
          "2020-08-10T00:00:00",
          "2020-08-11T00:00:00",
          "2020-08-12T00:00:00",
          "2020-08-13T00:00:00",
          "2020-08-14T00:00:00",
          "2020-08-15T00:00:00",
          "2020-08-16T00:00:00",
          "2020-08-17T00:00:00",
          "2020-08-18T00:00:00",
          "2020-08-19T00:00:00",
          "2020-08-20T00:00:00",
          "2020-08-21T00:00:00",
          "2020-08-22T00:00:00",
          "2020-08-23T00:00:00",
          "2020-08-24T00:00:00",
          "2020-08-25T00:00:00",
          "2020-08-26T00:00:00",
          "2020-08-27T00:00:00",
          "2020-08-28T00:00:00",
          "2020-08-29T00:00:00",
          "2020-08-30T00:00:00",
          "2020-08-31T00:00:00",
          "2020-09-01T00:00:00",
          "2020-09-02T00:00:00",
          "2020-09-03T00:00:00",
          "2020-09-04T00:00:00",
          "2020-09-05T00:00:00",
          "2020-09-06T00:00:00",
          "2020-09-07T00:00:00",
          "2020-09-08T00:00:00",
          "2020-09-09T00:00:00",
          "2020-09-10T00:00:00",
          "2020-09-11T00:00:00",
          "2020-09-12T00:00:00",
          "2020-09-13T00:00:00",
          "2020-09-14T00:00:00",
          "2020-09-15T00:00:00",
          "2020-09-16T00:00:00",
          "2020-09-17T00:00:00",
          "2020-09-18T00:00:00",
          "2020-09-19T00:00:00",
          "2020-09-20T00:00:00",
          "2020-09-21T00:00:00",
          "2020-09-22T00:00:00",
          "2020-09-23T00:00:00",
          "2020-09-24T00:00:00",
          "2020-09-25T00:00:00",
          "2020-09-26T00:00:00",
          "2020-09-27T00:00:00",
          "2020-09-28T00:00:00",
          "2020-09-29T00:00:00",
          "2020-09-30T00:00:00",
          "2020-10-01T00:00:00",
          "2020-10-02T00:00:00",
          "2020-10-03T00:00:00",
          "2020-10-04T00:00:00",
          "2020-10-05T00:00:00",
          "2020-10-06T00:00:00",
          "2020-10-07T00:00:00",
          "2020-10-08T00:00:00",
          "2020-10-09T00:00:00",
          "2020-10-10T00:00:00",
          "2020-10-11T00:00:00",
          "2020-10-12T00:00:00",
          "2020-10-13T00:00:00",
          "2020-10-14T00:00:00",
          "2020-10-15T00:00:00",
          "2020-10-16T00:00:00",
          "2020-10-17T00:00:00",
          "2020-10-18T00:00:00",
          "2020-10-19T00:00:00",
          "2020-10-20T00:00:00",
          "2020-10-21T00:00:00",
          "2020-10-22T00:00:00",
          "2020-10-23T00:00:00",
          "2020-10-24T00:00:00",
          "2020-10-25T00:00:00",
          "2020-10-26T00:00:00",
          "2020-10-27T00:00:00",
          "2020-10-28T00:00:00",
          "2020-10-29T00:00:00",
          "2020-10-30T00:00:00",
          "2020-10-31T00:00:00",
          "2020-11-01T00:00:00",
          "2020-11-02T00:00:00",
          "2020-11-03T00:00:00",
          "2020-11-04T00:00:00",
          "2020-11-05T00:00:00",
          "2020-11-06T00:00:00",
          "2020-11-07T00:00:00",
          "2020-11-08T00:00:00",
          "2020-11-09T00:00:00",
          "2020-11-10T00:00:00",
          "2020-11-11T00:00:00",
          "2020-11-12T00:00:00",
          "2020-11-13T00:00:00",
          "2020-11-14T00:00:00",
          "2020-11-15T00:00:00",
          "2020-11-16T00:00:00",
          "2020-11-17T00:00:00",
          "2020-11-18T00:00:00",
          "2020-11-19T00:00:00",
          "2020-11-20T00:00:00",
          "2020-11-21T00:00:00",
          "2020-11-22T00:00:00",
          "2020-11-23T00:00:00",
          "2020-11-24T00:00:00",
          "2020-11-25T00:00:00",
          "2020-11-26T00:00:00",
          "2020-11-27T00:00:00",
          "2020-11-28T00:00:00",
          "2020-11-29T00:00:00",
          "2020-11-30T00:00:00",
          "2020-12-01T00:00:00",
          "2020-12-02T00:00:00",
          "2020-12-03T00:00:00",
          "2020-12-04T00:00:00",
          "2020-12-05T00:00:00",
          "2020-12-06T00:00:00",
          "2020-12-07T00:00:00",
          "2020-12-08T00:00:00",
          "2020-12-09T00:00:00",
          "2020-12-10T00:00:00",
          "2020-12-11T00:00:00",
          "2020-12-12T00:00:00",
          "2020-12-13T00:00:00",
          "2020-12-14T00:00:00",
          "2020-12-15T00:00:00",
          "2020-12-16T00:00:00",
          "2020-12-17T00:00:00",
          "2020-12-18T00:00:00",
          "2020-12-19T00:00:00",
          "2020-12-20T00:00:00",
          "2020-12-21T00:00:00",
          "2020-12-22T00:00:00",
          "2020-12-23T00:00:00",
          "2020-12-24T00:00:00",
          "2020-12-25T00:00:00",
          "2020-12-26T00:00:00",
          "2020-12-27T00:00:00",
          "2020-12-28T00:00:00",
          "2020-12-29T00:00:00",
          "2020-12-30T00:00:00",
          "2020-12-31T00:00:00",
          "2021-01-01T00:00:00",
          "2021-01-02T00:00:00",
          "2021-01-03T00:00:00",
          "2021-01-04T00:00:00",
          "2021-01-05T00:00:00",
          "2021-01-06T00:00:00",
          "2021-01-07T00:00:00",
          "2021-01-08T00:00:00",
          "2021-01-09T00:00:00",
          "2021-01-10T00:00:00",
          "2021-01-11T00:00:00",
          "2021-01-12T00:00:00",
          "2021-01-13T00:00:00",
          "2021-01-14T00:00:00",
          "2021-01-15T00:00:00",
          "2021-01-16T00:00:00",
          "2021-01-17T00:00:00",
          "2021-01-18T00:00:00",
          "2021-01-19T00:00:00",
          "2021-01-20T00:00:00",
          "2021-01-21T00:00:00",
          "2021-01-22T00:00:00",
          "2021-01-23T00:00:00",
          "2021-01-24T00:00:00",
          "2021-01-25T00:00:00",
          "2021-01-26T00:00:00",
          "2021-01-27T00:00:00",
          "2021-01-28T00:00:00",
          "2021-01-29T00:00:00",
          "2021-01-30T00:00:00",
          "2021-01-31T00:00:00",
          "2021-02-01T00:00:00",
          "2021-02-02T00:00:00",
          "2021-02-03T00:00:00",
          "2021-02-04T00:00:00",
          "2021-02-05T00:00:00",
          "2021-02-06T00:00:00",
          "2021-02-07T00:00:00",
          "2021-02-08T00:00:00",
          "2021-02-09T00:00:00",
          "2021-02-10T00:00:00",
          "2021-02-11T00:00:00",
          "2021-02-12T00:00:00",
          "2021-02-13T00:00:00",
          "2021-02-14T00:00:00",
          "2021-02-15T00:00:00",
          "2021-02-16T00:00:00",
          "2021-02-17T00:00:00",
          "2021-02-18T00:00:00",
          "2021-02-19T00:00:00",
          "2021-02-20T00:00:00",
          "2021-02-21T00:00:00",
          "2021-02-22T00:00:00",
          "2021-02-23T00:00:00",
          "2021-02-24T00:00:00",
          "2021-02-25T00:00:00",
          "2021-02-26T00:00:00",
          "2021-02-27T00:00:00",
          "2021-02-28T00:00:00",
          "2021-03-01T00:00:00",
          "2021-03-02T00:00:00",
          "2021-03-03T00:00:00",
          "2021-03-04T00:00:00",
          "2021-03-05T00:00:00",
          "2021-03-06T00:00:00",
          "2021-03-07T00:00:00",
          "2021-03-08T00:00:00",
          "2021-03-09T00:00:00",
          "2021-03-10T00:00:00",
          "2021-03-11T00:00:00",
          "2021-03-12T00:00:00",
          "2021-03-13T00:00:00",
          "2021-03-14T00:00:00",
          "2021-03-15T00:00:00",
          "2021-03-16T00:00:00",
          "2021-03-17T00:00:00",
          "2021-03-18T00:00:00",
          "2021-03-19T00:00:00",
          "2021-03-20T00:00:00",
          "2021-03-21T00:00:00",
          "2021-03-22T00:00:00",
          "2021-03-23T00:00:00",
          "2021-03-24T00:00:00",
          "2021-03-25T00:00:00",
          "2021-03-26T00:00:00",
          "2021-03-27T00:00:00",
          "2021-03-28T00:00:00",
          "2021-03-29T00:00:00",
          "2021-03-30T00:00:00",
          "2021-03-31T00:00:00",
          "2021-04-01T00:00:00",
          "2021-04-02T00:00:00",
          "2021-04-03T00:00:00",
          "2021-04-04T00:00:00",
          "2021-04-05T00:00:00",
          "2021-04-06T00:00:00",
          "2021-04-07T00:00:00",
          "2021-04-08T00:00:00",
          "2021-04-09T00:00:00",
          "2021-04-10T00:00:00",
          "2021-04-11T00:00:00",
          "2021-04-12T00:00:00",
          "2021-04-13T00:00:00",
          "2021-04-14T00:00:00",
          "2021-04-15T00:00:00",
          "2021-04-16T00:00:00",
          "2021-04-17T00:00:00",
          "2021-04-18T00:00:00",
          "2021-04-19T00:00:00",
          "2021-04-20T00:00:00",
          "2021-04-21T00:00:00",
          "2021-04-22T00:00:00",
          "2021-04-23T00:00:00",
          "2021-04-24T00:00:00",
          "2021-04-25T00:00:00",
          "2021-04-26T00:00:00",
          "2021-04-27T00:00:00",
          "2021-04-28T00:00:00",
          "2021-04-29T00:00:00",
          "2021-04-30T00:00:00",
          "2021-05-01T00:00:00",
          "2021-05-02T00:00:00",
          "2021-05-03T00:00:00",
          "2021-05-04T00:00:00",
          "2021-05-05T00:00:00",
          "2021-05-06T00:00:00",
          "2021-05-07T00:00:00",
          "2021-05-08T00:00:00",
          "2021-05-09T00:00:00",
          "2021-05-10T00:00:00",
          "2021-05-11T00:00:00",
          "2021-05-12T00:00:00",
          "2021-05-13T00:00:00",
          "2021-05-14T00:00:00",
          "2021-05-15T00:00:00",
          "2021-05-16T00:00:00",
          "2021-05-17T00:00:00",
          "2021-05-18T00:00:00",
          "2021-05-19T00:00:00",
          "2021-05-20T00:00:00",
          "2021-05-21T00:00:00",
          "2021-05-22T00:00:00",
          "2021-05-23T00:00:00",
          "2021-05-24T00:00:00",
          "2021-05-25T00:00:00",
          "2021-05-26T00:00:00",
          "2021-05-27T00:00:00",
          "2021-05-28T00:00:00",
          "2021-05-29T00:00:00",
          "2021-05-30T00:00:00",
          "2021-05-31T00:00:00",
          "2021-06-01T00:00:00",
          "2021-06-02T00:00:00",
          "2021-06-03T00:00:00",
          "2021-06-04T00:00:00",
          "2021-06-05T00:00:00",
          "2021-06-06T00:00:00",
          "2021-06-07T00:00:00",
          "2021-06-08T00:00:00",
          "2021-06-09T00:00:00",
          "2021-06-10T00:00:00",
          "2021-06-11T00:00:00",
          "2021-06-12T00:00:00",
          "2021-06-13T00:00:00",
          "2021-06-14T00:00:00",
          "2021-06-15T00:00:00",
          "2021-06-16T00:00:00",
          "2021-06-17T00:00:00",
          "2021-06-18T00:00:00",
          "2021-06-19T00:00:00",
          "2021-06-20T00:00:00",
          "2021-06-21T00:00:00",
          "2021-06-22T00:00:00",
          "2021-06-23T00:00:00",
          "2021-06-24T00:00:00",
          "2021-06-25T00:00:00",
          "2021-06-26T00:00:00",
          "2021-06-27T00:00:00",
          "2021-06-28T00:00:00",
          "2021-06-29T00:00:00",
          "2021-06-30T00:00:00",
          "2021-07-01T00:00:00",
          "2021-07-02T00:00:00",
          "2021-07-03T00:00:00",
          "2021-07-04T00:00:00",
          "2021-07-05T00:00:00",
          "2021-07-06T00:00:00",
          "2021-07-07T00:00:00",
          "2021-07-08T00:00:00",
          "2021-07-09T00:00:00",
          "2021-07-10T00:00:00",
          "2021-07-11T00:00:00",
          "2021-07-12T00:00:00",
          "2021-07-13T00:00:00",
          "2021-07-14T00:00:00",
          "2021-07-15T00:00:00",
          "2021-07-16T00:00:00",
          "2021-07-17T00:00:00",
          "2021-07-18T00:00:00",
          "2021-07-19T00:00:00",
          "2021-07-20T00:00:00",
          "2021-07-21T00:00:00",
          "2021-07-22T00:00:00",
          "2021-07-23T00:00:00",
          "2021-07-24T00:00:00",
          "2021-07-25T00:00:00",
          "2021-07-26T00:00:00",
          "2021-07-27T00:00:00",
          "2021-07-28T00:00:00",
          "2021-07-29T00:00:00",
          "2021-07-30T00:00:00",
          "2021-07-31T00:00:00",
          "2021-08-01T00:00:00",
          "2021-08-02T00:00:00",
          "2021-08-03T00:00:00",
          "2021-08-04T00:00:00",
          "2021-08-05T00:00:00",
          "2021-08-06T00:00:00",
          "2021-08-07T00:00:00",
          "2021-08-08T00:00:00",
          "2021-08-09T00:00:00",
          "2021-08-10T00:00:00",
          "2021-08-11T00:00:00",
          "2021-08-12T00:00:00",
          "2021-08-13T00:00:00",
          "2021-08-14T00:00:00",
          "2021-08-15T00:00:00",
          "2021-08-16T00:00:00",
          "2021-08-17T00:00:00",
          "2021-08-18T00:00:00",
          "2021-08-19T00:00:00",
          "2021-08-20T00:00:00",
          "2021-08-21T00:00:00",
          "2021-08-22T00:00:00",
          "2021-08-23T00:00:00",
          "2021-08-24T00:00:00",
          "2021-08-25T00:00:00",
          "2021-08-26T00:00:00",
          "2021-08-27T00:00:00",
          "2021-08-28T00:00:00",
          "2021-08-29T00:00:00",
          "2021-08-30T00:00:00",
          "2021-08-31T00:00:00",
          "2021-09-01T00:00:00",
          "2021-09-02T00:00:00",
          "2021-09-03T00:00:00",
          "2021-09-04T00:00:00",
          "2021-09-05T00:00:00",
          "2021-09-06T00:00:00",
          "2021-09-07T00:00:00",
          "2021-09-08T00:00:00",
          "2021-09-09T00:00:00",
          "2021-09-10T00:00:00",
          "2021-09-11T00:00:00",
          "2021-09-12T00:00:00",
          "2021-09-13T00:00:00",
          "2021-09-14T00:00:00",
          "2021-09-15T00:00:00",
          "2021-09-16T00:00:00",
          "2021-09-17T00:00:00",
          "2021-09-18T00:00:00",
          "2021-09-19T00:00:00",
          "2021-09-20T00:00:00",
          "2021-09-21T00:00:00",
          "2021-09-22T00:00:00",
          "2021-09-23T00:00:00",
          "2021-09-24T00:00:00",
          "2021-09-25T00:00:00",
          "2021-09-26T00:00:00",
          "2021-09-27T00:00:00",
          "2021-09-28T00:00:00",
          "2021-09-29T00:00:00",
          "2021-09-30T00:00:00",
          "2021-10-01T00:00:00",
          "2021-10-02T00:00:00",
          "2021-10-03T00:00:00",
          "2021-10-04T00:00:00",
          "2021-10-05T00:00:00",
          "2021-10-06T00:00:00",
          "2021-10-07T00:00:00",
          "2021-10-08T00:00:00",
          "2021-10-09T00:00:00",
          "2021-10-10T00:00:00",
          "2021-10-11T00:00:00",
          "2021-10-12T00:00:00",
          "2021-10-13T00:00:00",
          "2021-10-14T00:00:00",
          "2021-10-15T00:00:00",
          "2021-10-16T00:00:00",
          "2021-10-17T00:00:00",
          "2021-10-18T00:00:00",
          "2021-10-19T00:00:00",
          "2021-10-20T00:00:00",
          "2021-10-21T00:00:00",
          "2021-10-22T00:00:00",
          "2021-10-23T00:00:00",
          "2021-10-24T00:00:00",
          "2021-10-25T00:00:00",
          "2021-10-26T00:00:00",
          "2021-10-27T00:00:00",
          "2021-10-28T00:00:00",
          "2021-10-29T00:00:00",
          "2021-10-30T00:00:00",
          "2021-10-31T00:00:00",
          "2021-11-01T00:00:00",
          "2021-11-02T00:00:00",
          "2021-11-03T00:00:00",
          "2021-11-04T00:00:00",
          "2021-11-05T00:00:00",
          "2021-11-06T00:00:00",
          "2021-11-07T00:00:00",
          "2021-11-08T00:00:00",
          "2021-11-09T00:00:00",
          "2021-11-10T00:00:00",
          "2021-11-11T00:00:00",
          "2021-11-12T00:00:00",
          "2021-11-13T00:00:00",
          "2021-11-14T00:00:00",
          "2021-11-15T00:00:00",
          "2021-11-16T00:00:00",
          "2021-11-17T00:00:00",
          "2021-11-18T00:00:00",
          "2021-11-19T00:00:00",
          "2021-11-20T00:00:00",
          "2021-11-21T00:00:00",
          "2021-11-22T00:00:00",
          "2021-11-23T00:00:00",
          "2021-11-24T00:00:00",
          "2021-11-25T00:00:00",
          "2021-11-26T00:00:00",
          "2021-11-27T00:00:00",
          "2021-11-28T00:00:00",
          "2021-11-29T00:00:00",
          "2021-11-30T00:00:00",
          "2021-12-01T00:00:00",
          "2021-12-02T00:00:00",
          "2021-12-03T00:00:00",
          "2021-12-04T00:00:00",
          "2021-12-05T00:00:00",
          "2021-12-06T00:00:00",
          "2021-12-07T00:00:00",
          "2021-12-08T00:00:00",
          "2021-12-09T00:00:00",
          "2021-12-10T00:00:00",
          "2021-12-11T00:00:00",
          "2021-12-12T00:00:00",
          "2021-12-13T00:00:00",
          "2021-12-14T00:00:00",
          "2021-12-15T00:00:00",
          "2021-12-16T00:00:00",
          "2021-12-17T00:00:00",
          "2021-12-18T00:00:00",
          "2021-12-19T00:00:00",
          "2021-12-20T00:00:00",
          "2021-12-21T00:00:00",
          "2021-12-22T00:00:00",
          "2021-12-23T00:00:00",
          "2021-12-24T00:00:00",
          "2021-12-25T00:00:00",
          "2021-12-26T00:00:00",
          "2021-12-27T00:00:00",
          "2021-12-28T00:00:00",
          "2021-12-29T00:00:00",
          "2021-12-30T00:00:00",
          "2021-12-31T00:00:00",
          "2022-01-01T00:00:00",
          "2022-01-02T00:00:00",
          "2022-01-03T00:00:00",
          "2022-01-04T00:00:00",
          "2022-01-05T00:00:00",
          "2022-01-06T00:00:00",
          "2022-01-07T00:00:00",
          "2022-01-08T00:00:00",
          "2022-01-09T00:00:00",
          "2022-01-10T00:00:00",
          "2022-01-11T00:00:00",
          "2022-01-12T00:00:00",
          "2022-01-13T00:00:00",
          "2022-01-14T00:00:00",
          "2022-01-15T00:00:00",
          "2022-01-16T00:00:00",
          "2022-01-17T00:00:00",
          "2022-01-18T00:00:00",
          "2022-01-19T00:00:00",
          "2022-01-20T00:00:00",
          "2022-01-21T00:00:00",
          "2022-01-22T00:00:00",
          "2022-01-23T00:00:00",
          "2022-01-24T00:00:00",
          "2022-01-25T00:00:00",
          "2022-01-26T00:00:00",
          "2022-01-27T00:00:00",
          "2022-01-28T00:00:00",
          "2022-01-29T00:00:00",
          "2022-01-30T00:00:00",
          "2022-01-31T00:00:00",
          "2022-02-01T00:00:00",
          "2022-02-02T00:00:00",
          "2022-02-03T00:00:00",
          "2022-02-04T00:00:00",
          "2022-02-05T00:00:00",
          "2022-02-06T00:00:00",
          "2022-02-07T00:00:00",
          "2022-02-08T00:00:00",
          "2022-02-09T00:00:00",
          "2022-02-10T00:00:00",
          "2022-02-11T00:00:00",
          "2022-02-12T00:00:00",
          "2022-02-13T00:00:00",
          "2022-02-14T00:00:00",
          "2022-02-15T00:00:00",
          "2022-02-16T00:00:00",
          "2022-02-17T00:00:00",
          "2022-02-18T00:00:00",
          "2022-02-19T00:00:00",
          "2022-02-20T00:00:00",
          "2022-02-21T00:00:00",
          "2022-02-22T00:00:00",
          "2022-02-23T00:00:00",
          "2022-02-24T00:00:00",
          "2022-02-25T00:00:00",
          "2022-02-26T00:00:00",
          "2022-02-27T00:00:00",
          "2022-02-28T00:00:00",
          "2022-03-01T00:00:00",
          "2022-03-02T00:00:00",
          "2022-03-03T00:00:00",
          "2022-03-04T00:00:00",
          "2022-03-05T00:00:00",
          "2022-03-06T00:00:00",
          "2022-03-07T00:00:00",
          "2022-03-08T00:00:00",
          "2022-03-09T00:00:00",
          "2022-03-10T00:00:00",
          "2022-03-11T00:00:00",
          "2022-03-12T00:00:00",
          "2022-03-13T00:00:00",
          "2022-03-14T00:00:00",
          "2022-03-15T00:00:00",
          "2022-03-16T00:00:00",
          "2022-03-17T00:00:00",
          "2022-03-18T00:00:00",
          "2022-03-19T00:00:00",
          "2022-03-20T00:00:00",
          "2022-03-21T00:00:00",
          "2022-03-22T00:00:00",
          "2022-03-23T00:00:00",
          "2022-03-24T00:00:00",
          "2022-03-25T00:00:00",
          "2022-03-26T00:00:00",
          "2022-03-27T00:00:00",
          "2022-03-28T00:00:00",
          "2022-03-29T00:00:00",
          "2022-03-30T00:00:00",
          "2022-03-31T00:00:00",
          "2022-04-01T00:00:00",
          "2022-04-02T00:00:00",
          "2022-04-03T00:00:00",
          "2022-04-04T00:00:00",
          "2022-04-05T00:00:00",
          "2022-04-06T00:00:00",
          "2022-04-07T00:00:00",
          "2022-04-08T00:00:00",
          "2022-04-09T00:00:00",
          "2022-04-10T00:00:00",
          "2022-04-11T00:00:00",
          "2022-04-12T00:00:00",
          "2022-04-13T00:00:00",
          "2022-04-14T00:00:00",
          "2022-04-15T00:00:00",
          "2022-04-16T00:00:00",
          "2022-04-17T00:00:00",
          "2022-04-18T00:00:00",
          "2022-04-19T00:00:00",
          "2022-04-20T00:00:00",
          "2022-04-21T00:00:00",
          "2022-04-22T00:00:00",
          "2022-04-23T00:00:00",
          "2022-04-24T00:00:00",
          "2022-04-25T00:00:00",
          "2022-04-26T00:00:00",
          "2022-04-27T00:00:00",
          "2022-04-28T00:00:00",
          "2022-04-29T00:00:00",
          "2022-04-30T00:00:00",
          "2022-05-01T00:00:00",
          "2022-05-02T00:00:00",
          "2022-05-03T00:00:00",
          "2022-05-04T00:00:00",
          "2022-05-05T00:00:00",
          "2022-05-06T00:00:00",
          "2022-05-07T00:00:00",
          "2022-05-08T00:00:00",
          "2022-05-09T00:00:00",
          "2022-05-10T00:00:00",
          "2022-05-11T00:00:00",
          "2022-05-12T00:00:00",
          "2022-05-13T00:00:00",
          "2022-05-14T00:00:00",
          "2022-05-15T00:00:00",
          "2022-05-16T00:00:00",
          "2022-05-17T00:00:00",
          "2022-05-18T00:00:00",
          "2022-05-19T00:00:00",
          "2022-05-20T00:00:00",
          "2022-05-21T00:00:00",
          "2022-05-22T00:00:00",
          "2022-05-23T00:00:00",
          "2022-05-24T00:00:00",
          "2022-05-25T00:00:00",
          "2022-05-26T00:00:00",
          "2022-05-27T00:00:00",
          "2022-05-28T00:00:00",
          "2022-05-29T00:00:00",
          "2022-05-30T00:00:00",
          "2022-05-31T00:00:00",
          "2022-06-01T00:00:00",
          "2022-06-02T00:00:00",
          "2022-06-03T00:00:00",
          "2022-06-04T00:00:00",
          "2022-06-05T00:00:00",
          "2022-06-06T00:00:00",
          "2022-06-07T00:00:00",
          "2022-06-08T00:00:00",
          "2022-06-09T00:00:00",
          "2022-06-10T00:00:00",
          "2022-06-11T00:00:00",
          "2022-06-12T00:00:00",
          "2022-06-13T00:00:00",
          "2022-06-14T00:00:00",
          "2022-06-15T00:00:00",
          "2022-06-16T00:00:00",
          "2022-06-17T00:00:00",
          "2022-06-18T00:00:00",
          "2022-06-19T00:00:00",
          "2022-06-20T00:00:00",
          "2022-06-21T00:00:00",
          "2022-06-22T00:00:00",
          "2022-06-23T00:00:00",
          "2022-06-24T00:00:00",
          "2022-06-25T00:00:00",
          "2022-06-26T00:00:00",
          "2022-06-27T00:00:00",
          "2022-06-28T00:00:00",
          "2022-06-29T00:00:00",
          "2022-06-30T00:00:00",
          "2022-07-01T00:00:00",
          "2022-07-02T00:00:00",
          "2022-07-03T00:00:00",
          "2022-07-04T00:00:00",
          "2022-07-05T00:00:00",
          "2022-07-06T00:00:00",
          "2022-07-07T00:00:00",
          "2022-07-08T00:00:00",
          "2022-07-09T00:00:00",
          "2022-07-10T00:00:00",
          "2022-07-11T00:00:00",
          "2022-07-12T00:00:00",
          "2022-07-13T00:00:00",
          "2022-07-14T00:00:00",
          "2022-07-15T00:00:00",
          "2022-07-16T00:00:00",
          "2022-07-17T00:00:00",
          "2022-07-18T00:00:00",
          "2022-07-19T00:00:00",
          "2022-07-20T00:00:00",
          "2022-07-21T00:00:00",
          "2022-07-22T00:00:00",
          "2022-07-23T00:00:00",
          "2022-07-24T00:00:00",
          "2022-07-25T00:00:00",
          "2022-07-26T00:00:00",
          "2022-07-27T00:00:00",
          "2022-07-28T00:00:00",
          "2022-07-29T00:00:00",
          "2022-07-30T00:00:00",
          "2022-07-31T00:00:00",
          "2022-08-01T00:00:00",
          "2022-08-02T00:00:00",
          "2022-08-03T00:00:00",
          "2022-08-04T00:00:00",
          "2022-08-05T00:00:00",
          "2022-08-06T00:00:00",
          "2022-08-07T00:00:00",
          "2022-08-08T00:00:00",
          "2022-08-09T00:00:00",
          "2022-08-10T00:00:00",
          "2022-08-11T00:00:00",
          "2022-08-12T00:00:00",
          "2022-08-13T00:00:00",
          "2022-08-14T00:00:00",
          "2022-08-15T00:00:00",
          "2022-08-16T00:00:00",
          "2022-08-17T00:00:00",
          "2022-08-18T00:00:00",
          "2022-08-19T00:00:00",
          "2022-08-20T00:00:00",
          "2022-08-21T00:00:00",
          "2022-08-22T00:00:00",
          "2022-08-23T00:00:00",
          "2022-08-24T00:00:00",
          "2022-08-25T00:00:00",
          "2022-08-26T00:00:00",
          "2022-08-27T00:00:00",
          "2022-08-28T00:00:00",
          "2022-08-29T00:00:00",
          "2022-08-30T00:00:00",
          "2022-08-31T00:00:00",
          "2022-09-01T00:00:00",
          "2022-09-02T00:00:00",
          "2022-09-03T00:00:00",
          "2022-09-04T00:00:00",
          "2022-09-05T00:00:00",
          "2022-09-06T00:00:00",
          "2022-09-07T00:00:00",
          "2022-09-08T00:00:00",
          "2022-09-09T00:00:00",
          "2022-09-10T00:00:00",
          "2022-09-11T00:00:00",
          "2022-09-12T00:00:00",
          "2022-09-13T00:00:00",
          "2022-09-14T00:00:00",
          "2022-09-15T00:00:00",
          "2022-09-16T00:00:00",
          "2022-09-17T00:00:00",
          "2022-09-18T00:00:00",
          "2022-09-19T00:00:00",
          "2022-09-20T00:00:00",
          "2022-09-21T00:00:00",
          "2022-09-22T00:00:00",
          "2022-09-23T00:00:00",
          "2022-09-24T00:00:00",
          "2022-09-25T00:00:00",
          "2022-09-26T00:00:00",
          "2022-09-27T00:00:00",
          "2022-09-28T00:00:00",
          "2022-09-29T00:00:00",
          "2022-09-30T00:00:00",
          "2022-10-01T00:00:00",
          "2022-10-02T00:00:00",
          "2022-10-03T00:00:00",
          "2022-10-04T00:00:00",
          "2022-10-05T00:00:00",
          "2022-10-06T00:00:00",
          "2022-10-07T00:00:00",
          "2022-10-08T00:00:00",
          "2022-10-09T00:00:00",
          "2022-10-10T00:00:00",
          "2022-10-11T00:00:00",
          "2022-10-12T00:00:00",
          "2022-10-13T00:00:00",
          "2022-10-14T00:00:00",
          "2022-10-15T00:00:00",
          "2022-10-16T00:00:00",
          "2022-10-17T00:00:00",
          "2022-10-18T00:00:00",
          "2022-10-19T00:00:00",
          "2022-10-20T00:00:00",
          "2022-10-21T00:00:00",
          "2022-10-22T00:00:00",
          "2022-10-23T00:00:00",
          "2022-10-24T00:00:00",
          "2022-10-25T00:00:00",
          "2022-10-26T00:00:00",
          "2022-10-27T00:00:00",
          "2022-10-28T00:00:00",
          "2022-10-29T00:00:00",
          "2022-10-30T00:00:00",
          "2022-10-31T00:00:00",
          "2022-11-01T00:00:00",
          "2022-11-02T00:00:00",
          "2022-11-03T00:00:00",
          "2022-11-04T00:00:00",
          "2022-11-05T00:00:00",
          "2022-11-06T00:00:00",
          "2022-11-07T00:00:00",
          "2022-11-08T00:00:00",
          "2022-11-09T00:00:00",
          "2022-11-10T00:00:00",
          "2022-11-11T00:00:00",
          "2022-11-12T00:00:00",
          "2022-11-13T00:00:00",
          "2022-11-14T00:00:00",
          "2022-11-15T00:00:00",
          "2022-11-16T00:00:00",
          "2022-11-17T00:00:00",
          "2022-11-18T00:00:00",
          "2022-11-19T00:00:00",
          "2022-11-20T00:00:00",
          "2022-11-21T00:00:00",
          "2022-11-22T00:00:00",
          "2022-11-23T00:00:00",
          "2022-11-24T00:00:00",
          "2022-11-25T00:00:00",
          "2022-11-26T00:00:00",
          "2022-11-27T00:00:00",
          "2022-11-28T00:00:00",
          "2022-11-29T00:00:00",
          "2022-11-30T00:00:00",
          "2022-12-01T00:00:00",
          "2022-12-02T00:00:00",
          "2022-12-03T00:00:00",
          "2022-12-04T00:00:00",
          "2022-12-05T00:00:00",
          "2022-12-06T00:00:00",
          "2022-12-07T00:00:00",
          "2022-12-08T00:00:00",
          "2022-12-09T00:00:00",
          "2022-12-10T00:00:00",
          "2022-12-11T00:00:00",
          "2022-12-12T00:00:00",
          "2022-12-13T00:00:00",
          "2022-12-14T00:00:00",
          "2022-12-15T00:00:00",
          "2022-12-16T00:00:00",
          "2022-12-17T00:00:00",
          "2022-12-18T00:00:00",
          "2022-12-19T00:00:00",
          "2022-12-20T00:00:00",
          "2022-12-21T00:00:00",
          "2022-12-22T00:00:00",
          "2022-12-23T00:00:00",
          "2022-12-24T00:00:00",
          "2022-12-25T00:00:00",
          "2022-12-26T00:00:00",
          "2022-12-27T00:00:00",
          "2022-12-28T00:00:00",
          "2022-12-29T00:00:00",
          "2022-12-30T00:00:00",
          "2022-12-31T00:00:00",
          "2023-01-01T00:00:00",
          "2023-01-02T00:00:00",
          "2023-01-03T00:00:00",
          "2023-01-04T00:00:00",
          "2023-01-05T00:00:00",
          "2023-01-06T00:00:00",
          "2023-01-07T00:00:00",
          "2023-01-08T00:00:00",
          "2023-01-09T00:00:00",
          "2023-01-10T00:00:00",
          "2023-01-11T00:00:00",
          "2023-01-12T00:00:00",
          "2023-01-13T00:00:00",
          "2023-01-14T00:00:00",
          "2023-01-15T00:00:00",
          "2023-01-16T00:00:00",
          "2023-01-17T00:00:00",
          "2023-01-18T00:00:00",
          "2023-01-19T00:00:00",
          "2023-01-20T00:00:00",
          "2023-01-21T00:00:00",
          "2023-01-22T00:00:00",
          "2023-01-23T00:00:00",
          "2023-01-24T00:00:00",
          "2023-01-25T00:00:00",
          "2023-01-26T00:00:00",
          "2023-01-27T00:00:00",
          "2023-01-28T00:00:00",
          "2023-01-29T00:00:00",
          "2023-01-30T00:00:00",
          "2023-01-31T00:00:00",
          "2023-02-01T00:00:00",
          "2023-02-02T00:00:00",
          "2023-02-03T00:00:00",
          "2023-02-04T00:00:00",
          "2023-02-05T00:00:00",
          "2023-02-06T00:00:00",
          "2023-02-07T00:00:00",
          "2023-02-08T00:00:00",
          "2023-02-09T00:00:00",
          "2023-02-10T00:00:00",
          "2023-02-11T00:00:00",
          "2023-02-12T00:00:00",
          "2023-02-13T00:00:00",
          "2023-02-14T00:00:00",
          "2023-02-15T00:00:00",
          "2023-02-16T00:00:00",
          "2023-02-17T00:00:00",
          "2023-02-18T00:00:00",
          "2023-02-19T00:00:00",
          "2023-02-20T00:00:00",
          "2023-02-21T00:00:00",
          "2023-02-22T00:00:00",
          "2023-02-23T00:00:00",
          "2023-02-24T00:00:00",
          "2023-02-25T00:00:00",
          "2023-02-26T00:00:00",
          "2023-02-27T00:00:00",
          "2023-02-28T00:00:00",
          "2023-03-01T00:00:00",
          "2023-03-02T00:00:00",
          "2023-03-03T00:00:00",
          "2023-03-04T00:00:00",
          "2023-03-05T00:00:00",
          "2023-03-06T00:00:00",
          "2023-03-07T00:00:00",
          "2023-03-08T00:00:00",
          "2023-03-09T00:00:00",
          "2023-03-10T00:00:00",
          "2023-03-11T00:00:00",
          "2023-03-12T00:00:00",
          "2023-03-13T00:00:00",
          "2023-03-14T00:00:00",
          "2023-03-15T00:00:00",
          "2023-03-16T00:00:00",
          "2023-03-17T00:00:00",
          "2023-03-18T00:00:00",
          "2023-03-19T00:00:00",
          "2023-03-20T00:00:00",
          "2023-03-21T00:00:00",
          "2023-03-22T00:00:00",
          "2023-03-23T00:00:00",
          "2023-03-24T00:00:00",
          "2023-03-25T00:00:00",
          "2023-03-26T00:00:00",
          "2023-03-27T00:00:00",
          "2023-03-28T00:00:00",
          "2023-03-29T00:00:00",
          "2023-03-30T00:00:00",
          "2023-03-31T00:00:00",
          "2023-04-01T00:00:00",
          "2023-04-02T00:00:00",
          "2023-04-03T00:00:00",
          "2023-04-04T00:00:00",
          "2023-04-05T00:00:00",
          "2023-04-06T00:00:00",
          "2023-04-07T00:00:00",
          "2023-04-08T00:00:00",
          "2023-04-09T00:00:00",
          "2023-04-10T00:00:00",
          "2023-04-11T00:00:00",
          "2023-04-12T00:00:00",
          "2023-04-13T00:00:00",
          "2023-04-14T00:00:00",
          "2023-04-15T00:00:00",
          "2023-04-16T00:00:00",
          "2023-04-17T00:00:00",
          "2023-04-18T00:00:00",
          "2023-04-19T00:00:00",
          "2023-04-20T00:00:00",
          "2023-04-21T00:00:00",
          "2023-04-22T00:00:00",
          "2023-04-23T00:00:00",
          "2023-04-24T00:00:00",
          "2023-04-25T00:00:00",
          "2023-04-26T00:00:00",
          "2023-04-27T00:00:00",
          "2023-04-28T00:00:00",
          "2023-04-29T00:00:00",
          "2023-04-30T00:00:00",
          "2023-05-01T00:00:00",
          "2023-05-02T00:00:00",
          "2023-05-03T00:00:00",
          "2023-05-04T00:00:00",
          "2023-05-05T00:00:00",
          "2023-05-06T00:00:00",
          "2023-05-07T00:00:00",
          "2023-05-08T00:00:00",
          "2023-05-09T00:00:00",
          "2023-05-10T00:00:00",
          "2023-05-11T00:00:00",
          "2023-05-12T00:00:00",
          "2023-05-13T00:00:00",
          "2023-05-14T00:00:00",
          "2023-05-15T00:00:00",
          "2023-05-16T00:00:00",
          "2023-05-17T00:00:00",
          "2023-05-18T00:00:00",
          "2023-05-19T00:00:00",
          "2023-05-20T00:00:00",
          "2023-05-21T00:00:00",
          "2023-05-22T00:00:00",
          "2023-05-23T00:00:00",
          "2023-05-24T00:00:00",
          "2023-05-25T00:00:00",
          "2023-05-26T00:00:00",
          "2023-05-27T00:00:00",
          "2023-05-28T00:00:00",
          "2023-05-29T00:00:00",
          "2023-05-30T00:00:00",
          "2023-05-31T00:00:00",
          "2023-06-01T00:00:00",
          "2023-06-02T00:00:00",
          "2023-06-03T00:00:00",
          "2023-06-04T00:00:00",
          "2023-06-05T00:00:00",
          "2023-06-06T00:00:00",
          "2023-06-07T00:00:00",
          "2023-06-08T00:00:00",
          "2023-06-09T00:00:00",
          "2023-06-10T00:00:00",
          "2023-06-11T00:00:00",
          "2023-06-12T00:00:00",
          "2023-06-13T00:00:00",
          "2023-06-14T00:00:00",
          "2023-06-15T00:00:00",
          "2023-06-16T00:00:00",
          "2023-06-17T00:00:00",
          "2023-06-18T00:00:00",
          "2023-06-19T00:00:00",
          "2023-06-20T00:00:00",
          "2023-06-21T00:00:00",
          "2023-06-22T00:00:00",
          "2023-06-23T00:00:00",
          "2023-06-24T00:00:00",
          "2023-06-25T00:00:00",
          "2023-06-26T00:00:00",
          "2023-06-27T00:00:00",
          "2023-06-28T00:00:00",
          "2023-06-29T00:00:00",
          "2023-06-30T00:00:00",
          "2023-07-01T00:00:00",
          "2023-07-02T00:00:00",
          "2023-07-03T00:00:00",
          "2023-07-04T00:00:00",
          "2023-07-05T00:00:00",
          "2023-07-06T00:00:00",
          "2023-07-07T00:00:00",
          "2023-07-08T00:00:00",
          "2023-07-09T00:00:00",
          "2023-07-10T00:00:00",
          "2023-07-11T00:00:00",
          "2023-07-12T00:00:00",
          "2023-07-13T00:00:00",
          "2023-07-14T00:00:00",
          "2023-07-15T00:00:00",
          "2023-07-16T00:00:00",
          "2023-07-17T00:00:00",
          "2023-07-18T00:00:00",
          "2023-07-19T00:00:00",
          "2023-07-20T00:00:00",
          "2023-07-21T00:00:00",
          "2023-07-22T00:00:00",
          "2023-07-23T00:00:00",
          "2023-07-24T00:00:00",
          "2023-07-25T00:00:00",
          "2023-07-26T00:00:00",
          "2023-07-27T00:00:00",
          "2023-07-28T00:00:00",
          "2023-07-29T00:00:00",
          "2023-07-30T00:00:00",
          "2023-07-31T00:00:00",
          "2023-08-01T00:00:00",
          "2023-08-02T00:00:00",
          "2023-08-03T00:00:00",
          "2023-08-04T00:00:00",
          "2023-08-05T00:00:00",
          "2023-08-06T00:00:00",
          "2023-08-07T00:00:00",
          "2023-08-08T00:00:00",
          "2023-08-09T00:00:00",
          "2023-08-10T00:00:00",
          "2023-08-11T00:00:00",
          "2023-08-12T00:00:00",
          "2023-08-13T00:00:00",
          "2023-08-14T00:00:00",
          "2023-08-15T00:00:00",
          "2023-08-16T00:00:00",
          "2023-08-17T00:00:00",
          "2023-08-18T00:00:00",
          "2023-08-19T00:00:00",
          "2023-08-20T00:00:00",
          "2023-08-21T00:00:00",
          "2023-08-22T00:00:00",
          "2023-08-23T00:00:00",
          "2023-08-24T00:00:00",
          "2023-08-25T00:00:00",
          "2023-08-26T00:00:00",
          "2023-08-27T00:00:00",
          "2023-08-28T00:00:00",
          "2023-08-29T00:00:00",
          "2023-08-30T00:00:00",
          "2023-08-31T00:00:00",
          "2023-09-01T00:00:00",
          "2023-09-02T00:00:00",
          "2023-09-03T00:00:00",
          "2023-09-04T00:00:00",
          "2023-09-05T00:00:00",
          "2023-09-06T00:00:00",
          "2023-09-07T00:00:00",
          "2023-09-08T00:00:00",
          "2023-09-09T00:00:00",
          "2023-09-10T00:00:00",
          "2023-09-11T00:00:00",
          "2023-09-12T00:00:00",
          "2023-09-13T00:00:00",
          "2023-09-14T00:00:00",
          "2023-09-15T00:00:00",
          "2023-09-16T00:00:00",
          "2023-09-17T00:00:00",
          "2023-09-18T00:00:00",
          "2023-09-19T00:00:00",
          "2023-09-20T00:00:00",
          "2023-09-21T00:00:00",
          "2023-09-22T00:00:00",
          "2023-09-23T00:00:00",
          "2023-09-24T00:00:00",
          "2023-09-25T00:00:00",
          "2023-09-26T00:00:00",
          "2023-09-27T00:00:00",
          "2023-09-28T00:00:00",
          "2023-09-29T00:00:00",
          "2023-09-30T00:00:00",
          "2023-10-01T00:00:00",
          "2023-10-02T00:00:00",
          "2023-10-03T00:00:00",
          "2023-10-04T00:00:00",
          "2023-10-05T00:00:00",
          "2023-10-06T00:00:00",
          "2023-10-07T00:00:00",
          "2023-10-08T00:00:00",
          "2023-10-09T00:00:00",
          "2023-10-10T00:00:00",
          "2023-10-11T00:00:00",
          "2023-10-12T00:00:00",
          "2023-10-13T00:00:00",
          "2023-10-14T00:00:00",
          "2023-10-15T00:00:00",
          "2023-10-16T00:00:00",
          "2023-10-17T00:00:00",
          "2023-10-18T00:00:00",
          "2023-10-19T00:00:00",
          "2023-10-20T00:00:00",
          "2023-10-21T00:00:00",
          "2023-10-22T00:00:00",
          "2023-10-23T00:00:00",
          "2023-10-24T00:00:00",
          "2023-10-25T00:00:00",
          "2023-10-26T00:00:00",
          "2023-10-27T00:00:00",
          "2023-10-28T00:00:00",
          "2023-10-29T00:00:00",
          "2023-10-30T00:00:00",
          "2023-10-31T00:00:00",
          "2023-11-01T00:00:00",
          "2023-11-02T00:00:00",
          "2023-11-03T00:00:00",
          "2023-11-04T00:00:00",
          "2023-11-05T00:00:00",
          "2023-11-06T00:00:00",
          "2023-11-07T00:00:00",
          "2023-11-08T00:00:00",
          "2023-11-09T00:00:00",
          "2023-11-10T00:00:00",
          "2023-11-11T00:00:00",
          "2023-11-12T00:00:00",
          "2023-11-13T00:00:00",
          "2023-11-14T00:00:00",
          "2023-11-15T00:00:00",
          "2023-11-16T00:00:00",
          "2023-11-17T00:00:00",
          "2023-11-18T00:00:00",
          "2023-11-19T00:00:00",
          "2023-11-20T00:00:00",
          "2023-11-21T00:00:00",
          "2023-11-22T00:00:00",
          "2023-11-23T00:00:00",
          "2023-11-24T00:00:00",
          "2023-11-25T00:00:00",
          "2023-11-26T00:00:00",
          "2023-11-27T00:00:00",
          "2023-11-28T00:00:00",
          "2023-11-29T00:00:00",
          "2023-11-30T00:00:00",
          "2023-12-01T00:00:00",
          "2023-12-02T00:00:00",
          "2023-12-03T00:00:00",
          "2023-12-04T00:00:00",
          "2023-12-05T00:00:00",
          "2023-12-06T00:00:00",
          "2023-12-07T00:00:00",
          "2023-12-08T00:00:00",
          "2023-12-09T00:00:00",
          "2023-12-10T00:00:00",
          "2023-12-11T00:00:00",
          "2023-12-12T00:00:00",
          "2023-12-13T00:00:00",
          "2023-12-14T00:00:00",
          "2023-12-15T00:00:00",
          "2023-12-16T00:00:00",
          "2023-12-17T00:00:00",
          "2023-12-18T00:00:00",
          "2023-12-19T00:00:00",
          "2023-12-20T00:00:00",
          "2023-12-21T00:00:00",
          "2023-12-22T00:00:00",
          "2023-12-23T00:00:00",
          "2023-12-24T00:00:00",
          "2023-12-25T00:00:00",
          "2023-12-26T00:00:00",
          "2023-12-27T00:00:00",
          "2023-12-28T00:00:00",
          "2023-12-29T00:00:00",
          "2023-12-30T00:00:00",
          "2023-12-31T00:00:00",
          "2024-01-01T00:00:00",
          "2024-01-02T00:00:00",
          "2024-01-03T00:00:00",
          "2024-01-04T00:00:00",
          "2024-01-05T00:00:00",
          "2024-01-06T00:00:00",
          "2024-01-07T00:00:00",
          "2024-01-08T00:00:00",
          "2024-01-09T00:00:00",
          "2024-01-10T00:00:00",
          "2024-01-11T00:00:00",
          "2024-01-12T00:00:00",
          "2024-01-13T00:00:00",
          "2024-01-14T00:00:00",
          "2024-01-15T00:00:00",
          "2024-01-16T00:00:00",
          "2024-01-17T00:00:00",
          "2024-01-18T00:00:00",
          "2024-01-19T00:00:00",
          "2024-01-20T00:00:00",
          "2024-01-21T00:00:00",
          "2024-01-22T00:00:00",
          "2024-01-23T00:00:00",
          "2024-01-24T00:00:00",
          "2024-01-25T00:00:00",
          "2024-01-26T00:00:00",
          "2024-01-27T00:00:00",
          "2024-01-28T00:00:00",
          "2024-01-29T00:00:00",
          "2024-01-30T00:00:00",
          "2024-01-31T00:00:00",
          "2024-02-01T00:00:00",
          "2024-02-02T00:00:00",
          "2024-02-03T00:00:00",
          "2024-02-04T00:00:00",
          "2024-02-05T00:00:00",
          "2024-02-06T00:00:00",
          "2024-02-07T00:00:00",
          "2024-02-08T00:00:00",
          "2024-02-09T00:00:00",
          "2024-02-10T00:00:00",
          "2024-02-11T00:00:00",
          "2024-02-12T00:00:00",
          "2024-02-13T00:00:00",
          "2024-02-14T00:00:00",
          "2024-02-15T00:00:00",
          "2024-02-16T00:00:00",
          "2024-02-17T00:00:00",
          "2024-02-18T00:00:00",
          "2024-02-19T00:00:00",
          "2024-02-20T00:00:00",
          "2024-02-21T00:00:00",
          "2024-02-22T00:00:00",
          "2024-02-23T00:00:00",
          "2024-02-24T00:00:00",
          "2024-02-25T00:00:00",
          "2024-02-26T00:00:00",
          "2024-02-27T00:00:00",
          "2024-02-28T00:00:00",
          "2024-02-29T00:00:00",
          "2024-03-01T00:00:00",
          "2024-03-02T00:00:00",
          "2024-03-03T00:00:00",
          "2024-03-04T00:00:00",
          "2024-03-05T00:00:00",
          "2024-03-06T00:00:00",
          "2024-03-07T00:00:00",
          "2024-03-08T00:00:00",
          "2024-03-09T00:00:00",
          "2024-03-10T00:00:00",
          "2024-03-11T00:00:00",
          "2024-03-12T00:00:00",
          "2024-03-13T00:00:00",
          "2024-03-14T00:00:00",
          "2024-03-15T00:00:00",
          "2024-03-16T00:00:00",
          "2024-03-17T00:00:00",
          "2024-03-18T00:00:00",
          "2024-03-19T00:00:00",
          "2024-03-20T00:00:00",
          "2024-03-21T00:00:00",
          "2024-03-22T00:00:00",
          "2024-03-23T00:00:00",
          "2024-03-24T00:00:00",
          "2024-03-25T00:00:00",
          "2024-03-26T00:00:00",
          "2024-03-27T00:00:00",
          "2024-03-28T00:00:00",
          "2024-03-29T00:00:00",
          "2024-03-30T00:00:00",
          "2024-03-31T00:00:00",
          "2024-04-01T00:00:00",
          "2024-04-02T00:00:00",
          "2024-04-03T00:00:00",
          "2024-04-04T00:00:00",
          "2024-04-05T00:00:00",
          "2024-04-06T00:00:00",
          "2024-04-07T00:00:00",
          "2024-04-08T00:00:00",
          "2024-04-09T00:00:00",
          "2024-04-10T00:00:00",
          "2024-04-11T00:00:00",
          "2024-04-12T00:00:00",
          "2024-04-13T00:00:00",
          "2024-04-14T00:00:00",
          "2024-04-15T00:00:00",
          "2024-04-16T00:00:00",
          "2024-04-17T00:00:00",
          "2024-04-18T00:00:00",
          "2024-04-19T00:00:00",
          "2024-04-20T00:00:00",
          "2024-04-21T00:00:00",
          "2024-04-22T00:00:00",
          "2024-04-23T00:00:00",
          "2024-04-24T00:00:00",
          "2024-04-25T00:00:00",
          "2024-04-26T00:00:00",
          "2024-04-27T00:00:00",
          "2024-04-28T00:00:00",
          "2024-04-29T00:00:00",
          "2024-04-30T00:00:00"
         ],
         "xaxis": "x",
         "y": [
          3070302,
          4098631,
          3692632,
          3634702,
          3638792,
          3458720,
          4393106,
          4651884,
          4250530,
          5109455,
          5269836,
          4492020,
          3995891,
          5089478,
          5181060,
          5180116,
          4984625,
          5371667,
          4695296,
          4062490,
          4888726,
          5078639,
          5265801,
          5511601,
          5641879,
          4674087,
          4154373,
          3916464,
          5351190,
          5411870,
          5082273,
          5637064,
          4460862,
          3790710,
          4842424,
          3415249,
          5794734,
          5868038,
          5891413,
          4653809,
          3922657,
          5574040,
          5475609,
          5892606,
          5999679,
          6162694,
          5326127,
          4139272,
          5559502,
          5426006,
          5462072,
          5658546,
          6045003,
          5236586,
          4722595,
          5661297,
          5821874,
          5960279,
          5808365,
          6058164,
          5269914,
          4620358,
          5463490,
          5626171,
          5665036,
          5787426,
          5826926,
          5074510,
          3846784,
          4916667,
          5210149,
          5451644,
          5529837,
          5732400,
          4839484,
          4225389,
          5242997,
          5370913,
          5534596,
          5533683,
          5649651,
          4805781,
          4488107,
          5409278,
          5403388,
          5375140,
          5587638,
          3531649,
          3837247,
          3485650,
          3405739,
          4783316,
          5056985,
          5718547,
          5869147,
          5018351,
          4351926,
          4703343,
          5085286,
          4779330,
          5440327,
          5553914,
          4406641,
          3887205,
          4435472,
          5215654,
          5254668,
          5326904,
          5454618,
          4569503,
          3910046,
          5018137,
          5337889,
          3683983,
          5112493,
          5229976,
          3924550,
          3665860,
          5185012,
          5617708,
          5756223,
          5755885,
          6187823,
          5342021,
          4477022,
          5456198,
          5640018,
          5840827,
          5871215,
          5855046,
          5086804,
          4594686,
          5109669,
          5237839,
          5301161,
          5540762,
          5789858,
          4847911,
          4214055,
          5234533,
          5373012,
          5298762,
          5443701,
          5403398,
          4707513,
          3798733,
          5013386,
          5112871,
          5206409,
          5466601,
          5422786,
          3753644,
          3248612,
          3108900,
          5039014,
          5039014,
          5145952,
          5292144,
          5402230,
          4710415,
          3839289,
          4865745,
          4905683,
          5132403,
          5355352,
          5389915,
          4870681,
          4085666,
          5026470,
          5178851,
          5141780,
          5439617,
          5645605,
          4819397,
          4057728,
          4969692,
          5100090,
          5412662,
          5389861,
          5518175,
          4770242,
          3802483,
          4788211,
          5246313,
          5316342,
          4510806,
          4381433,
          3660831,
          4662144,
          4822450,
          5139205,
          5148064,
          5254193,
          5254193,
          3344802,
          3344802,
          4855785,
          5044675,
          5129071,
          5159669,
          5387541,
          4529518,
          5151726,
          5441385,
          5608058,
          5608058,
          5610025,
          5755303,
          4923628,
          3797217,
          4690075,
          5553338,
          5588436,
          5629582,
          5049593,
          4148904,
          5033922,
          5225668,
          5352620,
          4739473,
          5594954,
          4725071,
          4097597,
          5043632,
          5076147,
          5076147,
          5289436,
          4761592,
          5335172,
          4553033,
          3918002,
          4721223,
          4799296,
          4910246,
          5161633,
          4401413,
          3819892,
          4677358,
          4398152,
          5016495,
          5293924,
          5438218,
          4732941,
          3936763,
          5020401,
          5356927,
          5499917,
          5458656,
          5777198,
          4803012,
          3910693,
          4982397,
          5026167,
          5244575,
          5464349,
          5737009,
          4781581,
          4042817,
          5008632,
          5280158,
          5505478,
          5558257,
          5812117,
          4789803,
          4370756,
          5262147,
          5245960,
          5538803,
          5537583,
          5621843,
          4728872,
          3990099,
          5004277,
          5158740,
          5468391,
          5561320,
          5676696,
          4734809,
          4047886,
          5185000,
          5362104,
          5498610,
          5480890,
          5425569,
          4679265,
          3542757,
          5511071,
          5798572,
          5829687,
          6089757,
          6221589,
          4466996,
          3893840,
          3663080,
          5692060,
          5952849,
          5964140,
          6162063,
          5154170,
          4394085,
          5256449,
          5462609,
          5709186,
          5688179,
          5992903,
          4956335,
          4237160,
          5408552,
          5621410,
          5860622,
          5860622,
          5798042,
          6075228,
          5132563,
          4238816,
          5201580,
          5285228,
          5647415,
          5863627,
          5018723,
          4326847,
          5339986,
          4791649,
          5476768,
          5476768,
          5918461,
          4657762,
          4657762,
          4042998,
          5408047,
          5622315,
          5721274,
          5814191,
          6042424,
          4974121,
          4578121,
          5157725,
          5456958,
          5751599,
          5798326,
          6124432,
          4633010,
          4541141,
          5220024,
          5415063,
          5560223,
          5682114,
          5022654,
          4435609,
          5401740,
          5602164,
          5795285,
          5619812,
          5567940,
          4745504,
          4062461,
          4112230,
          3407026,
          3668567,
          4375875,
          4363893,
          3844169,
          3699050,
          3832166,
          3379987,
          3560011,
          4138201,
          4282567,
          3975890,
          3627528,
          4543773,
          4643900,
          4875674,
          4880954,
          5021555,
          4347204,
          3821986,
          4592905,
          4792247,
          4957816,
          4863726,
          4993683,
          4276418,
          3681077,
          4689820,
          4825342,
          4819754,
          5104192,
          5112071,
          3979908,
          3594217,
          3344121,
          4797790,
          4942355,
          5015362,
          5237632,
          4314621,
          3738527,
          4754099,
          5110243,
          3698701,
          5477533,
          5659535,
          5092083,
          4621148,
          5653191,
          5794680,
          5946808,
          6041592,
          6263243,
          5441905,
          4705822,
          5600438,
          5821386,
          5907964,
          5536486,
          5527556,
          4644390,
          4175820,
          5079089,
          5314541,
          5458620,
          5532207,
          5629449,
          5005394,
          4442844,
          5360651,
          5515699,
          4958735,
          5700370,
          5625051,
          4829879,
          4385696,
          5262980,
          5445483,
          5607458,
          5628006,
          5733386,
          4772502,
          4125194,
          5126410,
          4566705,
          5465671,
          5537914,
          5555161,
          4869897,
          4156725,
          5114135,
          5207663,
          5478078,
          5547416,
          5876470,
          4921960,
          4260900,
          5036653,
          5493717,
          5569317,
          5807172,
          5913137,
          4682113,
          4267016,
          5299629,
          5447358,
          5610182,
          5616048,
          5761652,
          4765370,
          4005204,
          5106635,
          5343727,
          5506465,
          5664062,
          3593720,
          3538906,
          3521797,
          3267557,
          4916665,
          5269748,
          3685924,
          5121386,
          4504586,
          3747175,
          4993830,
          5216664,
          5295186,
          5333237,
          5460092,
          4689892,
          4041946,
          4990437,
          5194916,
          5383391,
          5450739,
          5730782,
          5088212,
          4141749,
          5199769,
          4697280,
          5415529,
          5530499,
          5774653,
          4942022,
          4135907,
          5251835,
          5365863,
          5424059,
          5526072,
          5669308,
          4946758,
          4076212,
          4970918,
          5036475,
          5337490,
          5592465,
          5418842,
          4080320,
          3669288,
          3435345,
          5306704,
          4964612,
          5262137,
          5424720,
          4394454,
          3956107,
          4971662,
          5292347,
          5403035,
          5284968,
          4701794,
          4632452,
          3872852,
          4871849,
          5092806,
          5498435,
          5708232,
          5803865,
          4981102,
          4040242,
          5279625,
          5501858,
          5633039,
          5830016,
          6006488,
          5169692,
          4411265,
          5339845,
          5383307,
          5552524,
          5258357,
          5647849,
          4619476,
          3424896,
          4948067,
          5123420,
          5273262,
          5328562,
          5233081,
          4518976,
          3573970,
          4920796,
          5042796,
          5220068,
          5314166,
          5274442,
          4454219,
          3905713,
          4935078,
          5141368,
          5250776,
          5339106,
          5451754,
          4732788,
          4011468,
          5049258,
          5236764,
          5272402,
          5314474,
          5616696,
          4680795,
          3858577,
          5021563,
          5283791,
          5562373,
          5769466,
          5854405,
          4955089,
          4199749,
          5451275,
          5591853,
          5726246,
          5844296,
          5996394,
          5082107,
          4135384,
          5432721,
          5575499,
          5655063,
          5598139,
          5525607,
          4809457,
          4085142,
          5115041,
          5458175,
          5718399,
          5819208,
          6030011,
          5082778,
          4532295,
          5361622,
          5450395,
          5628265,
          5772822,
          5949523,
          5025702,
          4237037,
          5334161,
          5370634,
          5499083,
          5699145,
          5927651,
          4845564,
          4221541,
          5401712,
          5641515,
          5778920,
          5839856,
          6060224,
          5015764,
          4442326,
          5474685,
          5453454,
          5646896,
          5718084,
          5905310,
          4862031,
          4172950,
          5269748,
          5437675,
          5409878,
          5596666,
          5720608,
          4797903,
          4166332,
          5174580,
          5529871,
          5679653,
          5618143,
          5674467,
          4894085,
          4237912,
          5392840,
          4829623,
          5774643,
          5936303,
          6170327,
          5089973,
          4424663,
          5574185,
          5728765,
          5657689,
          5913159,
          5971441,
          4603544,
          4084090,
          3708511,
          5381739,
          5564140,
          5734051,
          6051874,
          5173348,
          4490759,
          5514302,
          5739637,
          5161767,
          5947666,
          5516794,
          5435166,
          4316459,
          5575085,
          5556661,
          5806218,
          5704346,
          5681243,
          4318078,
          4362592,
          5055400,
          5425805,
          5682753,
          5811674,
          6228025,
          5447794,
          4708979,
          5729850,
          5237477,
          6056521,
          6113193,
          6363041,
          4926084,
          4684044,
          5656821,
          5514780,
          5867595,
          5966516,
          6218984,
          5311535,
          4523083,
          4939569,
          5688834,
          5926324,
          6064120,
          6122105,
          5254641,
          4427139,
          4805472,
          5359817,
          5604951,
          5953672,
          5794072,
          5089505,
          3918275,
          5113853,
          4781684,
          3738286,
          3779191,
          4327375,
          3794884,
          3589210,
          3489701,
          4058176,
          3650099,
          3627996,
          4312878,
          3919136,
          3678261,
          4731744,
          4249868,
          5255038,
          5383693,
          5562707,
          4782682,
          4329030,
          5390308,
          4638749,
          5710939,
          5908287,
          5845779,
          4935271,
          3827676,
          5340905,
          5513871,
          5641015,
          5819169,
          5975895,
          4712524,
          4179512,
          3991901,
          5678733,
          4851816,
          5668185,
          5895705,
          4818848,
          4074812,
          5280170,
          5492060,
          5857842,
          3345560,
          5473825,
          4689999,
          4380001,
          5568665,
          5687956,
          5833158,
          5935523,
          6162566,
          4269566,
          3814314,
          5594637,
          5694280,
          5780342,
          5794733,
          6145205,
          4993127,
          4717154,
          5547877,
          5727581,
          5795977,
          5969149,
          6233912,
          4347099,
          4581252,
          5644179,
          5889417,
          5945725,
          6133141,
          6293453,
          5302853,
          4600757,
          5508966,
          5574964,
          5756503,
          6073482,
          6400234,
          5305088,
          4627682,
          5789510,
          5837909,
          5779313,
          5763550,
          4852119,
          4194722,
          3387610,
          5080040,
          4857317,
          3869657,
          1104065,
          1084895,
          600938,
          508797,
          1026334,
          1101708,
          1156550,
          1154693,
          1160397,
          697384,
          580798,
          1141326,
          1199390,
          1236709,
          1260144,
          469019,
          705969,
          521880,
          554630,
          1169893,
          1241261,
          1216555,
          1227308,
          726457,
          588449,
          1200163,
          1282447,
          1347001,
          1411395,
          1476572,
          795862,
          723188,
          819014,
          3127420,
          3081589,
          3156976,
          3229108,
          2110925,
          1297550,
          2994659,
          3041611,
          3234902,
          3286850,
          3511669,
          2465746,
          2017532,
          2749816,
          3478741,
          3591981,
          4607972,
          4867315,
          4062639,
          3362688,
          4575568,
          4760036,
          4962218,
          5069624,
          5350454,
          4321009,
          3298242,
          4559316,
          4919679,
          4906451,
          4900996,
          4901379,
          4140495,
          3144409,
          3129909,
          4891027,
          5020069,
          5240245,
          5413345,
          4525762,
          3708389,
          4959303,
          5226448,
          5364329,
          5488626,
          5526296,
          4639309,
          3912635,
          4996782,
          5374842,
          5281966,
          5125306,
          5585665,
          4779685,
          3769087,
          5066360,
          5471462,
          5590965,
          5640352,
          6036076,
          4872959,
          4167636,
          5177806,
          5627010,
          5843302,
          5929357,
          6170347,
          4862423,
          3863574,
          4861338,
          5135392,
          4254474,
          5478446,
          5633691,
          4738679,
          4067046,
          5156326,
          5243730,
          5288813,
          5325772,
          5667826,
          4771494,
          4083480,
          5458653,
          5612865,
          5530024,
          5733570,
          5931694,
          5072268,
          4275623,
          5244674,
          5557440,
          5776028,
          5767357,
          5986776,
          5206133,
          3671987,
          5357327,
          5523274,
          5738004,
          5659455,
          5913069,
          5010414,
          4261596,
          5385651,
          5158556,
          4216424,
          3168713,
          3440209,
          2171819,
          1709913,
          3317565,
          3416897,
          3122921,
          3404775,
          3641695,
          2534612,
          1768707,
          3421082,
          3541065,
          3719526,
          3706804,
          3898728,
          2753478,
          2128387,
          5155527,
          4406514,
          5249126,
          5320396,
          5248904,
          4296598,
          3656654,
          4747972,
          4810147,
          5486693,
          5620923,
          5816362,
          4700174,
          3802547,
          5165497,
          5164086,
          5231153,
          5450319,
          5499676,
          4530826,
          3806487,
          5029561,
          5229607,
          5316377,
          5513089,
          5770055,
          4644263,
          3431741,
          5027439,
          5030832,
          4513365,
          5534886,
          5585331,
          4727648,
          4108908,
          5141414,
          5251780,
          5463390,
          5609963,
          5697999,
          4846256,
          4039042,
          5363341,
          5369865,
          5855207,
          5849370,
          6164012,
          4459008,
          4459676,
          5539365,
          5765029,
          5765029,
          5937506,
          6138505,
          6153953,
          4746943,
          4106313,
          3881550,
          5533715,
          5840114,
          6006580,
          5045517,
          4388284,
          5505560,
          5848295,
          6065423,
          5696277,
          6353817,
          5296342,
          4476342,
          5653498,
          5729006,
          6014502,
          5128267,
          5890624,
          5320188,
          4560430,
          5565404,
          5917623,
          6009577,
          6261512,
          6527185,
          5667250,
          4711590,
          5889553,
          5909731,
          6044272,
          6122707,
          6206194,
          5445539,
          4321255,
          5476368,
          5795029,
          6083889,
          6262960,
          6438496,
          5611185,
          4826953,
          4844776,
          6067104,
          6126164,
          6302358,
          6457807,
          5672594,
          4834438,
          5981784,
          6029548,
          6150974,
          6299339,
          6385643,
          5430138,
          4664162,
          5820155,
          5953001,
          5999884,
          5059909,
          3830589,
          3897005,
          3879711,
          3688505,
          4075976,
          4212735,
          4167396,
          3738742,
          3480823,
          3472843,
          3695716,
          4654740,
          4799666,
          4842104,
          4918546,
          4608553,
          4090257,
          5314953,
          5531385,
          5787206,
          5923301,
          6131678,
          5226485,
          4406938,
          5704764,
          5840674,
          5976383,
          5957130,
          6144173,
          5261534,
          4478573,
          5650579,
          5834843,
          6086041,
          6127259,
          6223773,
          5028148,
          4397963,
          4049136,
          5788253,
          5943639,
          6142145,
          6325519,
          4908188,
          4375331,
          4058870,
          6010058,
          6031701,
          6358327,
          6558504,
          5740608,
          5247483,
          3298850,
          3381116,
          3673241,
          5791445,
          6178581,
          5199189,
          4497446,
          5775334,
          5952925,
          5935331,
          5937874,
          6333546,
          5568867,
          2575804,
          3802937,
          3802130,
          3864264,
          3832179,
          3930793,
          2698552,
          4275127,
          5613498,
          5926297,
          6044954,
          6166088,
          6199346,
          5377160,
          4740529,
          5700845,
          5682615,
          5992609,
          6198832,
          6502711,
          5637210,
          4896890,
          5875589,
          6086923,
          6142786,
          6326504,
          6464940,
          5517929,
          4695444,
          5700329,
          5892401,
          6078692,
          6202637,
          3922691,
          4585009,
          3942765,
          3888516,
          5487153,
          5651942,
          5836411,
          6214863,
          4938904,
          4612250,
          5826289,
          5877782,
          5827637,
          6017798,
          5991679,
          4904855,
          4166638,
          5253236,
          5355903,
          5577680,
          5792691,
          5811617,
          5000334,
          4113376,
          3833114,
          5287391,
          5711282,
          5755793,
          5848229,
          5092053,
          4260031,
          5447423,
          5447423,
          5717626,
          5846245,
          5897131,
          5038882,
          5292383,
          4521180,
          5458343,
          5867674,
          5802927,
          6262444,
          5357463,
          4618535,
          5296038,
          5331730,
          5570417,
          5886848,
          6129927,
          5338009,
          4318427,
          5499066,
          5780905,
          6081238,
          6153852,
          6221935,
          5273714,
          4459669,
          5559935,
          5868462,
          5993350,
          5910586,
          5933341,
          4944711,
          3853816,
          3500758,
          5451788,
          5789455,
          6003156,
          6075708,
          5428354,
          3930827,
          4736652,
          5759991,
          6002063,
          6161831,
          6295710,
          5316552,
          4495945,
          5643013,
          5643013,
          5788392,
          5783459,
          5835409,
          5895084,
          4195247,
          5328912,
          5328912,
          5560888,
          5858113,
          6013510,
          6156604,
          4548924,
          5469043,
          5654400,
          5821566,
          5922151,
          6149062,
          5052172,
          4225009,
          5262921,
          5499335,
          5735952,
          5806404,
          5719423,
          4491988,
          3447071,
          5430459,
          5726416,
          5506646,
          5695004,
          5843787,
          5194093,
          4267851,
          5412889,
          5650651,
          5865659,
          5838753,
          6102854,
          5245388,
          4436268,
          5555954,
          4820435,
          5980129,
          6099598,
          6093858,
          5335012,
          4362543,
          5373936,
          5473867,
          5560685,
          5888527,
          6013455,
          5300378,
          4480321,
          5535277,
          5968171,
          1769412,
          1556673,
          1427638,
          885970,
          793379,
          1429387,
          1488570,
          1558638,
          1559886,
          1579866,
          1043181,
          884424,
          1532641,
          1559342,
          1712805,
          1721536,
          1776464,
          1205643,
          1024706,
          1649460,
          1688997,
          1679627,
          1807246,
          1820761,
          1223494,
          1044047,
          1712905,
          1786918,
          1795144,
          1773071,
          1892696,
          1311613,
          1037403,
          1813003,
          2081506,
          3665627,
          3470278,
          3657834,
          2603914,
          2603914,
          1759893,
          3527811,
          3715156,
          3808107,
          3813225,
          3905096,
          1960772,
          3531231,
          3796242,
          4094700,
          3943415,
          4278218,
          3278106,
          2533082,
          3846836,
          3726063,
          4091143,
          4232672,
          4260899,
          3500935,
          2248006,
          3828723,
          4155059,
          4244116,
          4205901,
          4354586,
          3123861,
          2159033,
          2453657,
          4108590,
          4151223,
          4010748,
          4437981,
          3306729,
          2487799,
          4136841,
          4251344,
          4195757,
          4337621,
          4526858,
          3620234,
          2901858,
          4097318,
          4362128,
          4642918,
          4744384,
          4880086,
          3321716,
          2807109,
          4234995,
          4555152,
          4597371,
          4754432,
          5096095,
          4186163,
          3182884,
          4408555,
          4601218,
          4800034,
          4896760,
          5214131,
          4332095,
          3369388,
          4674730,
          5007748,
          5165700,
          5281825,
          5661580,
          3731915,
          2891306,
          5063167,
          5321288,
          5558579,
          5656650,
          4798214,
          4880565,
          3457064,
          5022396,
          5022571,
          5664718,
          5639370,
          5773137,
          5092216,
          4367284,
          5598367,
          5723021,
          5926396,
          5760655,
          4960394,
          3708424,
          3648187,
          3762277,
          3519964,
          4159687,
          4260172,
          4144983,
          2903011,
          3404841,
          3574962,
          3472336,
          4178907,
          4300683,
          4517222,
          4144346,
          3624047,
          4680623,
          4824493,
          4976210,
          5061501,
          5283582,
          4451294,
          3762876,
          4894538,
          5930207,
          6087585,
          6138161,
          6400872,
          5453733,
          4607301,
          5431078,
          5506349,
          5851989,
          6022584,
          6170834,
          4954762,
          4247684,
          3966158,
          5523944,
          5777635,
          5810109,
          6138788,
          4905131,
          3737857,
          3690259,
          5655280,
          5892262,
          5939585,
          6138694,
          5197818,
          3511957,
          5733042,
          5908986,
          5987082,
          6035799,
          6300560,
          5189447,
          4340897,
          5497537,
          5582726,
          5525797,
          5577767,
          5859873,
          4648283,
          3958927,
          5135093,
          5225689,
          5276296,
          5345288,
          5515678,
          4494135,
          3772229,
          4928052,
          5104083,
          5243401,
          5400736,
          5628577,
          4523789,
          3846248,
          5032320,
          5305906,
          5483690,
          5681042,
          5809468,
          4779219,
          3876010,
          4805100,
          5424518,
          5454863,
          5757450,
          6101048,
          5138271,
          4353785,
          5439951,
          5641353,
          5730912,
          5872837,
          6227008,
          5323359,
          4455972,
          5608873,
          5847754,
          4825565,
          6161800,
          5298384,
          5626078,
          4724290,
          5510463,
          6031834,
          6265233,
          6766423,
          4200799,
          4741386,
          4086431,
          3815580,
          5665858,
          5917522,
          6108766,
          6209734,
          5370925,
          4439021,
          3878144,
          5879643,
          6082844,
          6210989,
          6339274,
          5524627,
          4608280,
          5903184,
          6097193,
          6230384,
          6457116,
          5478204,
          6741699,
          5838806,
          5107653,
          5938484,
          6139143,
          6330818,
          6411842,
          4602121,
          3729185,
          4581854,
          4657580,
          4873559,
          5990332,
          6367791,
          5427195,
          4582049,
          5823464,
          6160576,
          6282550,
          5082797,
          5304378,
          4553517,
          3613405,
          4502005,
          4909925,
          5049084,
          4910330,
          5039120,
          4304092,
          3392815,
          3157731,
          4657288,
          4846896,
          4961885,
          5285258,
          4487648,
          3651092,
          4493616,
          4894922,
          5089674,
          5299711,
          5410261,
          3994876,
          3844423,
          4903462,
          5960663,
          5025187,
          5245065,
          3611284,
          3931845,
          3626840,
          4616876,
          4952026,
          6080572,
          5203104,
          4986722,
          4629843,
          3088393,
          4935674,
          4564127,
          4992576,
          5247650,
          6031017,
          5302500,
          3476589,
          5497942,
          4292683,
          4631531,
          5869818,
          6188494,
          5251542,
          4474773,
          4514803,
          4675949,
          5200517,
          5333532,
          5578253,
          5444342,
          4268956,
          5220318,
          5794398,
          6029675,
          6012006,
          6343892,
          5486454,
          3636817,
          5680843,
          4673156,
          4682019,
          6004681,
          6234327,
          4309020,
          3320925,
          4389122,
          4696386,
          5189211,
          5352243,
          5159547,
          4397828,
          3934705,
          4564742,
          5795347,
          4667790,
          4572892,
          5265028,
          6356473,
          3973716,
          4806766,
          5818255,
          5109417,
          4962040,
          5129763,
          4863373,
          3302488,
          5743024,
          4850264,
          4913542,
          5069951,
          6230727,
          6446786,
          5585552,
          4859370,
          5333996,
          5965940,
          6093412,
          6205553,
          6374678,
          5568685,
          4737746,
          5569976,
          5911996,
          6062843,
          6080452,
          6495365,
          5753347,
          4972947,
          5822049,
          6096469,
          6290699,
          6296891,
          6550853,
          5822521,
          4787193,
          4149775,
          6174255,
          6341044,
          6439766,
          6531314,
          5234518,
          5759967,
          6114338,
          6168389,
          6211603,
          6484407,
          6484407,
          4782840,
          4782840,
          6065451,
          6279270,
          5534326,
          5700665,
          5520975,
          4980383,
          5573471,
          5573471,
          6162047,
          6459175,
          6422297,
          5452933,
          4822053,
          4460714,
          6288334,
          6288334,
          6605830,
          6631939,
          5529577,
          4513510,
          6142246,
          6340820,
          6340820,
          6481113,
          6770538,
          5962662,
          5044332,
          6103553,
          6103553,
          6235159,
          6325755,
          6325755,
          5775424,
          4942129,
          6001507,
          6104445,
          6104445,
          5973020,
          5277349,
          6014696,
          4367035,
          5482731,
          5459884,
          6016067,
          6016067,
          5993305,
          5156376,
          4440881,
          5592169,
          5551068,
          5872907,
          6212541,
          6468982,
          6468982,
          5787692,
          5007845,
          5776195,
          6012140,
          6007857,
          6397493,
          6444147,
          5632223,
          4560833,
          5085931,
          6077066,
          6058474,
          6269408,
          6616424,
          5542367,
          4865181,
          6044826,
          6186494,
          6314775,
          6282044,
          5670616,
          4547846,
          3887633,
          3879635,
          4145646,
          4580988,
          4572067,
          4679328,
          3450917,
          3890960,
          3979362,
          2563989,
          2847509,
          4405855,
          4689110,
          2840628,
          2791539,
          3379503,
          4605977,
          3567116,
          3687249,
          5719930,
          3127499,
          3853370,
          5726314,
          4118936,
          4187125,
          6189809,
          3825533,
          3319476,
          3868281,
          3918207,
          3936538,
          6023450,
          6053685,
          2199658,
          2243862,
          3465447,
          3245335,
          4364171,
          4480334,
          5659290,
          5633037,
          2835355,
          4278397,
          3820494,
          5845703,
          5936157,
          5988747,
          6240041,
          5507741,
          2775186,
          2336338,
          2985828,
          5481860,
          5770764,
          6258288,
          5571082,
          4807841,
          5685544,
          5909884,
          5974846,
          6111695,
          5774072,
          5340751,
          4840304,
          5623417,
          5925900,
          5987534,
          6062560,
          6271974,
          5467585,
          4340963,
          5743614,
          6070943,
          5784029,
          5916958,
          5887460,
          5415001,
          4746259,
          3528682,
          5356995,
          5432320,
          3900892,
          3992660,
          3597226,
          3158887,
          5475280,
          3877246,
          6098051,
          6124338,
          6281586,
          5352417,
          3280038,
          3785399,
          5765654,
          5888789,
          5892076,
          6062403,
          4963676,
          3523792,
          3523792,
          3683668,
          3969704,
          4101098,
          2697054,
          3100807,
          2503680,
          2578633,
          3572552,
          3678022,
          3999513,
          3453986,
          2935500,
          3664053,
          3873809,
          3919117,
          3979169,
          4914228,
          3318740,
          2946545,
          3485470,
          2575397,
          3937807,
          4064347,
          4991376,
          5109335,
          4528370,
          3285416,
          4348827,
          3708267,
          3710369,
          3680098,
          3225790,
          2884326,
          3552727,
          2686599,
          3098582,
          3700329,
          3776050,
          4803148,
          4567751,
          3287218,
          3758388,
          4063609,
          4205169,
          4139501,
          3424378,
          3599503,
          3730936,
          3877139,
          4116712,
          4323871,
          4177836,
          4375093,
          3910025,
          3208042,
          3842368,
          4011103,
          4744249,
          5872153,
          6004710,
          3735324,
          3151265,
          2679779,
          4864695,
          5005801,
          4381567,
          4479360,
          3987849,
          3361227,
          4091333,
          4242143,
          5247038,
          5236129,
          4484649,
          3925673,
          3314317,
          4142961,
          4253756,
          4078163,
          4090615,
          4442234,
          3906666,
          3418678,
          4116131,
          4148908,
          4410990,
          4471369,
          4539593,
          3657617,
          4353087,
          5301250,
          5704555,
          6052246,
          4113575,
          5996353,
          5185831,
          3810976,
          4014633,
          4113802,
          4433146,
          6518191,
          4670550,
          3223972,
          4046397,
          4205073,
          6175149,
          6171002,
          6410933,
          3933413,
          3319005,
          4089205,
          6025028,
          6163104,
          6323333,
          4501292,
          4019058,
          3944786,
          3342592,
          3900853,
          4088516,
          3948573,
          4353745,
          4552101,
          4088108,
          3504149,
          4183662,
          4316931,
          4446933,
          4488667,
          4642204,
          3355220,
          4078547,
          4398561,
          4473144,
          4291616,
          4449527,
          4449527,
          3809784,
          3119380,
          3877607,
          4249589,
          4430498,
          4602209,
          4005955,
          3880159,
          3319901,
          3989780,
          4199232,
          4189722,
          4306384,
          4432529,
          3936094,
          3382948,
          3809188,
          3948857,
          4093865,
          4112233,
          4457188,
          3743780,
          3239193,
          3842670,
          4111428,
          4334328,
          4446571,
          4486943,
          4853581,
          3412080,
          4975974,
          5191032,
          4462936,
          4635786,
          5759502,
          4589127,
          3203827,
          3967249,
          4079323,
          5096594,
          5025396,
          5300079,
          4296140,
          4720334,
          5902797,
          6129129,
          6324533,
          6515873,
          6466666,
          5323438,
          4624588,
          5909369,
          6298950,
          6227064,
          6734671,
          6951883,
          5842871,
          5081202,
          6328033,
          6578590,
          6735945,
          6773413,
          6705244,
          5654247,
          5014282,
          4502836,
          5735881,
          6080405,
          6580170,
          6734235,
          5980225,
          4587600,
          5621158,
          6280742,
          6663363,
          5338568,
          5274355,
          4821172,
          4218413,
          5023349,
          5332694,
          4915086,
          4891434,
          5109651,
          4984996,
          4388395,
          5023695,
          5308323,
          5433631,
          4874326,
          4814162,
          4295537,
          3987370,
          5007968,
          5410217,
          5582564,
          5688159,
          5699310,
          5058540,
          4382965,
          5123923,
          5327031,
          5478259,
          5657242,
          5727716,
          5040234,
          3823315,
          6227139,
          6459463,
          7114941,
          7298240,
          7585393,
          6692482,
          5495595,
          6644509,
          6864448,
          6923754,
          7175772,
          7392192,
          6478480,
          5668792,
          4782516,
          5166530,
          5379701,
          5407344,
          5089947,
          4427251,
          3560262,
          3242242,
          3426713,
          4099610,
          4078280,
          3760916,
          3779869,
          3169037,
          2913085,
          2949499,
          3402182,
          3337910,
          3462511,
          3176553,
          3051104,
          3705487,
          3848569,
          3971939,
          4040775,
          4144361,
          3703097,
          3205958,
          3794654,
          4059794,
          4168228,
          4261426,
          4295322,
          3836760,
          3376839,
          3962700,
          4082229,
          4068398,
          4312016,
          4274240,
          3555847,
          2926953,
          2877809,
          4056393,
          4071621,
          4124601,
          4187926,
          3416273,
          3102860,
          3655535,
          3110798,
          4418193,
          4499892,
          4662458,
          4117877,
          3708925,
          4410051,
          4564717,
          4702552,
          4685280,
          4768108,
          4309301,
          3772112,
          4445694,
          4453664,
          4423112,
          4507624,
          4751303,
          4274963,
          3460922,
          4125200,
          4346847,
          4513981,
          4512608,
          4701520,
          4056010,
          3306434,
          4025167,
          4281015,
          4418383,
          4442867,
          4712725,
          4108926,
          3694243,
          4141615,
          4315073,
          4558087,
          4585534,
          4536229,
          4031822,
          3369540,
          3956706,
          4306638,
          4300506,
          4416561,
          4526882,
          3811047,
          3450102,
          4032485,
          4056866,
          4335849,
          4515121,
          2874820,
          3377002,
          3002839,
          2788571,
          3827628,
          3992778,
          4157237,
          4188665,
          3580934,
          3163639,
          3841496,
          4073365,
          4067304,
          4009499,
          3978745,
          3769552,
          3269139,
          3982027,
          4135912,
          4188538,
          4252081,
          4302628,
          3337652,
          3098154,
          3946363,
          4126475,
          4274000,
          3014536,
          3903523,
          3564079,
          3133658,
          3817861,
          3977514
         ],
         "yaxis": "y"
        }
       ],
       "layout": {
        "legend": {
         "tracegroupgap": 0
        },
        "template": {
         "data": {
          "bar": [
           {
            "error_x": {
             "color": "#2a3f5f"
            },
            "error_y": {
             "color": "#2a3f5f"
            },
            "marker": {
             "line": {
              "color": "#E5ECF6",
              "width": 0.5
             },
             "pattern": {
              "fillmode": "overlay",
              "size": 10,
              "solidity": 0.2
             }
            },
            "type": "bar"
           }
          ],
          "barpolar": [
           {
            "marker": {
             "line": {
              "color": "#E5ECF6",
              "width": 0.5
             },
             "pattern": {
              "fillmode": "overlay",
              "size": 10,
              "solidity": 0.2
             }
            },
            "type": "barpolar"
           }
          ],
          "carpet": [
           {
            "aaxis": {
             "endlinecolor": "#2a3f5f",
             "gridcolor": "white",
             "linecolor": "white",
             "minorgridcolor": "white",
             "startlinecolor": "#2a3f5f"
            },
            "baxis": {
             "endlinecolor": "#2a3f5f",
             "gridcolor": "white",
             "linecolor": "white",
             "minorgridcolor": "white",
             "startlinecolor": "#2a3f5f"
            },
            "type": "carpet"
           }
          ],
          "choropleth": [
           {
            "colorbar": {
             "outlinewidth": 0,
             "ticks": ""
            },
            "type": "choropleth"
           }
          ],
          "contour": [
           {
            "colorbar": {
             "outlinewidth": 0,
             "ticks": ""
            },
            "colorscale": [
             [
              0,
              "#0d0887"
             ],
             [
              0.1111111111111111,
              "#46039f"
             ],
             [
              0.2222222222222222,
              "#7201a8"
             ],
             [
              0.3333333333333333,
              "#9c179e"
             ],
             [
              0.4444444444444444,
              "#bd3786"
             ],
             [
              0.5555555555555556,
              "#d8576b"
             ],
             [
              0.6666666666666666,
              "#ed7953"
             ],
             [
              0.7777777777777778,
              "#fb9f3a"
             ],
             [
              0.8888888888888888,
              "#fdca26"
             ],
             [
              1,
              "#f0f921"
             ]
            ],
            "type": "contour"
           }
          ],
          "contourcarpet": [
           {
            "colorbar": {
             "outlinewidth": 0,
             "ticks": ""
            },
            "type": "contourcarpet"
           }
          ],
          "heatmap": [
           {
            "colorbar": {
             "outlinewidth": 0,
             "ticks": ""
            },
            "colorscale": [
             [
              0,
              "#0d0887"
             ],
             [
              0.1111111111111111,
              "#46039f"
             ],
             [
              0.2222222222222222,
              "#7201a8"
             ],
             [
              0.3333333333333333,
              "#9c179e"
             ],
             [
              0.4444444444444444,
              "#bd3786"
             ],
             [
              0.5555555555555556,
              "#d8576b"
             ],
             [
              0.6666666666666666,
              "#ed7953"
             ],
             [
              0.7777777777777778,
              "#fb9f3a"
             ],
             [
              0.8888888888888888,
              "#fdca26"
             ],
             [
              1,
              "#f0f921"
             ]
            ],
            "type": "heatmap"
           }
          ],
          "heatmapgl": [
           {
            "colorbar": {
             "outlinewidth": 0,
             "ticks": ""
            },
            "colorscale": [
             [
              0,
              "#0d0887"
             ],
             [
              0.1111111111111111,
              "#46039f"
             ],
             [
              0.2222222222222222,
              "#7201a8"
             ],
             [
              0.3333333333333333,
              "#9c179e"
             ],
             [
              0.4444444444444444,
              "#bd3786"
             ],
             [
              0.5555555555555556,
              "#d8576b"
             ],
             [
              0.6666666666666666,
              "#ed7953"
             ],
             [
              0.7777777777777778,
              "#fb9f3a"
             ],
             [
              0.8888888888888888,
              "#fdca26"
             ],
             [
              1,
              "#f0f921"
             ]
            ],
            "type": "heatmapgl"
           }
          ],
          "histogram": [
           {
            "marker": {
             "pattern": {
              "fillmode": "overlay",
              "size": 10,
              "solidity": 0.2
             }
            },
            "type": "histogram"
           }
          ],
          "histogram2d": [
           {
            "colorbar": {
             "outlinewidth": 0,
             "ticks": ""
            },
            "colorscale": [
             [
              0,
              "#0d0887"
             ],
             [
              0.1111111111111111,
              "#46039f"
             ],
             [
              0.2222222222222222,
              "#7201a8"
             ],
             [
              0.3333333333333333,
              "#9c179e"
             ],
             [
              0.4444444444444444,
              "#bd3786"
             ],
             [
              0.5555555555555556,
              "#d8576b"
             ],
             [
              0.6666666666666666,
              "#ed7953"
             ],
             [
              0.7777777777777778,
              "#fb9f3a"
             ],
             [
              0.8888888888888888,
              "#fdca26"
             ],
             [
              1,
              "#f0f921"
             ]
            ],
            "type": "histogram2d"
           }
          ],
          "histogram2dcontour": [
           {
            "colorbar": {
             "outlinewidth": 0,
             "ticks": ""
            },
            "colorscale": [
             [
              0,
              "#0d0887"
             ],
             [
              0.1111111111111111,
              "#46039f"
             ],
             [
              0.2222222222222222,
              "#7201a8"
             ],
             [
              0.3333333333333333,
              "#9c179e"
             ],
             [
              0.4444444444444444,
              "#bd3786"
             ],
             [
              0.5555555555555556,
              "#d8576b"
             ],
             [
              0.6666666666666666,
              "#ed7953"
             ],
             [
              0.7777777777777778,
              "#fb9f3a"
             ],
             [
              0.8888888888888888,
              "#fdca26"
             ],
             [
              1,
              "#f0f921"
             ]
            ],
            "type": "histogram2dcontour"
           }
          ],
          "mesh3d": [
           {
            "colorbar": {
             "outlinewidth": 0,
             "ticks": ""
            },
            "type": "mesh3d"
           }
          ],
          "parcoords": [
           {
            "line": {
             "colorbar": {
              "outlinewidth": 0,
              "ticks": ""
             }
            },
            "type": "parcoords"
           }
          ],
          "pie": [
           {
            "automargin": true,
            "type": "pie"
           }
          ],
          "scatter": [
           {
            "fillpattern": {
             "fillmode": "overlay",
             "size": 10,
             "solidity": 0.2
            },
            "type": "scatter"
           }
          ],
          "scatter3d": [
           {
            "line": {
             "colorbar": {
              "outlinewidth": 0,
              "ticks": ""
             }
            },
            "marker": {
             "colorbar": {
              "outlinewidth": 0,
              "ticks": ""
             }
            },
            "type": "scatter3d"
           }
          ],
          "scattercarpet": [
           {
            "marker": {
             "colorbar": {
              "outlinewidth": 0,
              "ticks": ""
             }
            },
            "type": "scattercarpet"
           }
          ],
          "scattergeo": [
           {
            "marker": {
             "colorbar": {
              "outlinewidth": 0,
              "ticks": ""
             }
            },
            "type": "scattergeo"
           }
          ],
          "scattergl": [
           {
            "marker": {
             "colorbar": {
              "outlinewidth": 0,
              "ticks": ""
             }
            },
            "type": "scattergl"
           }
          ],
          "scattermapbox": [
           {
            "marker": {
             "colorbar": {
              "outlinewidth": 0,
              "ticks": ""
             }
            },
            "type": "scattermapbox"
           }
          ],
          "scatterpolar": [
           {
            "marker": {
             "colorbar": {
              "outlinewidth": 0,
              "ticks": ""
             }
            },
            "type": "scatterpolar"
           }
          ],
          "scatterpolargl": [
           {
            "marker": {
             "colorbar": {
              "outlinewidth": 0,
              "ticks": ""
             }
            },
            "type": "scatterpolargl"
           }
          ],
          "scatterternary": [
           {
            "marker": {
             "colorbar": {
              "outlinewidth": 0,
              "ticks": ""
             }
            },
            "type": "scatterternary"
           }
          ],
          "surface": [
           {
            "colorbar": {
             "outlinewidth": 0,
             "ticks": ""
            },
            "colorscale": [
             [
              0,
              "#0d0887"
             ],
             [
              0.1111111111111111,
              "#46039f"
             ],
             [
              0.2222222222222222,
              "#7201a8"
             ],
             [
              0.3333333333333333,
              "#9c179e"
             ],
             [
              0.4444444444444444,
              "#bd3786"
             ],
             [
              0.5555555555555556,
              "#d8576b"
             ],
             [
              0.6666666666666666,
              "#ed7953"
             ],
             [
              0.7777777777777778,
              "#fb9f3a"
             ],
             [
              0.8888888888888888,
              "#fdca26"
             ],
             [
              1,
              "#f0f921"
             ]
            ],
            "type": "surface"
           }
          ],
          "table": [
           {
            "cells": {
             "fill": {
              "color": "#EBF0F8"
             },
             "line": {
              "color": "white"
             }
            },
            "header": {
             "fill": {
              "color": "#C8D4E3"
             },
             "line": {
              "color": "white"
             }
            },
            "type": "table"
           }
          ]
         },
         "layout": {
          "annotationdefaults": {
           "arrowcolor": "#2a3f5f",
           "arrowhead": 0,
           "arrowwidth": 1
          },
          "autotypenumbers": "strict",
          "coloraxis": {
           "colorbar": {
            "outlinewidth": 0,
            "ticks": ""
           }
          },
          "colorscale": {
           "diverging": [
            [
             0,
             "#8e0152"
            ],
            [
             0.1,
             "#c51b7d"
            ],
            [
             0.2,
             "#de77ae"
            ],
            [
             0.3,
             "#f1b6da"
            ],
            [
             0.4,
             "#fde0ef"
            ],
            [
             0.5,
             "#f7f7f7"
            ],
            [
             0.6,
             "#e6f5d0"
            ],
            [
             0.7,
             "#b8e186"
            ],
            [
             0.8,
             "#7fbc41"
            ],
            [
             0.9,
             "#4d9221"
            ],
            [
             1,
             "#276419"
            ]
           ],
           "sequential": [
            [
             0,
             "#0d0887"
            ],
            [
             0.1111111111111111,
             "#46039f"
            ],
            [
             0.2222222222222222,
             "#7201a8"
            ],
            [
             0.3333333333333333,
             "#9c179e"
            ],
            [
             0.4444444444444444,
             "#bd3786"
            ],
            [
             0.5555555555555556,
             "#d8576b"
            ],
            [
             0.6666666666666666,
             "#ed7953"
            ],
            [
             0.7777777777777778,
             "#fb9f3a"
            ],
            [
             0.8888888888888888,
             "#fdca26"
            ],
            [
             1,
             "#f0f921"
            ]
           ],
           "sequentialminus": [
            [
             0,
             "#0d0887"
            ],
            [
             0.1111111111111111,
             "#46039f"
            ],
            [
             0.2222222222222222,
             "#7201a8"
            ],
            [
             0.3333333333333333,
             "#9c179e"
            ],
            [
             0.4444444444444444,
             "#bd3786"
            ],
            [
             0.5555555555555556,
             "#d8576b"
            ],
            [
             0.6666666666666666,
             "#ed7953"
            ],
            [
             0.7777777777777778,
             "#fb9f3a"
            ],
            [
             0.8888888888888888,
             "#fdca26"
            ],
            [
             1,
             "#f0f921"
            ]
           ]
          },
          "colorway": [
           "#636efa",
           "#EF553B",
           "#00cc96",
           "#ab63fa",
           "#FFA15A",
           "#19d3f3",
           "#FF6692",
           "#B6E880",
           "#FF97FF",
           "#FECB52"
          ],
          "font": {
           "color": "#2a3f5f"
          },
          "geo": {
           "bgcolor": "white",
           "lakecolor": "white",
           "landcolor": "#E5ECF6",
           "showlakes": true,
           "showland": true,
           "subunitcolor": "white"
          },
          "hoverlabel": {
           "align": "left"
          },
          "hovermode": "closest",
          "mapbox": {
           "style": "light"
          },
          "paper_bgcolor": "white",
          "plot_bgcolor": "#E5ECF6",
          "polar": {
           "angularaxis": {
            "gridcolor": "white",
            "linecolor": "white",
            "ticks": ""
           },
           "bgcolor": "#E5ECF6",
           "radialaxis": {
            "gridcolor": "white",
            "linecolor": "white",
            "ticks": ""
           }
          },
          "scene": {
           "xaxis": {
            "backgroundcolor": "#E5ECF6",
            "gridcolor": "white",
            "gridwidth": 2,
            "linecolor": "white",
            "showbackground": true,
            "ticks": "",
            "zerolinecolor": "white"
           },
           "yaxis": {
            "backgroundcolor": "#E5ECF6",
            "gridcolor": "white",
            "gridwidth": 2,
            "linecolor": "white",
            "showbackground": true,
            "ticks": "",
            "zerolinecolor": "white"
           },
           "zaxis": {
            "backgroundcolor": "#E5ECF6",
            "gridcolor": "white",
            "gridwidth": 2,
            "linecolor": "white",
            "showbackground": true,
            "ticks": "",
            "zerolinecolor": "white"
           }
          },
          "shapedefaults": {
           "line": {
            "color": "#2a3f5f"
           }
          },
          "ternary": {
           "aaxis": {
            "gridcolor": "white",
            "linecolor": "white",
            "ticks": ""
           },
           "baxis": {
            "gridcolor": "white",
            "linecolor": "white",
            "ticks": ""
           },
           "bgcolor": "#E5ECF6",
           "caxis": {
            "gridcolor": "white",
            "linecolor": "white",
            "ticks": ""
           }
          },
          "title": {
           "x": 0.05
          },
          "xaxis": {
           "automargin": true,
           "gridcolor": "white",
           "linecolor": "white",
           "ticks": "",
           "title": {
            "standoff": 15
           },
           "zerolinecolor": "white",
           "zerolinewidth": 2
          },
          "yaxis": {
           "automargin": true,
           "gridcolor": "white",
           "linecolor": "white",
           "ticks": "",
           "title": {
            "standoff": 15
           },
           "zerolinecolor": "white",
           "zerolinewidth": 2
          }
         }
        },
        "title": {
         "text": "Traffic Count Over Time"
        },
        "xaxis": {
         "anchor": "y",
         "domain": [
          0,
          1
         ],
         "title": {
          "text": "Date"
         }
        },
        "yaxis": {
         "anchor": "x",
         "domain": [
          0,
          1
         ],
         "range": [
          0,
          7585393
         ],
         "title": {
          "text": "Traffic Count"
         }
        }
       }
      }
     },
     "metadata": {},
     "output_type": "display_data"
    }
   ],
   "source": [
    "\n",
    "agg_daily_traffic_volume = filtered_daily_traffic_volume.groupby(['Year',\n",
    "                                                                  'Date','HalfYear','Period'])['Traffic Count'].sum().reset_index()\n",
    "fig = px.line(agg_daily_traffic_volume, x='Date', y='Traffic Count', \n",
    "              title='Traffic Count Over Time')\n",
    "fig.update_yaxes(range=[0, agg_daily_traffic_volume['Traffic Count'].max()])\n",
    "fig.show()"
   ]
  },
  {
   "cell_type": "markdown",
   "metadata": {},
   "source": [
    "We note a significant drop in traffic during the first COVID-19 lockdown in March and April 2020 and during the second Auckland lockdown in August and September 2021."
   ]
  },
  {
   "cell_type": "markdown",
   "metadata": {},
   "source": [
    "#### Aggregate to half year level"
   ]
  },
  {
   "cell_type": "markdown",
   "metadata": {},
   "source": [
    "The crashes dataset doesn't reveal the exact dates of the accidents, but only the year and financial year in which each accident happened. From this information, we will later find in which half of each year each accident happened. To join the traffic information to the crashes dataset, we aggregate the traffic volume to half annual level."
   ]
  },
  {
   "cell_type": "code",
   "execution_count": 7,
   "metadata": {},
   "outputs": [
    {
     "data": {
      "application/vnd.plotly.v1+json": {
       "config": {
        "plotlyServerURL": "https://plot.ly"
       },
       "data": [
        {
         "alignmentgroup": "True",
         "hovertemplate": "HalfYear=%{x}<br>Traffic Count=%{y}<extra></extra>",
         "legendgroup": "",
         "marker": {
          "color": "#636efa",
          "pattern": {
           "shape": ""
          }
         },
         "name": "",
         "offsetgroup": "",
         "orientation": "v",
         "showlegend": false,
         "textposition": "auto",
         "type": "bar",
         "x": [
          "2018H1",
          "2018H2",
          "2019H1",
          "2019H2",
          "2020H1",
          "2020H2",
          "2021H1",
          "2021H2",
          "2022H1",
          "2022H2",
          "2023H1",
          "2023H2",
          "2024H1"
         ],
         "xaxis": "x",
         "y": [
          903951402,
          926885849,
          899172895,
          957457760,
          750466363,
          927699655,
          963280881,
          729406638,
          931500873,
          1008096619,
          784081873,
          911080134,
          476939803
         ],
         "yaxis": "y"
        }
       ],
       "layout": {
        "barmode": "relative",
        "legend": {
         "tracegroupgap": 0
        },
        "template": {
         "data": {
          "bar": [
           {
            "error_x": {
             "color": "#2a3f5f"
            },
            "error_y": {
             "color": "#2a3f5f"
            },
            "marker": {
             "line": {
              "color": "#E5ECF6",
              "width": 0.5
             },
             "pattern": {
              "fillmode": "overlay",
              "size": 10,
              "solidity": 0.2
             }
            },
            "type": "bar"
           }
          ],
          "barpolar": [
           {
            "marker": {
             "line": {
              "color": "#E5ECF6",
              "width": 0.5
             },
             "pattern": {
              "fillmode": "overlay",
              "size": 10,
              "solidity": 0.2
             }
            },
            "type": "barpolar"
           }
          ],
          "carpet": [
           {
            "aaxis": {
             "endlinecolor": "#2a3f5f",
             "gridcolor": "white",
             "linecolor": "white",
             "minorgridcolor": "white",
             "startlinecolor": "#2a3f5f"
            },
            "baxis": {
             "endlinecolor": "#2a3f5f",
             "gridcolor": "white",
             "linecolor": "white",
             "minorgridcolor": "white",
             "startlinecolor": "#2a3f5f"
            },
            "type": "carpet"
           }
          ],
          "choropleth": [
           {
            "colorbar": {
             "outlinewidth": 0,
             "ticks": ""
            },
            "type": "choropleth"
           }
          ],
          "contour": [
           {
            "colorbar": {
             "outlinewidth": 0,
             "ticks": ""
            },
            "colorscale": [
             [
              0,
              "#0d0887"
             ],
             [
              0.1111111111111111,
              "#46039f"
             ],
             [
              0.2222222222222222,
              "#7201a8"
             ],
             [
              0.3333333333333333,
              "#9c179e"
             ],
             [
              0.4444444444444444,
              "#bd3786"
             ],
             [
              0.5555555555555556,
              "#d8576b"
             ],
             [
              0.6666666666666666,
              "#ed7953"
             ],
             [
              0.7777777777777778,
              "#fb9f3a"
             ],
             [
              0.8888888888888888,
              "#fdca26"
             ],
             [
              1,
              "#f0f921"
             ]
            ],
            "type": "contour"
           }
          ],
          "contourcarpet": [
           {
            "colorbar": {
             "outlinewidth": 0,
             "ticks": ""
            },
            "type": "contourcarpet"
           }
          ],
          "heatmap": [
           {
            "colorbar": {
             "outlinewidth": 0,
             "ticks": ""
            },
            "colorscale": [
             [
              0,
              "#0d0887"
             ],
             [
              0.1111111111111111,
              "#46039f"
             ],
             [
              0.2222222222222222,
              "#7201a8"
             ],
             [
              0.3333333333333333,
              "#9c179e"
             ],
             [
              0.4444444444444444,
              "#bd3786"
             ],
             [
              0.5555555555555556,
              "#d8576b"
             ],
             [
              0.6666666666666666,
              "#ed7953"
             ],
             [
              0.7777777777777778,
              "#fb9f3a"
             ],
             [
              0.8888888888888888,
              "#fdca26"
             ],
             [
              1,
              "#f0f921"
             ]
            ],
            "type": "heatmap"
           }
          ],
          "heatmapgl": [
           {
            "colorbar": {
             "outlinewidth": 0,
             "ticks": ""
            },
            "colorscale": [
             [
              0,
              "#0d0887"
             ],
             [
              0.1111111111111111,
              "#46039f"
             ],
             [
              0.2222222222222222,
              "#7201a8"
             ],
             [
              0.3333333333333333,
              "#9c179e"
             ],
             [
              0.4444444444444444,
              "#bd3786"
             ],
             [
              0.5555555555555556,
              "#d8576b"
             ],
             [
              0.6666666666666666,
              "#ed7953"
             ],
             [
              0.7777777777777778,
              "#fb9f3a"
             ],
             [
              0.8888888888888888,
              "#fdca26"
             ],
             [
              1,
              "#f0f921"
             ]
            ],
            "type": "heatmapgl"
           }
          ],
          "histogram": [
           {
            "marker": {
             "pattern": {
              "fillmode": "overlay",
              "size": 10,
              "solidity": 0.2
             }
            },
            "type": "histogram"
           }
          ],
          "histogram2d": [
           {
            "colorbar": {
             "outlinewidth": 0,
             "ticks": ""
            },
            "colorscale": [
             [
              0,
              "#0d0887"
             ],
             [
              0.1111111111111111,
              "#46039f"
             ],
             [
              0.2222222222222222,
              "#7201a8"
             ],
             [
              0.3333333333333333,
              "#9c179e"
             ],
             [
              0.4444444444444444,
              "#bd3786"
             ],
             [
              0.5555555555555556,
              "#d8576b"
             ],
             [
              0.6666666666666666,
              "#ed7953"
             ],
             [
              0.7777777777777778,
              "#fb9f3a"
             ],
             [
              0.8888888888888888,
              "#fdca26"
             ],
             [
              1,
              "#f0f921"
             ]
            ],
            "type": "histogram2d"
           }
          ],
          "histogram2dcontour": [
           {
            "colorbar": {
             "outlinewidth": 0,
             "ticks": ""
            },
            "colorscale": [
             [
              0,
              "#0d0887"
             ],
             [
              0.1111111111111111,
              "#46039f"
             ],
             [
              0.2222222222222222,
              "#7201a8"
             ],
             [
              0.3333333333333333,
              "#9c179e"
             ],
             [
              0.4444444444444444,
              "#bd3786"
             ],
             [
              0.5555555555555556,
              "#d8576b"
             ],
             [
              0.6666666666666666,
              "#ed7953"
             ],
             [
              0.7777777777777778,
              "#fb9f3a"
             ],
             [
              0.8888888888888888,
              "#fdca26"
             ],
             [
              1,
              "#f0f921"
             ]
            ],
            "type": "histogram2dcontour"
           }
          ],
          "mesh3d": [
           {
            "colorbar": {
             "outlinewidth": 0,
             "ticks": ""
            },
            "type": "mesh3d"
           }
          ],
          "parcoords": [
           {
            "line": {
             "colorbar": {
              "outlinewidth": 0,
              "ticks": ""
             }
            },
            "type": "parcoords"
           }
          ],
          "pie": [
           {
            "automargin": true,
            "type": "pie"
           }
          ],
          "scatter": [
           {
            "fillpattern": {
             "fillmode": "overlay",
             "size": 10,
             "solidity": 0.2
            },
            "type": "scatter"
           }
          ],
          "scatter3d": [
           {
            "line": {
             "colorbar": {
              "outlinewidth": 0,
              "ticks": ""
             }
            },
            "marker": {
             "colorbar": {
              "outlinewidth": 0,
              "ticks": ""
             }
            },
            "type": "scatter3d"
           }
          ],
          "scattercarpet": [
           {
            "marker": {
             "colorbar": {
              "outlinewidth": 0,
              "ticks": ""
             }
            },
            "type": "scattercarpet"
           }
          ],
          "scattergeo": [
           {
            "marker": {
             "colorbar": {
              "outlinewidth": 0,
              "ticks": ""
             }
            },
            "type": "scattergeo"
           }
          ],
          "scattergl": [
           {
            "marker": {
             "colorbar": {
              "outlinewidth": 0,
              "ticks": ""
             }
            },
            "type": "scattergl"
           }
          ],
          "scattermapbox": [
           {
            "marker": {
             "colorbar": {
              "outlinewidth": 0,
              "ticks": ""
             }
            },
            "type": "scattermapbox"
           }
          ],
          "scatterpolar": [
           {
            "marker": {
             "colorbar": {
              "outlinewidth": 0,
              "ticks": ""
             }
            },
            "type": "scatterpolar"
           }
          ],
          "scatterpolargl": [
           {
            "marker": {
             "colorbar": {
              "outlinewidth": 0,
              "ticks": ""
             }
            },
            "type": "scatterpolargl"
           }
          ],
          "scatterternary": [
           {
            "marker": {
             "colorbar": {
              "outlinewidth": 0,
              "ticks": ""
             }
            },
            "type": "scatterternary"
           }
          ],
          "surface": [
           {
            "colorbar": {
             "outlinewidth": 0,
             "ticks": ""
            },
            "colorscale": [
             [
              0,
              "#0d0887"
             ],
             [
              0.1111111111111111,
              "#46039f"
             ],
             [
              0.2222222222222222,
              "#7201a8"
             ],
             [
              0.3333333333333333,
              "#9c179e"
             ],
             [
              0.4444444444444444,
              "#bd3786"
             ],
             [
              0.5555555555555556,
              "#d8576b"
             ],
             [
              0.6666666666666666,
              "#ed7953"
             ],
             [
              0.7777777777777778,
              "#fb9f3a"
             ],
             [
              0.8888888888888888,
              "#fdca26"
             ],
             [
              1,
              "#f0f921"
             ]
            ],
            "type": "surface"
           }
          ],
          "table": [
           {
            "cells": {
             "fill": {
              "color": "#EBF0F8"
             },
             "line": {
              "color": "white"
             }
            },
            "header": {
             "fill": {
              "color": "#C8D4E3"
             },
             "line": {
              "color": "white"
             }
            },
            "type": "table"
           }
          ]
         },
         "layout": {
          "annotationdefaults": {
           "arrowcolor": "#2a3f5f",
           "arrowhead": 0,
           "arrowwidth": 1
          },
          "autotypenumbers": "strict",
          "coloraxis": {
           "colorbar": {
            "outlinewidth": 0,
            "ticks": ""
           }
          },
          "colorscale": {
           "diverging": [
            [
             0,
             "#8e0152"
            ],
            [
             0.1,
             "#c51b7d"
            ],
            [
             0.2,
             "#de77ae"
            ],
            [
             0.3,
             "#f1b6da"
            ],
            [
             0.4,
             "#fde0ef"
            ],
            [
             0.5,
             "#f7f7f7"
            ],
            [
             0.6,
             "#e6f5d0"
            ],
            [
             0.7,
             "#b8e186"
            ],
            [
             0.8,
             "#7fbc41"
            ],
            [
             0.9,
             "#4d9221"
            ],
            [
             1,
             "#276419"
            ]
           ],
           "sequential": [
            [
             0,
             "#0d0887"
            ],
            [
             0.1111111111111111,
             "#46039f"
            ],
            [
             0.2222222222222222,
             "#7201a8"
            ],
            [
             0.3333333333333333,
             "#9c179e"
            ],
            [
             0.4444444444444444,
             "#bd3786"
            ],
            [
             0.5555555555555556,
             "#d8576b"
            ],
            [
             0.6666666666666666,
             "#ed7953"
            ],
            [
             0.7777777777777778,
             "#fb9f3a"
            ],
            [
             0.8888888888888888,
             "#fdca26"
            ],
            [
             1,
             "#f0f921"
            ]
           ],
           "sequentialminus": [
            [
             0,
             "#0d0887"
            ],
            [
             0.1111111111111111,
             "#46039f"
            ],
            [
             0.2222222222222222,
             "#7201a8"
            ],
            [
             0.3333333333333333,
             "#9c179e"
            ],
            [
             0.4444444444444444,
             "#bd3786"
            ],
            [
             0.5555555555555556,
             "#d8576b"
            ],
            [
             0.6666666666666666,
             "#ed7953"
            ],
            [
             0.7777777777777778,
             "#fb9f3a"
            ],
            [
             0.8888888888888888,
             "#fdca26"
            ],
            [
             1,
             "#f0f921"
            ]
           ]
          },
          "colorway": [
           "#636efa",
           "#EF553B",
           "#00cc96",
           "#ab63fa",
           "#FFA15A",
           "#19d3f3",
           "#FF6692",
           "#B6E880",
           "#FF97FF",
           "#FECB52"
          ],
          "font": {
           "color": "#2a3f5f"
          },
          "geo": {
           "bgcolor": "white",
           "lakecolor": "white",
           "landcolor": "#E5ECF6",
           "showlakes": true,
           "showland": true,
           "subunitcolor": "white"
          },
          "hoverlabel": {
           "align": "left"
          },
          "hovermode": "closest",
          "mapbox": {
           "style": "light"
          },
          "paper_bgcolor": "white",
          "plot_bgcolor": "#E5ECF6",
          "polar": {
           "angularaxis": {
            "gridcolor": "white",
            "linecolor": "white",
            "ticks": ""
           },
           "bgcolor": "#E5ECF6",
           "radialaxis": {
            "gridcolor": "white",
            "linecolor": "white",
            "ticks": ""
           }
          },
          "scene": {
           "xaxis": {
            "backgroundcolor": "#E5ECF6",
            "gridcolor": "white",
            "gridwidth": 2,
            "linecolor": "white",
            "showbackground": true,
            "ticks": "",
            "zerolinecolor": "white"
           },
           "yaxis": {
            "backgroundcolor": "#E5ECF6",
            "gridcolor": "white",
            "gridwidth": 2,
            "linecolor": "white",
            "showbackground": true,
            "ticks": "",
            "zerolinecolor": "white"
           },
           "zaxis": {
            "backgroundcolor": "#E5ECF6",
            "gridcolor": "white",
            "gridwidth": 2,
            "linecolor": "white",
            "showbackground": true,
            "ticks": "",
            "zerolinecolor": "white"
           }
          },
          "shapedefaults": {
           "line": {
            "color": "#2a3f5f"
           }
          },
          "ternary": {
           "aaxis": {
            "gridcolor": "white",
            "linecolor": "white",
            "ticks": ""
           },
           "baxis": {
            "gridcolor": "white",
            "linecolor": "white",
            "ticks": ""
           },
           "bgcolor": "#E5ECF6",
           "caxis": {
            "gridcolor": "white",
            "linecolor": "white",
            "ticks": ""
           }
          },
          "title": {
           "x": 0.05
          },
          "xaxis": {
           "automargin": true,
           "gridcolor": "white",
           "linecolor": "white",
           "ticks": "",
           "title": {
            "standoff": 15
           },
           "zerolinecolor": "white",
           "zerolinewidth": 2
          },
          "yaxis": {
           "automargin": true,
           "gridcolor": "white",
           "linecolor": "white",
           "ticks": "",
           "title": {
            "standoff": 15
           },
           "zerolinecolor": "white",
           "zerolinewidth": 2
          }
         }
        },
        "title": {
         "text": "Total Traffic Per Half Year"
        },
        "xaxis": {
         "anchor": "y",
         "domain": [
          0,
          1
         ],
         "dtick": 1,
         "tick0": "2018H1",
         "tickangle": 90,
         "tickmode": "linear",
         "title": {
          "text": "HalfYear"
         }
        },
        "yaxis": {
         "anchor": "x",
         "domain": [
          0,
          1
         ],
         "title": {
          "text": "Traffic Count"
         }
        }
       }
      }
     },
     "metadata": {},
     "output_type": "display_data"
    }
   ],
   "source": [
    "# Total traffic for each half year\n",
    "total_half_year_traffic = agg_daily_traffic_volume.groupby('HalfYear')['Traffic Count'].sum().reset_index()\n",
    "fig = px.bar(total_half_year_traffic, x='HalfYear', y='Traffic Count', \n",
    "              title='Total Traffic Per Half Year')\n",
    "fig.update_layout(\n",
    "    xaxis=dict(\n",
    "        tickmode='linear',\n",
    "        tick0=min(total_half_year_traffic['HalfYear']),\n",
    "        dtick=1,\n",
    "        tickangle=90\n",
    "    )\n",
    ")\n",
    "fig.show()"
   ]
  },
  {
   "cell_type": "code",
   "execution_count": 8,
   "metadata": {},
   "outputs": [
    {
     "data": {
      "application/vnd.plotly.v1+json": {
       "config": {
        "plotlyServerURL": "https://plot.ly"
       },
       "data": [
        {
         "alignmentgroup": "True",
         "hovertemplate": "HalfYear=%{x}<br>Traffic Count=%{y}<extra></extra>",
         "legendgroup": "",
         "marker": {
          "color": "#636efa",
          "pattern": {
           "shape": ""
          }
         },
         "name": "",
         "offsetgroup": "",
         "orientation": "v",
         "showlegend": false,
         "textposition": "auto",
         "type": "bar",
         "x": [
          "2018H1",
          "2018H2",
          "2019H1",
          "2019H2",
          "2020H1",
          "2020H2",
          "2021H1",
          "2021H2",
          "2022H1",
          "2022H2",
          "2023H1",
          "2023H2",
          "2024H1"
         ],
         "xaxis": "x",
         "y": [
          4994206.6408839775,
          5037423.092391305,
          4967806.0497237565,
          5203574.782608695,
          4123441.554945055,
          5041845.951086956,
          5321993.817679558,
          3964166.5108695654,
          5146413.662983425,
          5478785.972826087,
          4331944.0497237565,
          4951522.467391305,
          3941651.26446281
         ],
         "yaxis": "y"
        }
       ],
       "layout": {
        "barmode": "relative",
        "legend": {
         "tracegroupgap": 0
        },
        "template": {
         "data": {
          "bar": [
           {
            "error_x": {
             "color": "#2a3f5f"
            },
            "error_y": {
             "color": "#2a3f5f"
            },
            "marker": {
             "line": {
              "color": "#E5ECF6",
              "width": 0.5
             },
             "pattern": {
              "fillmode": "overlay",
              "size": 10,
              "solidity": 0.2
             }
            },
            "type": "bar"
           }
          ],
          "barpolar": [
           {
            "marker": {
             "line": {
              "color": "#E5ECF6",
              "width": 0.5
             },
             "pattern": {
              "fillmode": "overlay",
              "size": 10,
              "solidity": 0.2
             }
            },
            "type": "barpolar"
           }
          ],
          "carpet": [
           {
            "aaxis": {
             "endlinecolor": "#2a3f5f",
             "gridcolor": "white",
             "linecolor": "white",
             "minorgridcolor": "white",
             "startlinecolor": "#2a3f5f"
            },
            "baxis": {
             "endlinecolor": "#2a3f5f",
             "gridcolor": "white",
             "linecolor": "white",
             "minorgridcolor": "white",
             "startlinecolor": "#2a3f5f"
            },
            "type": "carpet"
           }
          ],
          "choropleth": [
           {
            "colorbar": {
             "outlinewidth": 0,
             "ticks": ""
            },
            "type": "choropleth"
           }
          ],
          "contour": [
           {
            "colorbar": {
             "outlinewidth": 0,
             "ticks": ""
            },
            "colorscale": [
             [
              0,
              "#0d0887"
             ],
             [
              0.1111111111111111,
              "#46039f"
             ],
             [
              0.2222222222222222,
              "#7201a8"
             ],
             [
              0.3333333333333333,
              "#9c179e"
             ],
             [
              0.4444444444444444,
              "#bd3786"
             ],
             [
              0.5555555555555556,
              "#d8576b"
             ],
             [
              0.6666666666666666,
              "#ed7953"
             ],
             [
              0.7777777777777778,
              "#fb9f3a"
             ],
             [
              0.8888888888888888,
              "#fdca26"
             ],
             [
              1,
              "#f0f921"
             ]
            ],
            "type": "contour"
           }
          ],
          "contourcarpet": [
           {
            "colorbar": {
             "outlinewidth": 0,
             "ticks": ""
            },
            "type": "contourcarpet"
           }
          ],
          "heatmap": [
           {
            "colorbar": {
             "outlinewidth": 0,
             "ticks": ""
            },
            "colorscale": [
             [
              0,
              "#0d0887"
             ],
             [
              0.1111111111111111,
              "#46039f"
             ],
             [
              0.2222222222222222,
              "#7201a8"
             ],
             [
              0.3333333333333333,
              "#9c179e"
             ],
             [
              0.4444444444444444,
              "#bd3786"
             ],
             [
              0.5555555555555556,
              "#d8576b"
             ],
             [
              0.6666666666666666,
              "#ed7953"
             ],
             [
              0.7777777777777778,
              "#fb9f3a"
             ],
             [
              0.8888888888888888,
              "#fdca26"
             ],
             [
              1,
              "#f0f921"
             ]
            ],
            "type": "heatmap"
           }
          ],
          "heatmapgl": [
           {
            "colorbar": {
             "outlinewidth": 0,
             "ticks": ""
            },
            "colorscale": [
             [
              0,
              "#0d0887"
             ],
             [
              0.1111111111111111,
              "#46039f"
             ],
             [
              0.2222222222222222,
              "#7201a8"
             ],
             [
              0.3333333333333333,
              "#9c179e"
             ],
             [
              0.4444444444444444,
              "#bd3786"
             ],
             [
              0.5555555555555556,
              "#d8576b"
             ],
             [
              0.6666666666666666,
              "#ed7953"
             ],
             [
              0.7777777777777778,
              "#fb9f3a"
             ],
             [
              0.8888888888888888,
              "#fdca26"
             ],
             [
              1,
              "#f0f921"
             ]
            ],
            "type": "heatmapgl"
           }
          ],
          "histogram": [
           {
            "marker": {
             "pattern": {
              "fillmode": "overlay",
              "size": 10,
              "solidity": 0.2
             }
            },
            "type": "histogram"
           }
          ],
          "histogram2d": [
           {
            "colorbar": {
             "outlinewidth": 0,
             "ticks": ""
            },
            "colorscale": [
             [
              0,
              "#0d0887"
             ],
             [
              0.1111111111111111,
              "#46039f"
             ],
             [
              0.2222222222222222,
              "#7201a8"
             ],
             [
              0.3333333333333333,
              "#9c179e"
             ],
             [
              0.4444444444444444,
              "#bd3786"
             ],
             [
              0.5555555555555556,
              "#d8576b"
             ],
             [
              0.6666666666666666,
              "#ed7953"
             ],
             [
              0.7777777777777778,
              "#fb9f3a"
             ],
             [
              0.8888888888888888,
              "#fdca26"
             ],
             [
              1,
              "#f0f921"
             ]
            ],
            "type": "histogram2d"
           }
          ],
          "histogram2dcontour": [
           {
            "colorbar": {
             "outlinewidth": 0,
             "ticks": ""
            },
            "colorscale": [
             [
              0,
              "#0d0887"
             ],
             [
              0.1111111111111111,
              "#46039f"
             ],
             [
              0.2222222222222222,
              "#7201a8"
             ],
             [
              0.3333333333333333,
              "#9c179e"
             ],
             [
              0.4444444444444444,
              "#bd3786"
             ],
             [
              0.5555555555555556,
              "#d8576b"
             ],
             [
              0.6666666666666666,
              "#ed7953"
             ],
             [
              0.7777777777777778,
              "#fb9f3a"
             ],
             [
              0.8888888888888888,
              "#fdca26"
             ],
             [
              1,
              "#f0f921"
             ]
            ],
            "type": "histogram2dcontour"
           }
          ],
          "mesh3d": [
           {
            "colorbar": {
             "outlinewidth": 0,
             "ticks": ""
            },
            "type": "mesh3d"
           }
          ],
          "parcoords": [
           {
            "line": {
             "colorbar": {
              "outlinewidth": 0,
              "ticks": ""
             }
            },
            "type": "parcoords"
           }
          ],
          "pie": [
           {
            "automargin": true,
            "type": "pie"
           }
          ],
          "scatter": [
           {
            "fillpattern": {
             "fillmode": "overlay",
             "size": 10,
             "solidity": 0.2
            },
            "type": "scatter"
           }
          ],
          "scatter3d": [
           {
            "line": {
             "colorbar": {
              "outlinewidth": 0,
              "ticks": ""
             }
            },
            "marker": {
             "colorbar": {
              "outlinewidth": 0,
              "ticks": ""
             }
            },
            "type": "scatter3d"
           }
          ],
          "scattercarpet": [
           {
            "marker": {
             "colorbar": {
              "outlinewidth": 0,
              "ticks": ""
             }
            },
            "type": "scattercarpet"
           }
          ],
          "scattergeo": [
           {
            "marker": {
             "colorbar": {
              "outlinewidth": 0,
              "ticks": ""
             }
            },
            "type": "scattergeo"
           }
          ],
          "scattergl": [
           {
            "marker": {
             "colorbar": {
              "outlinewidth": 0,
              "ticks": ""
             }
            },
            "type": "scattergl"
           }
          ],
          "scattermapbox": [
           {
            "marker": {
             "colorbar": {
              "outlinewidth": 0,
              "ticks": ""
             }
            },
            "type": "scattermapbox"
           }
          ],
          "scatterpolar": [
           {
            "marker": {
             "colorbar": {
              "outlinewidth": 0,
              "ticks": ""
             }
            },
            "type": "scatterpolar"
           }
          ],
          "scatterpolargl": [
           {
            "marker": {
             "colorbar": {
              "outlinewidth": 0,
              "ticks": ""
             }
            },
            "type": "scatterpolargl"
           }
          ],
          "scatterternary": [
           {
            "marker": {
             "colorbar": {
              "outlinewidth": 0,
              "ticks": ""
             }
            },
            "type": "scatterternary"
           }
          ],
          "surface": [
           {
            "colorbar": {
             "outlinewidth": 0,
             "ticks": ""
            },
            "colorscale": [
             [
              0,
              "#0d0887"
             ],
             [
              0.1111111111111111,
              "#46039f"
             ],
             [
              0.2222222222222222,
              "#7201a8"
             ],
             [
              0.3333333333333333,
              "#9c179e"
             ],
             [
              0.4444444444444444,
              "#bd3786"
             ],
             [
              0.5555555555555556,
              "#d8576b"
             ],
             [
              0.6666666666666666,
              "#ed7953"
             ],
             [
              0.7777777777777778,
              "#fb9f3a"
             ],
             [
              0.8888888888888888,
              "#fdca26"
             ],
             [
              1,
              "#f0f921"
             ]
            ],
            "type": "surface"
           }
          ],
          "table": [
           {
            "cells": {
             "fill": {
              "color": "#EBF0F8"
             },
             "line": {
              "color": "white"
             }
            },
            "header": {
             "fill": {
              "color": "#C8D4E3"
             },
             "line": {
              "color": "white"
             }
            },
            "type": "table"
           }
          ]
         },
         "layout": {
          "annotationdefaults": {
           "arrowcolor": "#2a3f5f",
           "arrowhead": 0,
           "arrowwidth": 1
          },
          "autotypenumbers": "strict",
          "coloraxis": {
           "colorbar": {
            "outlinewidth": 0,
            "ticks": ""
           }
          },
          "colorscale": {
           "diverging": [
            [
             0,
             "#8e0152"
            ],
            [
             0.1,
             "#c51b7d"
            ],
            [
             0.2,
             "#de77ae"
            ],
            [
             0.3,
             "#f1b6da"
            ],
            [
             0.4,
             "#fde0ef"
            ],
            [
             0.5,
             "#f7f7f7"
            ],
            [
             0.6,
             "#e6f5d0"
            ],
            [
             0.7,
             "#b8e186"
            ],
            [
             0.8,
             "#7fbc41"
            ],
            [
             0.9,
             "#4d9221"
            ],
            [
             1,
             "#276419"
            ]
           ],
           "sequential": [
            [
             0,
             "#0d0887"
            ],
            [
             0.1111111111111111,
             "#46039f"
            ],
            [
             0.2222222222222222,
             "#7201a8"
            ],
            [
             0.3333333333333333,
             "#9c179e"
            ],
            [
             0.4444444444444444,
             "#bd3786"
            ],
            [
             0.5555555555555556,
             "#d8576b"
            ],
            [
             0.6666666666666666,
             "#ed7953"
            ],
            [
             0.7777777777777778,
             "#fb9f3a"
            ],
            [
             0.8888888888888888,
             "#fdca26"
            ],
            [
             1,
             "#f0f921"
            ]
           ],
           "sequentialminus": [
            [
             0,
             "#0d0887"
            ],
            [
             0.1111111111111111,
             "#46039f"
            ],
            [
             0.2222222222222222,
             "#7201a8"
            ],
            [
             0.3333333333333333,
             "#9c179e"
            ],
            [
             0.4444444444444444,
             "#bd3786"
            ],
            [
             0.5555555555555556,
             "#d8576b"
            ],
            [
             0.6666666666666666,
             "#ed7953"
            ],
            [
             0.7777777777777778,
             "#fb9f3a"
            ],
            [
             0.8888888888888888,
             "#fdca26"
            ],
            [
             1,
             "#f0f921"
            ]
           ]
          },
          "colorway": [
           "#636efa",
           "#EF553B",
           "#00cc96",
           "#ab63fa",
           "#FFA15A",
           "#19d3f3",
           "#FF6692",
           "#B6E880",
           "#FF97FF",
           "#FECB52"
          ],
          "font": {
           "color": "#2a3f5f"
          },
          "geo": {
           "bgcolor": "white",
           "lakecolor": "white",
           "landcolor": "#E5ECF6",
           "showlakes": true,
           "showland": true,
           "subunitcolor": "white"
          },
          "hoverlabel": {
           "align": "left"
          },
          "hovermode": "closest",
          "mapbox": {
           "style": "light"
          },
          "paper_bgcolor": "white",
          "plot_bgcolor": "#E5ECF6",
          "polar": {
           "angularaxis": {
            "gridcolor": "white",
            "linecolor": "white",
            "ticks": ""
           },
           "bgcolor": "#E5ECF6",
           "radialaxis": {
            "gridcolor": "white",
            "linecolor": "white",
            "ticks": ""
           }
          },
          "scene": {
           "xaxis": {
            "backgroundcolor": "#E5ECF6",
            "gridcolor": "white",
            "gridwidth": 2,
            "linecolor": "white",
            "showbackground": true,
            "ticks": "",
            "zerolinecolor": "white"
           },
           "yaxis": {
            "backgroundcolor": "#E5ECF6",
            "gridcolor": "white",
            "gridwidth": 2,
            "linecolor": "white",
            "showbackground": true,
            "ticks": "",
            "zerolinecolor": "white"
           },
           "zaxis": {
            "backgroundcolor": "#E5ECF6",
            "gridcolor": "white",
            "gridwidth": 2,
            "linecolor": "white",
            "showbackground": true,
            "ticks": "",
            "zerolinecolor": "white"
           }
          },
          "shapedefaults": {
           "line": {
            "color": "#2a3f5f"
           }
          },
          "ternary": {
           "aaxis": {
            "gridcolor": "white",
            "linecolor": "white",
            "ticks": ""
           },
           "baxis": {
            "gridcolor": "white",
            "linecolor": "white",
            "ticks": ""
           },
           "bgcolor": "#E5ECF6",
           "caxis": {
            "gridcolor": "white",
            "linecolor": "white",
            "ticks": ""
           }
          },
          "title": {
           "x": 0.05
          },
          "xaxis": {
           "automargin": true,
           "gridcolor": "white",
           "linecolor": "white",
           "ticks": "",
           "title": {
            "standoff": 15
           },
           "zerolinecolor": "white",
           "zerolinewidth": 2
          },
          "yaxis": {
           "automargin": true,
           "gridcolor": "white",
           "linecolor": "white",
           "ticks": "",
           "title": {
            "standoff": 15
           },
           "zerolinecolor": "white",
           "zerolinewidth": 2
          }
         }
        },
        "title": {
         "text": "Average Daily Traffic - Per Half Year"
        },
        "xaxis": {
         "anchor": "y",
         "domain": [
          0,
          1
         ],
         "dtick": 1,
         "tick0": "2018H1",
         "tickangle": 90,
         "tickmode": "linear",
         "title": {
          "text": "HalfYear"
         }
        },
        "yaxis": {
         "anchor": "x",
         "domain": [
          0,
          1
         ],
         "title": {
          "text": "Traffic Count"
         }
        }
       }
      }
     },
     "metadata": {},
     "output_type": "display_data"
    }
   ],
   "source": [
    "# Average daily traffic for each half year\n",
    "average_daily_traffic_half_year = agg_daily_traffic_volume.groupby('HalfYear')['Traffic Count'].mean().reset_index()\n",
    "fig = px.bar(average_daily_traffic_half_year, x='HalfYear', y='Traffic Count', \n",
    "              title='Average Daily Traffic - Per Half Year')\n",
    "fig.update_layout(\n",
    "    xaxis=dict(\n",
    "        tickmode='linear',\n",
    "        tick0=min(average_daily_traffic_half_year['HalfYear']),\n",
    "        dtick=1,\n",
    "        tickangle=90\n",
    "    )\n",
    ")\n",
    "fig.show()"
   ]
  },
  {
   "cell_type": "code",
   "execution_count": 9,
   "metadata": {},
   "outputs": [],
   "source": [
    "# Save the daily traffic to a csv file\n",
    "average_daily_traffic_half_year.to_csv('auckland_daily_average_traffic_half_year.csv',index=False)"
   ]
  },
  {
   "cell_type": "markdown",
   "metadata": {},
   "source": [
    "### Population data"
   ]
  },
  {
   "cell_type": "markdown",
   "metadata": {},
   "source": [
    "We use estimated pupulation figures for the Auckland metro area sourced from https://www.macrotrends.net/global-metrics/cities/21957/auckland/population.\n",
    "The pouplation is estimated as at the end of each year."
   ]
  },
  {
   "cell_type": "code",
   "execution_count": 11,
   "metadata": {},
   "outputs": [
    {
     "data": {
      "application/vnd.plotly.v1+json": {
       "config": {
        "plotlyServerURL": "https://plot.ly"
       },
       "data": [
        {
         "alignmentgroup": "True",
         "hovertemplate": "Year=%{x}<br>Population=%{y}<extra></extra>",
         "legendgroup": "",
         "marker": {
          "color": "#636efa",
          "pattern": {
           "shape": ""
          }
         },
         "name": "",
         "offsetgroup": "",
         "orientation": "v",
         "showlegend": false,
         "textposition": "auto",
         "type": "bar",
         "x": [
          1999,
          2000,
          2001,
          2002,
          2003,
          2004,
          2005,
          2006,
          2007,
          2008,
          2009,
          2010,
          2011,
          2012,
          2013,
          2014,
          2015,
          2016,
          2017,
          2018,
          2019,
          2020,
          2021,
          2022,
          2023,
          2024,
          2025,
          2026
         ],
         "xaxis": "x",
         "y": [
          1091000,
          1110000,
          1130000,
          1157000,
          1185000,
          1214000,
          1243000,
          1273000,
          1288000,
          1304000,
          1319000,
          1335000,
          1351000,
          1379000,
          1407000,
          1436000,
          1465000,
          1495000,
          1526000,
          1557000,
          1582000,
          1607000,
          1630000,
          1652000,
          1673000,
          1693000,
          1711000,
          1728000
         ],
         "yaxis": "y"
        }
       ],
       "layout": {
        "barmode": "relative",
        "legend": {
         "tracegroupgap": 0
        },
        "template": {
         "data": {
          "bar": [
           {
            "error_x": {
             "color": "#2a3f5f"
            },
            "error_y": {
             "color": "#2a3f5f"
            },
            "marker": {
             "line": {
              "color": "#E5ECF6",
              "width": 0.5
             },
             "pattern": {
              "fillmode": "overlay",
              "size": 10,
              "solidity": 0.2
             }
            },
            "type": "bar"
           }
          ],
          "barpolar": [
           {
            "marker": {
             "line": {
              "color": "#E5ECF6",
              "width": 0.5
             },
             "pattern": {
              "fillmode": "overlay",
              "size": 10,
              "solidity": 0.2
             }
            },
            "type": "barpolar"
           }
          ],
          "carpet": [
           {
            "aaxis": {
             "endlinecolor": "#2a3f5f",
             "gridcolor": "white",
             "linecolor": "white",
             "minorgridcolor": "white",
             "startlinecolor": "#2a3f5f"
            },
            "baxis": {
             "endlinecolor": "#2a3f5f",
             "gridcolor": "white",
             "linecolor": "white",
             "minorgridcolor": "white",
             "startlinecolor": "#2a3f5f"
            },
            "type": "carpet"
           }
          ],
          "choropleth": [
           {
            "colorbar": {
             "outlinewidth": 0,
             "ticks": ""
            },
            "type": "choropleth"
           }
          ],
          "contour": [
           {
            "colorbar": {
             "outlinewidth": 0,
             "ticks": ""
            },
            "colorscale": [
             [
              0,
              "#0d0887"
             ],
             [
              0.1111111111111111,
              "#46039f"
             ],
             [
              0.2222222222222222,
              "#7201a8"
             ],
             [
              0.3333333333333333,
              "#9c179e"
             ],
             [
              0.4444444444444444,
              "#bd3786"
             ],
             [
              0.5555555555555556,
              "#d8576b"
             ],
             [
              0.6666666666666666,
              "#ed7953"
             ],
             [
              0.7777777777777778,
              "#fb9f3a"
             ],
             [
              0.8888888888888888,
              "#fdca26"
             ],
             [
              1,
              "#f0f921"
             ]
            ],
            "type": "contour"
           }
          ],
          "contourcarpet": [
           {
            "colorbar": {
             "outlinewidth": 0,
             "ticks": ""
            },
            "type": "contourcarpet"
           }
          ],
          "heatmap": [
           {
            "colorbar": {
             "outlinewidth": 0,
             "ticks": ""
            },
            "colorscale": [
             [
              0,
              "#0d0887"
             ],
             [
              0.1111111111111111,
              "#46039f"
             ],
             [
              0.2222222222222222,
              "#7201a8"
             ],
             [
              0.3333333333333333,
              "#9c179e"
             ],
             [
              0.4444444444444444,
              "#bd3786"
             ],
             [
              0.5555555555555556,
              "#d8576b"
             ],
             [
              0.6666666666666666,
              "#ed7953"
             ],
             [
              0.7777777777777778,
              "#fb9f3a"
             ],
             [
              0.8888888888888888,
              "#fdca26"
             ],
             [
              1,
              "#f0f921"
             ]
            ],
            "type": "heatmap"
           }
          ],
          "heatmapgl": [
           {
            "colorbar": {
             "outlinewidth": 0,
             "ticks": ""
            },
            "colorscale": [
             [
              0,
              "#0d0887"
             ],
             [
              0.1111111111111111,
              "#46039f"
             ],
             [
              0.2222222222222222,
              "#7201a8"
             ],
             [
              0.3333333333333333,
              "#9c179e"
             ],
             [
              0.4444444444444444,
              "#bd3786"
             ],
             [
              0.5555555555555556,
              "#d8576b"
             ],
             [
              0.6666666666666666,
              "#ed7953"
             ],
             [
              0.7777777777777778,
              "#fb9f3a"
             ],
             [
              0.8888888888888888,
              "#fdca26"
             ],
             [
              1,
              "#f0f921"
             ]
            ],
            "type": "heatmapgl"
           }
          ],
          "histogram": [
           {
            "marker": {
             "pattern": {
              "fillmode": "overlay",
              "size": 10,
              "solidity": 0.2
             }
            },
            "type": "histogram"
           }
          ],
          "histogram2d": [
           {
            "colorbar": {
             "outlinewidth": 0,
             "ticks": ""
            },
            "colorscale": [
             [
              0,
              "#0d0887"
             ],
             [
              0.1111111111111111,
              "#46039f"
             ],
             [
              0.2222222222222222,
              "#7201a8"
             ],
             [
              0.3333333333333333,
              "#9c179e"
             ],
             [
              0.4444444444444444,
              "#bd3786"
             ],
             [
              0.5555555555555556,
              "#d8576b"
             ],
             [
              0.6666666666666666,
              "#ed7953"
             ],
             [
              0.7777777777777778,
              "#fb9f3a"
             ],
             [
              0.8888888888888888,
              "#fdca26"
             ],
             [
              1,
              "#f0f921"
             ]
            ],
            "type": "histogram2d"
           }
          ],
          "histogram2dcontour": [
           {
            "colorbar": {
             "outlinewidth": 0,
             "ticks": ""
            },
            "colorscale": [
             [
              0,
              "#0d0887"
             ],
             [
              0.1111111111111111,
              "#46039f"
             ],
             [
              0.2222222222222222,
              "#7201a8"
             ],
             [
              0.3333333333333333,
              "#9c179e"
             ],
             [
              0.4444444444444444,
              "#bd3786"
             ],
             [
              0.5555555555555556,
              "#d8576b"
             ],
             [
              0.6666666666666666,
              "#ed7953"
             ],
             [
              0.7777777777777778,
              "#fb9f3a"
             ],
             [
              0.8888888888888888,
              "#fdca26"
             ],
             [
              1,
              "#f0f921"
             ]
            ],
            "type": "histogram2dcontour"
           }
          ],
          "mesh3d": [
           {
            "colorbar": {
             "outlinewidth": 0,
             "ticks": ""
            },
            "type": "mesh3d"
           }
          ],
          "parcoords": [
           {
            "line": {
             "colorbar": {
              "outlinewidth": 0,
              "ticks": ""
             }
            },
            "type": "parcoords"
           }
          ],
          "pie": [
           {
            "automargin": true,
            "type": "pie"
           }
          ],
          "scatter": [
           {
            "fillpattern": {
             "fillmode": "overlay",
             "size": 10,
             "solidity": 0.2
            },
            "type": "scatter"
           }
          ],
          "scatter3d": [
           {
            "line": {
             "colorbar": {
              "outlinewidth": 0,
              "ticks": ""
             }
            },
            "marker": {
             "colorbar": {
              "outlinewidth": 0,
              "ticks": ""
             }
            },
            "type": "scatter3d"
           }
          ],
          "scattercarpet": [
           {
            "marker": {
             "colorbar": {
              "outlinewidth": 0,
              "ticks": ""
             }
            },
            "type": "scattercarpet"
           }
          ],
          "scattergeo": [
           {
            "marker": {
             "colorbar": {
              "outlinewidth": 0,
              "ticks": ""
             }
            },
            "type": "scattergeo"
           }
          ],
          "scattergl": [
           {
            "marker": {
             "colorbar": {
              "outlinewidth": 0,
              "ticks": ""
             }
            },
            "type": "scattergl"
           }
          ],
          "scattermapbox": [
           {
            "marker": {
             "colorbar": {
              "outlinewidth": 0,
              "ticks": ""
             }
            },
            "type": "scattermapbox"
           }
          ],
          "scatterpolar": [
           {
            "marker": {
             "colorbar": {
              "outlinewidth": 0,
              "ticks": ""
             }
            },
            "type": "scatterpolar"
           }
          ],
          "scatterpolargl": [
           {
            "marker": {
             "colorbar": {
              "outlinewidth": 0,
              "ticks": ""
             }
            },
            "type": "scatterpolargl"
           }
          ],
          "scatterternary": [
           {
            "marker": {
             "colorbar": {
              "outlinewidth": 0,
              "ticks": ""
             }
            },
            "type": "scatterternary"
           }
          ],
          "surface": [
           {
            "colorbar": {
             "outlinewidth": 0,
             "ticks": ""
            },
            "colorscale": [
             [
              0,
              "#0d0887"
             ],
             [
              0.1111111111111111,
              "#46039f"
             ],
             [
              0.2222222222222222,
              "#7201a8"
             ],
             [
              0.3333333333333333,
              "#9c179e"
             ],
             [
              0.4444444444444444,
              "#bd3786"
             ],
             [
              0.5555555555555556,
              "#d8576b"
             ],
             [
              0.6666666666666666,
              "#ed7953"
             ],
             [
              0.7777777777777778,
              "#fb9f3a"
             ],
             [
              0.8888888888888888,
              "#fdca26"
             ],
             [
              1,
              "#f0f921"
             ]
            ],
            "type": "surface"
           }
          ],
          "table": [
           {
            "cells": {
             "fill": {
              "color": "#EBF0F8"
             },
             "line": {
              "color": "white"
             }
            },
            "header": {
             "fill": {
              "color": "#C8D4E3"
             },
             "line": {
              "color": "white"
             }
            },
            "type": "table"
           }
          ]
         },
         "layout": {
          "annotationdefaults": {
           "arrowcolor": "#2a3f5f",
           "arrowhead": 0,
           "arrowwidth": 1
          },
          "autotypenumbers": "strict",
          "coloraxis": {
           "colorbar": {
            "outlinewidth": 0,
            "ticks": ""
           }
          },
          "colorscale": {
           "diverging": [
            [
             0,
             "#8e0152"
            ],
            [
             0.1,
             "#c51b7d"
            ],
            [
             0.2,
             "#de77ae"
            ],
            [
             0.3,
             "#f1b6da"
            ],
            [
             0.4,
             "#fde0ef"
            ],
            [
             0.5,
             "#f7f7f7"
            ],
            [
             0.6,
             "#e6f5d0"
            ],
            [
             0.7,
             "#b8e186"
            ],
            [
             0.8,
             "#7fbc41"
            ],
            [
             0.9,
             "#4d9221"
            ],
            [
             1,
             "#276419"
            ]
           ],
           "sequential": [
            [
             0,
             "#0d0887"
            ],
            [
             0.1111111111111111,
             "#46039f"
            ],
            [
             0.2222222222222222,
             "#7201a8"
            ],
            [
             0.3333333333333333,
             "#9c179e"
            ],
            [
             0.4444444444444444,
             "#bd3786"
            ],
            [
             0.5555555555555556,
             "#d8576b"
            ],
            [
             0.6666666666666666,
             "#ed7953"
            ],
            [
             0.7777777777777778,
             "#fb9f3a"
            ],
            [
             0.8888888888888888,
             "#fdca26"
            ],
            [
             1,
             "#f0f921"
            ]
           ],
           "sequentialminus": [
            [
             0,
             "#0d0887"
            ],
            [
             0.1111111111111111,
             "#46039f"
            ],
            [
             0.2222222222222222,
             "#7201a8"
            ],
            [
             0.3333333333333333,
             "#9c179e"
            ],
            [
             0.4444444444444444,
             "#bd3786"
            ],
            [
             0.5555555555555556,
             "#d8576b"
            ],
            [
             0.6666666666666666,
             "#ed7953"
            ],
            [
             0.7777777777777778,
             "#fb9f3a"
            ],
            [
             0.8888888888888888,
             "#fdca26"
            ],
            [
             1,
             "#f0f921"
            ]
           ]
          },
          "colorway": [
           "#636efa",
           "#EF553B",
           "#00cc96",
           "#ab63fa",
           "#FFA15A",
           "#19d3f3",
           "#FF6692",
           "#B6E880",
           "#FF97FF",
           "#FECB52"
          ],
          "font": {
           "color": "#2a3f5f"
          },
          "geo": {
           "bgcolor": "white",
           "lakecolor": "white",
           "landcolor": "#E5ECF6",
           "showlakes": true,
           "showland": true,
           "subunitcolor": "white"
          },
          "hoverlabel": {
           "align": "left"
          },
          "hovermode": "closest",
          "mapbox": {
           "style": "light"
          },
          "paper_bgcolor": "white",
          "plot_bgcolor": "#E5ECF6",
          "polar": {
           "angularaxis": {
            "gridcolor": "white",
            "linecolor": "white",
            "ticks": ""
           },
           "bgcolor": "#E5ECF6",
           "radialaxis": {
            "gridcolor": "white",
            "linecolor": "white",
            "ticks": ""
           }
          },
          "scene": {
           "xaxis": {
            "backgroundcolor": "#E5ECF6",
            "gridcolor": "white",
            "gridwidth": 2,
            "linecolor": "white",
            "showbackground": true,
            "ticks": "",
            "zerolinecolor": "white"
           },
           "yaxis": {
            "backgroundcolor": "#E5ECF6",
            "gridcolor": "white",
            "gridwidth": 2,
            "linecolor": "white",
            "showbackground": true,
            "ticks": "",
            "zerolinecolor": "white"
           },
           "zaxis": {
            "backgroundcolor": "#E5ECF6",
            "gridcolor": "white",
            "gridwidth": 2,
            "linecolor": "white",
            "showbackground": true,
            "ticks": "",
            "zerolinecolor": "white"
           }
          },
          "shapedefaults": {
           "line": {
            "color": "#2a3f5f"
           }
          },
          "ternary": {
           "aaxis": {
            "gridcolor": "white",
            "linecolor": "white",
            "ticks": ""
           },
           "baxis": {
            "gridcolor": "white",
            "linecolor": "white",
            "ticks": ""
           },
           "bgcolor": "#E5ECF6",
           "caxis": {
            "gridcolor": "white",
            "linecolor": "white",
            "ticks": ""
           }
          },
          "title": {
           "x": 0.05
          },
          "xaxis": {
           "automargin": true,
           "gridcolor": "white",
           "linecolor": "white",
           "ticks": "",
           "title": {
            "standoff": 15
           },
           "zerolinecolor": "white",
           "zerolinewidth": 2
          },
          "yaxis": {
           "automargin": true,
           "gridcolor": "white",
           "linecolor": "white",
           "ticks": "",
           "title": {
            "standoff": 15
           },
           "zerolinecolor": "white",
           "zerolinewidth": 2
          }
         }
        },
        "title": {
         "text": "Estimated Auckland Metro Area Population By Year"
        },
        "xaxis": {
         "anchor": "y",
         "domain": [
          0,
          1
         ],
         "dtick": 1,
         "tick0": 1999,
         "tickangle": 90,
         "tickmode": "linear",
         "title": {
          "text": "Year"
         }
        },
        "yaxis": {
         "anchor": "x",
         "domain": [
          0,
          1
         ],
         "title": {
          "text": "Population"
         }
        }
       }
      }
     },
     "metadata": {},
     "output_type": "display_data"
    }
   ],
   "source": [
    "auckland_population_df = pd.read_csv('Auckland-population.csv', skiprows=14)\n",
    "auckland_population_df['Year']  = auckland_population_df['date'].str[:4].astype(int)\n",
    "auckland_population_df = auckland_population_df.drop(columns=([' Annual Change']))\n",
    "auckland_population_df =  auckland_population_df.rename(columns={' Population': 'Population'})\n",
    "auckland_population_df =  auckland_population_df[(auckland_population_df['Year'] >=1999) & (auckland_population_df['Year'] <=2026)]\n",
    "\n",
    "fig = px.bar(auckland_population_df, x='Year', y='Population', \n",
    "              title='Estimated Auckland Metro Area Population By Year')\n",
    "fig.update_layout(\n",
    "    xaxis=dict(\n",
    "        tickmode='linear',\n",
    "        tick0=min(auckland_population_df['Year']),\n",
    "        dtick=1,\n",
    "        tickangle=90\n",
    "    )\n",
    ")\n",
    "fig.show()"
   ]
  },
  {
   "cell_type": "markdown",
   "metadata": {},
   "source": [
    "To align the estimated population figures with the crash dataset, we extrapolate the population projections to the middle of each half-year."
   ]
  },
  {
   "cell_type": "code",
   "execution_count": 13,
   "metadata": {},
   "outputs": [
    {
     "data": {
      "application/vnd.plotly.v1+json": {
       "config": {
        "plotlyServerURL": "https://plot.ly"
       },
       "data": [
        {
         "alignmentgroup": "True",
         "hovertemplate": "HalfYear=%{x}<br>Population=%{y}<extra></extra>",
         "legendgroup": "",
         "marker": {
          "color": "#636efa",
          "pattern": {
           "shape": ""
          }
         },
         "name": "",
         "offsetgroup": "",
         "orientation": "v",
         "showlegend": false,
         "textposition": "auto",
         "type": "bar",
         "x": [
          "2000H1",
          "2000H2",
          "2001H1",
          "2001H2",
          "2002H1",
          "2002H2",
          "2003H1",
          "2003H2",
          "2004H1",
          "2004H2",
          "2005H1",
          "2005H2",
          "2006H1",
          "2006H2",
          "2007H1",
          "2007H2",
          "2008H1",
          "2008H2",
          "2009H1",
          "2009H2",
          "2010H1",
          "2010H2",
          "2011H1",
          "2011H2",
          "2012H1",
          "2012H2",
          "2013H1",
          "2013H2",
          "2014H1",
          "2014H2",
          "2015H1",
          "2015H2",
          "2016H1",
          "2016H2",
          "2017H1",
          "2017H2",
          "2018H1",
          "2018H2",
          "2019H1",
          "2019H2",
          "2020H1",
          "2020H2",
          "2021H1",
          "2021H2",
          "2022H1",
          "2022H2",
          "2023H1",
          "2023H2",
          "2024H1",
          "2024H2",
          "2025H1",
          "2025H2",
          "2026H1",
          "2026H2"
         ],
         "xaxis": "x",
         "y": [
          1095750,
          1105250,
          1115000,
          1125000,
          1136750,
          1150250,
          1164000,
          1178000,
          1192250,
          1206750,
          1221250,
          1235750,
          1250500,
          1265500,
          1276750,
          1284250,
          1292000,
          1300000,
          1307750,
          1315250,
          1323000,
          1331000,
          1339000,
          1347000,
          1358000,
          1372000,
          1386000,
          1400000,
          1414250,
          1428750,
          1443250,
          1457750,
          1472500,
          1487500,
          1502750,
          1518250,
          1533750,
          1549250,
          1563250,
          1575750,
          1588250,
          1600750,
          1612750,
          1624250,
          1635500,
          1646500,
          1657250,
          1667750,
          1678000,
          1688000,
          1697500,
          1706500,
          1715250,
          1723750
         ],
         "yaxis": "y"
        }
       ],
       "layout": {
        "barmode": "relative",
        "legend": {
         "tracegroupgap": 0
        },
        "template": {
         "data": {
          "bar": [
           {
            "error_x": {
             "color": "#2a3f5f"
            },
            "error_y": {
             "color": "#2a3f5f"
            },
            "marker": {
             "line": {
              "color": "#E5ECF6",
              "width": 0.5
             },
             "pattern": {
              "fillmode": "overlay",
              "size": 10,
              "solidity": 0.2
             }
            },
            "type": "bar"
           }
          ],
          "barpolar": [
           {
            "marker": {
             "line": {
              "color": "#E5ECF6",
              "width": 0.5
             },
             "pattern": {
              "fillmode": "overlay",
              "size": 10,
              "solidity": 0.2
             }
            },
            "type": "barpolar"
           }
          ],
          "carpet": [
           {
            "aaxis": {
             "endlinecolor": "#2a3f5f",
             "gridcolor": "white",
             "linecolor": "white",
             "minorgridcolor": "white",
             "startlinecolor": "#2a3f5f"
            },
            "baxis": {
             "endlinecolor": "#2a3f5f",
             "gridcolor": "white",
             "linecolor": "white",
             "minorgridcolor": "white",
             "startlinecolor": "#2a3f5f"
            },
            "type": "carpet"
           }
          ],
          "choropleth": [
           {
            "colorbar": {
             "outlinewidth": 0,
             "ticks": ""
            },
            "type": "choropleth"
           }
          ],
          "contour": [
           {
            "colorbar": {
             "outlinewidth": 0,
             "ticks": ""
            },
            "colorscale": [
             [
              0,
              "#0d0887"
             ],
             [
              0.1111111111111111,
              "#46039f"
             ],
             [
              0.2222222222222222,
              "#7201a8"
             ],
             [
              0.3333333333333333,
              "#9c179e"
             ],
             [
              0.4444444444444444,
              "#bd3786"
             ],
             [
              0.5555555555555556,
              "#d8576b"
             ],
             [
              0.6666666666666666,
              "#ed7953"
             ],
             [
              0.7777777777777778,
              "#fb9f3a"
             ],
             [
              0.8888888888888888,
              "#fdca26"
             ],
             [
              1,
              "#f0f921"
             ]
            ],
            "type": "contour"
           }
          ],
          "contourcarpet": [
           {
            "colorbar": {
             "outlinewidth": 0,
             "ticks": ""
            },
            "type": "contourcarpet"
           }
          ],
          "heatmap": [
           {
            "colorbar": {
             "outlinewidth": 0,
             "ticks": ""
            },
            "colorscale": [
             [
              0,
              "#0d0887"
             ],
             [
              0.1111111111111111,
              "#46039f"
             ],
             [
              0.2222222222222222,
              "#7201a8"
             ],
             [
              0.3333333333333333,
              "#9c179e"
             ],
             [
              0.4444444444444444,
              "#bd3786"
             ],
             [
              0.5555555555555556,
              "#d8576b"
             ],
             [
              0.6666666666666666,
              "#ed7953"
             ],
             [
              0.7777777777777778,
              "#fb9f3a"
             ],
             [
              0.8888888888888888,
              "#fdca26"
             ],
             [
              1,
              "#f0f921"
             ]
            ],
            "type": "heatmap"
           }
          ],
          "heatmapgl": [
           {
            "colorbar": {
             "outlinewidth": 0,
             "ticks": ""
            },
            "colorscale": [
             [
              0,
              "#0d0887"
             ],
             [
              0.1111111111111111,
              "#46039f"
             ],
             [
              0.2222222222222222,
              "#7201a8"
             ],
             [
              0.3333333333333333,
              "#9c179e"
             ],
             [
              0.4444444444444444,
              "#bd3786"
             ],
             [
              0.5555555555555556,
              "#d8576b"
             ],
             [
              0.6666666666666666,
              "#ed7953"
             ],
             [
              0.7777777777777778,
              "#fb9f3a"
             ],
             [
              0.8888888888888888,
              "#fdca26"
             ],
             [
              1,
              "#f0f921"
             ]
            ],
            "type": "heatmapgl"
           }
          ],
          "histogram": [
           {
            "marker": {
             "pattern": {
              "fillmode": "overlay",
              "size": 10,
              "solidity": 0.2
             }
            },
            "type": "histogram"
           }
          ],
          "histogram2d": [
           {
            "colorbar": {
             "outlinewidth": 0,
             "ticks": ""
            },
            "colorscale": [
             [
              0,
              "#0d0887"
             ],
             [
              0.1111111111111111,
              "#46039f"
             ],
             [
              0.2222222222222222,
              "#7201a8"
             ],
             [
              0.3333333333333333,
              "#9c179e"
             ],
             [
              0.4444444444444444,
              "#bd3786"
             ],
             [
              0.5555555555555556,
              "#d8576b"
             ],
             [
              0.6666666666666666,
              "#ed7953"
             ],
             [
              0.7777777777777778,
              "#fb9f3a"
             ],
             [
              0.8888888888888888,
              "#fdca26"
             ],
             [
              1,
              "#f0f921"
             ]
            ],
            "type": "histogram2d"
           }
          ],
          "histogram2dcontour": [
           {
            "colorbar": {
             "outlinewidth": 0,
             "ticks": ""
            },
            "colorscale": [
             [
              0,
              "#0d0887"
             ],
             [
              0.1111111111111111,
              "#46039f"
             ],
             [
              0.2222222222222222,
              "#7201a8"
             ],
             [
              0.3333333333333333,
              "#9c179e"
             ],
             [
              0.4444444444444444,
              "#bd3786"
             ],
             [
              0.5555555555555556,
              "#d8576b"
             ],
             [
              0.6666666666666666,
              "#ed7953"
             ],
             [
              0.7777777777777778,
              "#fb9f3a"
             ],
             [
              0.8888888888888888,
              "#fdca26"
             ],
             [
              1,
              "#f0f921"
             ]
            ],
            "type": "histogram2dcontour"
           }
          ],
          "mesh3d": [
           {
            "colorbar": {
             "outlinewidth": 0,
             "ticks": ""
            },
            "type": "mesh3d"
           }
          ],
          "parcoords": [
           {
            "line": {
             "colorbar": {
              "outlinewidth": 0,
              "ticks": ""
             }
            },
            "type": "parcoords"
           }
          ],
          "pie": [
           {
            "automargin": true,
            "type": "pie"
           }
          ],
          "scatter": [
           {
            "fillpattern": {
             "fillmode": "overlay",
             "size": 10,
             "solidity": 0.2
            },
            "type": "scatter"
           }
          ],
          "scatter3d": [
           {
            "line": {
             "colorbar": {
              "outlinewidth": 0,
              "ticks": ""
             }
            },
            "marker": {
             "colorbar": {
              "outlinewidth": 0,
              "ticks": ""
             }
            },
            "type": "scatter3d"
           }
          ],
          "scattercarpet": [
           {
            "marker": {
             "colorbar": {
              "outlinewidth": 0,
              "ticks": ""
             }
            },
            "type": "scattercarpet"
           }
          ],
          "scattergeo": [
           {
            "marker": {
             "colorbar": {
              "outlinewidth": 0,
              "ticks": ""
             }
            },
            "type": "scattergeo"
           }
          ],
          "scattergl": [
           {
            "marker": {
             "colorbar": {
              "outlinewidth": 0,
              "ticks": ""
             }
            },
            "type": "scattergl"
           }
          ],
          "scattermapbox": [
           {
            "marker": {
             "colorbar": {
              "outlinewidth": 0,
              "ticks": ""
             }
            },
            "type": "scattermapbox"
           }
          ],
          "scatterpolar": [
           {
            "marker": {
             "colorbar": {
              "outlinewidth": 0,
              "ticks": ""
             }
            },
            "type": "scatterpolar"
           }
          ],
          "scatterpolargl": [
           {
            "marker": {
             "colorbar": {
              "outlinewidth": 0,
              "ticks": ""
             }
            },
            "type": "scatterpolargl"
           }
          ],
          "scatterternary": [
           {
            "marker": {
             "colorbar": {
              "outlinewidth": 0,
              "ticks": ""
             }
            },
            "type": "scatterternary"
           }
          ],
          "surface": [
           {
            "colorbar": {
             "outlinewidth": 0,
             "ticks": ""
            },
            "colorscale": [
             [
              0,
              "#0d0887"
             ],
             [
              0.1111111111111111,
              "#46039f"
             ],
             [
              0.2222222222222222,
              "#7201a8"
             ],
             [
              0.3333333333333333,
              "#9c179e"
             ],
             [
              0.4444444444444444,
              "#bd3786"
             ],
             [
              0.5555555555555556,
              "#d8576b"
             ],
             [
              0.6666666666666666,
              "#ed7953"
             ],
             [
              0.7777777777777778,
              "#fb9f3a"
             ],
             [
              0.8888888888888888,
              "#fdca26"
             ],
             [
              1,
              "#f0f921"
             ]
            ],
            "type": "surface"
           }
          ],
          "table": [
           {
            "cells": {
             "fill": {
              "color": "#EBF0F8"
             },
             "line": {
              "color": "white"
             }
            },
            "header": {
             "fill": {
              "color": "#C8D4E3"
             },
             "line": {
              "color": "white"
             }
            },
            "type": "table"
           }
          ]
         },
         "layout": {
          "annotationdefaults": {
           "arrowcolor": "#2a3f5f",
           "arrowhead": 0,
           "arrowwidth": 1
          },
          "autotypenumbers": "strict",
          "coloraxis": {
           "colorbar": {
            "outlinewidth": 0,
            "ticks": ""
           }
          },
          "colorscale": {
           "diverging": [
            [
             0,
             "#8e0152"
            ],
            [
             0.1,
             "#c51b7d"
            ],
            [
             0.2,
             "#de77ae"
            ],
            [
             0.3,
             "#f1b6da"
            ],
            [
             0.4,
             "#fde0ef"
            ],
            [
             0.5,
             "#f7f7f7"
            ],
            [
             0.6,
             "#e6f5d0"
            ],
            [
             0.7,
             "#b8e186"
            ],
            [
             0.8,
             "#7fbc41"
            ],
            [
             0.9,
             "#4d9221"
            ],
            [
             1,
             "#276419"
            ]
           ],
           "sequential": [
            [
             0,
             "#0d0887"
            ],
            [
             0.1111111111111111,
             "#46039f"
            ],
            [
             0.2222222222222222,
             "#7201a8"
            ],
            [
             0.3333333333333333,
             "#9c179e"
            ],
            [
             0.4444444444444444,
             "#bd3786"
            ],
            [
             0.5555555555555556,
             "#d8576b"
            ],
            [
             0.6666666666666666,
             "#ed7953"
            ],
            [
             0.7777777777777778,
             "#fb9f3a"
            ],
            [
             0.8888888888888888,
             "#fdca26"
            ],
            [
             1,
             "#f0f921"
            ]
           ],
           "sequentialminus": [
            [
             0,
             "#0d0887"
            ],
            [
             0.1111111111111111,
             "#46039f"
            ],
            [
             0.2222222222222222,
             "#7201a8"
            ],
            [
             0.3333333333333333,
             "#9c179e"
            ],
            [
             0.4444444444444444,
             "#bd3786"
            ],
            [
             0.5555555555555556,
             "#d8576b"
            ],
            [
             0.6666666666666666,
             "#ed7953"
            ],
            [
             0.7777777777777778,
             "#fb9f3a"
            ],
            [
             0.8888888888888888,
             "#fdca26"
            ],
            [
             1,
             "#f0f921"
            ]
           ]
          },
          "colorway": [
           "#636efa",
           "#EF553B",
           "#00cc96",
           "#ab63fa",
           "#FFA15A",
           "#19d3f3",
           "#FF6692",
           "#B6E880",
           "#FF97FF",
           "#FECB52"
          ],
          "font": {
           "color": "#2a3f5f"
          },
          "geo": {
           "bgcolor": "white",
           "lakecolor": "white",
           "landcolor": "#E5ECF6",
           "showlakes": true,
           "showland": true,
           "subunitcolor": "white"
          },
          "hoverlabel": {
           "align": "left"
          },
          "hovermode": "closest",
          "mapbox": {
           "style": "light"
          },
          "paper_bgcolor": "white",
          "plot_bgcolor": "#E5ECF6",
          "polar": {
           "angularaxis": {
            "gridcolor": "white",
            "linecolor": "white",
            "ticks": ""
           },
           "bgcolor": "#E5ECF6",
           "radialaxis": {
            "gridcolor": "white",
            "linecolor": "white",
            "ticks": ""
           }
          },
          "scene": {
           "xaxis": {
            "backgroundcolor": "#E5ECF6",
            "gridcolor": "white",
            "gridwidth": 2,
            "linecolor": "white",
            "showbackground": true,
            "ticks": "",
            "zerolinecolor": "white"
           },
           "yaxis": {
            "backgroundcolor": "#E5ECF6",
            "gridcolor": "white",
            "gridwidth": 2,
            "linecolor": "white",
            "showbackground": true,
            "ticks": "",
            "zerolinecolor": "white"
           },
           "zaxis": {
            "backgroundcolor": "#E5ECF6",
            "gridcolor": "white",
            "gridwidth": 2,
            "linecolor": "white",
            "showbackground": true,
            "ticks": "",
            "zerolinecolor": "white"
           }
          },
          "shapedefaults": {
           "line": {
            "color": "#2a3f5f"
           }
          },
          "ternary": {
           "aaxis": {
            "gridcolor": "white",
            "linecolor": "white",
            "ticks": ""
           },
           "baxis": {
            "gridcolor": "white",
            "linecolor": "white",
            "ticks": ""
           },
           "bgcolor": "#E5ECF6",
           "caxis": {
            "gridcolor": "white",
            "linecolor": "white",
            "ticks": ""
           }
          },
          "title": {
           "x": 0.05
          },
          "xaxis": {
           "automargin": true,
           "gridcolor": "white",
           "linecolor": "white",
           "ticks": "",
           "title": {
            "standoff": 15
           },
           "zerolinecolor": "white",
           "zerolinewidth": 2
          },
          "yaxis": {
           "automargin": true,
           "gridcolor": "white",
           "linecolor": "white",
           "ticks": "",
           "title": {
            "standoff": 15
           },
           "zerolinecolor": "white",
           "zerolinewidth": 2
          }
         }
        },
        "title": {
         "text": "Estimated Auckland Metro Area Population By Half Year"
        },
        "xaxis": {
         "anchor": "y",
         "domain": [
          0,
          1
         ],
         "dtick": 1,
         "tick0": "2000H1",
         "tickangle": 90,
         "tickmode": "linear",
         "title": {
          "text": "HalfYear"
         }
        },
        "yaxis": {
         "anchor": "x",
         "domain": [
          0,
          1
         ],
         "title": {
          "text": "Population"
         }
        }
       }
      }
     },
     "metadata": {},
     "output_type": "display_data"
    }
   ],
   "source": [
    "# Estimate the population in the middle of each half year\n",
    "\n",
    "new_rows = []\n",
    "\n",
    "for i in range(1, len(auckland_population_df)):\n",
    "    prev_year_pop = auckland_population_df['Population'].iloc[i-1]\n",
    "    curr_year_pop = auckland_population_df['Population'].iloc[i]\n",
    "    year_diff = curr_year_pop - prev_year_pop\n",
    "\n",
    "    # Estimate for March (end of Q1)\n",
    "    march_pop = prev_year_pop + (year_diff / 4)\n",
    "    new_rows.append({'HalfYear': f\"{auckland_population_df['Year'].iloc[i]}H1\", 'Population': march_pop})\n",
    "\n",
    "    # Estimate for September (end of Q3)\n",
    "    september_pop = prev_year_pop + (3 * year_diff / 4)\n",
    "    new_rows.append({'HalfYear': f\"{auckland_population_df['Year'].iloc[i]}H2\", 'Population': september_pop})\n",
    "\n",
    "auckland_half_year_population = pd.DataFrame(new_rows)\n",
    "\n",
    "fig = px.bar(auckland_half_year_population, x='HalfYear', y='Population', \n",
    "              title='Estimated Auckland Metro Area Population By Half Year')\n",
    "fig.update_layout(\n",
    "    xaxis=dict(\n",
    "        tickmode='linear',\n",
    "        tick0=min(auckland_half_year_population['HalfYear']),\n",
    "        dtick=1,\n",
    "        tickangle=90\n",
    "    )\n",
    ")\n",
    "fig.show()"
   ]
  },
  {
   "cell_type": "code",
   "execution_count": null,
   "metadata": {},
   "outputs": [],
   "source": [
    "# Save the daily traffic to a csv file\n",
    "auckland_half_year_population.to_csv('auckland_half_annual_population.csv', index=False)"
   ]
  }
 ],
 "metadata": {
  "kernelspec": {
   "display_name": "base",
   "language": "python",
   "name": "python3"
  },
  "language_info": {
   "codemirror_mode": {
    "name": "ipython",
    "version": 3
   },
   "file_extension": ".py",
   "mimetype": "text/x-python",
   "name": "python",
   "nbconvert_exporter": "python",
   "pygments_lexer": "ipython3",
   "version": "3.11.5"
  }
 },
 "nbformat": 4,
 "nbformat_minor": 2
}
