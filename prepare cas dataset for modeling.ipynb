{
 "cells": [
  {
   "cell_type": "code",
   "execution_count": 197,
   "metadata": {},
   "outputs": [],
   "source": [
    "import numpy as np\n",
    "import pandas as pd\n",
    "import plotly.express as px"
   ]
  },
  {
   "cell_type": "code",
   "execution_count": 198,
   "metadata": {},
   "outputs": [],
   "source": [
    "pd.options.display.float_format = '{:,.2f}'.format"
   ]
  },
  {
   "cell_type": "markdown",
   "metadata": {},
   "source": [
    "### Prepare the crash dataset for analysis"
   ]
  },
  {
   "cell_type": "code",
   "execution_count": 199,
   "metadata": {},
   "outputs": [],
   "source": [
    "cas_df = pd.read_csv('cas_merged_with_SA2_data.csv')\n",
    "cas_df[['firstYear','secondYear']]  = cas_df['crashFinancialYear'].str.split('/', expand=True).astype(int)"
   ]
  },
  {
   "cell_type": "code",
   "execution_count": 200,
   "metadata": {},
   "outputs": [],
   "source": [
    "def determine_half_year(row):\n",
    "    if row['crashYear'] == row['firstYear']:\n",
    "        return f\"{row['firstYear']}H2\"\n",
    "    elif row['crashYear'] == row['secondYear']:\n",
    "        return f\"{row['secondYear']}H1\"\n",
    "    else:\n",
    "        return None"
   ]
  },
  {
   "cell_type": "code",
   "execution_count": 201,
   "metadata": {},
   "outputs": [],
   "source": [
    "cas_df['halfYear'] = cas_df.apply(determine_half_year, axis=1)"
   ]
  },
  {
   "cell_type": "code",
   "execution_count": 202,
   "metadata": {},
   "outputs": [
    {
     "data": {
      "application/vnd.plotly.v1+json": {
       "config": {
        "plotlyServerURL": "https://plot.ly"
       },
       "data": [
        {
         "alignmentgroup": "True",
         "hovertemplate": "halfYear=%{x}<br>OBJECTID=%{y}<extra></extra>",
         "legendgroup": "",
         "marker": {
          "color": "#636efa",
          "pattern": {
           "shape": ""
          }
         },
         "name": "",
         "offsetgroup": "",
         "orientation": "v",
         "showlegend": false,
         "textposition": "auto",
         "type": "bar",
         "x": [
          "2000H1",
          "2000H2",
          "2001H1",
          "2001H2",
          "2002H1",
          "2002H2",
          "2003H1",
          "2003H2",
          "2004H1",
          "2004H2",
          "2005H1",
          "2005H2",
          "2006H1",
          "2006H2",
          "2007H1",
          "2007H2",
          "2008H1",
          "2008H2",
          "2009H1",
          "2009H2",
          "2010H1",
          "2010H2",
          "2011H1",
          "2011H2",
          "2012H1",
          "2012H2",
          "2013H1",
          "2013H2",
          "2014H1",
          "2014H2",
          "2015H1",
          "2015H2",
          "2016H1",
          "2016H2",
          "2017H1",
          "2017H2",
          "2018H1",
          "2018H2",
          "2019H1",
          "2019H2",
          "2020H1",
          "2020H2",
          "2021H1",
          "2021H2",
          "2022H1",
          "2022H2",
          "2023H1"
         ],
         "xaxis": "x",
         "y": [
          6097,
          6188,
          6670,
          7000,
          7386,
          7425,
          7314,
          7131,
          6466,
          6960,
          6728,
          6860,
          6826,
          6937,
          6697,
          7190,
          6870,
          6678,
          6452,
          6414,
          6216,
          6537,
          5934,
          5325,
          5427,
          5437,
          5034,
          5652,
          5214,
          5426,
          5451,
          5991,
          6297,
          7011,
          6955,
          6832,
          6632,
          6000,
          5855,
          5930,
          4455,
          5435,
          5908,
          4353,
          4526,
          3990,
          1234
         ],
         "yaxis": "y"
        }
       ],
       "layout": {
        "barmode": "relative",
        "legend": {
         "tracegroupgap": 0
        },
        "template": {
         "data": {
          "bar": [
           {
            "error_x": {
             "color": "#2a3f5f"
            },
            "error_y": {
             "color": "#2a3f5f"
            },
            "marker": {
             "line": {
              "color": "#E5ECF6",
              "width": 0.5
             },
             "pattern": {
              "fillmode": "overlay",
              "size": 10,
              "solidity": 0.2
             }
            },
            "type": "bar"
           }
          ],
          "barpolar": [
           {
            "marker": {
             "line": {
              "color": "#E5ECF6",
              "width": 0.5
             },
             "pattern": {
              "fillmode": "overlay",
              "size": 10,
              "solidity": 0.2
             }
            },
            "type": "barpolar"
           }
          ],
          "carpet": [
           {
            "aaxis": {
             "endlinecolor": "#2a3f5f",
             "gridcolor": "white",
             "linecolor": "white",
             "minorgridcolor": "white",
             "startlinecolor": "#2a3f5f"
            },
            "baxis": {
             "endlinecolor": "#2a3f5f",
             "gridcolor": "white",
             "linecolor": "white",
             "minorgridcolor": "white",
             "startlinecolor": "#2a3f5f"
            },
            "type": "carpet"
           }
          ],
          "choropleth": [
           {
            "colorbar": {
             "outlinewidth": 0,
             "ticks": ""
            },
            "type": "choropleth"
           }
          ],
          "contour": [
           {
            "colorbar": {
             "outlinewidth": 0,
             "ticks": ""
            },
            "colorscale": [
             [
              0,
              "#0d0887"
             ],
             [
              0.1111111111111111,
              "#46039f"
             ],
             [
              0.2222222222222222,
              "#7201a8"
             ],
             [
              0.3333333333333333,
              "#9c179e"
             ],
             [
              0.4444444444444444,
              "#bd3786"
             ],
             [
              0.5555555555555556,
              "#d8576b"
             ],
             [
              0.6666666666666666,
              "#ed7953"
             ],
             [
              0.7777777777777778,
              "#fb9f3a"
             ],
             [
              0.8888888888888888,
              "#fdca26"
             ],
             [
              1,
              "#f0f921"
             ]
            ],
            "type": "contour"
           }
          ],
          "contourcarpet": [
           {
            "colorbar": {
             "outlinewidth": 0,
             "ticks": ""
            },
            "type": "contourcarpet"
           }
          ],
          "heatmap": [
           {
            "colorbar": {
             "outlinewidth": 0,
             "ticks": ""
            },
            "colorscale": [
             [
              0,
              "#0d0887"
             ],
             [
              0.1111111111111111,
              "#46039f"
             ],
             [
              0.2222222222222222,
              "#7201a8"
             ],
             [
              0.3333333333333333,
              "#9c179e"
             ],
             [
              0.4444444444444444,
              "#bd3786"
             ],
             [
              0.5555555555555556,
              "#d8576b"
             ],
             [
              0.6666666666666666,
              "#ed7953"
             ],
             [
              0.7777777777777778,
              "#fb9f3a"
             ],
             [
              0.8888888888888888,
              "#fdca26"
             ],
             [
              1,
              "#f0f921"
             ]
            ],
            "type": "heatmap"
           }
          ],
          "heatmapgl": [
           {
            "colorbar": {
             "outlinewidth": 0,
             "ticks": ""
            },
            "colorscale": [
             [
              0,
              "#0d0887"
             ],
             [
              0.1111111111111111,
              "#46039f"
             ],
             [
              0.2222222222222222,
              "#7201a8"
             ],
             [
              0.3333333333333333,
              "#9c179e"
             ],
             [
              0.4444444444444444,
              "#bd3786"
             ],
             [
              0.5555555555555556,
              "#d8576b"
             ],
             [
              0.6666666666666666,
              "#ed7953"
             ],
             [
              0.7777777777777778,
              "#fb9f3a"
             ],
             [
              0.8888888888888888,
              "#fdca26"
             ],
             [
              1,
              "#f0f921"
             ]
            ],
            "type": "heatmapgl"
           }
          ],
          "histogram": [
           {
            "marker": {
             "pattern": {
              "fillmode": "overlay",
              "size": 10,
              "solidity": 0.2
             }
            },
            "type": "histogram"
           }
          ],
          "histogram2d": [
           {
            "colorbar": {
             "outlinewidth": 0,
             "ticks": ""
            },
            "colorscale": [
             [
              0,
              "#0d0887"
             ],
             [
              0.1111111111111111,
              "#46039f"
             ],
             [
              0.2222222222222222,
              "#7201a8"
             ],
             [
              0.3333333333333333,
              "#9c179e"
             ],
             [
              0.4444444444444444,
              "#bd3786"
             ],
             [
              0.5555555555555556,
              "#d8576b"
             ],
             [
              0.6666666666666666,
              "#ed7953"
             ],
             [
              0.7777777777777778,
              "#fb9f3a"
             ],
             [
              0.8888888888888888,
              "#fdca26"
             ],
             [
              1,
              "#f0f921"
             ]
            ],
            "type": "histogram2d"
           }
          ],
          "histogram2dcontour": [
           {
            "colorbar": {
             "outlinewidth": 0,
             "ticks": ""
            },
            "colorscale": [
             [
              0,
              "#0d0887"
             ],
             [
              0.1111111111111111,
              "#46039f"
             ],
             [
              0.2222222222222222,
              "#7201a8"
             ],
             [
              0.3333333333333333,
              "#9c179e"
             ],
             [
              0.4444444444444444,
              "#bd3786"
             ],
             [
              0.5555555555555556,
              "#d8576b"
             ],
             [
              0.6666666666666666,
              "#ed7953"
             ],
             [
              0.7777777777777778,
              "#fb9f3a"
             ],
             [
              0.8888888888888888,
              "#fdca26"
             ],
             [
              1,
              "#f0f921"
             ]
            ],
            "type": "histogram2dcontour"
           }
          ],
          "mesh3d": [
           {
            "colorbar": {
             "outlinewidth": 0,
             "ticks": ""
            },
            "type": "mesh3d"
           }
          ],
          "parcoords": [
           {
            "line": {
             "colorbar": {
              "outlinewidth": 0,
              "ticks": ""
             }
            },
            "type": "parcoords"
           }
          ],
          "pie": [
           {
            "automargin": true,
            "type": "pie"
           }
          ],
          "scatter": [
           {
            "fillpattern": {
             "fillmode": "overlay",
             "size": 10,
             "solidity": 0.2
            },
            "type": "scatter"
           }
          ],
          "scatter3d": [
           {
            "line": {
             "colorbar": {
              "outlinewidth": 0,
              "ticks": ""
             }
            },
            "marker": {
             "colorbar": {
              "outlinewidth": 0,
              "ticks": ""
             }
            },
            "type": "scatter3d"
           }
          ],
          "scattercarpet": [
           {
            "marker": {
             "colorbar": {
              "outlinewidth": 0,
              "ticks": ""
             }
            },
            "type": "scattercarpet"
           }
          ],
          "scattergeo": [
           {
            "marker": {
             "colorbar": {
              "outlinewidth": 0,
              "ticks": ""
             }
            },
            "type": "scattergeo"
           }
          ],
          "scattergl": [
           {
            "marker": {
             "colorbar": {
              "outlinewidth": 0,
              "ticks": ""
             }
            },
            "type": "scattergl"
           }
          ],
          "scattermapbox": [
           {
            "marker": {
             "colorbar": {
              "outlinewidth": 0,
              "ticks": ""
             }
            },
            "type": "scattermapbox"
           }
          ],
          "scatterpolar": [
           {
            "marker": {
             "colorbar": {
              "outlinewidth": 0,
              "ticks": ""
             }
            },
            "type": "scatterpolar"
           }
          ],
          "scatterpolargl": [
           {
            "marker": {
             "colorbar": {
              "outlinewidth": 0,
              "ticks": ""
             }
            },
            "type": "scatterpolargl"
           }
          ],
          "scatterternary": [
           {
            "marker": {
             "colorbar": {
              "outlinewidth": 0,
              "ticks": ""
             }
            },
            "type": "scatterternary"
           }
          ],
          "surface": [
           {
            "colorbar": {
             "outlinewidth": 0,
             "ticks": ""
            },
            "colorscale": [
             [
              0,
              "#0d0887"
             ],
             [
              0.1111111111111111,
              "#46039f"
             ],
             [
              0.2222222222222222,
              "#7201a8"
             ],
             [
              0.3333333333333333,
              "#9c179e"
             ],
             [
              0.4444444444444444,
              "#bd3786"
             ],
             [
              0.5555555555555556,
              "#d8576b"
             ],
             [
              0.6666666666666666,
              "#ed7953"
             ],
             [
              0.7777777777777778,
              "#fb9f3a"
             ],
             [
              0.8888888888888888,
              "#fdca26"
             ],
             [
              1,
              "#f0f921"
             ]
            ],
            "type": "surface"
           }
          ],
          "table": [
           {
            "cells": {
             "fill": {
              "color": "#EBF0F8"
             },
             "line": {
              "color": "white"
             }
            },
            "header": {
             "fill": {
              "color": "#C8D4E3"
             },
             "line": {
              "color": "white"
             }
            },
            "type": "table"
           }
          ]
         },
         "layout": {
          "annotationdefaults": {
           "arrowcolor": "#2a3f5f",
           "arrowhead": 0,
           "arrowwidth": 1
          },
          "autotypenumbers": "strict",
          "coloraxis": {
           "colorbar": {
            "outlinewidth": 0,
            "ticks": ""
           }
          },
          "colorscale": {
           "diverging": [
            [
             0,
             "#8e0152"
            ],
            [
             0.1,
             "#c51b7d"
            ],
            [
             0.2,
             "#de77ae"
            ],
            [
             0.3,
             "#f1b6da"
            ],
            [
             0.4,
             "#fde0ef"
            ],
            [
             0.5,
             "#f7f7f7"
            ],
            [
             0.6,
             "#e6f5d0"
            ],
            [
             0.7,
             "#b8e186"
            ],
            [
             0.8,
             "#7fbc41"
            ],
            [
             0.9,
             "#4d9221"
            ],
            [
             1,
             "#276419"
            ]
           ],
           "sequential": [
            [
             0,
             "#0d0887"
            ],
            [
             0.1111111111111111,
             "#46039f"
            ],
            [
             0.2222222222222222,
             "#7201a8"
            ],
            [
             0.3333333333333333,
             "#9c179e"
            ],
            [
             0.4444444444444444,
             "#bd3786"
            ],
            [
             0.5555555555555556,
             "#d8576b"
            ],
            [
             0.6666666666666666,
             "#ed7953"
            ],
            [
             0.7777777777777778,
             "#fb9f3a"
            ],
            [
             0.8888888888888888,
             "#fdca26"
            ],
            [
             1,
             "#f0f921"
            ]
           ],
           "sequentialminus": [
            [
             0,
             "#0d0887"
            ],
            [
             0.1111111111111111,
             "#46039f"
            ],
            [
             0.2222222222222222,
             "#7201a8"
            ],
            [
             0.3333333333333333,
             "#9c179e"
            ],
            [
             0.4444444444444444,
             "#bd3786"
            ],
            [
             0.5555555555555556,
             "#d8576b"
            ],
            [
             0.6666666666666666,
             "#ed7953"
            ],
            [
             0.7777777777777778,
             "#fb9f3a"
            ],
            [
             0.8888888888888888,
             "#fdca26"
            ],
            [
             1,
             "#f0f921"
            ]
           ]
          },
          "colorway": [
           "#636efa",
           "#EF553B",
           "#00cc96",
           "#ab63fa",
           "#FFA15A",
           "#19d3f3",
           "#FF6692",
           "#B6E880",
           "#FF97FF",
           "#FECB52"
          ],
          "font": {
           "color": "#2a3f5f"
          },
          "geo": {
           "bgcolor": "white",
           "lakecolor": "white",
           "landcolor": "#E5ECF6",
           "showlakes": true,
           "showland": true,
           "subunitcolor": "white"
          },
          "hoverlabel": {
           "align": "left"
          },
          "hovermode": "closest",
          "mapbox": {
           "style": "light"
          },
          "paper_bgcolor": "white",
          "plot_bgcolor": "#E5ECF6",
          "polar": {
           "angularaxis": {
            "gridcolor": "white",
            "linecolor": "white",
            "ticks": ""
           },
           "bgcolor": "#E5ECF6",
           "radialaxis": {
            "gridcolor": "white",
            "linecolor": "white",
            "ticks": ""
           }
          },
          "scene": {
           "xaxis": {
            "backgroundcolor": "#E5ECF6",
            "gridcolor": "white",
            "gridwidth": 2,
            "linecolor": "white",
            "showbackground": true,
            "ticks": "",
            "zerolinecolor": "white"
           },
           "yaxis": {
            "backgroundcolor": "#E5ECF6",
            "gridcolor": "white",
            "gridwidth": 2,
            "linecolor": "white",
            "showbackground": true,
            "ticks": "",
            "zerolinecolor": "white"
           },
           "zaxis": {
            "backgroundcolor": "#E5ECF6",
            "gridcolor": "white",
            "gridwidth": 2,
            "linecolor": "white",
            "showbackground": true,
            "ticks": "",
            "zerolinecolor": "white"
           }
          },
          "shapedefaults": {
           "line": {
            "color": "#2a3f5f"
           }
          },
          "ternary": {
           "aaxis": {
            "gridcolor": "white",
            "linecolor": "white",
            "ticks": ""
           },
           "baxis": {
            "gridcolor": "white",
            "linecolor": "white",
            "ticks": ""
           },
           "bgcolor": "#E5ECF6",
           "caxis": {
            "gridcolor": "white",
            "linecolor": "white",
            "ticks": ""
           }
          },
          "title": {
           "x": 0.05
          },
          "xaxis": {
           "automargin": true,
           "gridcolor": "white",
           "linecolor": "white",
           "ticks": "",
           "title": {
            "standoff": 15
           },
           "zerolinecolor": "white",
           "zerolinewidth": 2
          },
          "yaxis": {
           "automargin": true,
           "gridcolor": "white",
           "linecolor": "white",
           "ticks": "",
           "title": {
            "standoff": 15
           },
           "zerolinecolor": "white",
           "zerolinewidth": 2
          }
         }
        },
        "title": {
         "text": "Number of accidents by half year"
        },
        "xaxis": {
         "anchor": "y",
         "domain": [
          0,
          1
         ],
         "dtick": 1,
         "tick0": "2000H1",
         "tickangle": 90,
         "tickmode": "linear",
         "title": {
          "text": "halfYear"
         }
        },
        "yaxis": {
         "anchor": "x",
         "domain": [
          0,
          1
         ],
         "title": {
          "text": "OBJECTID"
         }
        }
       }
      }
     },
     "metadata": {},
     "output_type": "display_data"
    }
   ],
   "source": [
    "cas_by_half_year =  cas_df.groupby(['halfYear'])['OBJECTID'].count().reset_index()\n",
    "fig = px.bar(cas_by_half_year, x='halfYear', y='OBJECTID', \n",
    "              title='Number of accidents by half year')\n",
    "fig.update_layout(\n",
    "    xaxis=dict(\n",
    "        tickmode='linear',\n",
    "        tick0=min(cas_by_half_year['halfYear']),\n",
    "        dtick=1,\n",
    "        tickangle=90\n",
    "    )\n",
    ")\n",
    "fig.show()"
   ]
  },
  {
   "cell_type": "code",
   "execution_count": 203,
   "metadata": {},
   "outputs": [],
   "source": [
    "cas_df = cas_df[(cas_df['halfYear'] >= '2018H1') & (cas_df['halfYear'] <= '2022H2')]"
   ]
  },
  {
   "cell_type": "code",
   "execution_count": 204,
   "metadata": {},
   "outputs": [
    {
     "data": {
      "text/plain": [
       "Index(['X', 'Y', 'OBJECTID', 'advisorySpeed', 'areaUnitID', 'bicycle',\n",
       "       'bridge', 'bus', 'carStationWagon', 'cliffBank',\n",
       "       'crashDirectionDescription', 'crashFinancialYear', 'crashLocation1',\n",
       "       'crashLocation2', 'crashRoadSideRoad', 'crashSeverity',\n",
       "       'crashSHDescription', 'crashYear', 'debris', 'directionRoleDescription',\n",
       "       'ditch', 'fatalCount', 'fence', 'flatHill', 'guardRail', 'holiday',\n",
       "       'houseOrBuilding', 'intersection', 'kerb', 'light', 'meshblockId',\n",
       "       'minorInjuryCount', 'moped', 'motorcycle', 'NumberOfLanes',\n",
       "       'objectThrownOrDropped', 'otherObject', 'otherVehicleType', 'overBank',\n",
       "       'parkedVehicle', 'pedestrian', 'phoneBoxEtc', 'postOrPole', 'region',\n",
       "       'roadCharacter', 'roadLane', 'roadSurface', 'roadworks', 'schoolBus',\n",
       "       'seriousInjuryCount', 'slipOrFlood', 'speedLimit', 'strayAnimal',\n",
       "       'streetLight', 'suv', 'taxi', 'temporarySpeedLimit', 'tlaId', 'tlaName',\n",
       "       'trafficControl', 'trafficIsland', 'trafficSign', 'train', 'tree',\n",
       "       'truck', 'unknownVehicleType', 'urban', 'vanOrUtility', 'vehicle',\n",
       "       'waterRiver', 'weatherA', 'weatherB', 'MB2024_V1_00',\n",
       "       'SA22023_V1_00_original', 'SA22023_V1_00_Filled', 'SA22023_V1_00_NAME',\n",
       "       'SA22023_V1_00_NAME_ASCII', 'SA32023_V1_00', 'SA32023_V1_00_NAME',\n",
       "       'SA32023_V1_00_NAME_ASCII', 'firstYear', 'secondYear', 'halfYear'],\n",
       "      dtype='object')"
      ]
     },
     "execution_count": 204,
     "metadata": {},
     "output_type": "execute_result"
    }
   ],
   "source": [
    "cas_df.columns"
   ]
  },
  {
   "cell_type": "code",
   "execution_count": 205,
   "metadata": {},
   "outputs": [],
   "source": [
    "# Creat a boolean column to denote if a holiday or not\n",
    "cas_df['isHoliday'] = cas_df['holiday'].notna().astype(int)"
   ]
  },
  {
   "cell_type": "code",
   "execution_count": 206,
   "metadata": {},
   "outputs": [
    {
     "data": {
      "text/html": [
       "<div>\n",
       "<style scoped>\n",
       "    .dataframe tbody tr th:only-of-type {\n",
       "        vertical-align: middle;\n",
       "    }\n",
       "\n",
       "    .dataframe tbody tr th {\n",
       "        vertical-align: top;\n",
       "    }\n",
       "\n",
       "    .dataframe thead th {\n",
       "        text-align: right;\n",
       "    }\n",
       "</style>\n",
       "<table border=\"1\" class=\"dataframe\">\n",
       "  <thead>\n",
       "    <tr style=\"text-align: right;\">\n",
       "      <th></th>\n",
       "      <th>X</th>\n",
       "      <th>Y</th>\n",
       "      <th>OBJECTID</th>\n",
       "      <th>advisorySpeed</th>\n",
       "      <th>areaUnitID</th>\n",
       "      <th>bicycle</th>\n",
       "      <th>bridge</th>\n",
       "      <th>bus</th>\n",
       "      <th>carStationWagon</th>\n",
       "      <th>cliffBank</th>\n",
       "      <th>...</th>\n",
       "      <th>SA22023_V1_00_Filled</th>\n",
       "      <th>SA22023_V1_00_NAME</th>\n",
       "      <th>SA22023_V1_00_NAME_ASCII</th>\n",
       "      <th>SA32023_V1_00</th>\n",
       "      <th>SA32023_V1_00_NAME</th>\n",
       "      <th>SA32023_V1_00_NAME_ASCII</th>\n",
       "      <th>firstYear</th>\n",
       "      <th>secondYear</th>\n",
       "      <th>halfYear</th>\n",
       "      <th>isHoliday</th>\n",
       "    </tr>\n",
       "  </thead>\n",
       "  <tbody>\n",
       "    <tr>\n",
       "      <th>27944</th>\n",
       "      <td>1,754,689.00</td>\n",
       "      <td>5,924,770.00</td>\n",
       "      <td>141653</td>\n",
       "      <td>NaN</td>\n",
       "      <td>509800</td>\n",
       "      <td>0</td>\n",
       "      <td>0.00</td>\n",
       "      <td>0</td>\n",
       "      <td>3</td>\n",
       "      <td>0.00</td>\n",
       "      <td>...</td>\n",
       "      <td>127300</td>\n",
       "      <td>Northcote South (Auckland)</td>\n",
       "      <td>Northcote South (Auckland)</td>\n",
       "      <td>51040</td>\n",
       "      <td>Northcote (Auckland)</td>\n",
       "      <td>Northcote (Auckland)</td>\n",
       "      <td>2017</td>\n",
       "      <td>2018</td>\n",
       "      <td>2018H1</td>\n",
       "      <td>0</td>\n",
       "    </tr>\n",
       "    <tr>\n",
       "      <th>27963</th>\n",
       "      <td>1,763,714.00</td>\n",
       "      <td>5,913,506.00</td>\n",
       "      <td>141723</td>\n",
       "      <td>NaN</td>\n",
       "      <td>520402</td>\n",
       "      <td>0</td>\n",
       "      <td>0.00</td>\n",
       "      <td>0</td>\n",
       "      <td>1</td>\n",
       "      <td>0.00</td>\n",
       "      <td>...</td>\n",
       "      <td>147201</td>\n",
       "      <td>Mount Wellington Central</td>\n",
       "      <td>Mount Wellington Central</td>\n",
       "      <td>51710</td>\n",
       "      <td>Mount Wellington</td>\n",
       "      <td>Mount Wellington</td>\n",
       "      <td>2018</td>\n",
       "      <td>2019</td>\n",
       "      <td>2018H2</td>\n",
       "      <td>0</td>\n",
       "    </tr>\n",
       "    <tr>\n",
       "      <th>27964</th>\n",
       "      <td>1,762,166.00</td>\n",
       "      <td>5,906,172.00</td>\n",
       "      <td>141727</td>\n",
       "      <td>NaN</td>\n",
       "      <td>524200</td>\n",
       "      <td>0</td>\n",
       "      <td>0.00</td>\n",
       "      <td>0</td>\n",
       "      <td>2</td>\n",
       "      <td>0.00</td>\n",
       "      <td>...</td>\n",
       "      <td>152800</td>\n",
       "      <td>Māngere South East</td>\n",
       "      <td>Mangere South East</td>\n",
       "      <td>51960</td>\n",
       "      <td>Māngere</td>\n",
       "      <td>Mangere</td>\n",
       "      <td>2018</td>\n",
       "      <td>2019</td>\n",
       "      <td>2018H2</td>\n",
       "      <td>0</td>\n",
       "    </tr>\n",
       "    <tr>\n",
       "      <th>27965</th>\n",
       "      <td>1,756,323.00</td>\n",
       "      <td>5,927,364.00</td>\n",
       "      <td>141728</td>\n",
       "      <td>NaN</td>\n",
       "      <td>507900</td>\n",
       "      <td>0</td>\n",
       "      <td>NaN</td>\n",
       "      <td>0</td>\n",
       "      <td>3</td>\n",
       "      <td>NaN</td>\n",
       "      <td>...</td>\n",
       "      <td>126601</td>\n",
       "      <td>Takapuna West</td>\n",
       "      <td>Takapuna West</td>\n",
       "      <td>51010</td>\n",
       "      <td>Takapuna</td>\n",
       "      <td>Takapuna</td>\n",
       "      <td>2017</td>\n",
       "      <td>2018</td>\n",
       "      <td>2018H1</td>\n",
       "      <td>0</td>\n",
       "    </tr>\n",
       "    <tr>\n",
       "      <th>27972</th>\n",
       "      <td>1,765,783.00</td>\n",
       "      <td>5,906,821.00</td>\n",
       "      <td>141750</td>\n",
       "      <td>NaN</td>\n",
       "      <td>522301</td>\n",
       "      <td>0</td>\n",
       "      <td>NaN</td>\n",
       "      <td>0</td>\n",
       "      <td>1</td>\n",
       "      <td>NaN</td>\n",
       "      <td>...</td>\n",
       "      <td>154902</td>\n",
       "      <td>Papatoetoe Central East</td>\n",
       "      <td>Papatoetoe Central East</td>\n",
       "      <td>51990</td>\n",
       "      <td>Papatoetoe</td>\n",
       "      <td>Papatoetoe</td>\n",
       "      <td>2018</td>\n",
       "      <td>2019</td>\n",
       "      <td>2018H2</td>\n",
       "      <td>0</td>\n",
       "    </tr>\n",
       "    <tr>\n",
       "      <th>...</th>\n",
       "      <td>...</td>\n",
       "      <td>...</td>\n",
       "      <td>...</td>\n",
       "      <td>...</td>\n",
       "      <td>...</td>\n",
       "      <td>...</td>\n",
       "      <td>...</td>\n",
       "      <td>...</td>\n",
       "      <td>...</td>\n",
       "      <td>...</td>\n",
       "      <td>...</td>\n",
       "      <td>...</td>\n",
       "      <td>...</td>\n",
       "      <td>...</td>\n",
       "      <td>...</td>\n",
       "      <td>...</td>\n",
       "      <td>...</td>\n",
       "      <td>...</td>\n",
       "      <td>...</td>\n",
       "      <td>...</td>\n",
       "      <td>...</td>\n",
       "    </tr>\n",
       "    <tr>\n",
       "      <th>285338</th>\n",
       "      <td>1,754,774.26</td>\n",
       "      <td>5,929,682.17</td>\n",
       "      <td>1318952</td>\n",
       "      <td>NaN</td>\n",
       "      <td>508420</td>\n",
       "      <td>0</td>\n",
       "      <td>0.00</td>\n",
       "      <td>0</td>\n",
       "      <td>1</td>\n",
       "      <td>0.00</td>\n",
       "      <td>...</td>\n",
       "      <td>121500</td>\n",
       "      <td>Totara Vale North</td>\n",
       "      <td>Totara Vale North</td>\n",
       "      <td>50830</td>\n",
       "      <td>Totara Vale</td>\n",
       "      <td>Totara Vale</td>\n",
       "      <td>2022</td>\n",
       "      <td>2023</td>\n",
       "      <td>2022H2</td>\n",
       "      <td>0</td>\n",
       "    </tr>\n",
       "    <tr>\n",
       "      <th>285342</th>\n",
       "      <td>1,768,891.01</td>\n",
       "      <td>5,904,246.02</td>\n",
       "      <td>1318957</td>\n",
       "      <td>NaN</td>\n",
       "      <td>523820</td>\n",
       "      <td>0</td>\n",
       "      <td>0.00</td>\n",
       "      <td>0</td>\n",
       "      <td>2</td>\n",
       "      <td>0.00</td>\n",
       "      <td>...</td>\n",
       "      <td>158502</td>\n",
       "      <td>Goodwood Heights East</td>\n",
       "      <td>Goodwood Heights East</td>\n",
       "      <td>52040</td>\n",
       "      <td>Goodwood Heights</td>\n",
       "      <td>Goodwood Heights</td>\n",
       "      <td>2022</td>\n",
       "      <td>2023</td>\n",
       "      <td>2022H2</td>\n",
       "      <td>0</td>\n",
       "    </tr>\n",
       "    <tr>\n",
       "      <th>285343</th>\n",
       "      <td>1,757,918.17</td>\n",
       "      <td>5,914,598.61</td>\n",
       "      <td>1318959</td>\n",
       "      <td>NaN</td>\n",
       "      <td>518600</td>\n",
       "      <td>0</td>\n",
       "      <td>NaN</td>\n",
       "      <td>0</td>\n",
       "      <td>2</td>\n",
       "      <td>NaN</td>\n",
       "      <td>...</td>\n",
       "      <td>140800</td>\n",
       "      <td>Epsom Central-South</td>\n",
       "      <td>Epsom Central-South</td>\n",
       "      <td>51460</td>\n",
       "      <td>Epsom</td>\n",
       "      <td>Epsom</td>\n",
       "      <td>2022</td>\n",
       "      <td>2023</td>\n",
       "      <td>2022H2</td>\n",
       "      <td>1</td>\n",
       "    </tr>\n",
       "    <tr>\n",
       "      <th>285344</th>\n",
       "      <td>1,758,255.48</td>\n",
       "      <td>5,918,059.73</td>\n",
       "      <td>1318961</td>\n",
       "      <td>NaN</td>\n",
       "      <td>517400</td>\n",
       "      <td>0</td>\n",
       "      <td>0.00</td>\n",
       "      <td>0</td>\n",
       "      <td>1</td>\n",
       "      <td>0.00</td>\n",
       "      <td>...</td>\n",
       "      <td>138501</td>\n",
       "      <td>Newmarket</td>\n",
       "      <td>Newmarket</td>\n",
       "      <td>51420</td>\n",
       "      <td>Newmarket</td>\n",
       "      <td>Newmarket</td>\n",
       "      <td>2022</td>\n",
       "      <td>2023</td>\n",
       "      <td>2022H2</td>\n",
       "      <td>0</td>\n",
       "    </tr>\n",
       "    <tr>\n",
       "      <th>285345</th>\n",
       "      <td>1,754,396.26</td>\n",
       "      <td>5,875,115.55</td>\n",
       "      <td>1318963</td>\n",
       "      <td>NaN</td>\n",
       "      <td>526104</td>\n",
       "      <td>0</td>\n",
       "      <td>0.00</td>\n",
       "      <td>0</td>\n",
       "      <td>1</td>\n",
       "      <td>0.00</td>\n",
       "      <td>...</td>\n",
       "      <td>164800</td>\n",
       "      <td>Waiuku East</td>\n",
       "      <td>Waiuku East</td>\n",
       "      <td>52320</td>\n",
       "      <td>Waiuku</td>\n",
       "      <td>Waiuku</td>\n",
       "      <td>2022</td>\n",
       "      <td>2023</td>\n",
       "      <td>2022H2</td>\n",
       "      <td>0</td>\n",
       "    </tr>\n",
       "  </tbody>\n",
       "</table>\n",
       "<p>53084 rows × 84 columns</p>\n",
       "</div>"
      ],
      "text/plain": [
       "                  X            Y  OBJECTID  advisorySpeed  areaUnitID  \\\n",
       "27944  1,754,689.00 5,924,770.00    141653            NaN      509800   \n",
       "27963  1,763,714.00 5,913,506.00    141723            NaN      520402   \n",
       "27964  1,762,166.00 5,906,172.00    141727            NaN      524200   \n",
       "27965  1,756,323.00 5,927,364.00    141728            NaN      507900   \n",
       "27972  1,765,783.00 5,906,821.00    141750            NaN      522301   \n",
       "...             ...          ...       ...            ...         ...   \n",
       "285338 1,754,774.26 5,929,682.17   1318952            NaN      508420   \n",
       "285342 1,768,891.01 5,904,246.02   1318957            NaN      523820   \n",
       "285343 1,757,918.17 5,914,598.61   1318959            NaN      518600   \n",
       "285344 1,758,255.48 5,918,059.73   1318961            NaN      517400   \n",
       "285345 1,754,396.26 5,875,115.55   1318963            NaN      526104   \n",
       "\n",
       "        bicycle  bridge  bus  carStationWagon  cliffBank  ...  \\\n",
       "27944         0    0.00    0                3       0.00  ...   \n",
       "27963         0    0.00    0                1       0.00  ...   \n",
       "27964         0    0.00    0                2       0.00  ...   \n",
       "27965         0     NaN    0                3        NaN  ...   \n",
       "27972         0     NaN    0                1        NaN  ...   \n",
       "...         ...     ...  ...              ...        ...  ...   \n",
       "285338        0    0.00    0                1       0.00  ...   \n",
       "285342        0    0.00    0                2       0.00  ...   \n",
       "285343        0     NaN    0                2        NaN  ...   \n",
       "285344        0    0.00    0                1       0.00  ...   \n",
       "285345        0    0.00    0                1       0.00  ...   \n",
       "\n",
       "       SA22023_V1_00_Filled          SA22023_V1_00_NAME  \\\n",
       "27944                127300  Northcote South (Auckland)   \n",
       "27963                147201    Mount Wellington Central   \n",
       "27964                152800          Māngere South East   \n",
       "27965                126601               Takapuna West   \n",
       "27972                154902     Papatoetoe Central East   \n",
       "...                     ...                         ...   \n",
       "285338               121500           Totara Vale North   \n",
       "285342               158502       Goodwood Heights East   \n",
       "285343               140800         Epsom Central-South   \n",
       "285344               138501                   Newmarket   \n",
       "285345               164800                 Waiuku East   \n",
       "\n",
       "          SA22023_V1_00_NAME_ASCII SA32023_V1_00    SA32023_V1_00_NAME  \\\n",
       "27944   Northcote South (Auckland)         51040  Northcote (Auckland)   \n",
       "27963     Mount Wellington Central         51710      Mount Wellington   \n",
       "27964           Mangere South East         51960              Māngere    \n",
       "27965                Takapuna West         51010              Takapuna   \n",
       "27972      Papatoetoe Central East         51990            Papatoetoe   \n",
       "...                            ...           ...                   ...   \n",
       "285338           Totara Vale North         50830          Totara Vale    \n",
       "285342       Goodwood Heights East         52040      Goodwood Heights   \n",
       "285343         Epsom Central-South         51460                Epsom    \n",
       "285344                   Newmarket         51420             Newmarket   \n",
       "285345                 Waiuku East         52320                Waiuku   \n",
       "\n",
       "       SA32023_V1_00_NAME_ASCII firstYear  secondYear  halfYear isHoliday  \n",
       "27944      Northcote (Auckland)      2017        2018    2018H1         0  \n",
       "27963          Mount Wellington      2018        2019    2018H2         0  \n",
       "27964                  Mangere       2018        2019    2018H2         0  \n",
       "27965                  Takapuna      2017        2018    2018H1         0  \n",
       "27972                Papatoetoe      2018        2019    2018H2         0  \n",
       "...                         ...       ...         ...       ...       ...  \n",
       "285338             Totara Vale       2022        2023    2022H2         0  \n",
       "285342         Goodwood Heights      2022        2023    2022H2         0  \n",
       "285343                   Epsom       2022        2023    2022H2         1  \n",
       "285344                Newmarket      2022        2023    2022H2         0  \n",
       "285345                   Waiuku      2022        2023    2022H2         0  \n",
       "\n",
       "[53084 rows x 84 columns]"
      ]
     },
     "execution_count": 206,
     "metadata": {},
     "output_type": "execute_result"
    }
   ],
   "source": [
    "cas_df"
   ]
  },
  {
   "cell_type": "markdown",
   "metadata": {},
   "source": [
    "### Deal with unknown values of the 'light' column"
   ]
  },
  {
   "cell_type": "code",
   "execution_count": 207,
   "metadata": {},
   "outputs": [],
   "source": [
    "# Map the value of the column 'light' to a new column called 'partOfDay'\n",
    "light_to_part_of_day = {\n",
    "    'Bright sun': 'Day',\n",
    "    'Overcast': 'Day',\n",
    "    'Dark': 'Night',\n",
    "    'Twilight': 'Night',\n",
    "    'Unknown': 'Unknown'\n",
    "}\n",
    "cas_df['partOfDay'] = cas_df['light'].map(light_to_part_of_day)"
   ]
  },
  {
   "cell_type": "code",
   "execution_count": 208,
   "metadata": {},
   "outputs": [
    {
     "data": {
      "text/plain": [
       "partOfDay\n",
       "Day        31478\n",
       "Night      18529\n",
       "Unknown     3077\n",
       "Name: OBJECTID, dtype: int64"
      ]
     },
     "execution_count": 208,
     "metadata": {},
     "output_type": "execute_result"
    }
   ],
   "source": [
    "cas_df.groupby(['partOfDay'])['OBJECTID'].count()"
   ]
  },
  {
   "cell_type": "code",
   "execution_count": 209,
   "metadata": {},
   "outputs": [],
   "source": [
    "cas_df['partOfDay_origin'] = cas_df['partOfDay']\n",
    "\n",
    "# Propostion of \"Day\" out of all the rows with data\n",
    "number_rows_of_day = cas_df[cas_df['partOfDay'] == 'Day'].shape[0]\n",
    "number_not_unkown = cas_df[cas_df['partOfDay'] != 'Unknown'].shape[0]\n",
    "prop_day = number_rows_of_day / number_not_unkown\n",
    "\n",
    "# Get the indexes and  number of rows with \"Unkown\"\n",
    "unknown_rows = cas_df[cas_df['partOfDay'] == 'Unknown'].index\n",
    "number_unknown = len(unknown_rows)\n",
    "\n",
    "# Find out how many rows will get \"Day\" value and how many the \"Night\" value\n",
    "number_day = int(prop_day*number_unknown)\n",
    "number_night = number_unknown - number_day\n",
    "\n",
    "# Allocate the \"Unknown\" rows to \"Day\" and \"Night\"\n",
    "day_rows = np.random.choice(unknown_rows, size=number_day, replace=False)\n",
    "night_rows = unknown_rows.difference(day_rows)\n",
    "cas_df.loc[day_rows, 'partOfDay'] = 'Day'\n",
    "cas_df.loc[night_rows, 'partOfDay'] = 'Night'"
   ]
  },
  {
   "cell_type": "code",
   "execution_count": 210,
   "metadata": {},
   "outputs": [
    {
     "data": {
      "text/plain": [
       "partOfDay\n",
       "Day      33414\n",
       "Night    19670\n",
       "Name: OBJECTID, dtype: int64"
      ]
     },
     "execution_count": 210,
     "metadata": {},
     "output_type": "execute_result"
    }
   ],
   "source": [
    "cas_df.groupby(['partOfDay'])['OBJECTID'].count()"
   ]
  },
  {
   "cell_type": "markdown",
   "metadata": {},
   "source": [
    "### Clean the values of the weather columns"
   ]
  },
  {
   "cell_type": "code",
   "execution_count": 211,
   "metadata": {},
   "outputs": [
    {
     "data": {
      "text/plain": [
       "weatherA\n",
       "Fine             39660\n",
       "Hail or Sleet        4\n",
       "Heavy rain        1606\n",
       "Light rain        7564\n",
       "Mist or Fog        416\n",
       "Null              3833\n",
       "Snow                 1\n",
       "Name: OBJECTID, dtype: int64"
      ]
     },
     "execution_count": 211,
     "metadata": {},
     "output_type": "execute_result"
    }
   ],
   "source": [
    "cas_df.groupby(['weatherA'])['OBJECTID'].count()"
   ]
  },
  {
   "cell_type": "code",
   "execution_count": 212,
   "metadata": {},
   "outputs": [
    {
     "data": {
      "text/plain": [
       "weatherA\n",
       "Fine          0.81\n",
       "Light rain    0.15\n",
       "Heavy rain    0.03\n",
       "Mist or Fog   0.01\n",
       "Name: count, dtype: float64"
      ]
     },
     "execution_count": 212,
     "metadata": {},
     "output_type": "execute_result"
    }
   ],
   "source": [
    "cas_df['weatherA_origin'] = cas_df['weatherA']\n",
    "\n",
    "# Propostion of each weather condition out of all the rows with data\n",
    "exclude_conditions = ['Null', 'Snow', 'Hail or Sleet']\n",
    "condition_counts = cas_df[~cas_df['weatherA'].isin(exclude_conditions)]['weatherA'].value_counts()\n",
    "condition_proportions = condition_counts / condition_counts.sum()\n",
    "condition_proportions"
   ]
  },
  {
   "cell_type": "code",
   "execution_count": 213,
   "metadata": {},
   "outputs": [],
   "source": [
    "# Get the indexes and  number of rows with \"Unkown\"\n",
    "unknown_rows = cas_df[cas_df['weatherA'] == 'Null'].index\n",
    "number_unknown = len(unknown_rows)\n",
    "\n",
    "# Find out how many rows each condition will get\n",
    "number_allocated_to_condition = (condition_proportions*number_unknown).astype(int)\n",
    "\n",
    "# Allocate the \"Unknown\" rows to the different conditions\n",
    "light_rain_rows = np.random.choice(unknown_rows, size=number_allocated_to_condition.loc['Light rain'], replace=False)\n",
    "unknown_rows = list(set(unknown_rows) - set(light_rain_rows))\n",
    "\n",
    "heavy_rain_rows = np.random.choice(unknown_rows, size=number_allocated_to_condition.loc['Heavy rain'], replace=False)\n",
    "unknown_rows = list(set(unknown_rows) - set(heavy_rain_rows))\n",
    "\n",
    "mist_fog_rows = np.random.choice(unknown_rows, size=number_allocated_to_condition.loc['Mist or Fog'], replace=False)\n",
    "unknown_rows = list(set(unknown_rows) - set(mist_fog_rows))\n",
    "\n",
    "fine_rows = unknown_rows\n",
    "\n",
    "cas_df.loc[light_rain_rows, 'weatherA'] = 'Light rain'\n",
    "cas_df.loc[heavy_rain_rows, 'weatherA'] = 'Heavy rain'\n",
    "cas_df.loc[mist_fog_rows, 'weatherA'] = 'Mist or Fog'\n",
    "cas_df.loc[fine_rows, 'weatherA'] = 'Fine'"
   ]
  },
  {
   "cell_type": "code",
   "execution_count": 214,
   "metadata": {},
   "outputs": [
    {
     "data": {
      "text/plain": [
       "weatherA\n",
       "Fine             42748\n",
       "Hail or Sleet        4\n",
       "Heavy rain        1731\n",
       "Light rain        8152\n",
       "Mist or Fog        448\n",
       "Snow                 1\n",
       "Name: OBJECTID, dtype: int64"
      ]
     },
     "execution_count": 214,
     "metadata": {},
     "output_type": "execute_result"
    }
   ],
   "source": [
    "cas_df.groupby(['weatherA'])['OBJECTID'].count()"
   ]
  },
  {
   "cell_type": "code",
   "execution_count": 215,
   "metadata": {},
   "outputs": [],
   "source": [
    "# Clean the values of weatherB\n",
    "cas_df['weatherB'] = cas_df['weatherB'].fillna('Null')"
   ]
  },
  {
   "cell_type": "markdown",
   "metadata": {},
   "source": [
    "### Keep only the columns we need for the analysis"
   ]
  },
  {
   "cell_type": "code",
   "execution_count": 216,
   "metadata": {},
   "outputs": [
    {
     "data": {
      "text/html": [
       "<div>\n",
       "<style scoped>\n",
       "    .dataframe tbody tr th:only-of-type {\n",
       "        vertical-align: middle;\n",
       "    }\n",
       "\n",
       "    .dataframe tbody tr th {\n",
       "        vertical-align: top;\n",
       "    }\n",
       "\n",
       "    .dataframe thead th {\n",
       "        text-align: right;\n",
       "    }\n",
       "</style>\n",
       "<table border=\"1\" class=\"dataframe\">\n",
       "  <thead>\n",
       "    <tr style=\"text-align: right;\">\n",
       "      <th></th>\n",
       "      <th>OBJECTID</th>\n",
       "      <th>halfYear</th>\n",
       "      <th>isHoliday</th>\n",
       "      <th>partOfDay</th>\n",
       "      <th>weatherA</th>\n",
       "      <th>weatherB</th>\n",
       "      <th>SA22023_V1_00_NAME_ASCII</th>\n",
       "      <th>SA32023_V1_00_NAME_ASCII</th>\n",
       "    </tr>\n",
       "  </thead>\n",
       "  <tbody>\n",
       "    <tr>\n",
       "      <th>27944</th>\n",
       "      <td>141653</td>\n",
       "      <td>2018H1</td>\n",
       "      <td>0</td>\n",
       "      <td>Night</td>\n",
       "      <td>Light rain</td>\n",
       "      <td>Null</td>\n",
       "      <td>Northcote South (Auckland)</td>\n",
       "      <td>Northcote (Auckland)</td>\n",
       "    </tr>\n",
       "    <tr>\n",
       "      <th>27963</th>\n",
       "      <td>141723</td>\n",
       "      <td>2018H2</td>\n",
       "      <td>0</td>\n",
       "      <td>Day</td>\n",
       "      <td>Fine</td>\n",
       "      <td>Null</td>\n",
       "      <td>Mount Wellington Central</td>\n",
       "      <td>Mount Wellington</td>\n",
       "    </tr>\n",
       "    <tr>\n",
       "      <th>27964</th>\n",
       "      <td>141727</td>\n",
       "      <td>2018H2</td>\n",
       "      <td>0</td>\n",
       "      <td>Day</td>\n",
       "      <td>Fine</td>\n",
       "      <td>Null</td>\n",
       "      <td>Mangere South East</td>\n",
       "      <td>Mangere</td>\n",
       "    </tr>\n",
       "    <tr>\n",
       "      <th>27965</th>\n",
       "      <td>141728</td>\n",
       "      <td>2018H1</td>\n",
       "      <td>0</td>\n",
       "      <td>Night</td>\n",
       "      <td>Heavy rain</td>\n",
       "      <td>Null</td>\n",
       "      <td>Takapuna West</td>\n",
       "      <td>Takapuna</td>\n",
       "    </tr>\n",
       "    <tr>\n",
       "      <th>27972</th>\n",
       "      <td>141750</td>\n",
       "      <td>2018H2</td>\n",
       "      <td>0</td>\n",
       "      <td>Night</td>\n",
       "      <td>Fine</td>\n",
       "      <td>Null</td>\n",
       "      <td>Papatoetoe Central East</td>\n",
       "      <td>Papatoetoe</td>\n",
       "    </tr>\n",
       "    <tr>\n",
       "      <th>...</th>\n",
       "      <td>...</td>\n",
       "      <td>...</td>\n",
       "      <td>...</td>\n",
       "      <td>...</td>\n",
       "      <td>...</td>\n",
       "      <td>...</td>\n",
       "      <td>...</td>\n",
       "      <td>...</td>\n",
       "    </tr>\n",
       "    <tr>\n",
       "      <th>285338</th>\n",
       "      <td>1318952</td>\n",
       "      <td>2022H2</td>\n",
       "      <td>0</td>\n",
       "      <td>Day</td>\n",
       "      <td>Fine</td>\n",
       "      <td>Null</td>\n",
       "      <td>Totara Vale North</td>\n",
       "      <td>Totara Vale</td>\n",
       "    </tr>\n",
       "    <tr>\n",
       "      <th>285342</th>\n",
       "      <td>1318957</td>\n",
       "      <td>2022H2</td>\n",
       "      <td>0</td>\n",
       "      <td>Day</td>\n",
       "      <td>Fine</td>\n",
       "      <td>Null</td>\n",
       "      <td>Goodwood Heights East</td>\n",
       "      <td>Goodwood Heights</td>\n",
       "    </tr>\n",
       "    <tr>\n",
       "      <th>285343</th>\n",
       "      <td>1318959</td>\n",
       "      <td>2022H2</td>\n",
       "      <td>1</td>\n",
       "      <td>Day</td>\n",
       "      <td>Fine</td>\n",
       "      <td>Null</td>\n",
       "      <td>Epsom Central-South</td>\n",
       "      <td>Epsom</td>\n",
       "    </tr>\n",
       "    <tr>\n",
       "      <th>285344</th>\n",
       "      <td>1318961</td>\n",
       "      <td>2022H2</td>\n",
       "      <td>0</td>\n",
       "      <td>Day</td>\n",
       "      <td>Fine</td>\n",
       "      <td>Null</td>\n",
       "      <td>Newmarket</td>\n",
       "      <td>Newmarket</td>\n",
       "    </tr>\n",
       "    <tr>\n",
       "      <th>285345</th>\n",
       "      <td>1318963</td>\n",
       "      <td>2022H2</td>\n",
       "      <td>0</td>\n",
       "      <td>Day</td>\n",
       "      <td>Fine</td>\n",
       "      <td>Null</td>\n",
       "      <td>Waiuku East</td>\n",
       "      <td>Waiuku</td>\n",
       "    </tr>\n",
       "  </tbody>\n",
       "</table>\n",
       "<p>53084 rows × 8 columns</p>\n",
       "</div>"
      ],
      "text/plain": [
       "        OBJECTID halfYear  isHoliday partOfDay    weatherA weatherB  \\\n",
       "27944     141653   2018H1          0     Night  Light rain     Null   \n",
       "27963     141723   2018H2          0       Day        Fine     Null   \n",
       "27964     141727   2018H2          0       Day        Fine     Null   \n",
       "27965     141728   2018H1          0     Night  Heavy rain     Null   \n",
       "27972     141750   2018H2          0     Night        Fine     Null   \n",
       "...          ...      ...        ...       ...         ...      ...   \n",
       "285338   1318952   2022H2          0       Day        Fine     Null   \n",
       "285342   1318957   2022H2          0       Day        Fine     Null   \n",
       "285343   1318959   2022H2          1       Day        Fine     Null   \n",
       "285344   1318961   2022H2          0       Day        Fine     Null   \n",
       "285345   1318963   2022H2          0       Day        Fine     Null   \n",
       "\n",
       "          SA22023_V1_00_NAME_ASCII SA32023_V1_00_NAME_ASCII  \n",
       "27944   Northcote South (Auckland)     Northcote (Auckland)  \n",
       "27963     Mount Wellington Central         Mount Wellington  \n",
       "27964           Mangere South East                 Mangere   \n",
       "27965                Takapuna West                 Takapuna  \n",
       "27972      Papatoetoe Central East               Papatoetoe  \n",
       "...                            ...                      ...  \n",
       "285338           Totara Vale North             Totara Vale   \n",
       "285342       Goodwood Heights East         Goodwood Heights  \n",
       "285343         Epsom Central-South                   Epsom   \n",
       "285344                   Newmarket                Newmarket  \n",
       "285345                 Waiuku East                   Waiuku  \n",
       "\n",
       "[53084 rows x 8 columns]"
      ]
     },
     "execution_count": 216,
     "metadata": {},
     "output_type": "execute_result"
    }
   ],
   "source": [
    "column_to_keep = ['OBJECTID','halfYear','isHoliday', \n",
    "                  'partOfDay','weatherA','weatherB', 'SA22023_V1_00_NAME_ASCII', 'SA32023_V1_00_NAME_ASCII']\n",
    "cas_analysis_df = cas_df[column_to_keep]\n",
    "cas_analysis_df"
   ]
  },
  {
   "cell_type": "markdown",
   "metadata": {},
   "source": [
    "### Add auxilary data sets"
   ]
  },
  {
   "cell_type": "code",
   "execution_count": 217,
   "metadata": {},
   "outputs": [],
   "source": [
    "# Traffic data\n",
    "traffic_df = pd.read_csv('auckland_daily_average_traffic_half_year.csv')\n",
    "cas_analysis_df =  cas_analysis_df.merge(traffic_df, left_on='halfYear', right_on='HalfYear', how='left')"
   ]
  },
  {
   "cell_type": "code",
   "execution_count": 218,
   "metadata": {},
   "outputs": [],
   "source": [
    "# Population data\n",
    "population_df = pd.read_csv('auckland_half_annual_population.csv')\n",
    "cas_analysis_df = cas_analysis_df.merge(population_df, left_on='halfYear', right_on='HalfYear', how='left')"
   ]
  },
  {
   "cell_type": "code",
   "execution_count": 219,
   "metadata": {},
   "outputs": [],
   "source": [
    "cas_analysis_df = cas_analysis_df.drop(columns=['HalfYear_x','HalfYear_y'])"
   ]
  },
  {
   "cell_type": "markdown",
   "metadata": {},
   "source": [
    "### Sum the number of crashes "
   ]
  },
  {
   "cell_type": "code",
   "execution_count": 220,
   "metadata": {},
   "outputs": [],
   "source": [
    "pd.options.display.float_format = '{:,.4f}'.format"
   ]
  },
  {
   "cell_type": "code",
   "execution_count": 221,
   "metadata": {},
   "outputs": [],
   "source": [
    "cas_analysis_df = cas_analysis_df.rename(columns={'SA22023_V1_00_NAME_ASCII' : 'SA2_Name','Traffic Count':'trafficCount', \n",
    "                        'Population':'population', 'SA32023_V1_00_NAME_ASCII':'SA3_Name'})"
   ]
  },
  {
   "cell_type": "markdown",
   "metadata": {},
   "source": [
    "### SA2 level"
   ]
  },
  {
   "cell_type": "code",
   "execution_count": 222,
   "metadata": {},
   "outputs": [
    {
     "data": {
      "text/plain": [
       "count   19,309.0000\n",
       "mean         2.7492\n",
       "std          3.4559\n",
       "min          1.0000\n",
       "25%          1.0000\n",
       "50%          1.0000\n",
       "75%          3.0000\n",
       "max         67.0000\n",
       "Name: crashesCount, dtype: float64"
      ]
     },
     "execution_count": 222,
     "metadata": {},
     "output_type": "execute_result"
    }
   ],
   "source": [
    "cas_SA2_level = cas_analysis_df.groupby(['halfYear','isHoliday','partOfDay','weatherA','weatherB',\n",
    "                        'SA2_Name','SA3_Name','trafficCount','population'])['OBJECTID'].count().reset_index()\n",
    "cas_SA2_level = cas_SA2_level.rename(columns={'OBJECTID':'crashesCount'})\n",
    "cas_SA2_level['crashesCount'].describe()"
   ]
  },
  {
   "cell_type": "code",
   "execution_count": 223,
   "metadata": {},
   "outputs": [
    {
     "data": {
      "text/html": [
       "<div>\n",
       "<style scoped>\n",
       "    .dataframe tbody tr th:only-of-type {\n",
       "        vertical-align: middle;\n",
       "    }\n",
       "\n",
       "    .dataframe tbody tr th {\n",
       "        vertical-align: top;\n",
       "    }\n",
       "\n",
       "    .dataframe thead th {\n",
       "        text-align: right;\n",
       "    }\n",
       "</style>\n",
       "<table border=\"1\" class=\"dataframe\">\n",
       "  <thead>\n",
       "    <tr style=\"text-align: right;\">\n",
       "      <th></th>\n",
       "      <th>halfYear</th>\n",
       "      <th>isHoliday</th>\n",
       "      <th>partOfDay</th>\n",
       "      <th>weatherA</th>\n",
       "      <th>weatherB</th>\n",
       "      <th>SA2_Name</th>\n",
       "      <th>SA3_Name</th>\n",
       "      <th>trafficCount</th>\n",
       "      <th>population</th>\n",
       "      <th>crashesCount</th>\n",
       "    </tr>\n",
       "  </thead>\n",
       "  <tbody>\n",
       "    <tr>\n",
       "      <th>235</th>\n",
       "      <td>2018H1</td>\n",
       "      <td>0</td>\n",
       "      <td>Day</td>\n",
       "      <td>Fine</td>\n",
       "      <td>Null</td>\n",
       "      <td>Manukau Central</td>\n",
       "      <td>Manukau</td>\n",
       "      <td>4,994,206.6409</td>\n",
       "      <td>1,533,750.0000</td>\n",
       "      <td>67</td>\n",
       "    </tr>\n",
       "    <tr>\n",
       "      <th>10194</th>\n",
       "      <td>2020H2</td>\n",
       "      <td>0</td>\n",
       "      <td>Day</td>\n",
       "      <td>Fine</td>\n",
       "      <td>Null</td>\n",
       "      <td>Manukau Central</td>\n",
       "      <td>Manukau</td>\n",
       "      <td>5,041,845.9511</td>\n",
       "      <td>1,600,750.0000</td>\n",
       "      <td>65</td>\n",
       "    </tr>\n",
       "    <tr>\n",
       "      <th>2516</th>\n",
       "      <td>2018H2</td>\n",
       "      <td>0</td>\n",
       "      <td>Day</td>\n",
       "      <td>Fine</td>\n",
       "      <td>Null</td>\n",
       "      <td>Manukau Central</td>\n",
       "      <td>Manukau</td>\n",
       "      <td>5,037,423.0924</td>\n",
       "      <td>1,549,250.0000</td>\n",
       "      <td>64</td>\n",
       "    </tr>\n",
       "    <tr>\n",
       "      <th>12109</th>\n",
       "      <td>2021H1</td>\n",
       "      <td>0</td>\n",
       "      <td>Day</td>\n",
       "      <td>Fine</td>\n",
       "      <td>Null</td>\n",
       "      <td>Manukau Central</td>\n",
       "      <td>Manukau</td>\n",
       "      <td>5,321,993.8177</td>\n",
       "      <td>1,612,750.0000</td>\n",
       "      <td>64</td>\n",
       "    </tr>\n",
       "    <tr>\n",
       "      <th>6373</th>\n",
       "      <td>2019H2</td>\n",
       "      <td>0</td>\n",
       "      <td>Day</td>\n",
       "      <td>Fine</td>\n",
       "      <td>Null</td>\n",
       "      <td>Manukau Central</td>\n",
       "      <td>Manukau</td>\n",
       "      <td>5,203,574.7826</td>\n",
       "      <td>1,575,750.0000</td>\n",
       "      <td>64</td>\n",
       "    </tr>\n",
       "    <tr>\n",
       "      <th>...</th>\n",
       "      <td>...</td>\n",
       "      <td>...</td>\n",
       "      <td>...</td>\n",
       "      <td>...</td>\n",
       "      <td>...</td>\n",
       "      <td>...</td>\n",
       "      <td>...</td>\n",
       "      <td>...</td>\n",
       "      <td>...</td>\n",
       "      <td>...</td>\n",
       "    </tr>\n",
       "    <tr>\n",
       "      <th>8732</th>\n",
       "      <td>2020H1</td>\n",
       "      <td>0</td>\n",
       "      <td>Day</td>\n",
       "      <td>Fine</td>\n",
       "      <td>Null</td>\n",
       "      <td>Takapuna Central</td>\n",
       "      <td>Takapuna</td>\n",
       "      <td>4,123,441.5549</td>\n",
       "      <td>1,588,250.0000</td>\n",
       "      <td>1</td>\n",
       "    </tr>\n",
       "    <tr>\n",
       "      <th>8737</th>\n",
       "      <td>2020H1</td>\n",
       "      <td>0</td>\n",
       "      <td>Day</td>\n",
       "      <td>Fine</td>\n",
       "      <td>Null</td>\n",
       "      <td>Taupaki</td>\n",
       "      <td>Taupaki</td>\n",
       "      <td>4,123,441.5549</td>\n",
       "      <td>1,588,250.0000</td>\n",
       "      <td>1</td>\n",
       "    </tr>\n",
       "    <tr>\n",
       "      <th>8741</th>\n",
       "      <td>2020H1</td>\n",
       "      <td>0</td>\n",
       "      <td>Day</td>\n",
       "      <td>Fine</td>\n",
       "      <td>Null</td>\n",
       "      <td>Te Atatu Peninsula West</td>\n",
       "      <td>Te Atatu Peninsula</td>\n",
       "      <td>4,123,441.5549</td>\n",
       "      <td>1,588,250.0000</td>\n",
       "      <td>1</td>\n",
       "    </tr>\n",
       "    <tr>\n",
       "      <th>8743</th>\n",
       "      <td>2020H1</td>\n",
       "      <td>0</td>\n",
       "      <td>Day</td>\n",
       "      <td>Fine</td>\n",
       "      <td>Null</td>\n",
       "      <td>Te Atatu South-McLeod North</td>\n",
       "      <td>Te Atatu South</td>\n",
       "      <td>4,123,441.5549</td>\n",
       "      <td>1,588,250.0000</td>\n",
       "      <td>1</td>\n",
       "    </tr>\n",
       "    <tr>\n",
       "      <th>19308</th>\n",
       "      <td>2022H2</td>\n",
       "      <td>1</td>\n",
       "      <td>Night</td>\n",
       "      <td>Light rain</td>\n",
       "      <td>Null</td>\n",
       "      <td>Takanini North</td>\n",
       "      <td>Takanini</td>\n",
       "      <td>5,478,785.9728</td>\n",
       "      <td>1,646,500.0000</td>\n",
       "      <td>1</td>\n",
       "    </tr>\n",
       "  </tbody>\n",
       "</table>\n",
       "<p>19309 rows × 10 columns</p>\n",
       "</div>"
      ],
      "text/plain": [
       "      halfYear  isHoliday partOfDay    weatherA weatherB  \\\n",
       "235     2018H1          0       Day        Fine     Null   \n",
       "10194   2020H2          0       Day        Fine     Null   \n",
       "2516    2018H2          0       Day        Fine     Null   \n",
       "12109   2021H1          0       Day        Fine     Null   \n",
       "6373    2019H2          0       Day        Fine     Null   \n",
       "...        ...        ...       ...         ...      ...   \n",
       "8732    2020H1          0       Day        Fine     Null   \n",
       "8737    2020H1          0       Day        Fine     Null   \n",
       "8741    2020H1          0       Day        Fine     Null   \n",
       "8743    2020H1          0       Day        Fine     Null   \n",
       "19308   2022H2          1     Night  Light rain     Null   \n",
       "\n",
       "                          SA2_Name            SA3_Name   trafficCount  \\\n",
       "235                Manukau Central             Manukau 4,994,206.6409   \n",
       "10194              Manukau Central             Manukau 5,041,845.9511   \n",
       "2516               Manukau Central             Manukau 5,037,423.0924   \n",
       "12109              Manukau Central             Manukau 5,321,993.8177   \n",
       "6373               Manukau Central             Manukau 5,203,574.7826   \n",
       "...                            ...                 ...            ...   \n",
       "8732              Takapuna Central            Takapuna 4,123,441.5549   \n",
       "8737                       Taupaki             Taupaki 4,123,441.5549   \n",
       "8741       Te Atatu Peninsula West  Te Atatu Peninsula 4,123,441.5549   \n",
       "8743   Te Atatu South-McLeod North      Te Atatu South 4,123,441.5549   \n",
       "19308               Takanini North           Takanini  5,478,785.9728   \n",
       "\n",
       "          population  crashesCount  \n",
       "235   1,533,750.0000            67  \n",
       "10194 1,600,750.0000            65  \n",
       "2516  1,549,250.0000            64  \n",
       "12109 1,612,750.0000            64  \n",
       "6373  1,575,750.0000            64  \n",
       "...              ...           ...  \n",
       "8732  1,588,250.0000             1  \n",
       "8737  1,588,250.0000             1  \n",
       "8741  1,588,250.0000             1  \n",
       "8743  1,588,250.0000             1  \n",
       "19308 1,646,500.0000             1  \n",
       "\n",
       "[19309 rows x 10 columns]"
      ]
     },
     "execution_count": 223,
     "metadata": {},
     "output_type": "execute_result"
    }
   ],
   "source": [
    "cas_SA2_level.sort_values(by='crashesCount', ascending=False)"
   ]
  },
  {
   "cell_type": "markdown",
   "metadata": {},
   "source": [
    "### SA3 level"
   ]
  },
  {
   "cell_type": "code",
   "execution_count": 224,
   "metadata": {},
   "outputs": [
    {
     "data": {
      "text/plain": [
       "count   10,157.0000\n",
       "mean         5.2263\n",
       "std          9.6836\n",
       "min          1.0000\n",
       "25%          1.0000\n",
       "50%          2.0000\n",
       "75%          5.0000\n",
       "max        163.0000\n",
       "Name: crashesCount, dtype: float64"
      ]
     },
     "execution_count": 224,
     "metadata": {},
     "output_type": "execute_result"
    }
   ],
   "source": [
    "cas_SA3_level = cas_analysis_df.groupby(['halfYear','isHoliday','partOfDay','weatherA','weatherB',\n",
    "                        'SA3_Name','trafficCount','population'])['OBJECTID'].count().reset_index()\n",
    "cas_SA3_level = cas_SA3_level.rename(columns={'OBJECTID':'crashesCount'})\n",
    "cas_SA3_level['crashesCount'].describe()"
   ]
  },
  {
   "cell_type": "code",
   "execution_count": 225,
   "metadata": {},
   "outputs": [
    {
     "data": {
      "text/html": [
       "<div>\n",
       "<style scoped>\n",
       "    .dataframe tbody tr th:only-of-type {\n",
       "        vertical-align: middle;\n",
       "    }\n",
       "\n",
       "    .dataframe tbody tr th {\n",
       "        vertical-align: top;\n",
       "    }\n",
       "\n",
       "    .dataframe thead th {\n",
       "        text-align: right;\n",
       "    }\n",
       "</style>\n",
       "<table border=\"1\" class=\"dataframe\">\n",
       "  <thead>\n",
       "    <tr style=\"text-align: right;\">\n",
       "      <th></th>\n",
       "      <th>halfYear</th>\n",
       "      <th>isHoliday</th>\n",
       "      <th>partOfDay</th>\n",
       "      <th>weatherA</th>\n",
       "      <th>weatherB</th>\n",
       "      <th>SA3_Name</th>\n",
       "      <th>trafficCount</th>\n",
       "      <th>population</th>\n",
       "      <th>crashesCount</th>\n",
       "    </tr>\n",
       "  </thead>\n",
       "  <tbody>\n",
       "    <tr>\n",
       "      <th>2240</th>\n",
       "      <td>2019H1</td>\n",
       "      <td>0</td>\n",
       "      <td>Day</td>\n",
       "      <td>Fine</td>\n",
       "      <td>Null</td>\n",
       "      <td>Auckland City Centre</td>\n",
       "      <td>4,967,806.0497</td>\n",
       "      <td>1,563,250.0000</td>\n",
       "      <td>163</td>\n",
       "    </tr>\n",
       "    <tr>\n",
       "      <th>1215</th>\n",
       "      <td>2018H2</td>\n",
       "      <td>0</td>\n",
       "      <td>Day</td>\n",
       "      <td>Fine</td>\n",
       "      <td>Null</td>\n",
       "      <td>Auckland City Centre</td>\n",
       "      <td>5,037,423.0924</td>\n",
       "      <td>1,549,250.0000</td>\n",
       "      <td>127</td>\n",
       "    </tr>\n",
       "    <tr>\n",
       "      <th>18</th>\n",
       "      <td>2018H1</td>\n",
       "      <td>0</td>\n",
       "      <td>Day</td>\n",
       "      <td>Fine</td>\n",
       "      <td>Null</td>\n",
       "      <td>Auckland City Centre</td>\n",
       "      <td>4,994,206.6409</td>\n",
       "      <td>1,533,750.0000</td>\n",
       "      <td>125</td>\n",
       "    </tr>\n",
       "    <tr>\n",
       "      <th>107</th>\n",
       "      <td>2018H1</td>\n",
       "      <td>0</td>\n",
       "      <td>Day</td>\n",
       "      <td>Fine</td>\n",
       "      <td>Null</td>\n",
       "      <td>Mount Wellington</td>\n",
       "      <td>4,994,206.6409</td>\n",
       "      <td>1,533,750.0000</td>\n",
       "      <td>109</td>\n",
       "    </tr>\n",
       "    <tr>\n",
       "      <th>3223</th>\n",
       "      <td>2019H2</td>\n",
       "      <td>0</td>\n",
       "      <td>Day</td>\n",
       "      <td>Fine</td>\n",
       "      <td>Null</td>\n",
       "      <td>Auckland City Centre</td>\n",
       "      <td>5,203,574.7826</td>\n",
       "      <td>1,575,750.0000</td>\n",
       "      <td>109</td>\n",
       "    </tr>\n",
       "    <tr>\n",
       "      <th>...</th>\n",
       "      <td>...</td>\n",
       "      <td>...</td>\n",
       "      <td>...</td>\n",
       "      <td>...</td>\n",
       "      <td>...</td>\n",
       "      <td>...</td>\n",
       "      <td>...</td>\n",
       "      <td>...</td>\n",
       "      <td>...</td>\n",
       "    </tr>\n",
       "    <tr>\n",
       "      <th>4716</th>\n",
       "      <td>2020H1</td>\n",
       "      <td>0</td>\n",
       "      <td>Night</td>\n",
       "      <td>Fine</td>\n",
       "      <td>Frost</td>\n",
       "      <td>Ranui (Auckland)</td>\n",
       "      <td>4,123,441.5549</td>\n",
       "      <td>1,588,250.0000</td>\n",
       "      <td>1</td>\n",
       "    </tr>\n",
       "    <tr>\n",
       "      <th>4715</th>\n",
       "      <td>2020H1</td>\n",
       "      <td>0</td>\n",
       "      <td>Night</td>\n",
       "      <td>Fine</td>\n",
       "      <td>Frost</td>\n",
       "      <td>Papatoetoe</td>\n",
       "      <td>4,123,441.5549</td>\n",
       "      <td>1,588,250.0000</td>\n",
       "      <td>1</td>\n",
       "    </tr>\n",
       "    <tr>\n",
       "      <th>4713</th>\n",
       "      <td>2020H1</td>\n",
       "      <td>0</td>\n",
       "      <td>Night</td>\n",
       "      <td>Fine</td>\n",
       "      <td>Frost</td>\n",
       "      <td>Mangere East</td>\n",
       "      <td>4,123,441.5549</td>\n",
       "      <td>1,588,250.0000</td>\n",
       "      <td>1</td>\n",
       "    </tr>\n",
       "    <tr>\n",
       "      <th>4712</th>\n",
       "      <td>2020H1</td>\n",
       "      <td>0</td>\n",
       "      <td>Night</td>\n",
       "      <td>Fine</td>\n",
       "      <td>Frost</td>\n",
       "      <td>Mangere</td>\n",
       "      <td>4,123,441.5549</td>\n",
       "      <td>1,588,250.0000</td>\n",
       "      <td>1</td>\n",
       "    </tr>\n",
       "    <tr>\n",
       "      <th>10156</th>\n",
       "      <td>2022H2</td>\n",
       "      <td>1</td>\n",
       "      <td>Night</td>\n",
       "      <td>Light rain</td>\n",
       "      <td>Null</td>\n",
       "      <td>Takanini</td>\n",
       "      <td>5,478,785.9728</td>\n",
       "      <td>1,646,500.0000</td>\n",
       "      <td>1</td>\n",
       "    </tr>\n",
       "  </tbody>\n",
       "</table>\n",
       "<p>10157 rows × 9 columns</p>\n",
       "</div>"
      ],
      "text/plain": [
       "      halfYear  isHoliday partOfDay    weatherA weatherB  \\\n",
       "2240    2019H1          0       Day        Fine     Null   \n",
       "1215    2018H2          0       Day        Fine     Null   \n",
       "18      2018H1          0       Day        Fine     Null   \n",
       "107     2018H1          0       Day        Fine     Null   \n",
       "3223    2019H2          0       Day        Fine     Null   \n",
       "...        ...        ...       ...         ...      ...   \n",
       "4716    2020H1          0     Night        Fine    Frost   \n",
       "4715    2020H1          0     Night        Fine    Frost   \n",
       "4713    2020H1          0     Night        Fine    Frost   \n",
       "4712    2020H1          0     Night        Fine    Frost   \n",
       "10156   2022H2          1     Night  Light rain     Null   \n",
       "\n",
       "                   SA3_Name   trafficCount     population  crashesCount  \n",
       "2240   Auckland City Centre 4,967,806.0497 1,563,250.0000           163  \n",
       "1215   Auckland City Centre 5,037,423.0924 1,549,250.0000           127  \n",
       "18     Auckland City Centre 4,994,206.6409 1,533,750.0000           125  \n",
       "107        Mount Wellington 4,994,206.6409 1,533,750.0000           109  \n",
       "3223   Auckland City Centre 5,203,574.7826 1,575,750.0000           109  \n",
       "...                     ...            ...            ...           ...  \n",
       "4716       Ranui (Auckland) 4,123,441.5549 1,588,250.0000             1  \n",
       "4715             Papatoetoe 4,123,441.5549 1,588,250.0000             1  \n",
       "4713           Mangere East 4,123,441.5549 1,588,250.0000             1  \n",
       "4712               Mangere  4,123,441.5549 1,588,250.0000             1  \n",
       "10156             Takanini  5,478,785.9728 1,646,500.0000             1  \n",
       "\n",
       "[10157 rows x 9 columns]"
      ]
     },
     "execution_count": 225,
     "metadata": {},
     "output_type": "execute_result"
    }
   ],
   "source": [
    "cas_SA3_level.sort_values(by='crashesCount', ascending=False)"
   ]
  },
  {
   "cell_type": "markdown",
   "metadata": {},
   "source": [
    "### Save to csv files"
   ]
  },
  {
   "cell_type": "code",
   "execution_count": 226,
   "metadata": {},
   "outputs": [],
   "source": [
    "cas_SA2_level.to_csv('cas_SA2_level.csv', index=False)\n",
    "cas_SA3_level.to_csv('cas_SA3_level.csv', index=False)"
   ]
  },
  {
   "cell_type": "code",
   "execution_count": null,
   "metadata": {},
   "outputs": [],
   "source": []
  }
 ],
 "metadata": {
  "kernelspec": {
   "display_name": "base",
   "language": "python",
   "name": "python3"
  },
  "language_info": {
   "codemirror_mode": {
    "name": "ipython",
    "version": 3
   },
   "file_extension": ".py",
   "mimetype": "text/x-python",
   "name": "python",
   "nbconvert_exporter": "python",
   "pygments_lexer": "ipython3",
   "version": "3.11.5"
  }
 },
 "nbformat": 4,
 "nbformat_minor": 2
}
